{
 "cells": [
  {
   "cell_type": "code",
   "execution_count": 1,
   "metadata": {},
   "outputs": [],
   "source": [
    "import pandas as pd\n",
    "import geopandas as gpd\n",
    "import matplotlib.pyplot as plt\n",
    "import numpy as np\n",
    "from shapely.geometry import Point\n",
    "import unicodedata\n",
    "import plotly.express as px"
   ]
  },
  {
   "cell_type": "code",
   "execution_count": 2,
   "metadata": {},
   "outputs": [],
   "source": [
    "assessment = gpd.read_file('./home/data/civ-assessments-v6.geojson', encoding='iso-8859-1')"
   ]
  },
  {
   "cell_type": "code",
   "execution_count": 3,
   "metadata": {},
   "outputs": [
    {
     "data": {
      "text/plain": [
       "Index(['Opportunity Unique Identifier', 'Bridge Name', 'Country',\n",
       "       'Level 1 Government', 'Level 2 Government', 'Level 3 Government',\n",
       "       'Level 4 Government', 'latitude', 'longitude', 'Reason site not valid',\n",
       "       'Site Validation Comments', 'Flag for Rejection',\n",
       "       'River crossing deaths in last 3 years', 'Incident descriptions',\n",
       "       'Days per year river is flooded', 'Flood duration during rainy season',\n",
       "       'Notes on social information', 'Width of River During Flooding (m)',\n",
       "       'Health access blocked by river', 'Education access blocked by river',\n",
       "       'Market access blocked by river', 'Other access blocked by river',\n",
       "       'Form: Created Date', 'Form: Created By', 'geometry'],\n",
       "      dtype='object')"
      ]
     },
     "execution_count": 3,
     "metadata": {},
     "output_type": "execute_result"
    }
   ],
   "source": [
    "assessment.columns"
   ]
  },
  {
   "cell_type": "code",
   "execution_count": 4,
   "metadata": {},
   "outputs": [
    {
     "data": {
      "text/html": [
       "<div>\n",
       "<style scoped>\n",
       "    .dataframe tbody tr th:only-of-type {\n",
       "        vertical-align: middle;\n",
       "    }\n",
       "\n",
       "    .dataframe tbody tr th {\n",
       "        vertical-align: top;\n",
       "    }\n",
       "\n",
       "    .dataframe thead th {\n",
       "        text-align: right;\n",
       "    }\n",
       "</style>\n",
       "<table border=\"1\" class=\"dataframe\">\n",
       "  <thead>\n",
       "    <tr style=\"text-align: right;\">\n",
       "      <th></th>\n",
       "      <th>Opportunity Unique Identifier</th>\n",
       "      <th>Bridge Name</th>\n",
       "      <th>Country</th>\n",
       "      <th>Level 1 Government</th>\n",
       "      <th>Level 2 Government</th>\n",
       "      <th>Level 3 Government</th>\n",
       "      <th>Level 4 Government</th>\n",
       "      <th>latitude</th>\n",
       "      <th>longitude</th>\n",
       "      <th>Reason site not valid</th>\n",
       "      <th>...</th>\n",
       "      <th>Flood duration during rainy season</th>\n",
       "      <th>Notes on social information</th>\n",
       "      <th>Width of River During Flooding (m)</th>\n",
       "      <th>Health access blocked by river</th>\n",
       "      <th>Education access blocked by river</th>\n",
       "      <th>Market access blocked by river</th>\n",
       "      <th>Other access blocked by river</th>\n",
       "      <th>Form: Created Date</th>\n",
       "      <th>Form: Created By</th>\n",
       "      <th>geometry</th>\n",
       "    </tr>\n",
       "  </thead>\n",
       "  <tbody>\n",
       "    <tr>\n",
       "      <th>0</th>\n",
       "      <td>1043157</td>\n",
       "      <td>Sangarekro</td>\n",
       "      <td>Cote d'Ivoire</td>\n",
       "      <td>San Pedro</td>\n",
       "      <td>San-Pédro</td>\n",
       "      <td>Dogbo</td>\n",
       "      <td>Bledie</td>\n",
       "      <td>4.855737</td>\n",
       "      <td>-6.969818</td>\n",
       "      <td></td>\n",
       "      <td>...</td>\n",
       "      <td>5</td>\n",
       "      <td>Secrétaire Gsc</td>\n",
       "      <td>13</td>\n",
       "      <td>Clinique ou centre de santé - Clinic or Health...</td>\n",
       "      <td>École Primaire - Primary</td>\n",
       "      <td>Marché journalier - Market (daily);Marché hebd...</td>\n",
       "      <td>Lieu de culte (Eglise, Mosquée, Temple, etc) -...</td>\n",
       "      <td>11/11/22</td>\n",
       "      <td>achilleyaoyao taroworks</td>\n",
       "      <td>POINT (-6.96982 4.85574)</td>\n",
       "    </tr>\n",
       "    <tr>\n",
       "      <th>1</th>\n",
       "      <td>1040872</td>\n",
       "      <td>Hanier</td>\n",
       "      <td>Cote d'Ivoire</td>\n",
       "      <td>San Pedro</td>\n",
       "      <td>San-Pédro</td>\n",
       "      <td>Grand bereby</td>\n",
       "      <td>Mossikro</td>\n",
       "      <td>4.718922</td>\n",
       "      <td>-6.939454</td>\n",
       "      <td></td>\n",
       "      <td>...</td>\n",
       "      <td>35</td>\n",
       "      <td>2</td>\n",
       "      <td>16</td>\n",
       "      <td></td>\n",
       "      <td></td>\n",
       "      <td></td>\n",
       "      <td></td>\n",
       "      <td>6/30/22</td>\n",
       "      <td>achilleyaoyao taroworks</td>\n",
       "      <td>POINT (-6.93945 4.71892)</td>\n",
       "    </tr>\n",
       "    <tr>\n",
       "      <th>2</th>\n",
       "      <td>1042870</td>\n",
       "      <td>campement ardjoumakro</td>\n",
       "      <td>Cote d'Ivoire</td>\n",
       "      <td>San Pedro</td>\n",
       "      <td>San-Pédro</td>\n",
       "      <td>Dogbo</td>\n",
       "      <td>Bledie</td>\n",
       "      <td>4.857928</td>\n",
       "      <td>-7.000859</td>\n",
       "      <td></td>\n",
       "      <td>...</td>\n",
       "      <td>2</td>\n",
       "      <td>Président Gsc bledie</td>\n",
       "      <td>23</td>\n",
       "      <td>Hôpital - Hospital;Pharmacie - Pharmacy</td>\n",
       "      <td>École Primaire - Primary</td>\n",
       "      <td>Marché journalier - Market (daily);Marché hebd...</td>\n",
       "      <td>Lieu de culte (Eglise, Mosquée, Temple, etc) -...</td>\n",
       "      <td>11/7/22</td>\n",
       "      <td>achilleyaoyao taroworks</td>\n",
       "      <td>POINT (-7.00086 4.85793)</td>\n",
       "    </tr>\n",
       "    <tr>\n",
       "      <th>3</th>\n",
       "      <td>1042875</td>\n",
       "      <td>Sangarekro</td>\n",
       "      <td>Cote d'Ivoire</td>\n",
       "      <td>San Pedro</td>\n",
       "      <td>San-Pédro</td>\n",
       "      <td>Dogbo</td>\n",
       "      <td>Bledie</td>\n",
       "      <td>4.859334</td>\n",
       "      <td>-6.988984</td>\n",
       "      <td></td>\n",
       "      <td>...</td>\n",
       "      <td>3</td>\n",
       "      <td></td>\n",
       "      <td>135</td>\n",
       "      <td>Clinique ou centre de santé - Clinic or Health...</td>\n",
       "      <td>École Primaire - Primary</td>\n",
       "      <td>Marché journalier - Market (daily);Marché hebd...</td>\n",
       "      <td>Lieu de culte (Eglise, Mosquée, Temple, etc) -...</td>\n",
       "      <td>11/7/22</td>\n",
       "      <td>achilleyaoyao taroworks</td>\n",
       "      <td>POINT (-6.98898 4.85933)</td>\n",
       "    </tr>\n",
       "    <tr>\n",
       "      <th>4</th>\n",
       "      <td>1042877</td>\n",
       "      <td>Bledie</td>\n",
       "      <td>Cote d'Ivoire</td>\n",
       "      <td>San Pedro</td>\n",
       "      <td>San-Pédro</td>\n",
       "      <td>Dogbo</td>\n",
       "      <td>Bledie</td>\n",
       "      <td>4.869407</td>\n",
       "      <td>-7.005066</td>\n",
       "      <td></td>\n",
       "      <td>...</td>\n",
       "      <td>3</td>\n",
       "      <td>Président Gsc bledie</td>\n",
       "      <td>34</td>\n",
       "      <td>Clinique ou centre de santé - Clinic or Health...</td>\n",
       "      <td>École Primaire - Primary</td>\n",
       "      <td>Marché journalier - Market (daily);Marché hebd...</td>\n",
       "      <td>Lieu de culte (Eglise, Mosquée, Temple, etc) -...</td>\n",
       "      <td>11/7/22</td>\n",
       "      <td>achilleyaoyao taroworks</td>\n",
       "      <td>POINT (-7.00507 4.86941)</td>\n",
       "    </tr>\n",
       "    <tr>\n",
       "      <th>...</th>\n",
       "      <td>...</td>\n",
       "      <td>...</td>\n",
       "      <td>...</td>\n",
       "      <td>...</td>\n",
       "      <td>...</td>\n",
       "      <td>...</td>\n",
       "      <td>...</td>\n",
       "      <td>...</td>\n",
       "      <td>...</td>\n",
       "      <td>...</td>\n",
       "      <td>...</td>\n",
       "      <td>...</td>\n",
       "      <td>...</td>\n",
       "      <td>...</td>\n",
       "      <td>...</td>\n",
       "      <td>...</td>\n",
       "      <td>...</td>\n",
       "      <td>...</td>\n",
       "      <td>...</td>\n",
       "      <td>...</td>\n",
       "      <td>...</td>\n",
       "    </tr>\n",
       "    <tr>\n",
       "      <th>564</th>\n",
       "      <td>1044019</td>\n",
       "      <td>Afotobo 5</td>\n",
       "      <td>Cote d'Ivoire</td>\n",
       "      <td>Gbeke</td>\n",
       "      <td>Béoumi</td>\n",
       "      <td>Béoumi</td>\n",
       "      <td>Afotobo</td>\n",
       "      <td>7.645650</td>\n",
       "      <td>-5.477423</td>\n",
       "      <td></td>\n",
       "      <td>...</td>\n",
       "      <td>1 jour</td>\n",
       "      <td>La communauté traverse ce site pour accéder au...</td>\n",
       "      <td>25</td>\n",
       "      <td></td>\n",
       "      <td></td>\n",
       "      <td>Feme - Farms</td>\n",
       "      <td>Autre - (si sélectionné, expliquez la raison d...</td>\n",
       "      <td>12/25/22</td>\n",
       "      <td>sekredoukobénan taroworks</td>\n",
       "      <td>POINT (-5.47742 7.64565)</td>\n",
       "    </tr>\n",
       "    <tr>\n",
       "      <th>565</th>\n",
       "      <td>1044023</td>\n",
       "      <td>Obenikro</td>\n",
       "      <td>Cote d'Ivoire</td>\n",
       "      <td>Gbeke</td>\n",
       "      <td>Béoumi</td>\n",
       "      <td>Béoumi</td>\n",
       "      <td>Akadiafoué</td>\n",
       "      <td>7.604121</td>\n",
       "      <td>-5.484128</td>\n",
       "      <td></td>\n",
       "      <td>...</td>\n",
       "      <td>3 jours de crue et d?inondation,  mais les élè...</td>\n",
       "      <td>Les élèves de Obenikro traversent le site pour...</td>\n",
       "      <td>15</td>\n",
       "      <td></td>\n",
       "      <td>École Primaire - Primary</td>\n",
       "      <td>Marché hebdomadaire - Market (weekly);Feme - F...</td>\n",
       "      <td>Lieu de culte (Eglise, Mosquée, Temple, etc) -...</td>\n",
       "      <td>12/25/22</td>\n",
       "      <td>sekredoukobénan taroworks</td>\n",
       "      <td>POINT (-5.48413 7.60412)</td>\n",
       "    </tr>\n",
       "    <tr>\n",
       "      <th>566</th>\n",
       "      <td>1044013</td>\n",
       "      <td>Assekro 2</td>\n",
       "      <td>Cote d'Ivoire</td>\n",
       "      <td>Gbeke</td>\n",
       "      <td>Béoumi</td>\n",
       "      <td>Béoumi</td>\n",
       "      <td>Afotobo</td>\n",
       "      <td>7.656134</td>\n",
       "      <td>-5.392766</td>\n",
       "      <td></td>\n",
       "      <td>...</td>\n",
       "      <td>7 jours</td>\n",
       "      <td>La communauté traverse ce site pour accéder au...</td>\n",
       "      <td>125</td>\n",
       "      <td></td>\n",
       "      <td></td>\n",
       "      <td>Feme - Farms</td>\n",
       "      <td></td>\n",
       "      <td>12/25/22</td>\n",
       "      <td>sekredoukobénan taroworks</td>\n",
       "      <td>POINT (-5.39277 7.65613)</td>\n",
       "    </tr>\n",
       "    <tr>\n",
       "      <th>567</th>\n",
       "      <td>1044184</td>\n",
       "      <td>Agba-Kouassikro 2</td>\n",
       "      <td>Cote d'Ivoire</td>\n",
       "      <td>Gbeke</td>\n",
       "      <td>Béoumi</td>\n",
       "      <td>Bodokro</td>\n",
       "      <td>Kouakou-Bakakro</td>\n",
       "      <td>7.937529</td>\n",
       "      <td>-5.474987</td>\n",
       "      <td></td>\n",
       "      <td>...</td>\n",
       "      <td>1 jour</td>\n",
       "      <td>Monsieur N?dri Konan Jean-François, Secrétaire...</td>\n",
       "      <td>41</td>\n",
       "      <td></td>\n",
       "      <td></td>\n",
       "      <td>Feme - Farms</td>\n",
       "      <td></td>\n",
       "      <td>12/30/22</td>\n",
       "      <td>sekredoukobénan taroworks</td>\n",
       "      <td>POINT (-5.47499 7.93753)</td>\n",
       "    </tr>\n",
       "    <tr>\n",
       "      <th>568</th>\n",
       "      <td>1043964</td>\n",
       "      <td>Saounti 2</td>\n",
       "      <td>Cote d'Ivoire</td>\n",
       "      <td>Gbeke</td>\n",
       "      <td>Béoumi</td>\n",
       "      <td>Béoumi</td>\n",
       "      <td>Koumanbo</td>\n",
       "      <td>7.566747</td>\n",
       "      <td>-5.407937</td>\n",
       "      <td></td>\n",
       "      <td>...</td>\n",
       "      <td>O jour,  le site est franchissable en toutes s...</td>\n",
       "      <td>La communauté traverse ce site pour accéder au...</td>\n",
       "      <td>12</td>\n",
       "      <td></td>\n",
       "      <td></td>\n",
       "      <td>Feme - Farms</td>\n",
       "      <td>Autre - (si sélectionné, expliquez la raison d...</td>\n",
       "      <td>12/21/22</td>\n",
       "      <td>sekredoukobénan taroworks</td>\n",
       "      <td>POINT (-5.40794 7.56675)</td>\n",
       "    </tr>\n",
       "  </tbody>\n",
       "</table>\n",
       "<p>569 rows × 25 columns</p>\n",
       "</div>"
      ],
      "text/plain": [
       "    Opportunity Unique Identifier            Bridge Name        Country  \\\n",
       "0                         1043157             Sangarekro  Cote d'Ivoire   \n",
       "1                         1040872                 Hanier  Cote d'Ivoire   \n",
       "2                         1042870  campement ardjoumakro  Cote d'Ivoire   \n",
       "3                         1042875             Sangarekro  Cote d'Ivoire   \n",
       "4                         1042877                 Bledie  Cote d'Ivoire   \n",
       "..                            ...                    ...            ...   \n",
       "564                       1044019              Afotobo 5  Cote d'Ivoire   \n",
       "565                       1044023               Obenikro  Cote d'Ivoire   \n",
       "566                       1044013              Assekro 2  Cote d'Ivoire   \n",
       "567                       1044184      Agba-Kouassikro 2  Cote d'Ivoire   \n",
       "568                       1043964              Saounti 2  Cote d'Ivoire   \n",
       "\n",
       "    Level 1 Government Level 2 Government Level 3 Government  \\\n",
       "0            San Pedro          San-Pédro              Dogbo   \n",
       "1            San Pedro          San-Pédro       Grand bereby   \n",
       "2            San Pedro          San-Pédro              Dogbo   \n",
       "3            San Pedro          San-Pédro              Dogbo   \n",
       "4            San Pedro          San-Pédro              Dogbo   \n",
       "..                 ...                ...                ...   \n",
       "564              Gbeke             Béoumi             Béoumi   \n",
       "565              Gbeke             Béoumi             Béoumi   \n",
       "566              Gbeke             Béoumi             Béoumi   \n",
       "567              Gbeke             Béoumi            Bodokro   \n",
       "568              Gbeke             Béoumi             Béoumi   \n",
       "\n",
       "    Level 4 Government  latitude  longitude Reason site not valid  ...  \\\n",
       "0               Bledie  4.855737  -6.969818                        ...   \n",
       "1             Mossikro  4.718922  -6.939454                        ...   \n",
       "2               Bledie  4.857928  -7.000859                        ...   \n",
       "3               Bledie  4.859334  -6.988984                        ...   \n",
       "4               Bledie  4.869407  -7.005066                        ...   \n",
       "..                 ...       ...        ...                   ...  ...   \n",
       "564            Afotobo  7.645650  -5.477423                        ...   \n",
       "565         Akadiafoué  7.604121  -5.484128                        ...   \n",
       "566            Afotobo  7.656134  -5.392766                        ...   \n",
       "567    Kouakou-Bakakro  7.937529  -5.474987                        ...   \n",
       "568           Koumanbo  7.566747  -5.407937                        ...   \n",
       "\n",
       "                    Flood duration during rainy season  \\\n",
       "0                                                    5   \n",
       "1                                                   35   \n",
       "2                                                    2   \n",
       "3                                                    3   \n",
       "4                                                    3   \n",
       "..                                                 ...   \n",
       "564                                             1 jour   \n",
       "565  3 jours de crue et d?inondation,  mais les élè...   \n",
       "566                                            7 jours   \n",
       "567                                             1 jour   \n",
       "568  O jour,  le site est franchissable en toutes s...   \n",
       "\n",
       "                           Notes on social information  \\\n",
       "0                                       Secrétaire Gsc   \n",
       "1                                                    2   \n",
       "2                                 Président Gsc bledie   \n",
       "3                                                        \n",
       "4                                 Président Gsc bledie   \n",
       "..                                                 ...   \n",
       "564  La communauté traverse ce site pour accéder au...   \n",
       "565  Les élèves de Obenikro traversent le site pour...   \n",
       "566  La communauté traverse ce site pour accéder au...   \n",
       "567  Monsieur N?dri Konan Jean-François, Secrétaire...   \n",
       "568  La communauté traverse ce site pour accéder au...   \n",
       "\n",
       "    Width of River During Flooding (m)  \\\n",
       "0                                   13   \n",
       "1                                   16   \n",
       "2                                   23   \n",
       "3                                  135   \n",
       "4                                   34   \n",
       "..                                 ...   \n",
       "564                                 25   \n",
       "565                                 15   \n",
       "566                                125   \n",
       "567                                 41   \n",
       "568                                 12   \n",
       "\n",
       "                        Health access blocked by river  \\\n",
       "0    Clinique ou centre de santé - Clinic or Health...   \n",
       "1                                                        \n",
       "2              Hôpital - Hospital;Pharmacie - Pharmacy   \n",
       "3    Clinique ou centre de santé - Clinic or Health...   \n",
       "4    Clinique ou centre de santé - Clinic or Health...   \n",
       "..                                                 ...   \n",
       "564                                                      \n",
       "565                                                      \n",
       "566                                                      \n",
       "567                                                      \n",
       "568                                                      \n",
       "\n",
       "    Education access blocked by river  \\\n",
       "0            École Primaire - Primary   \n",
       "1                                       \n",
       "2            École Primaire - Primary   \n",
       "3            École Primaire - Primary   \n",
       "4            École Primaire - Primary   \n",
       "..                                ...   \n",
       "564                                     \n",
       "565          École Primaire - Primary   \n",
       "566                                     \n",
       "567                                     \n",
       "568                                     \n",
       "\n",
       "                        Market access blocked by river  \\\n",
       "0    Marché journalier - Market (daily);Marché hebd...   \n",
       "1                                                        \n",
       "2    Marché journalier - Market (daily);Marché hebd...   \n",
       "3    Marché journalier - Market (daily);Marché hebd...   \n",
       "4    Marché journalier - Market (daily);Marché hebd...   \n",
       "..                                                 ...   \n",
       "564                                       Feme - Farms   \n",
       "565  Marché hebdomadaire - Market (weekly);Feme - F...   \n",
       "566                                       Feme - Farms   \n",
       "567                                       Feme - Farms   \n",
       "568                                       Feme - Farms   \n",
       "\n",
       "                         Other access blocked by river Form: Created Date  \\\n",
       "0    Lieu de culte (Eglise, Mosquée, Temple, etc) -...           11/11/22   \n",
       "1                                                                 6/30/22   \n",
       "2    Lieu de culte (Eglise, Mosquée, Temple, etc) -...            11/7/22   \n",
       "3    Lieu de culte (Eglise, Mosquée, Temple, etc) -...            11/7/22   \n",
       "4    Lieu de culte (Eglise, Mosquée, Temple, etc) -...            11/7/22   \n",
       "..                                                 ...                ...   \n",
       "564  Autre - (si sélectionné, expliquez la raison d...           12/25/22   \n",
       "565  Lieu de culte (Eglise, Mosquée, Temple, etc) -...           12/25/22   \n",
       "566                                                              12/25/22   \n",
       "567                                                              12/30/22   \n",
       "568  Autre - (si sélectionné, expliquez la raison d...           12/21/22   \n",
       "\n",
       "              Form: Created By                  geometry  \n",
       "0      achilleyaoyao taroworks  POINT (-6.96982 4.85574)  \n",
       "1      achilleyaoyao taroworks  POINT (-6.93945 4.71892)  \n",
       "2      achilleyaoyao taroworks  POINT (-7.00086 4.85793)  \n",
       "3      achilleyaoyao taroworks  POINT (-6.98898 4.85933)  \n",
       "4      achilleyaoyao taroworks  POINT (-7.00507 4.86941)  \n",
       "..                         ...                       ...  \n",
       "564  sekredoukobénan taroworks  POINT (-5.47742 7.64565)  \n",
       "565  sekredoukobénan taroworks  POINT (-5.48413 7.60412)  \n",
       "566  sekredoukobénan taroworks  POINT (-5.39277 7.65613)  \n",
       "567  sekredoukobénan taroworks  POINT (-5.47499 7.93753)  \n",
       "568  sekredoukobénan taroworks  POINT (-5.40794 7.56675)  \n",
       "\n",
       "[569 rows x 25 columns]"
      ]
     },
     "execution_count": 4,
     "metadata": {},
     "output_type": "execute_result"
    }
   ],
   "source": [
    "assessment"
   ]
  },
  {
   "cell_type": "code",
   "execution_count": 5,
   "metadata": {},
   "outputs": [
    {
     "name": "stdout",
     "output_type": "stream",
     "text": [
      "2\n",
      "6\n",
      "37\n",
      "137\n",
      "569\n"
     ]
    }
   ],
   "source": [
    "# print unique values for Level 1 Government\n",
    "print(len(assessment['Level 1 Government'].unique()))\n",
    "print(len(assessment['Level 2 Government'].unique()))\n",
    "print(len(assessment['Level 3 Government'].unique()))\n",
    "print(len(assessment['Level 4 Government'].unique()))\n",
    "print(len(assessment))"
   ]
  },
  {
   "cell_type": "code",
   "execution_count": 6,
   "metadata": {},
   "outputs": [
    {
     "data": {
      "text/html": [
       "<div>\n",
       "<style scoped>\n",
       "    .dataframe tbody tr th:only-of-type {\n",
       "        vertical-align: middle;\n",
       "    }\n",
       "\n",
       "    .dataframe tbody tr th {\n",
       "        vertical-align: top;\n",
       "    }\n",
       "\n",
       "    .dataframe thead th {\n",
       "        text-align: right;\n",
       "    }\n",
       "</style>\n",
       "<table border=\"1\" class=\"dataframe\">\n",
       "  <thead>\n",
       "    <tr style=\"text-align: right;\">\n",
       "      <th></th>\n",
       "      <th>Level 4 Government</th>\n",
       "      <th>Count</th>\n",
       "    </tr>\n",
       "  </thead>\n",
       "  <tbody>\n",
       "    <tr>\n",
       "      <th>0</th>\n",
       "      <td>Angokoun-Kpangbassou</td>\n",
       "      <td>38</td>\n",
       "    </tr>\n",
       "    <tr>\n",
       "      <th>1</th>\n",
       "      <td>Andokro-Kouakou</td>\n",
       "      <td>29</td>\n",
       "    </tr>\n",
       "    <tr>\n",
       "      <th>2</th>\n",
       "      <td>Adjougouansou</td>\n",
       "      <td>18</td>\n",
       "    </tr>\n",
       "    <tr>\n",
       "      <th>3</th>\n",
       "      <td>Hannié</td>\n",
       "      <td>18</td>\n",
       "    </tr>\n",
       "    <tr>\n",
       "      <th>4</th>\n",
       "      <td>Bledie</td>\n",
       "      <td>17</td>\n",
       "    </tr>\n",
       "    <tr>\n",
       "      <th>...</th>\n",
       "      <td>...</td>\n",
       "      <td>...</td>\n",
       "    </tr>\n",
       "    <tr>\n",
       "      <th>132</th>\n",
       "      <td>Tanou-Broukro (Bassin de  Saminikro)</td>\n",
       "      <td>1</td>\n",
       "    </tr>\n",
       "    <tr>\n",
       "      <th>133</th>\n",
       "      <td>Ahouzankro (Bassin  de Mamini)</td>\n",
       "      <td>1</td>\n",
       "    </tr>\n",
       "    <tr>\n",
       "      <th>134</th>\n",
       "      <td>Takassou (Bassin de Mamini)</td>\n",
       "      <td>1</td>\n",
       "    </tr>\n",
       "    <tr>\n",
       "      <th>135</th>\n",
       "      <td>Koubékro (Bassin  Mamini)</td>\n",
       "      <td>1</td>\n",
       "    </tr>\n",
       "    <tr>\n",
       "      <th>136</th>\n",
       "      <td>Ahouzankro Bassin de Mamini)</td>\n",
       "      <td>1</td>\n",
       "    </tr>\n",
       "  </tbody>\n",
       "</table>\n",
       "<p>137 rows × 2 columns</p>\n",
       "</div>"
      ],
      "text/plain": [
       "                       Level 4 Government  Count\n",
       "0                    Angokoun-Kpangbassou     38\n",
       "1                         Andokro-Kouakou     29\n",
       "2                           Adjougouansou     18\n",
       "3                                  Hannié     18\n",
       "4                                  Bledie     17\n",
       "..                                    ...    ...\n",
       "132  Tanou-Broukro (Bassin de  Saminikro)      1\n",
       "133        Ahouzankro (Bassin  de Mamini)      1\n",
       "134           Takassou (Bassin de Mamini)      1\n",
       "135             Koubékro (Bassin  Mamini)      1\n",
       "136          Ahouzankro Bassin de Mamini)      1\n",
       "\n",
       "[137 rows x 2 columns]"
      ]
     },
     "execution_count": 6,
     "metadata": {},
     "output_type": "execute_result"
    }
   ],
   "source": [
    "# create a dataframe with unique values of 'level 4 Government' as a column with the sum of times it's mentioned as a column\n",
    "villages = pd.DataFrame(assessment['Level 4 Government'].value_counts())\n",
    "villages = villages.reset_index()\n",
    "villages.columns = ['Level 4 Government', 'Count']\n",
    "villages"
   ]
  },
  {
   "cell_type": "code",
   "execution_count": 7,
   "metadata": {},
   "outputs": [],
   "source": [
    "# for each value in villages level 4 government, find the corresponding value in the assessment level 4 government column and add the corresponding value in the \"level 3 government\" column as a new column in the villages dataframe\n",
    "for i in range(len(villages)):\n",
    "    villages.loc[i, 'Level 3 Government'] = assessment.loc[assessment['Level 4 Government'] == villages.loc[i, 'Level 4 Government'], 'Level 3 Government'].iloc[0]\n",
    "    villages.loc[i, 'Level 2 Government'] = assessment.loc[assessment['Level 4 Government'] == villages.loc[i, 'Level 4 Government'], 'Level 2 Government'].iloc[0]\n",
    "    villages.loc[i, 'Level 1 Government'] = assessment.loc[assessment['Level 4 Government'] == villages.loc[i, 'Level 4 Government'], 'Level 1 Government'].iloc[0]\n",
    "    "
   ]
  },
  {
   "cell_type": "code",
   "execution_count": 8,
   "metadata": {},
   "outputs": [
    {
     "data": {
      "text/html": [
       "<div>\n",
       "<style scoped>\n",
       "    .dataframe tbody tr th:only-of-type {\n",
       "        vertical-align: middle;\n",
       "    }\n",
       "\n",
       "    .dataframe tbody tr th {\n",
       "        vertical-align: top;\n",
       "    }\n",
       "\n",
       "    .dataframe thead th {\n",
       "        text-align: right;\n",
       "    }\n",
       "</style>\n",
       "<table border=\"1\" class=\"dataframe\">\n",
       "  <thead>\n",
       "    <tr style=\"text-align: right;\">\n",
       "      <th></th>\n",
       "      <th>Level 4 Government</th>\n",
       "      <th>Count</th>\n",
       "      <th>Level 3 Government</th>\n",
       "      <th>Level 2 Government</th>\n",
       "      <th>Level 1 Government</th>\n",
       "    </tr>\n",
       "  </thead>\n",
       "  <tbody>\n",
       "    <tr>\n",
       "      <th>0</th>\n",
       "      <td>Angokoun-Kpangbassou</td>\n",
       "      <td>38</td>\n",
       "      <td>Languibonou</td>\n",
       "      <td>Botro</td>\n",
       "      <td>Gbeke</td>\n",
       "    </tr>\n",
       "    <tr>\n",
       "      <th>1</th>\n",
       "      <td>Andokro-Kouakou</td>\n",
       "      <td>29</td>\n",
       "      <td>Languibonou</td>\n",
       "      <td>Botro</td>\n",
       "      <td>Gbeke</td>\n",
       "    </tr>\n",
       "    <tr>\n",
       "      <th>2</th>\n",
       "      <td>Adjougouansou</td>\n",
       "      <td>18</td>\n",
       "      <td>Djibri Assirikro</td>\n",
       "      <td>Sakassou</td>\n",
       "      <td>Gbeke</td>\n",
       "    </tr>\n",
       "    <tr>\n",
       "      <th>3</th>\n",
       "      <td>Hannié</td>\n",
       "      <td>18</td>\n",
       "      <td>DJOUROUTOU</td>\n",
       "      <td>Tabou</td>\n",
       "      <td>San Pedro</td>\n",
       "    </tr>\n",
       "    <tr>\n",
       "      <th>4</th>\n",
       "      <td>Bledie</td>\n",
       "      <td>17</td>\n",
       "      <td>Dogbo</td>\n",
       "      <td>San-Pédro</td>\n",
       "      <td>San Pedro</td>\n",
       "    </tr>\n",
       "    <tr>\n",
       "      <th>...</th>\n",
       "      <td>...</td>\n",
       "      <td>...</td>\n",
       "      <td>...</td>\n",
       "      <td>...</td>\n",
       "      <td>...</td>\n",
       "    </tr>\n",
       "    <tr>\n",
       "      <th>132</th>\n",
       "      <td>Tanou-Broukro (Bassin de  Saminikro)</td>\n",
       "      <td>1</td>\n",
       "      <td>Brobo</td>\n",
       "      <td>Bouaké</td>\n",
       "      <td>Gbeke</td>\n",
       "    </tr>\n",
       "    <tr>\n",
       "      <th>133</th>\n",
       "      <td>Ahouzankro (Bassin  de Mamini)</td>\n",
       "      <td>1</td>\n",
       "      <td>Brobo</td>\n",
       "      <td>Bouaké</td>\n",
       "      <td>Gbeke</td>\n",
       "    </tr>\n",
       "    <tr>\n",
       "      <th>134</th>\n",
       "      <td>Takassou (Bassin de Mamini)</td>\n",
       "      <td>1</td>\n",
       "      <td>Brobo</td>\n",
       "      <td>Bouaké</td>\n",
       "      <td>Gbeke</td>\n",
       "    </tr>\n",
       "    <tr>\n",
       "      <th>135</th>\n",
       "      <td>Koubékro (Bassin  Mamini)</td>\n",
       "      <td>1</td>\n",
       "      <td>Brobo</td>\n",
       "      <td>Bouaké</td>\n",
       "      <td>Gbeke</td>\n",
       "    </tr>\n",
       "    <tr>\n",
       "      <th>136</th>\n",
       "      <td>Ahouzankro Bassin de Mamini)</td>\n",
       "      <td>1</td>\n",
       "      <td>Brobo</td>\n",
       "      <td>Bouaké</td>\n",
       "      <td>Gbeke</td>\n",
       "    </tr>\n",
       "  </tbody>\n",
       "</table>\n",
       "<p>137 rows × 5 columns</p>\n",
       "</div>"
      ],
      "text/plain": [
       "                       Level 4 Government  Count Level 3 Government  \\\n",
       "0                    Angokoun-Kpangbassou     38        Languibonou   \n",
       "1                         Andokro-Kouakou     29        Languibonou   \n",
       "2                           Adjougouansou     18   Djibri Assirikro   \n",
       "3                                  Hannié     18         DJOUROUTOU   \n",
       "4                                  Bledie     17              Dogbo   \n",
       "..                                    ...    ...                ...   \n",
       "132  Tanou-Broukro (Bassin de  Saminikro)      1              Brobo   \n",
       "133        Ahouzankro (Bassin  de Mamini)      1              Brobo   \n",
       "134           Takassou (Bassin de Mamini)      1              Brobo   \n",
       "135             Koubékro (Bassin  Mamini)      1              Brobo   \n",
       "136          Ahouzankro Bassin de Mamini)      1              Brobo   \n",
       "\n",
       "    Level 2 Government Level 1 Government  \n",
       "0                Botro              Gbeke  \n",
       "1                Botro              Gbeke  \n",
       "2             Sakassou              Gbeke  \n",
       "3                Tabou          San Pedro  \n",
       "4            San-Pédro          San Pedro  \n",
       "..                 ...                ...  \n",
       "132             Bouaké              Gbeke  \n",
       "133             Bouaké              Gbeke  \n",
       "134             Bouaké              Gbeke  \n",
       "135             Bouaké              Gbeke  \n",
       "136             Bouaké              Gbeke  \n",
       "\n",
       "[137 rows x 5 columns]"
      ]
     },
     "execution_count": 8,
     "metadata": {},
     "output_type": "execute_result"
    }
   ],
   "source": [
    "villages"
   ]
  },
  {
   "cell_type": "code",
   "execution_count": 9,
   "metadata": {},
   "outputs": [
    {
     "data": {
      "application/vnd.plotly.v1+json": {
       "config": {
        "plotlyServerURL": "https://plot.ly"
       },
       "data": [
        {
         "branchvalues": "total",
         "domain": {
          "x": [
           0,
           1
          ],
          "y": [
           0,
           1
          ]
         },
         "hovertemplate": "labels=%{label}<br>Count=%{value}<br>parent=%{parent}<br>id=%{id}<extra></extra>",
         "ids": [
          "Cote d'Ivoire/Gbeke/Béoumi/Lolobo/Abouzè-kouadiokro",
          "Cote d'Ivoire/San Pedro/San-Pédro/Grand bereby/Adjamene",
          "Cote d'Ivoire/Gbeke/Sakassou/Djibri Assirikro/Adjougouansou",
          "Cote d'Ivoire/Gbeke/Béoumi/Béoumi/Afotobo",
          "Cote d'Ivoire/Gbeke/Bouaké/Commune de Bouaké/Ahodji(Raffierkro)",
          "Cote d'Ivoire/Gbeke/Bouaké/Brobo/Ahouzankro (Bassin  de Mamini)",
          "Cote d'Ivoire/Gbeke/Bouaké/Brobo/Ahouzankro (Bassin de Mamini)",
          "Cote d'Ivoire/Gbeke/Bouaké/Brobo/Ahouzankro Bassin de Mamini)",
          "Cote d'Ivoire/Gbeke/Béoumi/Béoumi/Akadiafoué",
          "Cote d'Ivoire/Gbeke/Bouaké/Bouaké/Akanzakro",
          "Cote d'Ivoire/Gbeke/Sakassou/Sakassou/Akété",
          "Cote d'Ivoire/Gbeke/Béoumi/Lolobo/Alloko-Sakassou",
          "Cote d'Ivoire/Gbeke/Bouaké/Brobo/Alloukro (Bassin de Mamini)",
          "Cote d'Ivoire/Gbeke/Sakassou/Sakassou/Andobo-Alluibo",
          "Cote d'Ivoire/Gbeke/Botro/Languibonou/Andokro-Kouakou",
          "Cote d'Ivoire/Gbeke/Botro/Languibonou/Angokoun-Kpangbassou",
          "Cote d'Ivoire/Gbeke/Sakassou/Sakassou/Anoufoue Bounou",
          "Cote d'Ivoire/Gbeke/Bouaké/Djebonoua/Assengou",
          "Cote d'Ivoire/Gbeke/Bouaké/Djébonoua/Assouakro",
          "Cote d'Ivoire/Gbeke/Sakassou/Dibri/Belle-Ahoukro (Akanzakro)",
          "Cote d'Ivoire/Gbeke/Sakassou/Dibri Assrikro/Belle-Ahoukro 3(Akanzakro)",
          "Cote d'Ivoire/Gbeke/Sakassou/Dibri Assrikro/Belle-Ahoukro(Akanzakro)",
          "Cote d'Ivoire/San Pedro/Tabou/DJOUROUTOU/Beoué",
          "Cote d'Ivoire/San Pedro/San-Pédro/Gabiadji/Blahou",
          "Cote d'Ivoire/San Pedro/San-Pédro/Dogbo/Bledie",
          "Cote d'Ivoire/Gbeke/Bouaké/Brobo/Bobokro",
          "Cote d'Ivoire/Gbeke/Bouaké/Brobo/Bobokro (Bassin de Mamini)",
          "Cote d'Ivoire/Gbeke/Bouaké/Brobo/Bobokro (Mamini)",
          "Cote d'Ivoire/Gbeke/Bouaké/Brobo/Bounda",
          "Cote d'Ivoire/Gbeke/Botro/Languibonou/Béhéké (Bassin de  Languibonou)",
          "Cote d'Ivoire/Gbeke/Botro/Languibonou/Béhéké (Bassin de Klèmèkro)",
          "Cote d'Ivoire/Gbeke/Botro/Languibonou/Béhéké (Bassin de Languibonou)",
          "Cote d'Ivoire/Gbeke/Botro/Languibonou/Béhéké (Languibonou)",
          "Cote d'Ivoire/Gbeke/Botro/Languibonou/Béhéké(Bassin de Klèmèkro)",
          "Cote d'Ivoire/Gbeke/Botro/Languibonou/Béhéké(Bassin de Languibonou)",
          "Cote d'Ivoire/San Pedro/Tabou/DJOUROUTOU/DJOUROUTOU",
          "Cote d'Ivoire/San Pedro/Tabou/Grabo/Debablai",
          "Cote d'Ivoire/Gbeke/Béoumi/Lolobo/Diéribanou",
          "Cote d'Ivoire/Gbeke/Béoumi/Lolobo/Diéribanouan",
          "Cote d'Ivoire/Gbeke/Béoumi/Béoumi/Diéviessou",
          "Cote d'Ivoire/San Pedro/San-Pédro/Djihimbo/Djihimbo",
          "Cote d'Ivoire/San Pedro/Tabou/Tabou/Djihouloké",
          "Cote d'Ivoire/San Pedro/San-Pédro/Grand bereby/Djikla",
          "Cote d'Ivoire/San Pedro/San-Pédro/Grand bereby/Djourou",
          "Cote d'Ivoire/Gbeke/San-Pédro/Gabiadji/FAHE",
          "Cote d'Ivoire/San Pedro/San-Pédro/Gabiadji/Fahe",
          "Cote d'Ivoire/San Pedro/San-Pédro/Gabiadji/Fahe yobouekro",
          "Cote d'Ivoire/Gbeke/Bouaké/Commune de Bouaké/Fahris_Oko",
          "Cote d'Ivoire/Gbeke/Bouaké/Commune de Bouake/Fahris_Oko (Bassin de Kahankro)",
          "Cote d'Ivoire/Gbeke/Bouaké/Commune de Bouaké/Fahris_Oko (Kahankro)",
          "Cote d'Ivoire/Gbeke/Bouaké/Commune de Bouake/Fahris_Oko(Bassin de Kahankro)",
          "Cote d'Ivoire/Gbeke/San-Pédro/Gabiadji test/Faye",
          "Cote d'Ivoire/San Pedro/Tabou/DJOUROUTOU/GBAROU",
          "Cote d'Ivoire/San Pedro/San-Pédro/GRAND BEREBY/GRAND DJOUROU",
          "Cote d'Ivoire/San Pedro/San-Pédro/Gnity/Gbangbokro",
          "Cote d'Ivoire/San Pedro/Tabou/Grabo/Gbapet",
          "Cote d'Ivoire/San Pedro/Tabou/DJOUROUTOU/Gbarou",
          "Cote d'Ivoire/San Pedro/San-Pédro/Gabiadji/Gnity",
          "Cote d'Ivoire/Gbeke/Sakassou/Sakassou/Goliblenou",
          "Cote d'Ivoire/Gbeke/Bouaké/Djébonoua/Gomo( Bassin Assouakro)",
          "Cote d'Ivoire/Gbeke/Bouaké/Djébonoua/Gomo(Bassin  de Assouakro)",
          "Cote d'Ivoire/San Pedro/San-Pédro/Gabiadji/Grobonou  dan",
          "Cote d'Ivoire/San Pedro/San-Pédro/Gabiadji/Grobonou dan",
          "Cote d'Ivoire/San Pedro/Tabou/DJOUROUTOU/Hannié",
          "Cote d'Ivoire/San Pedro/San-Pédro/Dogbo/Heremakono",
          "Cote d'Ivoire/San Pedro/Tabou/Tabou/Hyrré",
          "Cote d'Ivoire/Gbeke/Sakassou/Sakassou/Kanango Kpli",
          "Cote d'Ivoire/San Pedro/Tabou/Olodio/Klodio",
          "Cote d'Ivoire/Gbeke/Botro/Languibonou/Klèmèkro",
          "Cote d'Ivoire/Gbeke/Botro/Languibonou/Klèmèkro (wandékouassikro)",
          "Cote d'Ivoire/Gbeke/Bouaké/Commune de Bouaké/Koblékro",
          "Cote d'Ivoire/Gbeke/Bouaké/Commune de Bouaké/Koblékro(Kongonibo)",
          "Cote d'Ivoire/Gbeke/Bouaké/Brobo/Kouadianikro",
          "Cote d'Ivoire/Gbeke/Bouaké/Brobo/Kouadianikro (Bassin de Bounda)",
          "Cote d'Ivoire/Gbeke/Bouaké/Brobo/Kouadianikro (Bounda)",
          "Cote d'Ivoire/Gbeke/Bouaké/Brobo/Kouadianikro(Bassin Bounda)",
          "Cote d'Ivoire/Gbeke/Bouaké/Brobo/Kouakou kouadiokro (Bassin de Yéguébo-Bouakro)",
          "Cote d'Ivoire/Gbeke/Bouaké/Brobo/Kouakou kouadiokro(Bassin  de Yéguébo-Bouakro)",
          "Cote d'Ivoire/Gbeke/Béoumi/Bodokro/Kouakou-Bakakro",
          "Cote d'Ivoire/Gbeke/Bouaké/Brobo/Koubékro (Bassin  Mamini)",
          "Cote d'Ivoire/Gbeke/Béoumi/Béoumi/Koumanbo",
          "Cote d'Ivoire/Gbeke/Bouaké/Brobo/Kpékékro (Bassin  de  Mamini)",
          "Cote d'Ivoire/Gbeke/Bouaké/Brobo/Kpékékro (Bassin de Mamini)",
          "Cote d'Ivoire/Gbeke/Bouaké/Brobo/Kpékékro (Mamini)",
          "Cote d'Ivoire/Gbeke/Botro/Krofoinsou/Krofoinsou",
          "Cote d'Ivoire/Gbeke/Bouaké/Brobo/Langbabokohoun",
          "Cote d'Ivoire/Gbeke/Béoumi/Ando-Kékrénou/Linguébo",
          "Cote d'Ivoire/Gbeke/Bouaké/Djebonoua/Lokassou",
          "Cote d'Ivoire/Gbeke/Bouaké/Djébonoua/Lokassou (Bassin de Assengou)",
          "Cote d'Ivoire/Gbeke/Béoumi/Lolobo/Lolobo",
          "Cote d'Ivoire/San Pedro/Tabou/DJOUROUTOU/MAHINO1",
          "Cote d'Ivoire/San Pedro/Tabou/DJOUROUTOU/Mahino 3",
          "Cote d'Ivoire/San Pedro/Tabou/DJOUROUTOU/Mahino1",
          "Cote d'Ivoire/San Pedro/Tabou/DJOUROUTOU/Mahino2",
          "Cote d'Ivoire/San Pedro/Tabou/DJOUROUTOU/Mahino3",
          "Cote d'Ivoire/Gbeke/Bouaké/Brobo/Mamini",
          "Cote d'Ivoire/Gbeke/Bouaké/Brobo/Mamini (Bassin de Mamini)",
          "Cote d'Ivoire/Gbeke/Béoumi/Ando-Kékrénou/Mandanou",
          "Cote d'Ivoire/San Pedro/Tabou/Tabou/Mané",
          "Cote d'Ivoire/San Pedro/San-Pédro/Grand bereby/Mossikro",
          "Cote d'Ivoire/San Pedro/San-Pédro/GRAND BEREBY/Mossikro Test",
          "Cote d'Ivoire/Gbeke/San-Pédro/Grand Bereby/Mossikto",
          "Cote d'Ivoire/Gbeke/Béoumi/Lolobo/N?Zuégouanou",
          "Cote d'Ivoire/Gbeke/Béoumi/Lolobo/N?Zègouanou",
          "Cote d'Ivoire/Gbeke/Béoumi/Bodokro/N?dakro",
          "Cote d'Ivoire/Gbeke/Botro/Krofoinsou/N?zikro",
          "Cote d'Ivoire/San Pedro/Tabou/Grabo/Nouin",
          "Cote d'Ivoire/San Pedro/Tabou/Olodio/Olodio",
          "Cote d'Ivoire/San Pedro/San-Pédro/Grand bereby/Oueoulo",
          "Cote d'Ivoire/San Pedro/San-Pédro/Grand bereby/Oulibio",
          "Cote d'Ivoire/San Pedro/Tabou/DJOUROUTOU/PARA",
          "Cote d'Ivoire/San Pedro/Tabou/DJOUROUTOU/Para",
          "Cote d'Ivoire/San Pedro/Tabou/DJOUROUTOU/Plateau",
          "Cote d'Ivoire/Gbeke/Béoumi/N?guessankro/Plibo",
          "Cote d'Ivoire/Gbeke/Bouaké/Djébonoua/Plongo (Bassin de  Kondoukro)",
          "Cote d'Ivoire/Gbeke/Bouaké/Djébonoua/Plongo (Bassin de Kondoukro)",
          "Cote d'Ivoire/Gbeke/Bouaké/Djébonoua/Plongo(Bassin de Djébonoua)",
          "Cote d'Ivoire/Gbeke/Bouaké/COMMUNE DE Bouake/Raffierkro",
          "Cote d'Ivoire/Gbeke/Bouaké/Brobo/Saminikro",
          "Cote d'Ivoire/Gbeke/Béoumi/Lolobo/Samoïkro",
          "Cote d'Ivoire/San Pedro/Tabou/Olodio/Seh",
          "Cote d'Ivoire/San Pedro/Tabou/Grabo/Siahé",
          "Cote d'Ivoire/Gbeke/Botro/Diabo/Sinzèkro",
          "Cote d'Ivoire/Gbeke/Sakassou/Djibri Assirikro/Sola-Bonikro",
          "Cote d'Ivoire/Gbeke/Sakassou/Ayaou-Sran/Sran-Belakro",
          "Cote d'Ivoire/Gbeke/Bouaké/Brobo/Takassou (Bassin de Mamini)",
          "Cote d'Ivoire/Gbeke/Bouaké/Brobo/Takassou (Bassin de Mamini.)",
          "Cote d'Ivoire/Gbeke/Bouaké/Brobo/Takassou(Bassin de Saminikro)",
          "Cote d'Ivoire/Gbeke/Bouaké/Brobo/Tanou-Broukro ( Bassin  de  Saminikro)",
          "Cote d'Ivoire/Gbeke/Bouaké/Brobo/Tanou-Broukro (Bassin de  Saminikro)",
          "Cote d'Ivoire/Gbeke/Bouaké/Brobo/Tanou-Broukro (Bassin de Saminikro)",
          "Cote d'Ivoire/Gbeke/Bouaké/Brobo/Tanou-Broukro(Bassin de Saminikro)",
          "Cote d'Ivoire/San Pedro/San-Pédro/Gabiadji/Touih",
          "Cote d'Ivoire/San Pedro/San-Pédro/Grand bereby/Wouhasso",
          "Cote d'Ivoire/Gbeke/Bouaké/Brobo/Yéguébo-Bouakro",
          "Cote d'Ivoire/Gbeke/Bouaké/Brobo/Zougban (Bassin de Saminikro)",
          "Cote d'Ivoire/Gbeke/Bouaké/Brobo/Zougban (Saminikro)",
          "Cote d'Ivoire/Gbeke/Béoumi/Ando-Kékrénou",
          "Cote d'Ivoire/Gbeke/Sakassou/Ayaou-Sran",
          "Cote d'Ivoire/Gbeke/Béoumi/Bodokro",
          "Cote d'Ivoire/Gbeke/Bouaké/Bouaké",
          "Cote d'Ivoire/Gbeke/Bouaké/Brobo",
          "Cote d'Ivoire/Gbeke/Béoumi/Béoumi",
          "Cote d'Ivoire/Gbeke/Bouaké/COMMUNE DE Bouake",
          "Cote d'Ivoire/Gbeke/Bouaké/Commune de Bouake",
          "Cote d'Ivoire/Gbeke/Bouaké/Commune de Bouaké",
          "Cote d'Ivoire/San Pedro/Tabou/DJOUROUTOU",
          "Cote d'Ivoire/Gbeke/Botro/Diabo",
          "Cote d'Ivoire/Gbeke/Sakassou/Dibri",
          "Cote d'Ivoire/Gbeke/Sakassou/Dibri Assrikro",
          "Cote d'Ivoire/Gbeke/Bouaké/Djebonoua",
          "Cote d'Ivoire/Gbeke/Sakassou/Djibri Assirikro",
          "Cote d'Ivoire/San Pedro/San-Pédro/Djihimbo",
          "Cote d'Ivoire/Gbeke/Bouaké/Djébonoua",
          "Cote d'Ivoire/San Pedro/San-Pédro/Dogbo",
          "Cote d'Ivoire/San Pedro/San-Pédro/GRAND BEREBY",
          "Cote d'Ivoire/Gbeke/San-Pédro/Gabiadji",
          "Cote d'Ivoire/San Pedro/San-Pédro/Gabiadji",
          "Cote d'Ivoire/Gbeke/San-Pédro/Gabiadji test",
          "Cote d'Ivoire/San Pedro/San-Pédro/Gnity",
          "Cote d'Ivoire/San Pedro/Tabou/Grabo",
          "Cote d'Ivoire/Gbeke/San-Pédro/Grand Bereby",
          "Cote d'Ivoire/San Pedro/San-Pédro/Grand bereby",
          "Cote d'Ivoire/Gbeke/Botro/Krofoinsou",
          "Cote d'Ivoire/Gbeke/Botro/Languibonou",
          "Cote d'Ivoire/Gbeke/Béoumi/Lolobo",
          "Cote d'Ivoire/Gbeke/Béoumi/N?guessankro",
          "Cote d'Ivoire/San Pedro/Tabou/Olodio",
          "Cote d'Ivoire/Gbeke/Sakassou/Sakassou",
          "Cote d'Ivoire/San Pedro/Tabou/Tabou",
          "Cote d'Ivoire/Gbeke/Botro",
          "Cote d'Ivoire/Gbeke/Bouaké",
          "Cote d'Ivoire/Gbeke/Béoumi",
          "Cote d'Ivoire/Gbeke/Sakassou",
          "Cote d'Ivoire/Gbeke/San-Pédro",
          "Cote d'Ivoire/San Pedro/San-Pédro",
          "Cote d'Ivoire/San Pedro/Tabou",
          "Cote d'Ivoire/Gbeke",
          "Cote d'Ivoire/San Pedro",
          "Cote d'Ivoire"
         ],
         "labels": [
          "Abouzè-kouadiokro",
          "Adjamene",
          "Adjougouansou",
          "Afotobo",
          "Ahodji(Raffierkro)",
          "Ahouzankro (Bassin  de Mamini)",
          "Ahouzankro (Bassin de Mamini)",
          "Ahouzankro Bassin de Mamini)",
          "Akadiafoué",
          "Akanzakro",
          "Akété",
          "Alloko-Sakassou",
          "Alloukro (Bassin de Mamini)",
          "Andobo-Alluibo",
          "Andokro-Kouakou",
          "Angokoun-Kpangbassou",
          "Anoufoue Bounou",
          "Assengou",
          "Assouakro",
          "Belle-Ahoukro (Akanzakro)",
          "Belle-Ahoukro 3(Akanzakro)",
          "Belle-Ahoukro(Akanzakro)",
          "Beoué",
          "Blahou",
          "Bledie",
          "Bobokro",
          "Bobokro (Bassin de Mamini)",
          "Bobokro (Mamini)",
          "Bounda",
          "Béhéké (Bassin de  Languibonou)",
          "Béhéké (Bassin de Klèmèkro)",
          "Béhéké (Bassin de Languibonou)",
          "Béhéké (Languibonou)",
          "Béhéké(Bassin de Klèmèkro)",
          "Béhéké(Bassin de Languibonou)",
          "DJOUROUTOU",
          "Debablai",
          "Diéribanou",
          "Diéribanouan",
          "Diéviessou",
          "Djihimbo",
          "Djihouloké",
          "Djikla",
          "Djourou",
          "FAHE",
          "Fahe",
          "Fahe yobouekro",
          "Fahris_Oko",
          "Fahris_Oko (Bassin de Kahankro)",
          "Fahris_Oko (Kahankro)",
          "Fahris_Oko(Bassin de Kahankro)",
          "Faye",
          "GBAROU",
          "GRAND DJOUROU",
          "Gbangbokro",
          "Gbapet",
          "Gbarou",
          "Gnity",
          "Goliblenou",
          "Gomo( Bassin Assouakro)",
          "Gomo(Bassin  de Assouakro)",
          "Grobonou  dan",
          "Grobonou dan",
          "Hannié",
          "Heremakono",
          "Hyrré",
          "Kanango Kpli",
          "Klodio",
          "Klèmèkro",
          "Klèmèkro (wandékouassikro)",
          "Koblékro",
          "Koblékro(Kongonibo)",
          "Kouadianikro",
          "Kouadianikro (Bassin de Bounda)",
          "Kouadianikro (Bounda)",
          "Kouadianikro(Bassin Bounda)",
          "Kouakou kouadiokro (Bassin de Yéguébo-Bouakro)",
          "Kouakou kouadiokro(Bassin  de Yéguébo-Bouakro)",
          "Kouakou-Bakakro",
          "Koubékro (Bassin  Mamini)",
          "Koumanbo",
          "Kpékékro (Bassin  de  Mamini)",
          "Kpékékro (Bassin de Mamini)",
          "Kpékékro (Mamini)",
          "Krofoinsou",
          "Langbabokohoun",
          "Linguébo",
          "Lokassou",
          "Lokassou (Bassin de Assengou)",
          "Lolobo",
          "MAHINO1",
          "Mahino 3",
          "Mahino1",
          "Mahino2",
          "Mahino3",
          "Mamini",
          "Mamini (Bassin de Mamini)",
          "Mandanou",
          "Mané",
          "Mossikro",
          "Mossikro Test",
          "Mossikto",
          "N?Zuégouanou",
          "N?Zègouanou",
          "N?dakro",
          "N?zikro",
          "Nouin",
          "Olodio",
          "Oueoulo",
          "Oulibio",
          "PARA",
          "Para",
          "Plateau",
          "Plibo",
          "Plongo (Bassin de  Kondoukro)",
          "Plongo (Bassin de Kondoukro)",
          "Plongo(Bassin de Djébonoua)",
          "Raffierkro",
          "Saminikro",
          "Samoïkro",
          "Seh",
          "Siahé",
          "Sinzèkro",
          "Sola-Bonikro",
          "Sran-Belakro",
          "Takassou (Bassin de Mamini)",
          "Takassou (Bassin de Mamini.)",
          "Takassou(Bassin de Saminikro)",
          "Tanou-Broukro ( Bassin  de  Saminikro)",
          "Tanou-Broukro (Bassin de  Saminikro)",
          "Tanou-Broukro (Bassin de Saminikro)",
          "Tanou-Broukro(Bassin de Saminikro)",
          "Touih",
          "Wouhasso",
          "Yéguébo-Bouakro",
          "Zougban (Bassin de Saminikro)",
          "Zougban (Saminikro)",
          "Ando-Kékrénou",
          "Ayaou-Sran",
          "Bodokro",
          "Bouaké",
          "Brobo",
          "Béoumi",
          "COMMUNE DE Bouake",
          "Commune de Bouake",
          "Commune de Bouaké",
          "DJOUROUTOU",
          "Diabo",
          "Dibri",
          "Dibri Assrikro",
          "Djebonoua",
          "Djibri Assirikro",
          "Djihimbo",
          "Djébonoua",
          "Dogbo",
          "GRAND BEREBY",
          "Gabiadji",
          "Gabiadji",
          "Gabiadji test",
          "Gnity",
          "Grabo",
          "Grand Bereby",
          "Grand bereby",
          "Krofoinsou",
          "Languibonou",
          "Lolobo",
          "N?guessankro",
          "Olodio",
          "Sakassou",
          "Tabou",
          "Botro",
          "Bouaké",
          "Béoumi",
          "Sakassou",
          "San-Pédro",
          "San-Pédro",
          "Tabou",
          "Gbeke",
          "San Pedro",
          "Cote d'Ivoire"
         ],
         "name": "",
         "parents": [
          "Cote d'Ivoire/Gbeke/Béoumi/Lolobo",
          "Cote d'Ivoire/San Pedro/San-Pédro/Grand bereby",
          "Cote d'Ivoire/Gbeke/Sakassou/Djibri Assirikro",
          "Cote d'Ivoire/Gbeke/Béoumi/Béoumi",
          "Cote d'Ivoire/Gbeke/Bouaké/Commune de Bouaké",
          "Cote d'Ivoire/Gbeke/Bouaké/Brobo",
          "Cote d'Ivoire/Gbeke/Bouaké/Brobo",
          "Cote d'Ivoire/Gbeke/Bouaké/Brobo",
          "Cote d'Ivoire/Gbeke/Béoumi/Béoumi",
          "Cote d'Ivoire/Gbeke/Bouaké/Bouaké",
          "Cote d'Ivoire/Gbeke/Sakassou/Sakassou",
          "Cote d'Ivoire/Gbeke/Béoumi/Lolobo",
          "Cote d'Ivoire/Gbeke/Bouaké/Brobo",
          "Cote d'Ivoire/Gbeke/Sakassou/Sakassou",
          "Cote d'Ivoire/Gbeke/Botro/Languibonou",
          "Cote d'Ivoire/Gbeke/Botro/Languibonou",
          "Cote d'Ivoire/Gbeke/Sakassou/Sakassou",
          "Cote d'Ivoire/Gbeke/Bouaké/Djebonoua",
          "Cote d'Ivoire/Gbeke/Bouaké/Djébonoua",
          "Cote d'Ivoire/Gbeke/Sakassou/Dibri",
          "Cote d'Ivoire/Gbeke/Sakassou/Dibri Assrikro",
          "Cote d'Ivoire/Gbeke/Sakassou/Dibri Assrikro",
          "Cote d'Ivoire/San Pedro/Tabou/DJOUROUTOU",
          "Cote d'Ivoire/San Pedro/San-Pédro/Gabiadji",
          "Cote d'Ivoire/San Pedro/San-Pédro/Dogbo",
          "Cote d'Ivoire/Gbeke/Bouaké/Brobo",
          "Cote d'Ivoire/Gbeke/Bouaké/Brobo",
          "Cote d'Ivoire/Gbeke/Bouaké/Brobo",
          "Cote d'Ivoire/Gbeke/Bouaké/Brobo",
          "Cote d'Ivoire/Gbeke/Botro/Languibonou",
          "Cote d'Ivoire/Gbeke/Botro/Languibonou",
          "Cote d'Ivoire/Gbeke/Botro/Languibonou",
          "Cote d'Ivoire/Gbeke/Botro/Languibonou",
          "Cote d'Ivoire/Gbeke/Botro/Languibonou",
          "Cote d'Ivoire/Gbeke/Botro/Languibonou",
          "Cote d'Ivoire/San Pedro/Tabou/DJOUROUTOU",
          "Cote d'Ivoire/San Pedro/Tabou/Grabo",
          "Cote d'Ivoire/Gbeke/Béoumi/Lolobo",
          "Cote d'Ivoire/Gbeke/Béoumi/Lolobo",
          "Cote d'Ivoire/Gbeke/Béoumi/Béoumi",
          "Cote d'Ivoire/San Pedro/San-Pédro/Djihimbo",
          "Cote d'Ivoire/San Pedro/Tabou/Tabou",
          "Cote d'Ivoire/San Pedro/San-Pédro/Grand bereby",
          "Cote d'Ivoire/San Pedro/San-Pédro/Grand bereby",
          "Cote d'Ivoire/Gbeke/San-Pédro/Gabiadji",
          "Cote d'Ivoire/San Pedro/San-Pédro/Gabiadji",
          "Cote d'Ivoire/San Pedro/San-Pédro/Gabiadji",
          "Cote d'Ivoire/Gbeke/Bouaké/Commune de Bouaké",
          "Cote d'Ivoire/Gbeke/Bouaké/Commune de Bouake",
          "Cote d'Ivoire/Gbeke/Bouaké/Commune de Bouaké",
          "Cote d'Ivoire/Gbeke/Bouaké/Commune de Bouake",
          "Cote d'Ivoire/Gbeke/San-Pédro/Gabiadji test",
          "Cote d'Ivoire/San Pedro/Tabou/DJOUROUTOU",
          "Cote d'Ivoire/San Pedro/San-Pédro/GRAND BEREBY",
          "Cote d'Ivoire/San Pedro/San-Pédro/Gnity",
          "Cote d'Ivoire/San Pedro/Tabou/Grabo",
          "Cote d'Ivoire/San Pedro/Tabou/DJOUROUTOU",
          "Cote d'Ivoire/San Pedro/San-Pédro/Gabiadji",
          "Cote d'Ivoire/Gbeke/Sakassou/Sakassou",
          "Cote d'Ivoire/Gbeke/Bouaké/Djébonoua",
          "Cote d'Ivoire/Gbeke/Bouaké/Djébonoua",
          "Cote d'Ivoire/San Pedro/San-Pédro/Gabiadji",
          "Cote d'Ivoire/San Pedro/San-Pédro/Gabiadji",
          "Cote d'Ivoire/San Pedro/Tabou/DJOUROUTOU",
          "Cote d'Ivoire/San Pedro/San-Pédro/Dogbo",
          "Cote d'Ivoire/San Pedro/Tabou/Tabou",
          "Cote d'Ivoire/Gbeke/Sakassou/Sakassou",
          "Cote d'Ivoire/San Pedro/Tabou/Olodio",
          "Cote d'Ivoire/Gbeke/Botro/Languibonou",
          "Cote d'Ivoire/Gbeke/Botro/Languibonou",
          "Cote d'Ivoire/Gbeke/Bouaké/Commune de Bouaké",
          "Cote d'Ivoire/Gbeke/Bouaké/Commune de Bouaké",
          "Cote d'Ivoire/Gbeke/Bouaké/Brobo",
          "Cote d'Ivoire/Gbeke/Bouaké/Brobo",
          "Cote d'Ivoire/Gbeke/Bouaké/Brobo",
          "Cote d'Ivoire/Gbeke/Bouaké/Brobo",
          "Cote d'Ivoire/Gbeke/Bouaké/Brobo",
          "Cote d'Ivoire/Gbeke/Bouaké/Brobo",
          "Cote d'Ivoire/Gbeke/Béoumi/Bodokro",
          "Cote d'Ivoire/Gbeke/Bouaké/Brobo",
          "Cote d'Ivoire/Gbeke/Béoumi/Béoumi",
          "Cote d'Ivoire/Gbeke/Bouaké/Brobo",
          "Cote d'Ivoire/Gbeke/Bouaké/Brobo",
          "Cote d'Ivoire/Gbeke/Bouaké/Brobo",
          "Cote d'Ivoire/Gbeke/Botro/Krofoinsou",
          "Cote d'Ivoire/Gbeke/Bouaké/Brobo",
          "Cote d'Ivoire/Gbeke/Béoumi/Ando-Kékrénou",
          "Cote d'Ivoire/Gbeke/Bouaké/Djebonoua",
          "Cote d'Ivoire/Gbeke/Bouaké/Djébonoua",
          "Cote d'Ivoire/Gbeke/Béoumi/Lolobo",
          "Cote d'Ivoire/San Pedro/Tabou/DJOUROUTOU",
          "Cote d'Ivoire/San Pedro/Tabou/DJOUROUTOU",
          "Cote d'Ivoire/San Pedro/Tabou/DJOUROUTOU",
          "Cote d'Ivoire/San Pedro/Tabou/DJOUROUTOU",
          "Cote d'Ivoire/San Pedro/Tabou/DJOUROUTOU",
          "Cote d'Ivoire/Gbeke/Bouaké/Brobo",
          "Cote d'Ivoire/Gbeke/Bouaké/Brobo",
          "Cote d'Ivoire/Gbeke/Béoumi/Ando-Kékrénou",
          "Cote d'Ivoire/San Pedro/Tabou/Tabou",
          "Cote d'Ivoire/San Pedro/San-Pédro/Grand bereby",
          "Cote d'Ivoire/San Pedro/San-Pédro/GRAND BEREBY",
          "Cote d'Ivoire/Gbeke/San-Pédro/Grand Bereby",
          "Cote d'Ivoire/Gbeke/Béoumi/Lolobo",
          "Cote d'Ivoire/Gbeke/Béoumi/Lolobo",
          "Cote d'Ivoire/Gbeke/Béoumi/Bodokro",
          "Cote d'Ivoire/Gbeke/Botro/Krofoinsou",
          "Cote d'Ivoire/San Pedro/Tabou/Grabo",
          "Cote d'Ivoire/San Pedro/Tabou/Olodio",
          "Cote d'Ivoire/San Pedro/San-Pédro/Grand bereby",
          "Cote d'Ivoire/San Pedro/San-Pédro/Grand bereby",
          "Cote d'Ivoire/San Pedro/Tabou/DJOUROUTOU",
          "Cote d'Ivoire/San Pedro/Tabou/DJOUROUTOU",
          "Cote d'Ivoire/San Pedro/Tabou/DJOUROUTOU",
          "Cote d'Ivoire/Gbeke/Béoumi/N?guessankro",
          "Cote d'Ivoire/Gbeke/Bouaké/Djébonoua",
          "Cote d'Ivoire/Gbeke/Bouaké/Djébonoua",
          "Cote d'Ivoire/Gbeke/Bouaké/Djébonoua",
          "Cote d'Ivoire/Gbeke/Bouaké/COMMUNE DE Bouake",
          "Cote d'Ivoire/Gbeke/Bouaké/Brobo",
          "Cote d'Ivoire/Gbeke/Béoumi/Lolobo",
          "Cote d'Ivoire/San Pedro/Tabou/Olodio",
          "Cote d'Ivoire/San Pedro/Tabou/Grabo",
          "Cote d'Ivoire/Gbeke/Botro/Diabo",
          "Cote d'Ivoire/Gbeke/Sakassou/Djibri Assirikro",
          "Cote d'Ivoire/Gbeke/Sakassou/Ayaou-Sran",
          "Cote d'Ivoire/Gbeke/Bouaké/Brobo",
          "Cote d'Ivoire/Gbeke/Bouaké/Brobo",
          "Cote d'Ivoire/Gbeke/Bouaké/Brobo",
          "Cote d'Ivoire/Gbeke/Bouaké/Brobo",
          "Cote d'Ivoire/Gbeke/Bouaké/Brobo",
          "Cote d'Ivoire/Gbeke/Bouaké/Brobo",
          "Cote d'Ivoire/Gbeke/Bouaké/Brobo",
          "Cote d'Ivoire/San Pedro/San-Pédro/Gabiadji",
          "Cote d'Ivoire/San Pedro/San-Pédro/Grand bereby",
          "Cote d'Ivoire/Gbeke/Bouaké/Brobo",
          "Cote d'Ivoire/Gbeke/Bouaké/Brobo",
          "Cote d'Ivoire/Gbeke/Bouaké/Brobo",
          "Cote d'Ivoire/Gbeke/Béoumi",
          "Cote d'Ivoire/Gbeke/Sakassou",
          "Cote d'Ivoire/Gbeke/Béoumi",
          "Cote d'Ivoire/Gbeke/Bouaké",
          "Cote d'Ivoire/Gbeke/Bouaké",
          "Cote d'Ivoire/Gbeke/Béoumi",
          "Cote d'Ivoire/Gbeke/Bouaké",
          "Cote d'Ivoire/Gbeke/Bouaké",
          "Cote d'Ivoire/Gbeke/Bouaké",
          "Cote d'Ivoire/San Pedro/Tabou",
          "Cote d'Ivoire/Gbeke/Botro",
          "Cote d'Ivoire/Gbeke/Sakassou",
          "Cote d'Ivoire/Gbeke/Sakassou",
          "Cote d'Ivoire/Gbeke/Bouaké",
          "Cote d'Ivoire/Gbeke/Sakassou",
          "Cote d'Ivoire/San Pedro/San-Pédro",
          "Cote d'Ivoire/Gbeke/Bouaké",
          "Cote d'Ivoire/San Pedro/San-Pédro",
          "Cote d'Ivoire/San Pedro/San-Pédro",
          "Cote d'Ivoire/Gbeke/San-Pédro",
          "Cote d'Ivoire/San Pedro/San-Pédro",
          "Cote d'Ivoire/Gbeke/San-Pédro",
          "Cote d'Ivoire/San Pedro/San-Pédro",
          "Cote d'Ivoire/San Pedro/Tabou",
          "Cote d'Ivoire/Gbeke/San-Pédro",
          "Cote d'Ivoire/San Pedro/San-Pédro",
          "Cote d'Ivoire/Gbeke/Botro",
          "Cote d'Ivoire/Gbeke/Botro",
          "Cote d'Ivoire/Gbeke/Béoumi",
          "Cote d'Ivoire/Gbeke/Béoumi",
          "Cote d'Ivoire/San Pedro/Tabou",
          "Cote d'Ivoire/Gbeke/Sakassou",
          "Cote d'Ivoire/San Pedro/Tabou",
          "Cote d'Ivoire/Gbeke",
          "Cote d'Ivoire/Gbeke",
          "Cote d'Ivoire/Gbeke",
          "Cote d'Ivoire/Gbeke",
          "Cote d'Ivoire/Gbeke",
          "Cote d'Ivoire/San Pedro",
          "Cote d'Ivoire/San Pedro",
          "Cote d'Ivoire",
          "Cote d'Ivoire",
          ""
         ],
         "type": "treemap",
         "values": [
          1,
          13,
          18,
          9,
          1,
          1,
          3,
          1,
          7,
          8,
          12,
          5,
          2,
          12,
          29,
          38,
          1,
          1,
          4,
          1,
          1,
          1,
          5,
          5,
          17,
          1,
          1,
          1,
          4,
          1,
          3,
          2,
          1,
          2,
          2,
          12,
          6,
          1,
          3,
          13,
          5,
          1,
          3,
          1,
          1,
          7,
          1,
          1,
          1,
          1,
          1,
          1,
          1,
          1,
          1,
          8,
          2,
          10,
          9,
          1,
          1,
          1,
          11,
          18,
          12,
          1,
          2,
          1,
          2,
          1,
          2,
          1,
          1,
          1,
          1,
          1,
          1,
          1,
          3,
          1,
          13,
          1,
          9,
          4,
          5,
          1,
          3,
          3,
          2,
          1,
          1,
          3,
          13,
          1,
          4,
          1,
          2,
          6,
          2,
          1,
          1,
          1,
          2,
          2,
          13,
          2,
          2,
          5,
          9,
          1,
          7,
          5,
          1,
          6,
          1,
          1,
          1,
          3,
          4,
          5,
          1,
          4,
          2,
          11,
          9,
          1,
          1,
          2,
          1,
          1,
          2,
          1,
          1,
          6,
          3,
          5,
          1,
          9,
          9,
          16,
          8,
          61,
          42,
          3,
          2,
          6,
          73,
          2,
          1,
          2,
          4,
          29,
          5,
          11,
          29,
          2,
          1,
          36,
          1,
          1,
          20,
          1,
          34,
          7,
          81,
          20,
          6,
          7,
          36,
          4,
          90,
          95,
          93,
          77,
          3,
          107,
          104,
          358,
          211,
          569
         ]
        }
       ],
       "layout": {
        "legend": {
         "tracegroupgap": 0
        },
        "margin": {
         "t": 60
        },
        "template": {
         "data": {
          "bar": [
           {
            "error_x": {
             "color": "#2a3f5f"
            },
            "error_y": {
             "color": "#2a3f5f"
            },
            "marker": {
             "line": {
              "color": "#E5ECF6",
              "width": 0.5
             },
             "pattern": {
              "fillmode": "overlay",
              "size": 10,
              "solidity": 0.2
             }
            },
            "type": "bar"
           }
          ],
          "barpolar": [
           {
            "marker": {
             "line": {
              "color": "#E5ECF6",
              "width": 0.5
             },
             "pattern": {
              "fillmode": "overlay",
              "size": 10,
              "solidity": 0.2
             }
            },
            "type": "barpolar"
           }
          ],
          "carpet": [
           {
            "aaxis": {
             "endlinecolor": "#2a3f5f",
             "gridcolor": "white",
             "linecolor": "white",
             "minorgridcolor": "white",
             "startlinecolor": "#2a3f5f"
            },
            "baxis": {
             "endlinecolor": "#2a3f5f",
             "gridcolor": "white",
             "linecolor": "white",
             "minorgridcolor": "white",
             "startlinecolor": "#2a3f5f"
            },
            "type": "carpet"
           }
          ],
          "choropleth": [
           {
            "colorbar": {
             "outlinewidth": 0,
             "ticks": ""
            },
            "type": "choropleth"
           }
          ],
          "contour": [
           {
            "colorbar": {
             "outlinewidth": 0,
             "ticks": ""
            },
            "colorscale": [
             [
              0,
              "#0d0887"
             ],
             [
              0.1111111111111111,
              "#46039f"
             ],
             [
              0.2222222222222222,
              "#7201a8"
             ],
             [
              0.3333333333333333,
              "#9c179e"
             ],
             [
              0.4444444444444444,
              "#bd3786"
             ],
             [
              0.5555555555555556,
              "#d8576b"
             ],
             [
              0.6666666666666666,
              "#ed7953"
             ],
             [
              0.7777777777777778,
              "#fb9f3a"
             ],
             [
              0.8888888888888888,
              "#fdca26"
             ],
             [
              1,
              "#f0f921"
             ]
            ],
            "type": "contour"
           }
          ],
          "contourcarpet": [
           {
            "colorbar": {
             "outlinewidth": 0,
             "ticks": ""
            },
            "type": "contourcarpet"
           }
          ],
          "heatmap": [
           {
            "colorbar": {
             "outlinewidth": 0,
             "ticks": ""
            },
            "colorscale": [
             [
              0,
              "#0d0887"
             ],
             [
              0.1111111111111111,
              "#46039f"
             ],
             [
              0.2222222222222222,
              "#7201a8"
             ],
             [
              0.3333333333333333,
              "#9c179e"
             ],
             [
              0.4444444444444444,
              "#bd3786"
             ],
             [
              0.5555555555555556,
              "#d8576b"
             ],
             [
              0.6666666666666666,
              "#ed7953"
             ],
             [
              0.7777777777777778,
              "#fb9f3a"
             ],
             [
              0.8888888888888888,
              "#fdca26"
             ],
             [
              1,
              "#f0f921"
             ]
            ],
            "type": "heatmap"
           }
          ],
          "heatmapgl": [
           {
            "colorbar": {
             "outlinewidth": 0,
             "ticks": ""
            },
            "colorscale": [
             [
              0,
              "#0d0887"
             ],
             [
              0.1111111111111111,
              "#46039f"
             ],
             [
              0.2222222222222222,
              "#7201a8"
             ],
             [
              0.3333333333333333,
              "#9c179e"
             ],
             [
              0.4444444444444444,
              "#bd3786"
             ],
             [
              0.5555555555555556,
              "#d8576b"
             ],
             [
              0.6666666666666666,
              "#ed7953"
             ],
             [
              0.7777777777777778,
              "#fb9f3a"
             ],
             [
              0.8888888888888888,
              "#fdca26"
             ],
             [
              1,
              "#f0f921"
             ]
            ],
            "type": "heatmapgl"
           }
          ],
          "histogram": [
           {
            "marker": {
             "pattern": {
              "fillmode": "overlay",
              "size": 10,
              "solidity": 0.2
             }
            },
            "type": "histogram"
           }
          ],
          "histogram2d": [
           {
            "colorbar": {
             "outlinewidth": 0,
             "ticks": ""
            },
            "colorscale": [
             [
              0,
              "#0d0887"
             ],
             [
              0.1111111111111111,
              "#46039f"
             ],
             [
              0.2222222222222222,
              "#7201a8"
             ],
             [
              0.3333333333333333,
              "#9c179e"
             ],
             [
              0.4444444444444444,
              "#bd3786"
             ],
             [
              0.5555555555555556,
              "#d8576b"
             ],
             [
              0.6666666666666666,
              "#ed7953"
             ],
             [
              0.7777777777777778,
              "#fb9f3a"
             ],
             [
              0.8888888888888888,
              "#fdca26"
             ],
             [
              1,
              "#f0f921"
             ]
            ],
            "type": "histogram2d"
           }
          ],
          "histogram2dcontour": [
           {
            "colorbar": {
             "outlinewidth": 0,
             "ticks": ""
            },
            "colorscale": [
             [
              0,
              "#0d0887"
             ],
             [
              0.1111111111111111,
              "#46039f"
             ],
             [
              0.2222222222222222,
              "#7201a8"
             ],
             [
              0.3333333333333333,
              "#9c179e"
             ],
             [
              0.4444444444444444,
              "#bd3786"
             ],
             [
              0.5555555555555556,
              "#d8576b"
             ],
             [
              0.6666666666666666,
              "#ed7953"
             ],
             [
              0.7777777777777778,
              "#fb9f3a"
             ],
             [
              0.8888888888888888,
              "#fdca26"
             ],
             [
              1,
              "#f0f921"
             ]
            ],
            "type": "histogram2dcontour"
           }
          ],
          "mesh3d": [
           {
            "colorbar": {
             "outlinewidth": 0,
             "ticks": ""
            },
            "type": "mesh3d"
           }
          ],
          "parcoords": [
           {
            "line": {
             "colorbar": {
              "outlinewidth": 0,
              "ticks": ""
             }
            },
            "type": "parcoords"
           }
          ],
          "pie": [
           {
            "automargin": true,
            "type": "pie"
           }
          ],
          "scatter": [
           {
            "fillpattern": {
             "fillmode": "overlay",
             "size": 10,
             "solidity": 0.2
            },
            "type": "scatter"
           }
          ],
          "scatter3d": [
           {
            "line": {
             "colorbar": {
              "outlinewidth": 0,
              "ticks": ""
             }
            },
            "marker": {
             "colorbar": {
              "outlinewidth": 0,
              "ticks": ""
             }
            },
            "type": "scatter3d"
           }
          ],
          "scattercarpet": [
           {
            "marker": {
             "colorbar": {
              "outlinewidth": 0,
              "ticks": ""
             }
            },
            "type": "scattercarpet"
           }
          ],
          "scattergeo": [
           {
            "marker": {
             "colorbar": {
              "outlinewidth": 0,
              "ticks": ""
             }
            },
            "type": "scattergeo"
           }
          ],
          "scattergl": [
           {
            "marker": {
             "colorbar": {
              "outlinewidth": 0,
              "ticks": ""
             }
            },
            "type": "scattergl"
           }
          ],
          "scattermapbox": [
           {
            "marker": {
             "colorbar": {
              "outlinewidth": 0,
              "ticks": ""
             }
            },
            "type": "scattermapbox"
           }
          ],
          "scatterpolar": [
           {
            "marker": {
             "colorbar": {
              "outlinewidth": 0,
              "ticks": ""
             }
            },
            "type": "scatterpolar"
           }
          ],
          "scatterpolargl": [
           {
            "marker": {
             "colorbar": {
              "outlinewidth": 0,
              "ticks": ""
             }
            },
            "type": "scatterpolargl"
           }
          ],
          "scatterternary": [
           {
            "marker": {
             "colorbar": {
              "outlinewidth": 0,
              "ticks": ""
             }
            },
            "type": "scatterternary"
           }
          ],
          "surface": [
           {
            "colorbar": {
             "outlinewidth": 0,
             "ticks": ""
            },
            "colorscale": [
             [
              0,
              "#0d0887"
             ],
             [
              0.1111111111111111,
              "#46039f"
             ],
             [
              0.2222222222222222,
              "#7201a8"
             ],
             [
              0.3333333333333333,
              "#9c179e"
             ],
             [
              0.4444444444444444,
              "#bd3786"
             ],
             [
              0.5555555555555556,
              "#d8576b"
             ],
             [
              0.6666666666666666,
              "#ed7953"
             ],
             [
              0.7777777777777778,
              "#fb9f3a"
             ],
             [
              0.8888888888888888,
              "#fdca26"
             ],
             [
              1,
              "#f0f921"
             ]
            ],
            "type": "surface"
           }
          ],
          "table": [
           {
            "cells": {
             "fill": {
              "color": "#EBF0F8"
             },
             "line": {
              "color": "white"
             }
            },
            "header": {
             "fill": {
              "color": "#C8D4E3"
             },
             "line": {
              "color": "white"
             }
            },
            "type": "table"
           }
          ]
         },
         "layout": {
          "annotationdefaults": {
           "arrowcolor": "#2a3f5f",
           "arrowhead": 0,
           "arrowwidth": 1
          },
          "autotypenumbers": "strict",
          "coloraxis": {
           "colorbar": {
            "outlinewidth": 0,
            "ticks": ""
           }
          },
          "colorscale": {
           "diverging": [
            [
             0,
             "#8e0152"
            ],
            [
             0.1,
             "#c51b7d"
            ],
            [
             0.2,
             "#de77ae"
            ],
            [
             0.3,
             "#f1b6da"
            ],
            [
             0.4,
             "#fde0ef"
            ],
            [
             0.5,
             "#f7f7f7"
            ],
            [
             0.6,
             "#e6f5d0"
            ],
            [
             0.7,
             "#b8e186"
            ],
            [
             0.8,
             "#7fbc41"
            ],
            [
             0.9,
             "#4d9221"
            ],
            [
             1,
             "#276419"
            ]
           ],
           "sequential": [
            [
             0,
             "#0d0887"
            ],
            [
             0.1111111111111111,
             "#46039f"
            ],
            [
             0.2222222222222222,
             "#7201a8"
            ],
            [
             0.3333333333333333,
             "#9c179e"
            ],
            [
             0.4444444444444444,
             "#bd3786"
            ],
            [
             0.5555555555555556,
             "#d8576b"
            ],
            [
             0.6666666666666666,
             "#ed7953"
            ],
            [
             0.7777777777777778,
             "#fb9f3a"
            ],
            [
             0.8888888888888888,
             "#fdca26"
            ],
            [
             1,
             "#f0f921"
            ]
           ],
           "sequentialminus": [
            [
             0,
             "#0d0887"
            ],
            [
             0.1111111111111111,
             "#46039f"
            ],
            [
             0.2222222222222222,
             "#7201a8"
            ],
            [
             0.3333333333333333,
             "#9c179e"
            ],
            [
             0.4444444444444444,
             "#bd3786"
            ],
            [
             0.5555555555555556,
             "#d8576b"
            ],
            [
             0.6666666666666666,
             "#ed7953"
            ],
            [
             0.7777777777777778,
             "#fb9f3a"
            ],
            [
             0.8888888888888888,
             "#fdca26"
            ],
            [
             1,
             "#f0f921"
            ]
           ]
          },
          "colorway": [
           "#636efa",
           "#EF553B",
           "#00cc96",
           "#ab63fa",
           "#FFA15A",
           "#19d3f3",
           "#FF6692",
           "#B6E880",
           "#FF97FF",
           "#FECB52"
          ],
          "font": {
           "color": "#2a3f5f"
          },
          "geo": {
           "bgcolor": "white",
           "lakecolor": "white",
           "landcolor": "#E5ECF6",
           "showlakes": true,
           "showland": true,
           "subunitcolor": "white"
          },
          "hoverlabel": {
           "align": "left"
          },
          "hovermode": "closest",
          "mapbox": {
           "style": "light"
          },
          "paper_bgcolor": "white",
          "plot_bgcolor": "#E5ECF6",
          "polar": {
           "angularaxis": {
            "gridcolor": "white",
            "linecolor": "white",
            "ticks": ""
           },
           "bgcolor": "#E5ECF6",
           "radialaxis": {
            "gridcolor": "white",
            "linecolor": "white",
            "ticks": ""
           }
          },
          "scene": {
           "xaxis": {
            "backgroundcolor": "#E5ECF6",
            "gridcolor": "white",
            "gridwidth": 2,
            "linecolor": "white",
            "showbackground": true,
            "ticks": "",
            "zerolinecolor": "white"
           },
           "yaxis": {
            "backgroundcolor": "#E5ECF6",
            "gridcolor": "white",
            "gridwidth": 2,
            "linecolor": "white",
            "showbackground": true,
            "ticks": "",
            "zerolinecolor": "white"
           },
           "zaxis": {
            "backgroundcolor": "#E5ECF6",
            "gridcolor": "white",
            "gridwidth": 2,
            "linecolor": "white",
            "showbackground": true,
            "ticks": "",
            "zerolinecolor": "white"
           }
          },
          "shapedefaults": {
           "line": {
            "color": "#2a3f5f"
           }
          },
          "ternary": {
           "aaxis": {
            "gridcolor": "white",
            "linecolor": "white",
            "ticks": ""
           },
           "baxis": {
            "gridcolor": "white",
            "linecolor": "white",
            "ticks": ""
           },
           "bgcolor": "#E5ECF6",
           "caxis": {
            "gridcolor": "white",
            "linecolor": "white",
            "ticks": ""
           }
          },
          "title": {
           "x": 0.05
          },
          "xaxis": {
           "automargin": true,
           "gridcolor": "white",
           "linecolor": "white",
           "ticks": "",
           "title": {
            "standoff": 15
           },
           "zerolinecolor": "white",
           "zerolinewidth": 2
          },
          "yaxis": {
           "automargin": true,
           "gridcolor": "white",
           "linecolor": "white",
           "ticks": "",
           "title": {
            "standoff": 15
           },
           "zerolinecolor": "white",
           "zerolinewidth": 2
          }
         }
        },
        "treemapcolorway": [
         "#FF8200",
         "#009A44"
        ]
       }
      }
     },
     "metadata": {},
     "output_type": "display_data"
    }
   ],
   "source": [
    "# Make a treemap in plotly express to show the distribution of assessments by level 1 government, level 2 government, level 3 government, and level 4 government\n",
    "fig = px.treemap(villages, path=[px.Constant(\"Cote d'Ivoire\"), 'Level 1 Government', 'Level 2 Government', 'Level 3 Government', 'Level 4 Government'], values='Count')\n",
    "# change colors to be FF8200 and 009A44\n",
    "# fig.update_traces(marker=dict(colors=['#FF8200', '#009A44']))\n",
    "fig.update_layout(\n",
    "    treemapcolorway = [\"#FF8200\", \"#009A44\"],\n",
    "    # margin = dict(t=50, l=25, r=25, b=25)\n",
    ")\n",
    "fig.show()\n",
    "# export to html\n",
    "fig.write_html(\"./home/charts/sites_villages.html\")\n",
    "# write to png\n",
    "fig.write_image(\"./home/charts/sites_villages.png\")\n"
   ]
  },
  {
   "cell_type": "code",
   "execution_count": 10,
   "metadata": {},
   "outputs": [],
   "source": [
    "# write villages to csv\n",
    "villages.to_csv('./home/charts/sites_villages.csv', encoding='iso-8859-1')"
   ]
  },
  {
   "cell_type": "code",
   "execution_count": 11,
   "metadata": {},
   "outputs": [],
   "source": [
    "def make_treemap(df, chartfilename, sheetfilename):\n",
    "\n",
    "    tempdf = pd.DataFrame(df['Level 4 Government'].value_counts())\n",
    "    tempdf = tempdf.reset_index()\n",
    "    tempdf.columns = ['Level 4 Government', 'Count']\n",
    "    # for each value in villages level 4 government, find the corresponding value in the assessment level 4 government column and add the corresponding value in the \"level 3 government\" column as a new column in the villages dataframe\n",
    "    for i in range(len(tempdf)):\n",
    "        tempdf.loc[i, 'Level 3 Government'] = df.loc[df['Level 4 Government'] == tempdf.loc[i, 'Level 4 Government'], 'Level 3 Government'].iloc[0]\n",
    "        tempdf.loc[i, 'Level 2 Government'] = df.loc[df['Level 4 Government'] == tempdf.loc[i, 'Level 4 Government'], 'Level 2 Government'].iloc[0]\n",
    "        tempdf.loc[i, 'Level 1 Government'] = df.loc[df['Level 4 Government'] == tempdf.loc[i, 'Level 4 Government'], 'Level 1 Government'].iloc[0]\n",
    "\n",
    "    # Make a treemap in plotly express to show the distribution of assessments by level 1 government, level 2 government, level 3 government, and level 4 government\n",
    "    fig = px.treemap(tempdf, path=[px.Constant(\"Cote d'Ivoire\"), 'Level 1 Government', 'Level 2 Government', 'Level 3 Government', 'Level 4 Government'], values='Count')\n",
    "    # change colors to be FF8200 and 009A44\n",
    "    # fig.update_traces(marker=dict(colors=['#FF8200', '#009A44']))\n",
    "    fig.update_layout(\n",
    "        treemapcolorway = [\"#FF8200\", \"#009A44\"]\n",
    "        )\n",
    "    fig.show()\n",
    "    # export to html\n",
    "    fig.write_html(chartfilename)\n",
    "    tempdf.to_csv(sheetfilename, encoding='iso-8859-1')\n",
    "    fig.write_image(chartfilename[:-5]+\".png\")"
   ]
  },
  {
   "cell_type": "code",
   "execution_count": 12,
   "metadata": {},
   "outputs": [
    {
     "data": {
      "application/vnd.plotly.v1+json": {
       "config": {
        "plotlyServerURL": "https://plot.ly"
       },
       "data": [
        {
         "branchvalues": "total",
         "domain": {
          "x": [
           0,
           1
          ],
          "y": [
           0,
           1
          ]
         },
         "hovertemplate": "labels=%{label}<br>Count=%{value}<br>parent=%{parent}<br>id=%{id}<extra></extra>",
         "ids": [
          "Cote d'Ivoire/Gbeke/Béoumi/Lolobo/Abouzè-kouadiokro",
          "Cote d'Ivoire/San Pedro/San-Pédro/Grand bereby/Adjamene",
          "Cote d'Ivoire/Gbeke/Sakassou/Djibri Assirikro/Adjougouansou",
          "Cote d'Ivoire/Gbeke/Béoumi/Béoumi/Afotobo",
          "Cote d'Ivoire/Gbeke/Bouaké/Commune de Bouaké/Ahodji(Raffierkro)",
          "Cote d'Ivoire/Gbeke/Béoumi/Béoumi/Akadiafoué",
          "Cote d'Ivoire/Gbeke/Bouaké/Bouaké/Akanzakro",
          "Cote d'Ivoire/Gbeke/Botro/Languibonou/Andokro-Kouakou",
          "Cote d'Ivoire/Gbeke/Botro/Languibonou/Angokoun-Kpangbassou",
          "Cote d'Ivoire/Gbeke/Bouaké/Djébonoua/Assouakro",
          "Cote d'Ivoire/San Pedro/Tabou/DJOUROUTOU/Beoué",
          "Cote d'Ivoire/San Pedro/San-Pédro/Gabiadji/Blahou",
          "Cote d'Ivoire/San Pedro/San-Pédro/Dogbo/Bledie",
          "Cote d'Ivoire/Gbeke/Bouaké/Brobo/Bounda",
          "Cote d'Ivoire/San Pedro/Tabou/DJOUROUTOU/DJOUROUTOU",
          "Cote d'Ivoire/San Pedro/Tabou/Grabo/Debablai",
          "Cote d'Ivoire/Gbeke/Béoumi/Béoumi/Diéviessou",
          "Cote d'Ivoire/San Pedro/San-Pédro/Djihimbo/Djihimbo",
          "Cote d'Ivoire/San Pedro/Tabou/Tabou/Djihouloké",
          "Cote d'Ivoire/San Pedro/San-Pédro/Grand bereby/Djikla",
          "Cote d'Ivoire/San Pedro/San-Pédro/Grand bereby/Djourou",
          "Cote d'Ivoire/San Pedro/San-Pédro/Gabiadji/Fahe",
          "Cote d'Ivoire/Gbeke/Bouaké/Commune de Bouaké/Fahris_Oko",
          "Cote d'Ivoire/Gbeke/Bouaké/Commune de Bouake/Fahris_Oko (Bassin de Kahankro)",
          "Cote d'Ivoire/Gbeke/Bouaké/Commune de Bouake/Fahris_Oko(Bassin de Kahankro)",
          "Cote d'Ivoire/San Pedro/San-Pédro/Gnity/Gbangbokro",
          "Cote d'Ivoire/San Pedro/Tabou/Grabo/Gbapet",
          "Cote d'Ivoire/San Pedro/Tabou/DJOUROUTOU/Gbarou",
          "Cote d'Ivoire/San Pedro/San-Pédro/Gabiadji/Gnity",
          "Cote d'Ivoire/Gbeke/Sakassou/Sakassou/Goliblenou",
          "Cote d'Ivoire/Gbeke/Bouaké/Djébonoua/Gomo( Bassin Assouakro)",
          "Cote d'Ivoire/Gbeke/Bouaké/Djébonoua/Gomo(Bassin  de Assouakro)",
          "Cote d'Ivoire/San Pedro/San-Pédro/Gabiadji/Grobonou dan",
          "Cote d'Ivoire/San Pedro/Tabou/DJOUROUTOU/Hannié",
          "Cote d'Ivoire/San Pedro/San-Pédro/Dogbo/Heremakono",
          "Cote d'Ivoire/San Pedro/Tabou/Tabou/Hyrré",
          "Cote d'Ivoire/San Pedro/Tabou/Olodio/Klodio",
          "Cote d'Ivoire/Gbeke/Bouaké/Commune de Bouaké/Koblékro",
          "Cote d'Ivoire/Gbeke/Bouaké/Commune de Bouaké/Koblékro(Kongonibo)",
          "Cote d'Ivoire/Gbeke/Bouaké/Brobo/Kouadianikro",
          "Cote d'Ivoire/Gbeke/Bouaké/Brobo/Kouakou kouadiokro (Bassin de Yéguébo-Bouakro)",
          "Cote d'Ivoire/Gbeke/Bouaké/Brobo/Kouakou kouadiokro(Bassin  de Yéguébo-Bouakro)",
          "Cote d'Ivoire/Gbeke/Béoumi/Béoumi/Koumanbo",
          "Cote d'Ivoire/Gbeke/Bouaké/Brobo/Kpékékro (Bassin de Mamini)",
          "Cote d'Ivoire/Gbeke/Botro/Krofoinsou/Krofoinsou",
          "Cote d'Ivoire/Gbeke/Béoumi/Ando-Kékrénou/Linguébo",
          "Cote d'Ivoire/San Pedro/Tabou/DJOUROUTOU/MAHINO1",
          "Cote d'Ivoire/San Pedro/Tabou/DJOUROUTOU/Mahino 3",
          "Cote d'Ivoire/San Pedro/Tabou/DJOUROUTOU/Mahino1",
          "Cote d'Ivoire/San Pedro/Tabou/DJOUROUTOU/Mahino2",
          "Cote d'Ivoire/San Pedro/Tabou/DJOUROUTOU/Mahino3",
          "Cote d'Ivoire/San Pedro/Tabou/Tabou/Mané",
          "Cote d'Ivoire/Gbeke/Béoumi/Bodokro/N?dakro",
          "Cote d'Ivoire/Gbeke/Botro/Krofoinsou/N?zikro",
          "Cote d'Ivoire/San Pedro/Tabou/Grabo/Nouin",
          "Cote d'Ivoire/San Pedro/Tabou/Olodio/Olodio",
          "Cote d'Ivoire/San Pedro/San-Pédro/Grand bereby/Oueoulo",
          "Cote d'Ivoire/San Pedro/San-Pédro/Grand bereby/Oulibio",
          "Cote d'Ivoire/San Pedro/Tabou/DJOUROUTOU/PARA",
          "Cote d'Ivoire/San Pedro/Tabou/DJOUROUTOU/Para",
          "Cote d'Ivoire/San Pedro/Tabou/DJOUROUTOU/Plateau",
          "Cote d'Ivoire/Gbeke/Béoumi/N?guessankro/Plibo",
          "Cote d'Ivoire/Gbeke/Bouaké/Djébonoua/Plongo(Bassin de Djébonoua)",
          "Cote d'Ivoire/Gbeke/Bouaké/COMMUNE DE Bouake/Raffierkro",
          "Cote d'Ivoire/San Pedro/Tabou/Olodio/Seh",
          "Cote d'Ivoire/Gbeke/Botro/Diabo/Sinzèkro",
          "Cote d'Ivoire/Gbeke/Sakassou/Djibri Assirikro/Sola-Bonikro",
          "Cote d'Ivoire/Gbeke/Sakassou/Ayaou-Sran/Sran-Belakro",
          "Cote d'Ivoire/Gbeke/Bouaké/Brobo/Takassou (Bassin de Mamini.)",
          "Cote d'Ivoire/Gbeke/Botro/Brobo/Takassou(Bassin de Saminikro)",
          "Cote d'Ivoire/San Pedro/San-Pédro/Gabiadji/Touih",
          "Cote d'Ivoire/San Pedro/San-Pédro/Grand bereby/Wouhasso",
          "Cote d'Ivoire/Gbeke/Bouaké/Brobo/Yéguébo-Bouakro",
          "Cote d'Ivoire/Gbeke/Bouaké/Brobo/Zougban (Bassin de Saminikro)",
          "Cote d'Ivoire/Gbeke/Béoumi/Ando-Kékrénou",
          "Cote d'Ivoire/Gbeke/Sakassou/Ayaou-Sran",
          "Cote d'Ivoire/Gbeke/Béoumi/Bodokro",
          "Cote d'Ivoire/Gbeke/Bouaké/Bouaké",
          "Cote d'Ivoire/Gbeke/Botro/Brobo",
          "Cote d'Ivoire/Gbeke/Bouaké/Brobo",
          "Cote d'Ivoire/Gbeke/Béoumi/Béoumi",
          "Cote d'Ivoire/Gbeke/Bouaké/COMMUNE DE Bouake",
          "Cote d'Ivoire/Gbeke/Bouaké/Commune de Bouake",
          "Cote d'Ivoire/Gbeke/Bouaké/Commune de Bouaké",
          "Cote d'Ivoire/San Pedro/Tabou/DJOUROUTOU",
          "Cote d'Ivoire/Gbeke/Botro/Diabo",
          "Cote d'Ivoire/Gbeke/Sakassou/Djibri Assirikro",
          "Cote d'Ivoire/San Pedro/San-Pédro/Djihimbo",
          "Cote d'Ivoire/Gbeke/Bouaké/Djébonoua",
          "Cote d'Ivoire/San Pedro/San-Pédro/Dogbo",
          "Cote d'Ivoire/San Pedro/San-Pédro/Gabiadji",
          "Cote d'Ivoire/San Pedro/San-Pédro/Gnity",
          "Cote d'Ivoire/San Pedro/Tabou/Grabo",
          "Cote d'Ivoire/San Pedro/San-Pédro/Grand bereby",
          "Cote d'Ivoire/Gbeke/Botro/Krofoinsou",
          "Cote d'Ivoire/Gbeke/Botro/Languibonou",
          "Cote d'Ivoire/Gbeke/Béoumi/Lolobo",
          "Cote d'Ivoire/Gbeke/Béoumi/N?guessankro",
          "Cote d'Ivoire/San Pedro/Tabou/Olodio",
          "Cote d'Ivoire/Gbeke/Sakassou/Sakassou",
          "Cote d'Ivoire/San Pedro/Tabou/Tabou",
          "Cote d'Ivoire/Gbeke/Botro",
          "Cote d'Ivoire/Gbeke/Bouaké",
          "Cote d'Ivoire/Gbeke/Béoumi",
          "Cote d'Ivoire/Gbeke/Sakassou",
          "Cote d'Ivoire/San Pedro/San-Pédro",
          "Cote d'Ivoire/San Pedro/Tabou",
          "Cote d'Ivoire/Gbeke",
          "Cote d'Ivoire/San Pedro",
          "Cote d'Ivoire"
         ],
         "labels": [
          "Abouzè-kouadiokro",
          "Adjamene",
          "Adjougouansou",
          "Afotobo",
          "Ahodji(Raffierkro)",
          "Akadiafoué",
          "Akanzakro",
          "Andokro-Kouakou",
          "Angokoun-Kpangbassou",
          "Assouakro",
          "Beoué",
          "Blahou",
          "Bledie",
          "Bounda",
          "DJOUROUTOU",
          "Debablai",
          "Diéviessou",
          "Djihimbo",
          "Djihouloké",
          "Djikla",
          "Djourou",
          "Fahe",
          "Fahris_Oko",
          "Fahris_Oko (Bassin de Kahankro)",
          "Fahris_Oko(Bassin de Kahankro)",
          "Gbangbokro",
          "Gbapet",
          "Gbarou",
          "Gnity",
          "Goliblenou",
          "Gomo( Bassin Assouakro)",
          "Gomo(Bassin  de Assouakro)",
          "Grobonou dan",
          "Hannié",
          "Heremakono",
          "Hyrré",
          "Klodio",
          "Koblékro",
          "Koblékro(Kongonibo)",
          "Kouadianikro",
          "Kouakou kouadiokro (Bassin de Yéguébo-Bouakro)",
          "Kouakou kouadiokro(Bassin  de Yéguébo-Bouakro)",
          "Koumanbo",
          "Kpékékro (Bassin de Mamini)",
          "Krofoinsou",
          "Linguébo",
          "MAHINO1",
          "Mahino 3",
          "Mahino1",
          "Mahino2",
          "Mahino3",
          "Mané",
          "N?dakro",
          "N?zikro",
          "Nouin",
          "Olodio",
          "Oueoulo",
          "Oulibio",
          "PARA",
          "Para",
          "Plateau",
          "Plibo",
          "Plongo(Bassin de Djébonoua)",
          "Raffierkro",
          "Seh",
          "Sinzèkro",
          "Sola-Bonikro",
          "Sran-Belakro",
          "Takassou (Bassin de Mamini.)",
          "Takassou(Bassin de Saminikro)",
          "Touih",
          "Wouhasso",
          "Yéguébo-Bouakro",
          "Zougban (Bassin de Saminikro)",
          "Ando-Kékrénou",
          "Ayaou-Sran",
          "Bodokro",
          "Bouaké",
          "Brobo",
          "Brobo",
          "Béoumi",
          "COMMUNE DE Bouake",
          "Commune de Bouake",
          "Commune de Bouaké",
          "DJOUROUTOU",
          "Diabo",
          "Djibri Assirikro",
          "Djihimbo",
          "Djébonoua",
          "Dogbo",
          "Gabiadji",
          "Gnity",
          "Grabo",
          "Grand bereby",
          "Krofoinsou",
          "Languibonou",
          "Lolobo",
          "N?guessankro",
          "Olodio",
          "Sakassou",
          "Tabou",
          "Botro",
          "Bouaké",
          "Béoumi",
          "Sakassou",
          "San-Pédro",
          "Tabou",
          "Gbeke",
          "San Pedro",
          "Cote d'Ivoire"
         ],
         "name": "",
         "parents": [
          "Cote d'Ivoire/Gbeke/Béoumi/Lolobo",
          "Cote d'Ivoire/San Pedro/San-Pédro/Grand bereby",
          "Cote d'Ivoire/Gbeke/Sakassou/Djibri Assirikro",
          "Cote d'Ivoire/Gbeke/Béoumi/Béoumi",
          "Cote d'Ivoire/Gbeke/Bouaké/Commune de Bouaké",
          "Cote d'Ivoire/Gbeke/Béoumi/Béoumi",
          "Cote d'Ivoire/Gbeke/Bouaké/Bouaké",
          "Cote d'Ivoire/Gbeke/Botro/Languibonou",
          "Cote d'Ivoire/Gbeke/Botro/Languibonou",
          "Cote d'Ivoire/Gbeke/Bouaké/Djébonoua",
          "Cote d'Ivoire/San Pedro/Tabou/DJOUROUTOU",
          "Cote d'Ivoire/San Pedro/San-Pédro/Gabiadji",
          "Cote d'Ivoire/San Pedro/San-Pédro/Dogbo",
          "Cote d'Ivoire/Gbeke/Bouaké/Brobo",
          "Cote d'Ivoire/San Pedro/Tabou/DJOUROUTOU",
          "Cote d'Ivoire/San Pedro/Tabou/Grabo",
          "Cote d'Ivoire/Gbeke/Béoumi/Béoumi",
          "Cote d'Ivoire/San Pedro/San-Pédro/Djihimbo",
          "Cote d'Ivoire/San Pedro/Tabou/Tabou",
          "Cote d'Ivoire/San Pedro/San-Pédro/Grand bereby",
          "Cote d'Ivoire/San Pedro/San-Pédro/Grand bereby",
          "Cote d'Ivoire/San Pedro/San-Pédro/Gabiadji",
          "Cote d'Ivoire/Gbeke/Bouaké/Commune de Bouaké",
          "Cote d'Ivoire/Gbeke/Bouaké/Commune de Bouake",
          "Cote d'Ivoire/Gbeke/Bouaké/Commune de Bouake",
          "Cote d'Ivoire/San Pedro/San-Pédro/Gnity",
          "Cote d'Ivoire/San Pedro/Tabou/Grabo",
          "Cote d'Ivoire/San Pedro/Tabou/DJOUROUTOU",
          "Cote d'Ivoire/San Pedro/San-Pédro/Gabiadji",
          "Cote d'Ivoire/Gbeke/Sakassou/Sakassou",
          "Cote d'Ivoire/Gbeke/Bouaké/Djébonoua",
          "Cote d'Ivoire/Gbeke/Bouaké/Djébonoua",
          "Cote d'Ivoire/San Pedro/San-Pédro/Gabiadji",
          "Cote d'Ivoire/San Pedro/Tabou/DJOUROUTOU",
          "Cote d'Ivoire/San Pedro/San-Pédro/Dogbo",
          "Cote d'Ivoire/San Pedro/Tabou/Tabou",
          "Cote d'Ivoire/San Pedro/Tabou/Olodio",
          "Cote d'Ivoire/Gbeke/Bouaké/Commune de Bouaké",
          "Cote d'Ivoire/Gbeke/Bouaké/Commune de Bouaké",
          "Cote d'Ivoire/Gbeke/Bouaké/Brobo",
          "Cote d'Ivoire/Gbeke/Bouaké/Brobo",
          "Cote d'Ivoire/Gbeke/Bouaké/Brobo",
          "Cote d'Ivoire/Gbeke/Béoumi/Béoumi",
          "Cote d'Ivoire/Gbeke/Bouaké/Brobo",
          "Cote d'Ivoire/Gbeke/Botro/Krofoinsou",
          "Cote d'Ivoire/Gbeke/Béoumi/Ando-Kékrénou",
          "Cote d'Ivoire/San Pedro/Tabou/DJOUROUTOU",
          "Cote d'Ivoire/San Pedro/Tabou/DJOUROUTOU",
          "Cote d'Ivoire/San Pedro/Tabou/DJOUROUTOU",
          "Cote d'Ivoire/San Pedro/Tabou/DJOUROUTOU",
          "Cote d'Ivoire/San Pedro/Tabou/DJOUROUTOU",
          "Cote d'Ivoire/San Pedro/Tabou/Tabou",
          "Cote d'Ivoire/Gbeke/Béoumi/Bodokro",
          "Cote d'Ivoire/Gbeke/Botro/Krofoinsou",
          "Cote d'Ivoire/San Pedro/Tabou/Grabo",
          "Cote d'Ivoire/San Pedro/Tabou/Olodio",
          "Cote d'Ivoire/San Pedro/San-Pédro/Grand bereby",
          "Cote d'Ivoire/San Pedro/San-Pédro/Grand bereby",
          "Cote d'Ivoire/San Pedro/Tabou/DJOUROUTOU",
          "Cote d'Ivoire/San Pedro/Tabou/DJOUROUTOU",
          "Cote d'Ivoire/San Pedro/Tabou/DJOUROUTOU",
          "Cote d'Ivoire/Gbeke/Béoumi/N?guessankro",
          "Cote d'Ivoire/Gbeke/Bouaké/Djébonoua",
          "Cote d'Ivoire/Gbeke/Bouaké/COMMUNE DE Bouake",
          "Cote d'Ivoire/San Pedro/Tabou/Olodio",
          "Cote d'Ivoire/Gbeke/Botro/Diabo",
          "Cote d'Ivoire/Gbeke/Sakassou/Djibri Assirikro",
          "Cote d'Ivoire/Gbeke/Sakassou/Ayaou-Sran",
          "Cote d'Ivoire/Gbeke/Bouaké/Brobo",
          "Cote d'Ivoire/Gbeke/Botro/Brobo",
          "Cote d'Ivoire/San Pedro/San-Pédro/Gabiadji",
          "Cote d'Ivoire/San Pedro/San-Pédro/Grand bereby",
          "Cote d'Ivoire/Gbeke/Bouaké/Brobo",
          "Cote d'Ivoire/Gbeke/Bouaké/Brobo",
          "Cote d'Ivoire/Gbeke/Béoumi",
          "Cote d'Ivoire/Gbeke/Sakassou",
          "Cote d'Ivoire/Gbeke/Béoumi",
          "Cote d'Ivoire/Gbeke/Bouaké",
          "Cote d'Ivoire/Gbeke/Botro",
          "Cote d'Ivoire/Gbeke/Bouaké",
          "Cote d'Ivoire/Gbeke/Béoumi",
          "Cote d'Ivoire/Gbeke/Bouaké",
          "Cote d'Ivoire/Gbeke/Bouaké",
          "Cote d'Ivoire/Gbeke/Bouaké",
          "Cote d'Ivoire/San Pedro/Tabou",
          "Cote d'Ivoire/Gbeke/Botro",
          "Cote d'Ivoire/Gbeke/Sakassou",
          "Cote d'Ivoire/San Pedro/San-Pédro",
          "Cote d'Ivoire/Gbeke/Bouaké",
          "Cote d'Ivoire/San Pedro/San-Pédro",
          "Cote d'Ivoire/San Pedro/San-Pédro",
          "Cote d'Ivoire/San Pedro/San-Pédro",
          "Cote d'Ivoire/San Pedro/Tabou",
          "Cote d'Ivoire/San Pedro/San-Pédro",
          "Cote d'Ivoire/Gbeke/Botro",
          "Cote d'Ivoire/Gbeke/Botro",
          "Cote d'Ivoire/Gbeke/Béoumi",
          "Cote d'Ivoire/Gbeke/Béoumi",
          "Cote d'Ivoire/San Pedro/Tabou",
          "Cote d'Ivoire/Gbeke/Sakassou",
          "Cote d'Ivoire/San Pedro/Tabou",
          "Cote d'Ivoire/Gbeke",
          "Cote d'Ivoire/Gbeke",
          "Cote d'Ivoire/Gbeke",
          "Cote d'Ivoire/Gbeke",
          "Cote d'Ivoire/San Pedro",
          "Cote d'Ivoire/San Pedro",
          "Cote d'Ivoire",
          "Cote d'Ivoire",
          ""
         ],
         "type": "treemap",
         "values": [
          1,
          12,
          1,
          2,
          1,
          1,
          4,
          1,
          10,
          2,
          5,
          5,
          17,
          1,
          12,
          6,
          8,
          4,
          1,
          3,
          1,
          5,
          1,
          1,
          1,
          1,
          8,
          1,
          8,
          1,
          1,
          1,
          9,
          18,
          12,
          1,
          1,
          2,
          1,
          1,
          1,
          1,
          1,
          1,
          4,
          3,
          1,
          3,
          13,
          1,
          4,
          2,
          4,
          2,
          2,
          5,
          9,
          1,
          7,
          5,
          1,
          4,
          1,
          3,
          1,
          2,
          1,
          1,
          1,
          1,
          1,
          5,
          1,
          2,
          3,
          1,
          4,
          4,
          1,
          9,
          12,
          3,
          2,
          5,
          71,
          2,
          2,
          4,
          5,
          29,
          28,
          1,
          16,
          31,
          6,
          11,
          1,
          4,
          7,
          1,
          4,
          20,
          28,
          24,
          4,
          93,
          98,
          76,
          191,
          267
         ]
        }
       ],
       "layout": {
        "legend": {
         "tracegroupgap": 0
        },
        "margin": {
         "t": 60
        },
        "template": {
         "data": {
          "bar": [
           {
            "error_x": {
             "color": "#2a3f5f"
            },
            "error_y": {
             "color": "#2a3f5f"
            },
            "marker": {
             "line": {
              "color": "#E5ECF6",
              "width": 0.5
             },
             "pattern": {
              "fillmode": "overlay",
              "size": 10,
              "solidity": 0.2
             }
            },
            "type": "bar"
           }
          ],
          "barpolar": [
           {
            "marker": {
             "line": {
              "color": "#E5ECF6",
              "width": 0.5
             },
             "pattern": {
              "fillmode": "overlay",
              "size": 10,
              "solidity": 0.2
             }
            },
            "type": "barpolar"
           }
          ],
          "carpet": [
           {
            "aaxis": {
             "endlinecolor": "#2a3f5f",
             "gridcolor": "white",
             "linecolor": "white",
             "minorgridcolor": "white",
             "startlinecolor": "#2a3f5f"
            },
            "baxis": {
             "endlinecolor": "#2a3f5f",
             "gridcolor": "white",
             "linecolor": "white",
             "minorgridcolor": "white",
             "startlinecolor": "#2a3f5f"
            },
            "type": "carpet"
           }
          ],
          "choropleth": [
           {
            "colorbar": {
             "outlinewidth": 0,
             "ticks": ""
            },
            "type": "choropleth"
           }
          ],
          "contour": [
           {
            "colorbar": {
             "outlinewidth": 0,
             "ticks": ""
            },
            "colorscale": [
             [
              0,
              "#0d0887"
             ],
             [
              0.1111111111111111,
              "#46039f"
             ],
             [
              0.2222222222222222,
              "#7201a8"
             ],
             [
              0.3333333333333333,
              "#9c179e"
             ],
             [
              0.4444444444444444,
              "#bd3786"
             ],
             [
              0.5555555555555556,
              "#d8576b"
             ],
             [
              0.6666666666666666,
              "#ed7953"
             ],
             [
              0.7777777777777778,
              "#fb9f3a"
             ],
             [
              0.8888888888888888,
              "#fdca26"
             ],
             [
              1,
              "#f0f921"
             ]
            ],
            "type": "contour"
           }
          ],
          "contourcarpet": [
           {
            "colorbar": {
             "outlinewidth": 0,
             "ticks": ""
            },
            "type": "contourcarpet"
           }
          ],
          "heatmap": [
           {
            "colorbar": {
             "outlinewidth": 0,
             "ticks": ""
            },
            "colorscale": [
             [
              0,
              "#0d0887"
             ],
             [
              0.1111111111111111,
              "#46039f"
             ],
             [
              0.2222222222222222,
              "#7201a8"
             ],
             [
              0.3333333333333333,
              "#9c179e"
             ],
             [
              0.4444444444444444,
              "#bd3786"
             ],
             [
              0.5555555555555556,
              "#d8576b"
             ],
             [
              0.6666666666666666,
              "#ed7953"
             ],
             [
              0.7777777777777778,
              "#fb9f3a"
             ],
             [
              0.8888888888888888,
              "#fdca26"
             ],
             [
              1,
              "#f0f921"
             ]
            ],
            "type": "heatmap"
           }
          ],
          "heatmapgl": [
           {
            "colorbar": {
             "outlinewidth": 0,
             "ticks": ""
            },
            "colorscale": [
             [
              0,
              "#0d0887"
             ],
             [
              0.1111111111111111,
              "#46039f"
             ],
             [
              0.2222222222222222,
              "#7201a8"
             ],
             [
              0.3333333333333333,
              "#9c179e"
             ],
             [
              0.4444444444444444,
              "#bd3786"
             ],
             [
              0.5555555555555556,
              "#d8576b"
             ],
             [
              0.6666666666666666,
              "#ed7953"
             ],
             [
              0.7777777777777778,
              "#fb9f3a"
             ],
             [
              0.8888888888888888,
              "#fdca26"
             ],
             [
              1,
              "#f0f921"
             ]
            ],
            "type": "heatmapgl"
           }
          ],
          "histogram": [
           {
            "marker": {
             "pattern": {
              "fillmode": "overlay",
              "size": 10,
              "solidity": 0.2
             }
            },
            "type": "histogram"
           }
          ],
          "histogram2d": [
           {
            "colorbar": {
             "outlinewidth": 0,
             "ticks": ""
            },
            "colorscale": [
             [
              0,
              "#0d0887"
             ],
             [
              0.1111111111111111,
              "#46039f"
             ],
             [
              0.2222222222222222,
              "#7201a8"
             ],
             [
              0.3333333333333333,
              "#9c179e"
             ],
             [
              0.4444444444444444,
              "#bd3786"
             ],
             [
              0.5555555555555556,
              "#d8576b"
             ],
             [
              0.6666666666666666,
              "#ed7953"
             ],
             [
              0.7777777777777778,
              "#fb9f3a"
             ],
             [
              0.8888888888888888,
              "#fdca26"
             ],
             [
              1,
              "#f0f921"
             ]
            ],
            "type": "histogram2d"
           }
          ],
          "histogram2dcontour": [
           {
            "colorbar": {
             "outlinewidth": 0,
             "ticks": ""
            },
            "colorscale": [
             [
              0,
              "#0d0887"
             ],
             [
              0.1111111111111111,
              "#46039f"
             ],
             [
              0.2222222222222222,
              "#7201a8"
             ],
             [
              0.3333333333333333,
              "#9c179e"
             ],
             [
              0.4444444444444444,
              "#bd3786"
             ],
             [
              0.5555555555555556,
              "#d8576b"
             ],
             [
              0.6666666666666666,
              "#ed7953"
             ],
             [
              0.7777777777777778,
              "#fb9f3a"
             ],
             [
              0.8888888888888888,
              "#fdca26"
             ],
             [
              1,
              "#f0f921"
             ]
            ],
            "type": "histogram2dcontour"
           }
          ],
          "mesh3d": [
           {
            "colorbar": {
             "outlinewidth": 0,
             "ticks": ""
            },
            "type": "mesh3d"
           }
          ],
          "parcoords": [
           {
            "line": {
             "colorbar": {
              "outlinewidth": 0,
              "ticks": ""
             }
            },
            "type": "parcoords"
           }
          ],
          "pie": [
           {
            "automargin": true,
            "type": "pie"
           }
          ],
          "scatter": [
           {
            "fillpattern": {
             "fillmode": "overlay",
             "size": 10,
             "solidity": 0.2
            },
            "type": "scatter"
           }
          ],
          "scatter3d": [
           {
            "line": {
             "colorbar": {
              "outlinewidth": 0,
              "ticks": ""
             }
            },
            "marker": {
             "colorbar": {
              "outlinewidth": 0,
              "ticks": ""
             }
            },
            "type": "scatter3d"
           }
          ],
          "scattercarpet": [
           {
            "marker": {
             "colorbar": {
              "outlinewidth": 0,
              "ticks": ""
             }
            },
            "type": "scattercarpet"
           }
          ],
          "scattergeo": [
           {
            "marker": {
             "colorbar": {
              "outlinewidth": 0,
              "ticks": ""
             }
            },
            "type": "scattergeo"
           }
          ],
          "scattergl": [
           {
            "marker": {
             "colorbar": {
              "outlinewidth": 0,
              "ticks": ""
             }
            },
            "type": "scattergl"
           }
          ],
          "scattermapbox": [
           {
            "marker": {
             "colorbar": {
              "outlinewidth": 0,
              "ticks": ""
             }
            },
            "type": "scattermapbox"
           }
          ],
          "scatterpolar": [
           {
            "marker": {
             "colorbar": {
              "outlinewidth": 0,
              "ticks": ""
             }
            },
            "type": "scatterpolar"
           }
          ],
          "scatterpolargl": [
           {
            "marker": {
             "colorbar": {
              "outlinewidth": 0,
              "ticks": ""
             }
            },
            "type": "scatterpolargl"
           }
          ],
          "scatterternary": [
           {
            "marker": {
             "colorbar": {
              "outlinewidth": 0,
              "ticks": ""
             }
            },
            "type": "scatterternary"
           }
          ],
          "surface": [
           {
            "colorbar": {
             "outlinewidth": 0,
             "ticks": ""
            },
            "colorscale": [
             [
              0,
              "#0d0887"
             ],
             [
              0.1111111111111111,
              "#46039f"
             ],
             [
              0.2222222222222222,
              "#7201a8"
             ],
             [
              0.3333333333333333,
              "#9c179e"
             ],
             [
              0.4444444444444444,
              "#bd3786"
             ],
             [
              0.5555555555555556,
              "#d8576b"
             ],
             [
              0.6666666666666666,
              "#ed7953"
             ],
             [
              0.7777777777777778,
              "#fb9f3a"
             ],
             [
              0.8888888888888888,
              "#fdca26"
             ],
             [
              1,
              "#f0f921"
             ]
            ],
            "type": "surface"
           }
          ],
          "table": [
           {
            "cells": {
             "fill": {
              "color": "#EBF0F8"
             },
             "line": {
              "color": "white"
             }
            },
            "header": {
             "fill": {
              "color": "#C8D4E3"
             },
             "line": {
              "color": "white"
             }
            },
            "type": "table"
           }
          ]
         },
         "layout": {
          "annotationdefaults": {
           "arrowcolor": "#2a3f5f",
           "arrowhead": 0,
           "arrowwidth": 1
          },
          "autotypenumbers": "strict",
          "coloraxis": {
           "colorbar": {
            "outlinewidth": 0,
            "ticks": ""
           }
          },
          "colorscale": {
           "diverging": [
            [
             0,
             "#8e0152"
            ],
            [
             0.1,
             "#c51b7d"
            ],
            [
             0.2,
             "#de77ae"
            ],
            [
             0.3,
             "#f1b6da"
            ],
            [
             0.4,
             "#fde0ef"
            ],
            [
             0.5,
             "#f7f7f7"
            ],
            [
             0.6,
             "#e6f5d0"
            ],
            [
             0.7,
             "#b8e186"
            ],
            [
             0.8,
             "#7fbc41"
            ],
            [
             0.9,
             "#4d9221"
            ],
            [
             1,
             "#276419"
            ]
           ],
           "sequential": [
            [
             0,
             "#0d0887"
            ],
            [
             0.1111111111111111,
             "#46039f"
            ],
            [
             0.2222222222222222,
             "#7201a8"
            ],
            [
             0.3333333333333333,
             "#9c179e"
            ],
            [
             0.4444444444444444,
             "#bd3786"
            ],
            [
             0.5555555555555556,
             "#d8576b"
            ],
            [
             0.6666666666666666,
             "#ed7953"
            ],
            [
             0.7777777777777778,
             "#fb9f3a"
            ],
            [
             0.8888888888888888,
             "#fdca26"
            ],
            [
             1,
             "#f0f921"
            ]
           ],
           "sequentialminus": [
            [
             0,
             "#0d0887"
            ],
            [
             0.1111111111111111,
             "#46039f"
            ],
            [
             0.2222222222222222,
             "#7201a8"
            ],
            [
             0.3333333333333333,
             "#9c179e"
            ],
            [
             0.4444444444444444,
             "#bd3786"
            ],
            [
             0.5555555555555556,
             "#d8576b"
            ],
            [
             0.6666666666666666,
             "#ed7953"
            ],
            [
             0.7777777777777778,
             "#fb9f3a"
            ],
            [
             0.8888888888888888,
             "#fdca26"
            ],
            [
             1,
             "#f0f921"
            ]
           ]
          },
          "colorway": [
           "#636efa",
           "#EF553B",
           "#00cc96",
           "#ab63fa",
           "#FFA15A",
           "#19d3f3",
           "#FF6692",
           "#B6E880",
           "#FF97FF",
           "#FECB52"
          ],
          "font": {
           "color": "#2a3f5f"
          },
          "geo": {
           "bgcolor": "white",
           "lakecolor": "white",
           "landcolor": "#E5ECF6",
           "showlakes": true,
           "showland": true,
           "subunitcolor": "white"
          },
          "hoverlabel": {
           "align": "left"
          },
          "hovermode": "closest",
          "mapbox": {
           "style": "light"
          },
          "paper_bgcolor": "white",
          "plot_bgcolor": "#E5ECF6",
          "polar": {
           "angularaxis": {
            "gridcolor": "white",
            "linecolor": "white",
            "ticks": ""
           },
           "bgcolor": "#E5ECF6",
           "radialaxis": {
            "gridcolor": "white",
            "linecolor": "white",
            "ticks": ""
           }
          },
          "scene": {
           "xaxis": {
            "backgroundcolor": "#E5ECF6",
            "gridcolor": "white",
            "gridwidth": 2,
            "linecolor": "white",
            "showbackground": true,
            "ticks": "",
            "zerolinecolor": "white"
           },
           "yaxis": {
            "backgroundcolor": "#E5ECF6",
            "gridcolor": "white",
            "gridwidth": 2,
            "linecolor": "white",
            "showbackground": true,
            "ticks": "",
            "zerolinecolor": "white"
           },
           "zaxis": {
            "backgroundcolor": "#E5ECF6",
            "gridcolor": "white",
            "gridwidth": 2,
            "linecolor": "white",
            "showbackground": true,
            "ticks": "",
            "zerolinecolor": "white"
           }
          },
          "shapedefaults": {
           "line": {
            "color": "#2a3f5f"
           }
          },
          "ternary": {
           "aaxis": {
            "gridcolor": "white",
            "linecolor": "white",
            "ticks": ""
           },
           "baxis": {
            "gridcolor": "white",
            "linecolor": "white",
            "ticks": ""
           },
           "bgcolor": "#E5ECF6",
           "caxis": {
            "gridcolor": "white",
            "linecolor": "white",
            "ticks": ""
           }
          },
          "title": {
           "x": 0.05
          },
          "xaxis": {
           "automargin": true,
           "gridcolor": "white",
           "linecolor": "white",
           "ticks": "",
           "title": {
            "standoff": 15
           },
           "zerolinecolor": "white",
           "zerolinewidth": 2
          },
          "yaxis": {
           "automargin": true,
           "gridcolor": "white",
           "linecolor": "white",
           "ticks": "",
           "title": {
            "standoff": 15
           },
           "zerolinecolor": "white",
           "zerolinewidth": 2
          }
         }
        },
        "treemapcolorway": [
         "#FF8200",
         "#009A44"
        ]
       }
      }
     },
     "metadata": {},
     "output_type": "display_data"
    }
   ],
   "source": [
    "# make a new dataframe called healthb that is only rows where the Health access blocked by river is not blank\n",
    "educationb = assessment[assessment['Health access blocked by river'] != '']\n",
    "make_treemap(educationb, './home/charts/blocking_health.html', './home/charts/blocking_health.csv')"
   ]
  },
  {
   "attachments": {},
   "cell_type": "markdown",
   "metadata": {},
   "source": [
    "Index(['Opportunity Unique Identifier', 'Bridge Name', 'Country',\n",
    "       'Level 1 Government', 'Level 2 Government', 'Level 3 Government',\n",
    "       'Level 4 Government', 'latitude', 'longitude', 'Reason site not valid',\n",
    "       'Site Validation Comments', 'Flag for Rejection',\n",
    "       'River crossing deaths in last 3 years', 'Incident descriptions',\n",
    "       'Days per year river is flooded', 'Flood duration during rainy season',\n",
    "       'Notes on social information', 'Width of River During Flooding (m)',\n",
    "       'Health access blocked by river', 'Education access blocked by river',\n",
    "       'Market access blocked by river', 'Other access blocked by river',\n",
    "       'Form: Created Date', 'Form: Created By', 'geometry'],\n",
    "      dtype='object')"
   ]
  },
  {
   "cell_type": "code",
   "execution_count": 13,
   "metadata": {},
   "outputs": [
    {
     "data": {
      "application/vnd.plotly.v1+json": {
       "config": {
        "plotlyServerURL": "https://plot.ly"
       },
       "data": [
        {
         "branchvalues": "total",
         "domain": {
          "x": [
           0,
           1
          ],
          "y": [
           0,
           1
          ]
         },
         "hovertemplate": "labels=%{label}<br>Count=%{value}<br>parent=%{parent}<br>id=%{id}<extra></extra>",
         "ids": [
          "Cote d'Ivoire/Gbeke/Béoumi/Lolobo/Abouzè-kouadiokro",
          "Cote d'Ivoire/San Pedro/San-Pédro/Grand bereby/Adjamene",
          "Cote d'Ivoire/Gbeke/Sakassou/Djibri Assirikro/Adjougouansou",
          "Cote d'Ivoire/Gbeke/Béoumi/Béoumi/Afotobo",
          "Cote d'Ivoire/Gbeke/Bouaké/Commune de Bouaké/Ahodji(Raffierkro)",
          "Cote d'Ivoire/Gbeke/Béoumi/Béoumi/Akadiafoué",
          "Cote d'Ivoire/Gbeke/Bouaké/Bouaké/Akanzakro",
          "Cote d'Ivoire/Gbeke/Sakassou/Sakassou/Akété",
          "Cote d'Ivoire/Gbeke/Botro/Languibonou/Andokro-Kouakou",
          "Cote d'Ivoire/Gbeke/Botro/Languibonou/Angokoun-Kpangbassou",
          "Cote d'Ivoire/Gbeke/Bouaké/Djebonoua/Assengou",
          "Cote d'Ivoire/Gbeke/Bouaké/Djébonoua/Assouakro",
          "Cote d'Ivoire/Gbeke/Sakassou/Dibri/Belle-Ahoukro (Akanzakro)",
          "Cote d'Ivoire/Gbeke/Sakassou/Dibri Assrikro/Belle-Ahoukro 3(Akanzakro)",
          "Cote d'Ivoire/San Pedro/Tabou/DJOUROUTOU/Beoué",
          "Cote d'Ivoire/San Pedro/San-Pédro/Gabiadji/Blahou",
          "Cote d'Ivoire/San Pedro/San-Pédro/Dogbo/Bledie",
          "Cote d'Ivoire/Gbeke/Bouaké/Brobo/Bounda",
          "Cote d'Ivoire/San Pedro/Tabou/DJOUROUTOU/DJOUROUTOU",
          "Cote d'Ivoire/San Pedro/Tabou/Grabo/Debablai",
          "Cote d'Ivoire/Gbeke/Béoumi/Béoumi/Diéviessou",
          "Cote d'Ivoire/San Pedro/San-Pédro/Djihimbo/Djihimbo",
          "Cote d'Ivoire/San Pedro/Tabou/Tabou/Djihouloké",
          "Cote d'Ivoire/San Pedro/San-Pédro/Grand bereby/Djikla",
          "Cote d'Ivoire/San Pedro/San-Pédro/Grand bereby/Djourou",
          "Cote d'Ivoire/San Pedro/San-Pédro/Gabiadji/Fahe",
          "Cote d'Ivoire/Gbeke/Bouaké/Commune de Bouaké/Fahris_Oko",
          "Cote d'Ivoire/Gbeke/Bouaké/Commune de Bouake/Fahris_Oko (Bassin de Kahankro)",
          "Cote d'Ivoire/Gbeke/Bouaké/Commune de Bouake/Fahris_Oko(Bassin de Kahankro)",
          "Cote d'Ivoire/San Pedro/Tabou/DJOUROUTOU/GBAROU",
          "Cote d'Ivoire/San Pedro/San-Pédro/Gnity/Gbangbokro",
          "Cote d'Ivoire/San Pedro/Tabou/Grabo/Gbapet",
          "Cote d'Ivoire/San Pedro/Tabou/DJOUROUTOU/Gbarou",
          "Cote d'Ivoire/San Pedro/San-Pédro/Gabiadji/Gnity",
          "Cote d'Ivoire/Gbeke/Bouaké/Djébonoua/Gomo( Bassin Assouakro)",
          "Cote d'Ivoire/Gbeke/Bouaké/Djébonoua/Gomo(Bassin  de Assouakro)",
          "Cote d'Ivoire/San Pedro/San-Pédro/Gabiadji/Grobonou dan",
          "Cote d'Ivoire/San Pedro/Tabou/DJOUROUTOU/Hannié",
          "Cote d'Ivoire/San Pedro/San-Pédro/Dogbo/Heremakono",
          "Cote d'Ivoire/San Pedro/Tabou/Tabou/Hyrré",
          "Cote d'Ivoire/San Pedro/Tabou/Olodio/Klodio",
          "Cote d'Ivoire/Gbeke/Bouaké/Commune de Bouaké/Koblékro(Kongonibo)",
          "Cote d'Ivoire/Gbeke/Bouaké/Brobo/Kouadianikro (Bounda)",
          "Cote d'Ivoire/Gbeke/Bouaké/Brobo/Kouakou kouadiokro (Bassin de Yéguébo-Bouakro)",
          "Cote d'Ivoire/Gbeke/Bouaké/Brobo/Kouakou kouadiokro(Bassin  de Yéguébo-Bouakro)",
          "Cote d'Ivoire/Gbeke/Botro/Krofoinsou/Krofoinsou",
          "Cote d'Ivoire/Gbeke/Bouaké/Brobo/Langbabokohoun",
          "Cote d'Ivoire/Gbeke/Bouaké/Djebonoua/Lokassou",
          "Cote d'Ivoire/Gbeke/Bouaké/Djébonoua/Lokassou (Bassin de Assengou)",
          "Cote d'Ivoire/San Pedro/Tabou/DJOUROUTOU/MAHINO1",
          "Cote d'Ivoire/San Pedro/Tabou/DJOUROUTOU/Mahino 3",
          "Cote d'Ivoire/San Pedro/Tabou/DJOUROUTOU/Mahino1",
          "Cote d'Ivoire/San Pedro/Tabou/DJOUROUTOU/Mahino2",
          "Cote d'Ivoire/San Pedro/Tabou/DJOUROUTOU/Mahino3",
          "Cote d'Ivoire/Gbeke/Béoumi/Ando-Kékrénou/Mandanou",
          "Cote d'Ivoire/San Pedro/Tabou/Tabou/Mané",
          "Cote d'Ivoire/Gbeke/Béoumi/Bodokro/N?dakro",
          "Cote d'Ivoire/Gbeke/Botro/Krofoinsou/N?zikro",
          "Cote d'Ivoire/San Pedro/Tabou/Grabo/Nouin",
          "Cote d'Ivoire/San Pedro/Tabou/Olodio/Olodio",
          "Cote d'Ivoire/San Pedro/San-Pédro/Grand bereby/Oueoulo",
          "Cote d'Ivoire/San Pedro/San-Pédro/Grand bereby/Oulibio",
          "Cote d'Ivoire/San Pedro/Tabou/DJOUROUTOU/PARA",
          "Cote d'Ivoire/San Pedro/Tabou/DJOUROUTOU/Para",
          "Cote d'Ivoire/San Pedro/Tabou/DJOUROUTOU/Plateau",
          "Cote d'Ivoire/Gbeke/Béoumi/N?guessankro/Plibo",
          "Cote d'Ivoire/Gbeke/Bouaké/Djébonoua/Plongo(Bassin de Djébonoua)",
          "Cote d'Ivoire/Gbeke/Bouaké/COMMUNE DE Bouake/Raffierkro",
          "Cote d'Ivoire/San Pedro/Tabou/Olodio/Seh",
          "Cote d'Ivoire/San Pedro/Tabou/Grabo/Siahé",
          "Cote d'Ivoire/Gbeke/Botro/Diabo/Sinzèkro",
          "Cote d'Ivoire/Gbeke/Sakassou/Djibri Assirikro/Sola-Bonikro",
          "Cote d'Ivoire/Gbeke/Sakassou/Ayaou-Sran/Sran-Belakro",
          "Cote d'Ivoire/Gbeke/Bouaké/Brobo/Takassou (Bassin de Mamini.)",
          "Cote d'Ivoire/Gbeke/Botro/Brobo/Takassou(Bassin de Saminikro)",
          "Cote d'Ivoire/San Pedro/San-Pédro/Gabiadji/Touih",
          "Cote d'Ivoire/San Pedro/San-Pédro/Grand bereby/Wouhasso",
          "Cote d'Ivoire/Gbeke/Bouaké/Brobo/Yéguébo-Bouakro",
          "Cote d'Ivoire/Gbeke/Bouaké/Brobo/Zougban (Bassin de Saminikro)",
          "Cote d'Ivoire/Gbeke/Béoumi/Ando-Kékrénou",
          "Cote d'Ivoire/Gbeke/Sakassou/Ayaou-Sran",
          "Cote d'Ivoire/Gbeke/Béoumi/Bodokro",
          "Cote d'Ivoire/Gbeke/Bouaké/Bouaké",
          "Cote d'Ivoire/Gbeke/Botro/Brobo",
          "Cote d'Ivoire/Gbeke/Bouaké/Brobo",
          "Cote d'Ivoire/Gbeke/Béoumi/Béoumi",
          "Cote d'Ivoire/Gbeke/Bouaké/COMMUNE DE Bouake",
          "Cote d'Ivoire/Gbeke/Bouaké/Commune de Bouake",
          "Cote d'Ivoire/Gbeke/Bouaké/Commune de Bouaké",
          "Cote d'Ivoire/San Pedro/Tabou/DJOUROUTOU",
          "Cote d'Ivoire/Gbeke/Botro/Diabo",
          "Cote d'Ivoire/Gbeke/Sakassou/Dibri",
          "Cote d'Ivoire/Gbeke/Sakassou/Dibri Assrikro",
          "Cote d'Ivoire/Gbeke/Bouaké/Djebonoua",
          "Cote d'Ivoire/Gbeke/Sakassou/Djibri Assirikro",
          "Cote d'Ivoire/San Pedro/San-Pédro/Djihimbo",
          "Cote d'Ivoire/Gbeke/Bouaké/Djébonoua",
          "Cote d'Ivoire/San Pedro/San-Pédro/Dogbo",
          "Cote d'Ivoire/San Pedro/San-Pédro/Gabiadji",
          "Cote d'Ivoire/San Pedro/San-Pédro/Gnity",
          "Cote d'Ivoire/San Pedro/Tabou/Grabo",
          "Cote d'Ivoire/San Pedro/San-Pédro/Grand bereby",
          "Cote d'Ivoire/Gbeke/Botro/Krofoinsou",
          "Cote d'Ivoire/Gbeke/Botro/Languibonou",
          "Cote d'Ivoire/Gbeke/Béoumi/Lolobo",
          "Cote d'Ivoire/Gbeke/Béoumi/N?guessankro",
          "Cote d'Ivoire/San Pedro/Tabou/Olodio",
          "Cote d'Ivoire/Gbeke/Sakassou/Sakassou",
          "Cote d'Ivoire/San Pedro/Tabou/Tabou",
          "Cote d'Ivoire/Gbeke/Botro",
          "Cote d'Ivoire/Gbeke/Bouaké",
          "Cote d'Ivoire/Gbeke/Béoumi",
          "Cote d'Ivoire/Gbeke/Sakassou",
          "Cote d'Ivoire/San Pedro/San-Pédro",
          "Cote d'Ivoire/San Pedro/Tabou",
          "Cote d'Ivoire/Gbeke",
          "Cote d'Ivoire/San Pedro",
          "Cote d'Ivoire"
         ],
         "labels": [
          "Abouzè-kouadiokro",
          "Adjamene",
          "Adjougouansou",
          "Afotobo",
          "Ahodji(Raffierkro)",
          "Akadiafoué",
          "Akanzakro",
          "Akété",
          "Andokro-Kouakou",
          "Angokoun-Kpangbassou",
          "Assengou",
          "Assouakro",
          "Belle-Ahoukro (Akanzakro)",
          "Belle-Ahoukro 3(Akanzakro)",
          "Beoué",
          "Blahou",
          "Bledie",
          "Bounda",
          "DJOUROUTOU",
          "Debablai",
          "Diéviessou",
          "Djihimbo",
          "Djihouloké",
          "Djikla",
          "Djourou",
          "Fahe",
          "Fahris_Oko",
          "Fahris_Oko (Bassin de Kahankro)",
          "Fahris_Oko(Bassin de Kahankro)",
          "GBAROU",
          "Gbangbokro",
          "Gbapet",
          "Gbarou",
          "Gnity",
          "Gomo( Bassin Assouakro)",
          "Gomo(Bassin  de Assouakro)",
          "Grobonou dan",
          "Hannié",
          "Heremakono",
          "Hyrré",
          "Klodio",
          "Koblékro(Kongonibo)",
          "Kouadianikro (Bounda)",
          "Kouakou kouadiokro (Bassin de Yéguébo-Bouakro)",
          "Kouakou kouadiokro(Bassin  de Yéguébo-Bouakro)",
          "Krofoinsou",
          "Langbabokohoun",
          "Lokassou",
          "Lokassou (Bassin de Assengou)",
          "MAHINO1",
          "Mahino 3",
          "Mahino1",
          "Mahino2",
          "Mahino3",
          "Mandanou",
          "Mané",
          "N?dakro",
          "N?zikro",
          "Nouin",
          "Olodio",
          "Oueoulo",
          "Oulibio",
          "PARA",
          "Para",
          "Plateau",
          "Plibo",
          "Plongo(Bassin de Djébonoua)",
          "Raffierkro",
          "Seh",
          "Siahé",
          "Sinzèkro",
          "Sola-Bonikro",
          "Sran-Belakro",
          "Takassou (Bassin de Mamini.)",
          "Takassou(Bassin de Saminikro)",
          "Touih",
          "Wouhasso",
          "Yéguébo-Bouakro",
          "Zougban (Bassin de Saminikro)",
          "Ando-Kékrénou",
          "Ayaou-Sran",
          "Bodokro",
          "Bouaké",
          "Brobo",
          "Brobo",
          "Béoumi",
          "COMMUNE DE Bouake",
          "Commune de Bouake",
          "Commune de Bouaké",
          "DJOUROUTOU",
          "Diabo",
          "Dibri",
          "Dibri Assrikro",
          "Djebonoua",
          "Djibri Assirikro",
          "Djihimbo",
          "Djébonoua",
          "Dogbo",
          "Gabiadji",
          "Gnity",
          "Grabo",
          "Grand bereby",
          "Krofoinsou",
          "Languibonou",
          "Lolobo",
          "N?guessankro",
          "Olodio",
          "Sakassou",
          "Tabou",
          "Botro",
          "Bouaké",
          "Béoumi",
          "Sakassou",
          "San-Pédro",
          "Tabou",
          "Gbeke",
          "San Pedro",
          "Cote d'Ivoire"
         ],
         "name": "",
         "parents": [
          "Cote d'Ivoire/Gbeke/Béoumi/Lolobo",
          "Cote d'Ivoire/San Pedro/San-Pédro/Grand bereby",
          "Cote d'Ivoire/Gbeke/Sakassou/Djibri Assirikro",
          "Cote d'Ivoire/Gbeke/Béoumi/Béoumi",
          "Cote d'Ivoire/Gbeke/Bouaké/Commune de Bouaké",
          "Cote d'Ivoire/Gbeke/Béoumi/Béoumi",
          "Cote d'Ivoire/Gbeke/Bouaké/Bouaké",
          "Cote d'Ivoire/Gbeke/Sakassou/Sakassou",
          "Cote d'Ivoire/Gbeke/Botro/Languibonou",
          "Cote d'Ivoire/Gbeke/Botro/Languibonou",
          "Cote d'Ivoire/Gbeke/Bouaké/Djebonoua",
          "Cote d'Ivoire/Gbeke/Bouaké/Djébonoua",
          "Cote d'Ivoire/Gbeke/Sakassou/Dibri",
          "Cote d'Ivoire/Gbeke/Sakassou/Dibri Assrikro",
          "Cote d'Ivoire/San Pedro/Tabou/DJOUROUTOU",
          "Cote d'Ivoire/San Pedro/San-Pédro/Gabiadji",
          "Cote d'Ivoire/San Pedro/San-Pédro/Dogbo",
          "Cote d'Ivoire/Gbeke/Bouaké/Brobo",
          "Cote d'Ivoire/San Pedro/Tabou/DJOUROUTOU",
          "Cote d'Ivoire/San Pedro/Tabou/Grabo",
          "Cote d'Ivoire/Gbeke/Béoumi/Béoumi",
          "Cote d'Ivoire/San Pedro/San-Pédro/Djihimbo",
          "Cote d'Ivoire/San Pedro/Tabou/Tabou",
          "Cote d'Ivoire/San Pedro/San-Pédro/Grand bereby",
          "Cote d'Ivoire/San Pedro/San-Pédro/Grand bereby",
          "Cote d'Ivoire/San Pedro/San-Pédro/Gabiadji",
          "Cote d'Ivoire/Gbeke/Bouaké/Commune de Bouaké",
          "Cote d'Ivoire/Gbeke/Bouaké/Commune de Bouake",
          "Cote d'Ivoire/Gbeke/Bouaké/Commune de Bouake",
          "Cote d'Ivoire/San Pedro/Tabou/DJOUROUTOU",
          "Cote d'Ivoire/San Pedro/San-Pédro/Gnity",
          "Cote d'Ivoire/San Pedro/Tabou/Grabo",
          "Cote d'Ivoire/San Pedro/Tabou/DJOUROUTOU",
          "Cote d'Ivoire/San Pedro/San-Pédro/Gabiadji",
          "Cote d'Ivoire/Gbeke/Bouaké/Djébonoua",
          "Cote d'Ivoire/Gbeke/Bouaké/Djébonoua",
          "Cote d'Ivoire/San Pedro/San-Pédro/Gabiadji",
          "Cote d'Ivoire/San Pedro/Tabou/DJOUROUTOU",
          "Cote d'Ivoire/San Pedro/San-Pédro/Dogbo",
          "Cote d'Ivoire/San Pedro/Tabou/Tabou",
          "Cote d'Ivoire/San Pedro/Tabou/Olodio",
          "Cote d'Ivoire/Gbeke/Bouaké/Commune de Bouaké",
          "Cote d'Ivoire/Gbeke/Bouaké/Brobo",
          "Cote d'Ivoire/Gbeke/Bouaké/Brobo",
          "Cote d'Ivoire/Gbeke/Bouaké/Brobo",
          "Cote d'Ivoire/Gbeke/Botro/Krofoinsou",
          "Cote d'Ivoire/Gbeke/Bouaké/Brobo",
          "Cote d'Ivoire/Gbeke/Bouaké/Djebonoua",
          "Cote d'Ivoire/Gbeke/Bouaké/Djébonoua",
          "Cote d'Ivoire/San Pedro/Tabou/DJOUROUTOU",
          "Cote d'Ivoire/San Pedro/Tabou/DJOUROUTOU",
          "Cote d'Ivoire/San Pedro/Tabou/DJOUROUTOU",
          "Cote d'Ivoire/San Pedro/Tabou/DJOUROUTOU",
          "Cote d'Ivoire/San Pedro/Tabou/DJOUROUTOU",
          "Cote d'Ivoire/Gbeke/Béoumi/Ando-Kékrénou",
          "Cote d'Ivoire/San Pedro/Tabou/Tabou",
          "Cote d'Ivoire/Gbeke/Béoumi/Bodokro",
          "Cote d'Ivoire/Gbeke/Botro/Krofoinsou",
          "Cote d'Ivoire/San Pedro/Tabou/Grabo",
          "Cote d'Ivoire/San Pedro/Tabou/Olodio",
          "Cote d'Ivoire/San Pedro/San-Pédro/Grand bereby",
          "Cote d'Ivoire/San Pedro/San-Pédro/Grand bereby",
          "Cote d'Ivoire/San Pedro/Tabou/DJOUROUTOU",
          "Cote d'Ivoire/San Pedro/Tabou/DJOUROUTOU",
          "Cote d'Ivoire/San Pedro/Tabou/DJOUROUTOU",
          "Cote d'Ivoire/Gbeke/Béoumi/N?guessankro",
          "Cote d'Ivoire/Gbeke/Bouaké/Djébonoua",
          "Cote d'Ivoire/Gbeke/Bouaké/COMMUNE DE Bouake",
          "Cote d'Ivoire/San Pedro/Tabou/Olodio",
          "Cote d'Ivoire/San Pedro/Tabou/Grabo",
          "Cote d'Ivoire/Gbeke/Botro/Diabo",
          "Cote d'Ivoire/Gbeke/Sakassou/Djibri Assirikro",
          "Cote d'Ivoire/Gbeke/Sakassou/Ayaou-Sran",
          "Cote d'Ivoire/Gbeke/Bouaké/Brobo",
          "Cote d'Ivoire/Gbeke/Botro/Brobo",
          "Cote d'Ivoire/San Pedro/San-Pédro/Gabiadji",
          "Cote d'Ivoire/San Pedro/San-Pédro/Grand bereby",
          "Cote d'Ivoire/Gbeke/Bouaké/Brobo",
          "Cote d'Ivoire/Gbeke/Bouaké/Brobo",
          "Cote d'Ivoire/Gbeke/Béoumi",
          "Cote d'Ivoire/Gbeke/Sakassou",
          "Cote d'Ivoire/Gbeke/Béoumi",
          "Cote d'Ivoire/Gbeke/Bouaké",
          "Cote d'Ivoire/Gbeke/Botro",
          "Cote d'Ivoire/Gbeke/Bouaké",
          "Cote d'Ivoire/Gbeke/Béoumi",
          "Cote d'Ivoire/Gbeke/Bouaké",
          "Cote d'Ivoire/Gbeke/Bouaké",
          "Cote d'Ivoire/Gbeke/Bouaké",
          "Cote d'Ivoire/San Pedro/Tabou",
          "Cote d'Ivoire/Gbeke/Botro",
          "Cote d'Ivoire/Gbeke/Sakassou",
          "Cote d'Ivoire/Gbeke/Sakassou",
          "Cote d'Ivoire/Gbeke/Bouaké",
          "Cote d'Ivoire/Gbeke/Sakassou",
          "Cote d'Ivoire/San Pedro/San-Pédro",
          "Cote d'Ivoire/Gbeke/Bouaké",
          "Cote d'Ivoire/San Pedro/San-Pédro",
          "Cote d'Ivoire/San Pedro/San-Pédro",
          "Cote d'Ivoire/San Pedro/San-Pédro",
          "Cote d'Ivoire/San Pedro/Tabou",
          "Cote d'Ivoire/San Pedro/San-Pédro",
          "Cote d'Ivoire/Gbeke/Botro",
          "Cote d'Ivoire/Gbeke/Botro",
          "Cote d'Ivoire/Gbeke/Béoumi",
          "Cote d'Ivoire/Gbeke/Béoumi",
          "Cote d'Ivoire/San Pedro/Tabou",
          "Cote d'Ivoire/Gbeke/Sakassou",
          "Cote d'Ivoire/San Pedro/Tabou",
          "Cote d'Ivoire/Gbeke",
          "Cote d'Ivoire/Gbeke",
          "Cote d'Ivoire/Gbeke",
          "Cote d'Ivoire/Gbeke",
          "Cote d'Ivoire/San Pedro",
          "Cote d'Ivoire/San Pedro",
          "Cote d'Ivoire",
          "Cote d'Ivoire",
          ""
         ],
         "type": "treemap",
         "values": [
          1,
          13,
          6,
          3,
          1,
          3,
          5,
          1,
          4,
          6,
          1,
          2,
          1,
          1,
          5,
          5,
          17,
          1,
          12,
          6,
          7,
          5,
          1,
          3,
          1,
          4,
          1,
          1,
          1,
          1,
          1,
          8,
          2,
          10,
          1,
          1,
          11,
          18,
          12,
          1,
          1,
          1,
          1,
          1,
          1,
          4,
          1,
          3,
          2,
          1,
          3,
          13,
          1,
          4,
          2,
          2,
          4,
          2,
          2,
          5,
          9,
          1,
          7,
          5,
          1,
          2,
          1,
          3,
          1,
          4,
          1,
          3,
          2,
          1,
          1,
          1,
          3,
          1,
          1,
          2,
          2,
          4,
          5,
          1,
          8,
          13,
          3,
          2,
          3,
          73,
          1,
          1,
          1,
          4,
          9,
          5,
          7,
          29,
          31,
          1,
          20,
          30,
          6,
          10,
          1,
          2,
          7,
          1,
          4,
          18,
          32,
          22,
          14,
          96,
          104,
          86,
          200,
          286
         ]
        }
       ],
       "layout": {
        "legend": {
         "tracegroupgap": 0
        },
        "margin": {
         "t": 60
        },
        "template": {
         "data": {
          "bar": [
           {
            "error_x": {
             "color": "#2a3f5f"
            },
            "error_y": {
             "color": "#2a3f5f"
            },
            "marker": {
             "line": {
              "color": "#E5ECF6",
              "width": 0.5
             },
             "pattern": {
              "fillmode": "overlay",
              "size": 10,
              "solidity": 0.2
             }
            },
            "type": "bar"
           }
          ],
          "barpolar": [
           {
            "marker": {
             "line": {
              "color": "#E5ECF6",
              "width": 0.5
             },
             "pattern": {
              "fillmode": "overlay",
              "size": 10,
              "solidity": 0.2
             }
            },
            "type": "barpolar"
           }
          ],
          "carpet": [
           {
            "aaxis": {
             "endlinecolor": "#2a3f5f",
             "gridcolor": "white",
             "linecolor": "white",
             "minorgridcolor": "white",
             "startlinecolor": "#2a3f5f"
            },
            "baxis": {
             "endlinecolor": "#2a3f5f",
             "gridcolor": "white",
             "linecolor": "white",
             "minorgridcolor": "white",
             "startlinecolor": "#2a3f5f"
            },
            "type": "carpet"
           }
          ],
          "choropleth": [
           {
            "colorbar": {
             "outlinewidth": 0,
             "ticks": ""
            },
            "type": "choropleth"
           }
          ],
          "contour": [
           {
            "colorbar": {
             "outlinewidth": 0,
             "ticks": ""
            },
            "colorscale": [
             [
              0,
              "#0d0887"
             ],
             [
              0.1111111111111111,
              "#46039f"
             ],
             [
              0.2222222222222222,
              "#7201a8"
             ],
             [
              0.3333333333333333,
              "#9c179e"
             ],
             [
              0.4444444444444444,
              "#bd3786"
             ],
             [
              0.5555555555555556,
              "#d8576b"
             ],
             [
              0.6666666666666666,
              "#ed7953"
             ],
             [
              0.7777777777777778,
              "#fb9f3a"
             ],
             [
              0.8888888888888888,
              "#fdca26"
             ],
             [
              1,
              "#f0f921"
             ]
            ],
            "type": "contour"
           }
          ],
          "contourcarpet": [
           {
            "colorbar": {
             "outlinewidth": 0,
             "ticks": ""
            },
            "type": "contourcarpet"
           }
          ],
          "heatmap": [
           {
            "colorbar": {
             "outlinewidth": 0,
             "ticks": ""
            },
            "colorscale": [
             [
              0,
              "#0d0887"
             ],
             [
              0.1111111111111111,
              "#46039f"
             ],
             [
              0.2222222222222222,
              "#7201a8"
             ],
             [
              0.3333333333333333,
              "#9c179e"
             ],
             [
              0.4444444444444444,
              "#bd3786"
             ],
             [
              0.5555555555555556,
              "#d8576b"
             ],
             [
              0.6666666666666666,
              "#ed7953"
             ],
             [
              0.7777777777777778,
              "#fb9f3a"
             ],
             [
              0.8888888888888888,
              "#fdca26"
             ],
             [
              1,
              "#f0f921"
             ]
            ],
            "type": "heatmap"
           }
          ],
          "heatmapgl": [
           {
            "colorbar": {
             "outlinewidth": 0,
             "ticks": ""
            },
            "colorscale": [
             [
              0,
              "#0d0887"
             ],
             [
              0.1111111111111111,
              "#46039f"
             ],
             [
              0.2222222222222222,
              "#7201a8"
             ],
             [
              0.3333333333333333,
              "#9c179e"
             ],
             [
              0.4444444444444444,
              "#bd3786"
             ],
             [
              0.5555555555555556,
              "#d8576b"
             ],
             [
              0.6666666666666666,
              "#ed7953"
             ],
             [
              0.7777777777777778,
              "#fb9f3a"
             ],
             [
              0.8888888888888888,
              "#fdca26"
             ],
             [
              1,
              "#f0f921"
             ]
            ],
            "type": "heatmapgl"
           }
          ],
          "histogram": [
           {
            "marker": {
             "pattern": {
              "fillmode": "overlay",
              "size": 10,
              "solidity": 0.2
             }
            },
            "type": "histogram"
           }
          ],
          "histogram2d": [
           {
            "colorbar": {
             "outlinewidth": 0,
             "ticks": ""
            },
            "colorscale": [
             [
              0,
              "#0d0887"
             ],
             [
              0.1111111111111111,
              "#46039f"
             ],
             [
              0.2222222222222222,
              "#7201a8"
             ],
             [
              0.3333333333333333,
              "#9c179e"
             ],
             [
              0.4444444444444444,
              "#bd3786"
             ],
             [
              0.5555555555555556,
              "#d8576b"
             ],
             [
              0.6666666666666666,
              "#ed7953"
             ],
             [
              0.7777777777777778,
              "#fb9f3a"
             ],
             [
              0.8888888888888888,
              "#fdca26"
             ],
             [
              1,
              "#f0f921"
             ]
            ],
            "type": "histogram2d"
           }
          ],
          "histogram2dcontour": [
           {
            "colorbar": {
             "outlinewidth": 0,
             "ticks": ""
            },
            "colorscale": [
             [
              0,
              "#0d0887"
             ],
             [
              0.1111111111111111,
              "#46039f"
             ],
             [
              0.2222222222222222,
              "#7201a8"
             ],
             [
              0.3333333333333333,
              "#9c179e"
             ],
             [
              0.4444444444444444,
              "#bd3786"
             ],
             [
              0.5555555555555556,
              "#d8576b"
             ],
             [
              0.6666666666666666,
              "#ed7953"
             ],
             [
              0.7777777777777778,
              "#fb9f3a"
             ],
             [
              0.8888888888888888,
              "#fdca26"
             ],
             [
              1,
              "#f0f921"
             ]
            ],
            "type": "histogram2dcontour"
           }
          ],
          "mesh3d": [
           {
            "colorbar": {
             "outlinewidth": 0,
             "ticks": ""
            },
            "type": "mesh3d"
           }
          ],
          "parcoords": [
           {
            "line": {
             "colorbar": {
              "outlinewidth": 0,
              "ticks": ""
             }
            },
            "type": "parcoords"
           }
          ],
          "pie": [
           {
            "automargin": true,
            "type": "pie"
           }
          ],
          "scatter": [
           {
            "fillpattern": {
             "fillmode": "overlay",
             "size": 10,
             "solidity": 0.2
            },
            "type": "scatter"
           }
          ],
          "scatter3d": [
           {
            "line": {
             "colorbar": {
              "outlinewidth": 0,
              "ticks": ""
             }
            },
            "marker": {
             "colorbar": {
              "outlinewidth": 0,
              "ticks": ""
             }
            },
            "type": "scatter3d"
           }
          ],
          "scattercarpet": [
           {
            "marker": {
             "colorbar": {
              "outlinewidth": 0,
              "ticks": ""
             }
            },
            "type": "scattercarpet"
           }
          ],
          "scattergeo": [
           {
            "marker": {
             "colorbar": {
              "outlinewidth": 0,
              "ticks": ""
             }
            },
            "type": "scattergeo"
           }
          ],
          "scattergl": [
           {
            "marker": {
             "colorbar": {
              "outlinewidth": 0,
              "ticks": ""
             }
            },
            "type": "scattergl"
           }
          ],
          "scattermapbox": [
           {
            "marker": {
             "colorbar": {
              "outlinewidth": 0,
              "ticks": ""
             }
            },
            "type": "scattermapbox"
           }
          ],
          "scatterpolar": [
           {
            "marker": {
             "colorbar": {
              "outlinewidth": 0,
              "ticks": ""
             }
            },
            "type": "scatterpolar"
           }
          ],
          "scatterpolargl": [
           {
            "marker": {
             "colorbar": {
              "outlinewidth": 0,
              "ticks": ""
             }
            },
            "type": "scatterpolargl"
           }
          ],
          "scatterternary": [
           {
            "marker": {
             "colorbar": {
              "outlinewidth": 0,
              "ticks": ""
             }
            },
            "type": "scatterternary"
           }
          ],
          "surface": [
           {
            "colorbar": {
             "outlinewidth": 0,
             "ticks": ""
            },
            "colorscale": [
             [
              0,
              "#0d0887"
             ],
             [
              0.1111111111111111,
              "#46039f"
             ],
             [
              0.2222222222222222,
              "#7201a8"
             ],
             [
              0.3333333333333333,
              "#9c179e"
             ],
             [
              0.4444444444444444,
              "#bd3786"
             ],
             [
              0.5555555555555556,
              "#d8576b"
             ],
             [
              0.6666666666666666,
              "#ed7953"
             ],
             [
              0.7777777777777778,
              "#fb9f3a"
             ],
             [
              0.8888888888888888,
              "#fdca26"
             ],
             [
              1,
              "#f0f921"
             ]
            ],
            "type": "surface"
           }
          ],
          "table": [
           {
            "cells": {
             "fill": {
              "color": "#EBF0F8"
             },
             "line": {
              "color": "white"
             }
            },
            "header": {
             "fill": {
              "color": "#C8D4E3"
             },
             "line": {
              "color": "white"
             }
            },
            "type": "table"
           }
          ]
         },
         "layout": {
          "annotationdefaults": {
           "arrowcolor": "#2a3f5f",
           "arrowhead": 0,
           "arrowwidth": 1
          },
          "autotypenumbers": "strict",
          "coloraxis": {
           "colorbar": {
            "outlinewidth": 0,
            "ticks": ""
           }
          },
          "colorscale": {
           "diverging": [
            [
             0,
             "#8e0152"
            ],
            [
             0.1,
             "#c51b7d"
            ],
            [
             0.2,
             "#de77ae"
            ],
            [
             0.3,
             "#f1b6da"
            ],
            [
             0.4,
             "#fde0ef"
            ],
            [
             0.5,
             "#f7f7f7"
            ],
            [
             0.6,
             "#e6f5d0"
            ],
            [
             0.7,
             "#b8e186"
            ],
            [
             0.8,
             "#7fbc41"
            ],
            [
             0.9,
             "#4d9221"
            ],
            [
             1,
             "#276419"
            ]
           ],
           "sequential": [
            [
             0,
             "#0d0887"
            ],
            [
             0.1111111111111111,
             "#46039f"
            ],
            [
             0.2222222222222222,
             "#7201a8"
            ],
            [
             0.3333333333333333,
             "#9c179e"
            ],
            [
             0.4444444444444444,
             "#bd3786"
            ],
            [
             0.5555555555555556,
             "#d8576b"
            ],
            [
             0.6666666666666666,
             "#ed7953"
            ],
            [
             0.7777777777777778,
             "#fb9f3a"
            ],
            [
             0.8888888888888888,
             "#fdca26"
            ],
            [
             1,
             "#f0f921"
            ]
           ],
           "sequentialminus": [
            [
             0,
             "#0d0887"
            ],
            [
             0.1111111111111111,
             "#46039f"
            ],
            [
             0.2222222222222222,
             "#7201a8"
            ],
            [
             0.3333333333333333,
             "#9c179e"
            ],
            [
             0.4444444444444444,
             "#bd3786"
            ],
            [
             0.5555555555555556,
             "#d8576b"
            ],
            [
             0.6666666666666666,
             "#ed7953"
            ],
            [
             0.7777777777777778,
             "#fb9f3a"
            ],
            [
             0.8888888888888888,
             "#fdca26"
            ],
            [
             1,
             "#f0f921"
            ]
           ]
          },
          "colorway": [
           "#636efa",
           "#EF553B",
           "#00cc96",
           "#ab63fa",
           "#FFA15A",
           "#19d3f3",
           "#FF6692",
           "#B6E880",
           "#FF97FF",
           "#FECB52"
          ],
          "font": {
           "color": "#2a3f5f"
          },
          "geo": {
           "bgcolor": "white",
           "lakecolor": "white",
           "landcolor": "#E5ECF6",
           "showlakes": true,
           "showland": true,
           "subunitcolor": "white"
          },
          "hoverlabel": {
           "align": "left"
          },
          "hovermode": "closest",
          "mapbox": {
           "style": "light"
          },
          "paper_bgcolor": "white",
          "plot_bgcolor": "#E5ECF6",
          "polar": {
           "angularaxis": {
            "gridcolor": "white",
            "linecolor": "white",
            "ticks": ""
           },
           "bgcolor": "#E5ECF6",
           "radialaxis": {
            "gridcolor": "white",
            "linecolor": "white",
            "ticks": ""
           }
          },
          "scene": {
           "xaxis": {
            "backgroundcolor": "#E5ECF6",
            "gridcolor": "white",
            "gridwidth": 2,
            "linecolor": "white",
            "showbackground": true,
            "ticks": "",
            "zerolinecolor": "white"
           },
           "yaxis": {
            "backgroundcolor": "#E5ECF6",
            "gridcolor": "white",
            "gridwidth": 2,
            "linecolor": "white",
            "showbackground": true,
            "ticks": "",
            "zerolinecolor": "white"
           },
           "zaxis": {
            "backgroundcolor": "#E5ECF6",
            "gridcolor": "white",
            "gridwidth": 2,
            "linecolor": "white",
            "showbackground": true,
            "ticks": "",
            "zerolinecolor": "white"
           }
          },
          "shapedefaults": {
           "line": {
            "color": "#2a3f5f"
           }
          },
          "ternary": {
           "aaxis": {
            "gridcolor": "white",
            "linecolor": "white",
            "ticks": ""
           },
           "baxis": {
            "gridcolor": "white",
            "linecolor": "white",
            "ticks": ""
           },
           "bgcolor": "#E5ECF6",
           "caxis": {
            "gridcolor": "white",
            "linecolor": "white",
            "ticks": ""
           }
          },
          "title": {
           "x": 0.05
          },
          "xaxis": {
           "automargin": true,
           "gridcolor": "white",
           "linecolor": "white",
           "ticks": "",
           "title": {
            "standoff": 15
           },
           "zerolinecolor": "white",
           "zerolinewidth": 2
          },
          "yaxis": {
           "automargin": true,
           "gridcolor": "white",
           "linecolor": "white",
           "ticks": "",
           "title": {
            "standoff": 15
           },
           "zerolinecolor": "white",
           "zerolinewidth": 2
          }
         }
        },
        "treemapcolorway": [
         "#FF8200",
         "#009A44"
        ]
       }
      }
     },
     "metadata": {},
     "output_type": "display_data"
    }
   ],
   "source": [
    "marketb = assessment[assessment['Education access blocked by river'] != '']\n",
    "make_treemap(marketb, './home/charts/blocking_education.html', './home/charts/blocking_education.csv')"
   ]
  },
  {
   "cell_type": "code",
   "execution_count": 14,
   "metadata": {},
   "outputs": [
    {
     "data": {
      "application/vnd.plotly.v1+json": {
       "config": {
        "plotlyServerURL": "https://plot.ly"
       },
       "data": [
        {
         "branchvalues": "total",
         "domain": {
          "x": [
           0,
           1
          ],
          "y": [
           0,
           1
          ]
         },
         "hovertemplate": "labels=%{label}<br>Count=%{value}<br>parent=%{parent}<br>id=%{id}<extra></extra>",
         "ids": [
          "Cote d'Ivoire/Gbeke/Béoumi/Lolobo/Abouzè-kouadiokro",
          "Cote d'Ivoire/San Pedro/San-Pédro/Grand bereby/Adjamene",
          "Cote d'Ivoire/Gbeke/Sakassou/Djibri Assirikro/Adjougouansou",
          "Cote d'Ivoire/Gbeke/Béoumi/Béoumi/Afotobo",
          "Cote d'Ivoire/Gbeke/Bouaké/Commune de Bouaké/Ahodji(Raffierkro)",
          "Cote d'Ivoire/Gbeke/Bouaké/Brobo/Ahouzankro (Bassin  de Mamini)",
          "Cote d'Ivoire/Gbeke/Bouaké/Brobo/Ahouzankro (Bassin de Mamini)",
          "Cote d'Ivoire/Gbeke/Bouaké/Brobo/Ahouzankro Bassin de Mamini)",
          "Cote d'Ivoire/Gbeke/Béoumi/Béoumi/Akadiafoué",
          "Cote d'Ivoire/Gbeke/Bouaké/Bouaké/Akanzakro",
          "Cote d'Ivoire/Gbeke/Sakassou/Sakassou/Akété",
          "Cote d'Ivoire/Gbeke/Béoumi/Lolobo/Alloko-Sakassou",
          "Cote d'Ivoire/Gbeke/Bouaké/Brobo/Alloukro (Bassin de Mamini)",
          "Cote d'Ivoire/Gbeke/Sakassou/Sakassou/Andobo-Alluibo",
          "Cote d'Ivoire/Gbeke/Botro/Languibonou/Andokro-Kouakou",
          "Cote d'Ivoire/Gbeke/Botro/Languibonou/Angokoun-Kpangbassou",
          "Cote d'Ivoire/Gbeke/Sakassou/Sakassou/Anoufoue Bounou",
          "Cote d'Ivoire/Gbeke/Bouaké/Djebonoua/Assengou",
          "Cote d'Ivoire/Gbeke/Bouaké/Djébonoua/Assouakro",
          "Cote d'Ivoire/Gbeke/Sakassou/Dibri/Belle-Ahoukro (Akanzakro)",
          "Cote d'Ivoire/Gbeke/Sakassou/Dibri Assrikro/Belle-Ahoukro 3(Akanzakro)",
          "Cote d'Ivoire/Gbeke/Sakassou/Dibri Assrikro/Belle-Ahoukro(Akanzakro)",
          "Cote d'Ivoire/San Pedro/Tabou/DJOUROUTOU/Beoué",
          "Cote d'Ivoire/San Pedro/San-Pédro/Gabiadji/Blahou",
          "Cote d'Ivoire/San Pedro/San-Pédro/Dogbo/Bledie",
          "Cote d'Ivoire/Gbeke/Bouaké/Brobo/Bobokro",
          "Cote d'Ivoire/Gbeke/Bouaké/Brobo/Bobokro (Bassin de Mamini)",
          "Cote d'Ivoire/Gbeke/Bouaké/Brobo/Bobokro (Mamini)",
          "Cote d'Ivoire/Gbeke/Bouaké/Brobo/Bounda",
          "Cote d'Ivoire/Gbeke/Botro/Languibonou/Béhéké (Bassin de  Languibonou)",
          "Cote d'Ivoire/Gbeke/Botro/Languibonou/Béhéké (Bassin de Klèmèkro)",
          "Cote d'Ivoire/Gbeke/Botro/Languibonou/Béhéké (Bassin de Languibonou)",
          "Cote d'Ivoire/Gbeke/Botro/Languibonou/Béhéké (Languibonou)",
          "Cote d'Ivoire/Gbeke/Botro/Languibonou/Béhéké(Bassin de Klèmèkro)",
          "Cote d'Ivoire/Gbeke/Botro/Languibonou/Béhéké(Bassin de Languibonou)",
          "Cote d'Ivoire/San Pedro/Tabou/DJOUROUTOU/DJOUROUTOU",
          "Cote d'Ivoire/San Pedro/Tabou/Grabo/Debablai",
          "Cote d'Ivoire/Gbeke/Béoumi/Lolobo/Diéribanou",
          "Cote d'Ivoire/Gbeke/Béoumi/Lolobo/Diéribanouan",
          "Cote d'Ivoire/Gbeke/Béoumi/Béoumi/Diéviessou",
          "Cote d'Ivoire/San Pedro/San-Pédro/Djihimbo/Djihimbo",
          "Cote d'Ivoire/San Pedro/Tabou/Tabou/Djihouloké",
          "Cote d'Ivoire/San Pedro/San-Pédro/Grand bereby/Djikla",
          "Cote d'Ivoire/San Pedro/San-Pédro/Grand bereby/Djourou",
          "Cote d'Ivoire/San Pedro/San-Pédro/Gabiadji/Fahe",
          "Cote d'Ivoire/Gbeke/Bouaké/Commune de Bouaké/Fahris_Oko",
          "Cote d'Ivoire/Gbeke/Bouaké/Commune de Bouaké/Fahris_Oko (Kahankro)",
          "Cote d'Ivoire/San Pedro/Tabou/DJOUROUTOU/GBAROU",
          "Cote d'Ivoire/San Pedro/San-Pédro/Gnity/Gbangbokro",
          "Cote d'Ivoire/San Pedro/Tabou/Grabo/Gbapet",
          "Cote d'Ivoire/San Pedro/Tabou/DJOUROUTOU/Gbarou",
          "Cote d'Ivoire/San Pedro/San-Pédro/Gabiadji/Gnity",
          "Cote d'Ivoire/Gbeke/Sakassou/Sakassou/Goliblenou",
          "Cote d'Ivoire/Gbeke/Bouaké/Djébonoua/Gomo( Bassin Assouakro)",
          "Cote d'Ivoire/Gbeke/Bouaké/Djébonoua/Gomo(Bassin  de Assouakro)",
          "Cote d'Ivoire/San Pedro/San-Pédro/Gabiadji/Grobonou  dan",
          "Cote d'Ivoire/San Pedro/San-Pédro/Gabiadji/Grobonou dan",
          "Cote d'Ivoire/San Pedro/Tabou/DJOUROUTOU/Hannié",
          "Cote d'Ivoire/San Pedro/San-Pédro/Dogbo/Heremakono",
          "Cote d'Ivoire/San Pedro/Tabou/Tabou/Hyrré",
          "Cote d'Ivoire/Gbeke/Sakassou/Sakassou/Kanango Kpli",
          "Cote d'Ivoire/San Pedro/Tabou/Olodio/Klodio",
          "Cote d'Ivoire/Gbeke/Botro/Languibonou/Klèmèkro",
          "Cote d'Ivoire/Gbeke/Botro/Languibonou/Klèmèkro (wandékouassikro)",
          "Cote d'Ivoire/Gbeke/Bouaké/Brobo/Kouadianikro",
          "Cote d'Ivoire/Gbeke/Bouaké/Brobo/Kouadianikro (Bassin de Bounda)",
          "Cote d'Ivoire/Gbeke/Bouaké/Brobo/Kouadianikro (Bounda)",
          "Cote d'Ivoire/Gbeke/Bouaké/Brobo/Kouadianikro(Bassin Bounda)",
          "Cote d'Ivoire/Gbeke/Bouaké/Brobo/Kouakou kouadiokro (Bassin de Yéguébo-Bouakro)",
          "Cote d'Ivoire/Gbeke/Bouaké/Brobo/Kouakou kouadiokro(Bassin  de Yéguébo-Bouakro)",
          "Cote d'Ivoire/Gbeke/Béoumi/Bodokro/Kouakou-Bakakro",
          "Cote d'Ivoire/Gbeke/Bouaké/Brobo/Koubékro (Bassin  Mamini)",
          "Cote d'Ivoire/Gbeke/Béoumi/Béoumi/Koumanbo",
          "Cote d'Ivoire/Gbeke/Bouaké/Brobo/Kpékékro (Bassin  de  Mamini)",
          "Cote d'Ivoire/Gbeke/Bouaké/Brobo/Kpékékro (Bassin de Mamini)",
          "Cote d'Ivoire/Gbeke/Bouaké/Brobo/Kpékékro (Mamini)",
          "Cote d'Ivoire/Gbeke/Botro/Krofoinsou/Krofoinsou",
          "Cote d'Ivoire/Gbeke/Bouaké/Brobo/Langbabokohoun",
          "Cote d'Ivoire/Gbeke/Béoumi/Ando-Kékrénou/Linguébo",
          "Cote d'Ivoire/Gbeke/Bouaké/Djebonoua/Lokassou",
          "Cote d'Ivoire/Gbeke/Bouaké/Djébonoua/Lokassou (Bassin de Assengou)",
          "Cote d'Ivoire/Gbeke/Béoumi/Lolobo/Lolobo",
          "Cote d'Ivoire/San Pedro/Tabou/DJOUROUTOU/MAHINO1",
          "Cote d'Ivoire/San Pedro/Tabou/DJOUROUTOU/Mahino 3",
          "Cote d'Ivoire/San Pedro/Tabou/DJOUROUTOU/Mahino1",
          "Cote d'Ivoire/San Pedro/Tabou/DJOUROUTOU/Mahino2",
          "Cote d'Ivoire/San Pedro/Tabou/DJOUROUTOU/Mahino3",
          "Cote d'Ivoire/Gbeke/Bouaké/Brobo/Mamini",
          "Cote d'Ivoire/Gbeke/Bouaké/Brobo/Mamini (Bassin de Mamini)",
          "Cote d'Ivoire/Gbeke/Béoumi/Ando-Kékrénou/Mandanou",
          "Cote d'Ivoire/San Pedro/Tabou/Tabou/Mané",
          "Cote d'Ivoire/Gbeke/Béoumi/Lolobo/N?Zuégouanou",
          "Cote d'Ivoire/Gbeke/Béoumi/Lolobo/N?Zègouanou",
          "Cote d'Ivoire/Gbeke/Béoumi/Bodokro/N?dakro",
          "Cote d'Ivoire/Gbeke/Botro/Krofoinsou/N?zikro",
          "Cote d'Ivoire/San Pedro/Tabou/Grabo/Nouin",
          "Cote d'Ivoire/San Pedro/Tabou/Olodio/Olodio",
          "Cote d'Ivoire/San Pedro/San-Pédro/Grand bereby/Oueoulo",
          "Cote d'Ivoire/San Pedro/San-Pédro/Grand bereby/Oulibio",
          "Cote d'Ivoire/San Pedro/Tabou/DJOUROUTOU/PARA",
          "Cote d'Ivoire/San Pedro/Tabou/DJOUROUTOU/Para",
          "Cote d'Ivoire/San Pedro/Tabou/DJOUROUTOU/Plateau",
          "Cote d'Ivoire/Gbeke/Béoumi/N?guessankro/Plibo",
          "Cote d'Ivoire/Gbeke/Bouaké/Djébonoua/Plongo (Bassin de  Kondoukro)",
          "Cote d'Ivoire/Gbeke/Bouaké/Djébonoua/Plongo (Bassin de Kondoukro)",
          "Cote d'Ivoire/Gbeke/Bouaké/Djébonoua/Plongo(Bassin de Djébonoua)",
          "Cote d'Ivoire/Gbeke/Bouaké/COMMUNE DE Bouake/Raffierkro",
          "Cote d'Ivoire/Gbeke/Bouaké/Brobo/Saminikro",
          "Cote d'Ivoire/Gbeke/Béoumi/Lolobo/Samoïkro",
          "Cote d'Ivoire/San Pedro/Tabou/Olodio/Seh",
          "Cote d'Ivoire/San Pedro/Tabou/Grabo/Siahé",
          "Cote d'Ivoire/Gbeke/Botro/Diabo/Sinzèkro",
          "Cote d'Ivoire/Gbeke/Sakassou/Djibri Assirikro/Sola-Bonikro",
          "Cote d'Ivoire/Gbeke/Sakassou/Ayaou-Sran/Sran-Belakro",
          "Cote d'Ivoire/Gbeke/Bouaké/Brobo/Takassou (Bassin de Mamini)",
          "Cote d'Ivoire/Gbeke/Bouaké/Brobo/Takassou (Bassin de Mamini.)",
          "Cote d'Ivoire/Gbeke/Bouaké/Brobo/Takassou(Bassin de Saminikro)",
          "Cote d'Ivoire/Gbeke/Bouaké/Brobo/Tanou-Broukro ( Bassin  de  Saminikro)",
          "Cote d'Ivoire/Gbeke/Bouaké/Brobo/Tanou-Broukro (Bassin de  Saminikro)",
          "Cote d'Ivoire/Gbeke/Bouaké/Brobo/Tanou-Broukro (Bassin de Saminikro)",
          "Cote d'Ivoire/Gbeke/Bouaké/Brobo/Tanou-Broukro(Bassin de Saminikro)",
          "Cote d'Ivoire/San Pedro/San-Pédro/Gabiadji/Touih",
          "Cote d'Ivoire/San Pedro/San-Pédro/Grand bereby/Wouhasso",
          "Cote d'Ivoire/Gbeke/Bouaké/Brobo/Yéguébo-Bouakro",
          "Cote d'Ivoire/Gbeke/Bouaké/Brobo/Zougban (Bassin de Saminikro)",
          "Cote d'Ivoire/Gbeke/Bouaké/Brobo/Zougban (Saminikro)",
          "Cote d'Ivoire/Gbeke/Béoumi/Ando-Kékrénou",
          "Cote d'Ivoire/Gbeke/Sakassou/Ayaou-Sran",
          "Cote d'Ivoire/Gbeke/Béoumi/Bodokro",
          "Cote d'Ivoire/Gbeke/Bouaké/Bouaké",
          "Cote d'Ivoire/Gbeke/Bouaké/Brobo",
          "Cote d'Ivoire/Gbeke/Béoumi/Béoumi",
          "Cote d'Ivoire/Gbeke/Bouaké/COMMUNE DE Bouake",
          "Cote d'Ivoire/Gbeke/Bouaké/Commune de Bouaké",
          "Cote d'Ivoire/San Pedro/Tabou/DJOUROUTOU",
          "Cote d'Ivoire/Gbeke/Botro/Diabo",
          "Cote d'Ivoire/Gbeke/Sakassou/Dibri",
          "Cote d'Ivoire/Gbeke/Sakassou/Dibri Assrikro",
          "Cote d'Ivoire/Gbeke/Bouaké/Djebonoua",
          "Cote d'Ivoire/Gbeke/Sakassou/Djibri Assirikro",
          "Cote d'Ivoire/San Pedro/San-Pédro/Djihimbo",
          "Cote d'Ivoire/Gbeke/Bouaké/Djébonoua",
          "Cote d'Ivoire/San Pedro/San-Pédro/Dogbo",
          "Cote d'Ivoire/San Pedro/San-Pédro/Gabiadji",
          "Cote d'Ivoire/San Pedro/San-Pédro/Gnity",
          "Cote d'Ivoire/San Pedro/Tabou/Grabo",
          "Cote d'Ivoire/San Pedro/San-Pédro/Grand bereby",
          "Cote d'Ivoire/Gbeke/Botro/Krofoinsou",
          "Cote d'Ivoire/Gbeke/Botro/Languibonou",
          "Cote d'Ivoire/Gbeke/Béoumi/Lolobo",
          "Cote d'Ivoire/Gbeke/Béoumi/N?guessankro",
          "Cote d'Ivoire/San Pedro/Tabou/Olodio",
          "Cote d'Ivoire/Gbeke/Sakassou/Sakassou",
          "Cote d'Ivoire/San Pedro/Tabou/Tabou",
          "Cote d'Ivoire/Gbeke/Botro",
          "Cote d'Ivoire/Gbeke/Bouaké",
          "Cote d'Ivoire/Gbeke/Béoumi",
          "Cote d'Ivoire/Gbeke/Sakassou",
          "Cote d'Ivoire/San Pedro/San-Pédro",
          "Cote d'Ivoire/San Pedro/Tabou",
          "Cote d'Ivoire/Gbeke",
          "Cote d'Ivoire/San Pedro",
          "Cote d'Ivoire"
         ],
         "labels": [
          "Abouzè-kouadiokro",
          "Adjamene",
          "Adjougouansou",
          "Afotobo",
          "Ahodji(Raffierkro)",
          "Ahouzankro (Bassin  de Mamini)",
          "Ahouzankro (Bassin de Mamini)",
          "Ahouzankro Bassin de Mamini)",
          "Akadiafoué",
          "Akanzakro",
          "Akété",
          "Alloko-Sakassou",
          "Alloukro (Bassin de Mamini)",
          "Andobo-Alluibo",
          "Andokro-Kouakou",
          "Angokoun-Kpangbassou",
          "Anoufoue Bounou",
          "Assengou",
          "Assouakro",
          "Belle-Ahoukro (Akanzakro)",
          "Belle-Ahoukro 3(Akanzakro)",
          "Belle-Ahoukro(Akanzakro)",
          "Beoué",
          "Blahou",
          "Bledie",
          "Bobokro",
          "Bobokro (Bassin de Mamini)",
          "Bobokro (Mamini)",
          "Bounda",
          "Béhéké (Bassin de  Languibonou)",
          "Béhéké (Bassin de Klèmèkro)",
          "Béhéké (Bassin de Languibonou)",
          "Béhéké (Languibonou)",
          "Béhéké(Bassin de Klèmèkro)",
          "Béhéké(Bassin de Languibonou)",
          "DJOUROUTOU",
          "Debablai",
          "Diéribanou",
          "Diéribanouan",
          "Diéviessou",
          "Djihimbo",
          "Djihouloké",
          "Djikla",
          "Djourou",
          "Fahe",
          "Fahris_Oko",
          "Fahris_Oko (Kahankro)",
          "GBAROU",
          "Gbangbokro",
          "Gbapet",
          "Gbarou",
          "Gnity",
          "Goliblenou",
          "Gomo( Bassin Assouakro)",
          "Gomo(Bassin  de Assouakro)",
          "Grobonou  dan",
          "Grobonou dan",
          "Hannié",
          "Heremakono",
          "Hyrré",
          "Kanango Kpli",
          "Klodio",
          "Klèmèkro",
          "Klèmèkro (wandékouassikro)",
          "Kouadianikro",
          "Kouadianikro (Bassin de Bounda)",
          "Kouadianikro (Bounda)",
          "Kouadianikro(Bassin Bounda)",
          "Kouakou kouadiokro (Bassin de Yéguébo-Bouakro)",
          "Kouakou kouadiokro(Bassin  de Yéguébo-Bouakro)",
          "Kouakou-Bakakro",
          "Koubékro (Bassin  Mamini)",
          "Koumanbo",
          "Kpékékro (Bassin  de  Mamini)",
          "Kpékékro (Bassin de Mamini)",
          "Kpékékro (Mamini)",
          "Krofoinsou",
          "Langbabokohoun",
          "Linguébo",
          "Lokassou",
          "Lokassou (Bassin de Assengou)",
          "Lolobo",
          "MAHINO1",
          "Mahino 3",
          "Mahino1",
          "Mahino2",
          "Mahino3",
          "Mamini",
          "Mamini (Bassin de Mamini)",
          "Mandanou",
          "Mané",
          "N?Zuégouanou",
          "N?Zègouanou",
          "N?dakro",
          "N?zikro",
          "Nouin",
          "Olodio",
          "Oueoulo",
          "Oulibio",
          "PARA",
          "Para",
          "Plateau",
          "Plibo",
          "Plongo (Bassin de  Kondoukro)",
          "Plongo (Bassin de Kondoukro)",
          "Plongo(Bassin de Djébonoua)",
          "Raffierkro",
          "Saminikro",
          "Samoïkro",
          "Seh",
          "Siahé",
          "Sinzèkro",
          "Sola-Bonikro",
          "Sran-Belakro",
          "Takassou (Bassin de Mamini)",
          "Takassou (Bassin de Mamini.)",
          "Takassou(Bassin de Saminikro)",
          "Tanou-Broukro ( Bassin  de  Saminikro)",
          "Tanou-Broukro (Bassin de  Saminikro)",
          "Tanou-Broukro (Bassin de Saminikro)",
          "Tanou-Broukro(Bassin de Saminikro)",
          "Touih",
          "Wouhasso",
          "Yéguébo-Bouakro",
          "Zougban (Bassin de Saminikro)",
          "Zougban (Saminikro)",
          "Ando-Kékrénou",
          "Ayaou-Sran",
          "Bodokro",
          "Bouaké",
          "Brobo",
          "Béoumi",
          "COMMUNE DE Bouake",
          "Commune de Bouaké",
          "DJOUROUTOU",
          "Diabo",
          "Dibri",
          "Dibri Assrikro",
          "Djebonoua",
          "Djibri Assirikro",
          "Djihimbo",
          "Djébonoua",
          "Dogbo",
          "Gabiadji",
          "Gnity",
          "Grabo",
          "Grand bereby",
          "Krofoinsou",
          "Languibonou",
          "Lolobo",
          "N?guessankro",
          "Olodio",
          "Sakassou",
          "Tabou",
          "Botro",
          "Bouaké",
          "Béoumi",
          "Sakassou",
          "San-Pédro",
          "Tabou",
          "Gbeke",
          "San Pedro",
          "Cote d'Ivoire"
         ],
         "name": "",
         "parents": [
          "Cote d'Ivoire/Gbeke/Béoumi/Lolobo",
          "Cote d'Ivoire/San Pedro/San-Pédro/Grand bereby",
          "Cote d'Ivoire/Gbeke/Sakassou/Djibri Assirikro",
          "Cote d'Ivoire/Gbeke/Béoumi/Béoumi",
          "Cote d'Ivoire/Gbeke/Bouaké/Commune de Bouaké",
          "Cote d'Ivoire/Gbeke/Bouaké/Brobo",
          "Cote d'Ivoire/Gbeke/Bouaké/Brobo",
          "Cote d'Ivoire/Gbeke/Bouaké/Brobo",
          "Cote d'Ivoire/Gbeke/Béoumi/Béoumi",
          "Cote d'Ivoire/Gbeke/Bouaké/Bouaké",
          "Cote d'Ivoire/Gbeke/Sakassou/Sakassou",
          "Cote d'Ivoire/Gbeke/Béoumi/Lolobo",
          "Cote d'Ivoire/Gbeke/Bouaké/Brobo",
          "Cote d'Ivoire/Gbeke/Sakassou/Sakassou",
          "Cote d'Ivoire/Gbeke/Botro/Languibonou",
          "Cote d'Ivoire/Gbeke/Botro/Languibonou",
          "Cote d'Ivoire/Gbeke/Sakassou/Sakassou",
          "Cote d'Ivoire/Gbeke/Bouaké/Djebonoua",
          "Cote d'Ivoire/Gbeke/Bouaké/Djébonoua",
          "Cote d'Ivoire/Gbeke/Sakassou/Dibri",
          "Cote d'Ivoire/Gbeke/Sakassou/Dibri Assrikro",
          "Cote d'Ivoire/Gbeke/Sakassou/Dibri Assrikro",
          "Cote d'Ivoire/San Pedro/Tabou/DJOUROUTOU",
          "Cote d'Ivoire/San Pedro/San-Pédro/Gabiadji",
          "Cote d'Ivoire/San Pedro/San-Pédro/Dogbo",
          "Cote d'Ivoire/Gbeke/Bouaké/Brobo",
          "Cote d'Ivoire/Gbeke/Bouaké/Brobo",
          "Cote d'Ivoire/Gbeke/Bouaké/Brobo",
          "Cote d'Ivoire/Gbeke/Bouaké/Brobo",
          "Cote d'Ivoire/Gbeke/Botro/Languibonou",
          "Cote d'Ivoire/Gbeke/Botro/Languibonou",
          "Cote d'Ivoire/Gbeke/Botro/Languibonou",
          "Cote d'Ivoire/Gbeke/Botro/Languibonou",
          "Cote d'Ivoire/Gbeke/Botro/Languibonou",
          "Cote d'Ivoire/Gbeke/Botro/Languibonou",
          "Cote d'Ivoire/San Pedro/Tabou/DJOUROUTOU",
          "Cote d'Ivoire/San Pedro/Tabou/Grabo",
          "Cote d'Ivoire/Gbeke/Béoumi/Lolobo",
          "Cote d'Ivoire/Gbeke/Béoumi/Lolobo",
          "Cote d'Ivoire/Gbeke/Béoumi/Béoumi",
          "Cote d'Ivoire/San Pedro/San-Pédro/Djihimbo",
          "Cote d'Ivoire/San Pedro/Tabou/Tabou",
          "Cote d'Ivoire/San Pedro/San-Pédro/Grand bereby",
          "Cote d'Ivoire/San Pedro/San-Pédro/Grand bereby",
          "Cote d'Ivoire/San Pedro/San-Pédro/Gabiadji",
          "Cote d'Ivoire/Gbeke/Bouaké/Commune de Bouaké",
          "Cote d'Ivoire/Gbeke/Bouaké/Commune de Bouaké",
          "Cote d'Ivoire/San Pedro/Tabou/DJOUROUTOU",
          "Cote d'Ivoire/San Pedro/San-Pédro/Gnity",
          "Cote d'Ivoire/San Pedro/Tabou/Grabo",
          "Cote d'Ivoire/San Pedro/Tabou/DJOUROUTOU",
          "Cote d'Ivoire/San Pedro/San-Pédro/Gabiadji",
          "Cote d'Ivoire/Gbeke/Sakassou/Sakassou",
          "Cote d'Ivoire/Gbeke/Bouaké/Djébonoua",
          "Cote d'Ivoire/Gbeke/Bouaké/Djébonoua",
          "Cote d'Ivoire/San Pedro/San-Pédro/Gabiadji",
          "Cote d'Ivoire/San Pedro/San-Pédro/Gabiadji",
          "Cote d'Ivoire/San Pedro/Tabou/DJOUROUTOU",
          "Cote d'Ivoire/San Pedro/San-Pédro/Dogbo",
          "Cote d'Ivoire/San Pedro/Tabou/Tabou",
          "Cote d'Ivoire/Gbeke/Sakassou/Sakassou",
          "Cote d'Ivoire/San Pedro/Tabou/Olodio",
          "Cote d'Ivoire/Gbeke/Botro/Languibonou",
          "Cote d'Ivoire/Gbeke/Botro/Languibonou",
          "Cote d'Ivoire/Gbeke/Bouaké/Brobo",
          "Cote d'Ivoire/Gbeke/Bouaké/Brobo",
          "Cote d'Ivoire/Gbeke/Bouaké/Brobo",
          "Cote d'Ivoire/Gbeke/Bouaké/Brobo",
          "Cote d'Ivoire/Gbeke/Bouaké/Brobo",
          "Cote d'Ivoire/Gbeke/Bouaké/Brobo",
          "Cote d'Ivoire/Gbeke/Béoumi/Bodokro",
          "Cote d'Ivoire/Gbeke/Bouaké/Brobo",
          "Cote d'Ivoire/Gbeke/Béoumi/Béoumi",
          "Cote d'Ivoire/Gbeke/Bouaké/Brobo",
          "Cote d'Ivoire/Gbeke/Bouaké/Brobo",
          "Cote d'Ivoire/Gbeke/Bouaké/Brobo",
          "Cote d'Ivoire/Gbeke/Botro/Krofoinsou",
          "Cote d'Ivoire/Gbeke/Bouaké/Brobo",
          "Cote d'Ivoire/Gbeke/Béoumi/Ando-Kékrénou",
          "Cote d'Ivoire/Gbeke/Bouaké/Djebonoua",
          "Cote d'Ivoire/Gbeke/Bouaké/Djébonoua",
          "Cote d'Ivoire/Gbeke/Béoumi/Lolobo",
          "Cote d'Ivoire/San Pedro/Tabou/DJOUROUTOU",
          "Cote d'Ivoire/San Pedro/Tabou/DJOUROUTOU",
          "Cote d'Ivoire/San Pedro/Tabou/DJOUROUTOU",
          "Cote d'Ivoire/San Pedro/Tabou/DJOUROUTOU",
          "Cote d'Ivoire/San Pedro/Tabou/DJOUROUTOU",
          "Cote d'Ivoire/Gbeke/Bouaké/Brobo",
          "Cote d'Ivoire/Gbeke/Bouaké/Brobo",
          "Cote d'Ivoire/Gbeke/Béoumi/Ando-Kékrénou",
          "Cote d'Ivoire/San Pedro/Tabou/Tabou",
          "Cote d'Ivoire/Gbeke/Béoumi/Lolobo",
          "Cote d'Ivoire/Gbeke/Béoumi/Lolobo",
          "Cote d'Ivoire/Gbeke/Béoumi/Bodokro",
          "Cote d'Ivoire/Gbeke/Botro/Krofoinsou",
          "Cote d'Ivoire/San Pedro/Tabou/Grabo",
          "Cote d'Ivoire/San Pedro/Tabou/Olodio",
          "Cote d'Ivoire/San Pedro/San-Pédro/Grand bereby",
          "Cote d'Ivoire/San Pedro/San-Pédro/Grand bereby",
          "Cote d'Ivoire/San Pedro/Tabou/DJOUROUTOU",
          "Cote d'Ivoire/San Pedro/Tabou/DJOUROUTOU",
          "Cote d'Ivoire/San Pedro/Tabou/DJOUROUTOU",
          "Cote d'Ivoire/Gbeke/Béoumi/N?guessankro",
          "Cote d'Ivoire/Gbeke/Bouaké/Djébonoua",
          "Cote d'Ivoire/Gbeke/Bouaké/Djébonoua",
          "Cote d'Ivoire/Gbeke/Bouaké/Djébonoua",
          "Cote d'Ivoire/Gbeke/Bouaké/COMMUNE DE Bouake",
          "Cote d'Ivoire/Gbeke/Bouaké/Brobo",
          "Cote d'Ivoire/Gbeke/Béoumi/Lolobo",
          "Cote d'Ivoire/San Pedro/Tabou/Olodio",
          "Cote d'Ivoire/San Pedro/Tabou/Grabo",
          "Cote d'Ivoire/Gbeke/Botro/Diabo",
          "Cote d'Ivoire/Gbeke/Sakassou/Djibri Assirikro",
          "Cote d'Ivoire/Gbeke/Sakassou/Ayaou-Sran",
          "Cote d'Ivoire/Gbeke/Bouaké/Brobo",
          "Cote d'Ivoire/Gbeke/Bouaké/Brobo",
          "Cote d'Ivoire/Gbeke/Bouaké/Brobo",
          "Cote d'Ivoire/Gbeke/Bouaké/Brobo",
          "Cote d'Ivoire/Gbeke/Bouaké/Brobo",
          "Cote d'Ivoire/Gbeke/Bouaké/Brobo",
          "Cote d'Ivoire/Gbeke/Bouaké/Brobo",
          "Cote d'Ivoire/San Pedro/San-Pédro/Gabiadji",
          "Cote d'Ivoire/San Pedro/San-Pédro/Grand bereby",
          "Cote d'Ivoire/Gbeke/Bouaké/Brobo",
          "Cote d'Ivoire/Gbeke/Bouaké/Brobo",
          "Cote d'Ivoire/Gbeke/Bouaké/Brobo",
          "Cote d'Ivoire/Gbeke/Béoumi",
          "Cote d'Ivoire/Gbeke/Sakassou",
          "Cote d'Ivoire/Gbeke/Béoumi",
          "Cote d'Ivoire/Gbeke/Bouaké",
          "Cote d'Ivoire/Gbeke/Bouaké",
          "Cote d'Ivoire/Gbeke/Béoumi",
          "Cote d'Ivoire/Gbeke/Bouaké",
          "Cote d'Ivoire/Gbeke/Bouaké",
          "Cote d'Ivoire/San Pedro/Tabou",
          "Cote d'Ivoire/Gbeke/Botro",
          "Cote d'Ivoire/Gbeke/Sakassou",
          "Cote d'Ivoire/Gbeke/Sakassou",
          "Cote d'Ivoire/Gbeke/Bouaké",
          "Cote d'Ivoire/Gbeke/Sakassou",
          "Cote d'Ivoire/San Pedro/San-Pédro",
          "Cote d'Ivoire/Gbeke/Bouaké",
          "Cote d'Ivoire/San Pedro/San-Pédro",
          "Cote d'Ivoire/San Pedro/San-Pédro",
          "Cote d'Ivoire/San Pedro/San-Pédro",
          "Cote d'Ivoire/San Pedro/Tabou",
          "Cote d'Ivoire/San Pedro/San-Pédro",
          "Cote d'Ivoire/Gbeke/Botro",
          "Cote d'Ivoire/Gbeke/Botro",
          "Cote d'Ivoire/Gbeke/Béoumi",
          "Cote d'Ivoire/Gbeke/Béoumi",
          "Cote d'Ivoire/San Pedro/Tabou",
          "Cote d'Ivoire/Gbeke/Sakassou",
          "Cote d'Ivoire/San Pedro/Tabou",
          "Cote d'Ivoire/Gbeke",
          "Cote d'Ivoire/Gbeke",
          "Cote d'Ivoire/Gbeke",
          "Cote d'Ivoire/Gbeke",
          "Cote d'Ivoire/San Pedro",
          "Cote d'Ivoire/San Pedro",
          "Cote d'Ivoire",
          "Cote d'Ivoire",
          ""
         ],
         "type": "treemap",
         "values": [
          1,
          13,
          17,
          9,
          1,
          1,
          3,
          1,
          7,
          8,
          12,
          5,
          2,
          12,
          29,
          38,
          1,
          1,
          4,
          1,
          1,
          1,
          5,
          5,
          17,
          1,
          1,
          1,
          4,
          1,
          3,
          2,
          1,
          2,
          2,
          12,
          6,
          1,
          3,
          13,
          5,
          1,
          3,
          1,
          5,
          1,
          1,
          1,
          1,
          8,
          2,
          10,
          9,
          1,
          1,
          1,
          11,
          18,
          12,
          1,
          2,
          1,
          2,
          1,
          1,
          1,
          1,
          1,
          1,
          1,
          3,
          1,
          13,
          1,
          9,
          4,
          5,
          1,
          3,
          3,
          2,
          1,
          1,
          3,
          13,
          1,
          4,
          1,
          2,
          6,
          2,
          2,
          2,
          13,
          2,
          2,
          5,
          9,
          1,
          7,
          5,
          1,
          6,
          1,
          1,
          1,
          3,
          4,
          5,
          1,
          4,
          2,
          11,
          8,
          1,
          1,
          2,
          1,
          1,
          2,
          1,
          1,
          6,
          3,
          5,
          1,
          9,
          8,
          16,
          8,
          61,
          42,
          3,
          3,
          73,
          2,
          1,
          2,
          4,
          28,
          5,
          11,
          29,
          33,
          1,
          20,
          33,
          7,
          81,
          20,
          6,
          7,
          36,
          4,
          90,
          90,
          93,
          75,
          101,
          104,
          348,
          205,
          553
         ]
        }
       ],
       "layout": {
        "legend": {
         "tracegroupgap": 0
        },
        "margin": {
         "t": 60
        },
        "template": {
         "data": {
          "bar": [
           {
            "error_x": {
             "color": "#2a3f5f"
            },
            "error_y": {
             "color": "#2a3f5f"
            },
            "marker": {
             "line": {
              "color": "#E5ECF6",
              "width": 0.5
             },
             "pattern": {
              "fillmode": "overlay",
              "size": 10,
              "solidity": 0.2
             }
            },
            "type": "bar"
           }
          ],
          "barpolar": [
           {
            "marker": {
             "line": {
              "color": "#E5ECF6",
              "width": 0.5
             },
             "pattern": {
              "fillmode": "overlay",
              "size": 10,
              "solidity": 0.2
             }
            },
            "type": "barpolar"
           }
          ],
          "carpet": [
           {
            "aaxis": {
             "endlinecolor": "#2a3f5f",
             "gridcolor": "white",
             "linecolor": "white",
             "minorgridcolor": "white",
             "startlinecolor": "#2a3f5f"
            },
            "baxis": {
             "endlinecolor": "#2a3f5f",
             "gridcolor": "white",
             "linecolor": "white",
             "minorgridcolor": "white",
             "startlinecolor": "#2a3f5f"
            },
            "type": "carpet"
           }
          ],
          "choropleth": [
           {
            "colorbar": {
             "outlinewidth": 0,
             "ticks": ""
            },
            "type": "choropleth"
           }
          ],
          "contour": [
           {
            "colorbar": {
             "outlinewidth": 0,
             "ticks": ""
            },
            "colorscale": [
             [
              0,
              "#0d0887"
             ],
             [
              0.1111111111111111,
              "#46039f"
             ],
             [
              0.2222222222222222,
              "#7201a8"
             ],
             [
              0.3333333333333333,
              "#9c179e"
             ],
             [
              0.4444444444444444,
              "#bd3786"
             ],
             [
              0.5555555555555556,
              "#d8576b"
             ],
             [
              0.6666666666666666,
              "#ed7953"
             ],
             [
              0.7777777777777778,
              "#fb9f3a"
             ],
             [
              0.8888888888888888,
              "#fdca26"
             ],
             [
              1,
              "#f0f921"
             ]
            ],
            "type": "contour"
           }
          ],
          "contourcarpet": [
           {
            "colorbar": {
             "outlinewidth": 0,
             "ticks": ""
            },
            "type": "contourcarpet"
           }
          ],
          "heatmap": [
           {
            "colorbar": {
             "outlinewidth": 0,
             "ticks": ""
            },
            "colorscale": [
             [
              0,
              "#0d0887"
             ],
             [
              0.1111111111111111,
              "#46039f"
             ],
             [
              0.2222222222222222,
              "#7201a8"
             ],
             [
              0.3333333333333333,
              "#9c179e"
             ],
             [
              0.4444444444444444,
              "#bd3786"
             ],
             [
              0.5555555555555556,
              "#d8576b"
             ],
             [
              0.6666666666666666,
              "#ed7953"
             ],
             [
              0.7777777777777778,
              "#fb9f3a"
             ],
             [
              0.8888888888888888,
              "#fdca26"
             ],
             [
              1,
              "#f0f921"
             ]
            ],
            "type": "heatmap"
           }
          ],
          "heatmapgl": [
           {
            "colorbar": {
             "outlinewidth": 0,
             "ticks": ""
            },
            "colorscale": [
             [
              0,
              "#0d0887"
             ],
             [
              0.1111111111111111,
              "#46039f"
             ],
             [
              0.2222222222222222,
              "#7201a8"
             ],
             [
              0.3333333333333333,
              "#9c179e"
             ],
             [
              0.4444444444444444,
              "#bd3786"
             ],
             [
              0.5555555555555556,
              "#d8576b"
             ],
             [
              0.6666666666666666,
              "#ed7953"
             ],
             [
              0.7777777777777778,
              "#fb9f3a"
             ],
             [
              0.8888888888888888,
              "#fdca26"
             ],
             [
              1,
              "#f0f921"
             ]
            ],
            "type": "heatmapgl"
           }
          ],
          "histogram": [
           {
            "marker": {
             "pattern": {
              "fillmode": "overlay",
              "size": 10,
              "solidity": 0.2
             }
            },
            "type": "histogram"
           }
          ],
          "histogram2d": [
           {
            "colorbar": {
             "outlinewidth": 0,
             "ticks": ""
            },
            "colorscale": [
             [
              0,
              "#0d0887"
             ],
             [
              0.1111111111111111,
              "#46039f"
             ],
             [
              0.2222222222222222,
              "#7201a8"
             ],
             [
              0.3333333333333333,
              "#9c179e"
             ],
             [
              0.4444444444444444,
              "#bd3786"
             ],
             [
              0.5555555555555556,
              "#d8576b"
             ],
             [
              0.6666666666666666,
              "#ed7953"
             ],
             [
              0.7777777777777778,
              "#fb9f3a"
             ],
             [
              0.8888888888888888,
              "#fdca26"
             ],
             [
              1,
              "#f0f921"
             ]
            ],
            "type": "histogram2d"
           }
          ],
          "histogram2dcontour": [
           {
            "colorbar": {
             "outlinewidth": 0,
             "ticks": ""
            },
            "colorscale": [
             [
              0,
              "#0d0887"
             ],
             [
              0.1111111111111111,
              "#46039f"
             ],
             [
              0.2222222222222222,
              "#7201a8"
             ],
             [
              0.3333333333333333,
              "#9c179e"
             ],
             [
              0.4444444444444444,
              "#bd3786"
             ],
             [
              0.5555555555555556,
              "#d8576b"
             ],
             [
              0.6666666666666666,
              "#ed7953"
             ],
             [
              0.7777777777777778,
              "#fb9f3a"
             ],
             [
              0.8888888888888888,
              "#fdca26"
             ],
             [
              1,
              "#f0f921"
             ]
            ],
            "type": "histogram2dcontour"
           }
          ],
          "mesh3d": [
           {
            "colorbar": {
             "outlinewidth": 0,
             "ticks": ""
            },
            "type": "mesh3d"
           }
          ],
          "parcoords": [
           {
            "line": {
             "colorbar": {
              "outlinewidth": 0,
              "ticks": ""
             }
            },
            "type": "parcoords"
           }
          ],
          "pie": [
           {
            "automargin": true,
            "type": "pie"
           }
          ],
          "scatter": [
           {
            "fillpattern": {
             "fillmode": "overlay",
             "size": 10,
             "solidity": 0.2
            },
            "type": "scatter"
           }
          ],
          "scatter3d": [
           {
            "line": {
             "colorbar": {
              "outlinewidth": 0,
              "ticks": ""
             }
            },
            "marker": {
             "colorbar": {
              "outlinewidth": 0,
              "ticks": ""
             }
            },
            "type": "scatter3d"
           }
          ],
          "scattercarpet": [
           {
            "marker": {
             "colorbar": {
              "outlinewidth": 0,
              "ticks": ""
             }
            },
            "type": "scattercarpet"
           }
          ],
          "scattergeo": [
           {
            "marker": {
             "colorbar": {
              "outlinewidth": 0,
              "ticks": ""
             }
            },
            "type": "scattergeo"
           }
          ],
          "scattergl": [
           {
            "marker": {
             "colorbar": {
              "outlinewidth": 0,
              "ticks": ""
             }
            },
            "type": "scattergl"
           }
          ],
          "scattermapbox": [
           {
            "marker": {
             "colorbar": {
              "outlinewidth": 0,
              "ticks": ""
             }
            },
            "type": "scattermapbox"
           }
          ],
          "scatterpolar": [
           {
            "marker": {
             "colorbar": {
              "outlinewidth": 0,
              "ticks": ""
             }
            },
            "type": "scatterpolar"
           }
          ],
          "scatterpolargl": [
           {
            "marker": {
             "colorbar": {
              "outlinewidth": 0,
              "ticks": ""
             }
            },
            "type": "scatterpolargl"
           }
          ],
          "scatterternary": [
           {
            "marker": {
             "colorbar": {
              "outlinewidth": 0,
              "ticks": ""
             }
            },
            "type": "scatterternary"
           }
          ],
          "surface": [
           {
            "colorbar": {
             "outlinewidth": 0,
             "ticks": ""
            },
            "colorscale": [
             [
              0,
              "#0d0887"
             ],
             [
              0.1111111111111111,
              "#46039f"
             ],
             [
              0.2222222222222222,
              "#7201a8"
             ],
             [
              0.3333333333333333,
              "#9c179e"
             ],
             [
              0.4444444444444444,
              "#bd3786"
             ],
             [
              0.5555555555555556,
              "#d8576b"
             ],
             [
              0.6666666666666666,
              "#ed7953"
             ],
             [
              0.7777777777777778,
              "#fb9f3a"
             ],
             [
              0.8888888888888888,
              "#fdca26"
             ],
             [
              1,
              "#f0f921"
             ]
            ],
            "type": "surface"
           }
          ],
          "table": [
           {
            "cells": {
             "fill": {
              "color": "#EBF0F8"
             },
             "line": {
              "color": "white"
             }
            },
            "header": {
             "fill": {
              "color": "#C8D4E3"
             },
             "line": {
              "color": "white"
             }
            },
            "type": "table"
           }
          ]
         },
         "layout": {
          "annotationdefaults": {
           "arrowcolor": "#2a3f5f",
           "arrowhead": 0,
           "arrowwidth": 1
          },
          "autotypenumbers": "strict",
          "coloraxis": {
           "colorbar": {
            "outlinewidth": 0,
            "ticks": ""
           }
          },
          "colorscale": {
           "diverging": [
            [
             0,
             "#8e0152"
            ],
            [
             0.1,
             "#c51b7d"
            ],
            [
             0.2,
             "#de77ae"
            ],
            [
             0.3,
             "#f1b6da"
            ],
            [
             0.4,
             "#fde0ef"
            ],
            [
             0.5,
             "#f7f7f7"
            ],
            [
             0.6,
             "#e6f5d0"
            ],
            [
             0.7,
             "#b8e186"
            ],
            [
             0.8,
             "#7fbc41"
            ],
            [
             0.9,
             "#4d9221"
            ],
            [
             1,
             "#276419"
            ]
           ],
           "sequential": [
            [
             0,
             "#0d0887"
            ],
            [
             0.1111111111111111,
             "#46039f"
            ],
            [
             0.2222222222222222,
             "#7201a8"
            ],
            [
             0.3333333333333333,
             "#9c179e"
            ],
            [
             0.4444444444444444,
             "#bd3786"
            ],
            [
             0.5555555555555556,
             "#d8576b"
            ],
            [
             0.6666666666666666,
             "#ed7953"
            ],
            [
             0.7777777777777778,
             "#fb9f3a"
            ],
            [
             0.8888888888888888,
             "#fdca26"
            ],
            [
             1,
             "#f0f921"
            ]
           ],
           "sequentialminus": [
            [
             0,
             "#0d0887"
            ],
            [
             0.1111111111111111,
             "#46039f"
            ],
            [
             0.2222222222222222,
             "#7201a8"
            ],
            [
             0.3333333333333333,
             "#9c179e"
            ],
            [
             0.4444444444444444,
             "#bd3786"
            ],
            [
             0.5555555555555556,
             "#d8576b"
            ],
            [
             0.6666666666666666,
             "#ed7953"
            ],
            [
             0.7777777777777778,
             "#fb9f3a"
            ],
            [
             0.8888888888888888,
             "#fdca26"
            ],
            [
             1,
             "#f0f921"
            ]
           ]
          },
          "colorway": [
           "#636efa",
           "#EF553B",
           "#00cc96",
           "#ab63fa",
           "#FFA15A",
           "#19d3f3",
           "#FF6692",
           "#B6E880",
           "#FF97FF",
           "#FECB52"
          ],
          "font": {
           "color": "#2a3f5f"
          },
          "geo": {
           "bgcolor": "white",
           "lakecolor": "white",
           "landcolor": "#E5ECF6",
           "showlakes": true,
           "showland": true,
           "subunitcolor": "white"
          },
          "hoverlabel": {
           "align": "left"
          },
          "hovermode": "closest",
          "mapbox": {
           "style": "light"
          },
          "paper_bgcolor": "white",
          "plot_bgcolor": "#E5ECF6",
          "polar": {
           "angularaxis": {
            "gridcolor": "white",
            "linecolor": "white",
            "ticks": ""
           },
           "bgcolor": "#E5ECF6",
           "radialaxis": {
            "gridcolor": "white",
            "linecolor": "white",
            "ticks": ""
           }
          },
          "scene": {
           "xaxis": {
            "backgroundcolor": "#E5ECF6",
            "gridcolor": "white",
            "gridwidth": 2,
            "linecolor": "white",
            "showbackground": true,
            "ticks": "",
            "zerolinecolor": "white"
           },
           "yaxis": {
            "backgroundcolor": "#E5ECF6",
            "gridcolor": "white",
            "gridwidth": 2,
            "linecolor": "white",
            "showbackground": true,
            "ticks": "",
            "zerolinecolor": "white"
           },
           "zaxis": {
            "backgroundcolor": "#E5ECF6",
            "gridcolor": "white",
            "gridwidth": 2,
            "linecolor": "white",
            "showbackground": true,
            "ticks": "",
            "zerolinecolor": "white"
           }
          },
          "shapedefaults": {
           "line": {
            "color": "#2a3f5f"
           }
          },
          "ternary": {
           "aaxis": {
            "gridcolor": "white",
            "linecolor": "white",
            "ticks": ""
           },
           "baxis": {
            "gridcolor": "white",
            "linecolor": "white",
            "ticks": ""
           },
           "bgcolor": "#E5ECF6",
           "caxis": {
            "gridcolor": "white",
            "linecolor": "white",
            "ticks": ""
           }
          },
          "title": {
           "x": 0.05
          },
          "xaxis": {
           "automargin": true,
           "gridcolor": "white",
           "linecolor": "white",
           "ticks": "",
           "title": {
            "standoff": 15
           },
           "zerolinecolor": "white",
           "zerolinewidth": 2
          },
          "yaxis": {
           "automargin": true,
           "gridcolor": "white",
           "linecolor": "white",
           "ticks": "",
           "title": {
            "standoff": 15
           },
           "zerolinecolor": "white",
           "zerolinewidth": 2
          }
         }
        },
        "treemapcolorway": [
         "#FF8200",
         "#009A44"
        ]
       }
      }
     },
     "metadata": {},
     "output_type": "display_data"
    }
   ],
   "source": [
    "otherb = assessment[assessment['Market access blocked by river'] != '']\n",
    "make_treemap(otherb, './home/charts/blocking_market.html', './home/charts/blocking_market.csv')"
   ]
  },
  {
   "cell_type": "code",
   "execution_count": 15,
   "metadata": {},
   "outputs": [
    {
     "data": {
      "application/vnd.plotly.v1+json": {
       "config": {
        "plotlyServerURL": "https://plot.ly"
       },
       "data": [
        {
         "branchvalues": "total",
         "domain": {
          "x": [
           0,
           1
          ],
          "y": [
           0,
           1
          ]
         },
         "hovertemplate": "labels=%{label}<br>Count=%{value}<br>parent=%{parent}<br>id=%{id}<extra></extra>",
         "ids": [
          "Cote d'Ivoire/Gbeke/Béoumi/Lolobo/Abouzè-kouadiokro",
          "Cote d'Ivoire/San Pedro/San-Pédro/Grand bereby/Adjamene",
          "Cote d'Ivoire/Gbeke/Sakassou/Djibri Assirikro/Adjougouansou",
          "Cote d'Ivoire/Gbeke/Béoumi/Béoumi/Afotobo",
          "Cote d'Ivoire/Gbeke/Bouaké/Commune de Bouaké/Ahodji(Raffierkro)",
          "Cote d'Ivoire/Gbeke/Bouaké/Brobo/Ahouzankro (Bassin de Mamini)",
          "Cote d'Ivoire/Gbeke/Béoumi/Béoumi/Akadiafoué",
          "Cote d'Ivoire/Gbeke/Bouaké/Bouaké/Akanzakro",
          "Cote d'Ivoire/Gbeke/Sakassou/Djibri Assirikro/Akété",
          "Cote d'Ivoire/Gbeke/Béoumi/Lolobo/Alloko-Sakassou",
          "Cote d'Ivoire/Gbeke/Bouaké/Brobo/Alloukro (Bassin de Mamini)",
          "Cote d'Ivoire/Gbeke/Sakassou/Sakassou/Andobo-Alluibo",
          "Cote d'Ivoire/Gbeke/Botro/Languibonou/Andokro-Kouakou",
          "Cote d'Ivoire/Gbeke/Sakassou/Dibri Assirikro/Angokoun-Kpangbassou",
          "Cote d'Ivoire/Gbeke/Sakassou/Sakassou/Anoufoue Bounou",
          "Cote d'Ivoire/Gbeke/Bouaké/Djebonoua/Assengou",
          "Cote d'Ivoire/Gbeke/Bouaké/Djébonoua/Assouakro",
          "Cote d'Ivoire/Gbeke/Sakassou/Dibri/Belle-Ahoukro (Akanzakro)",
          "Cote d'Ivoire/Gbeke/Sakassou/Dibri Assrikro/Belle-Ahoukro 3(Akanzakro)",
          "Cote d'Ivoire/Gbeke/Sakassou/Dibri Assrikro/Belle-Ahoukro(Akanzakro)",
          "Cote d'Ivoire/San Pedro/Tabou/DJOUROUTOU/Beoué",
          "Cote d'Ivoire/San Pedro/San-Pédro/Gabiadji/Blahou",
          "Cote d'Ivoire/San Pedro/San-Pédro/Dogbo/Bledie",
          "Cote d'Ivoire/Gbeke/Bouaké/Brobo/Bobokro",
          "Cote d'Ivoire/Gbeke/Bouaké/Brobo/Bobokro (Bassin de Mamini)",
          "Cote d'Ivoire/Gbeke/Bouaké/Brobo/Bobokro (Mamini)",
          "Cote d'Ivoire/Gbeke/Botro/Languibonou/Béhéké (Bassin de  Languibonou)",
          "Cote d'Ivoire/Gbeke/Botro/Languibonou/Béhéké (Bassin de Languibonou)",
          "Cote d'Ivoire/Gbeke/Botro/Languibonou/Béhéké (Languibonou)",
          "Cote d'Ivoire/Gbeke/Botro/Languibonou/Béhéké(Bassin de Klèmèkro)",
          "Cote d'Ivoire/Gbeke/Botro/Languibonou/Béhéké(Bassin de Languibonou)",
          "Cote d'Ivoire/San Pedro/Tabou/DJOUROUTOU/DJOUROUTOU",
          "Cote d'Ivoire/San Pedro/Tabou/Grabo/Debablai",
          "Cote d'Ivoire/Gbeke/Béoumi/Béoumi/Diéviessou",
          "Cote d'Ivoire/San Pedro/San-Pédro/Grand bereby/Djihimbo",
          "Cote d'Ivoire/San Pedro/Tabou/Tabou/Djihouloké",
          "Cote d'Ivoire/San Pedro/San-Pédro/Grand bereby/Djikla",
          "Cote d'Ivoire/San Pedro/San-Pédro/Grand bereby/Djourou",
          "Cote d'Ivoire/San Pedro/San-Pédro/Gabiadji/Fahe",
          "Cote d'Ivoire/San Pedro/San-Pédro/Gabiadji/Fahe yobouekro",
          "Cote d'Ivoire/Gbeke/Bouaké/Commune de Bouaké/Fahris_Oko",
          "Cote d'Ivoire/Gbeke/Bouaké/Commune de Bouake/Fahris_Oko (Bassin de Kahankro)",
          "Cote d'Ivoire/Gbeke/Bouaké/Commune de Bouaké/Fahris_Oko (Kahankro)",
          "Cote d'Ivoire/Gbeke/Bouaké/Commune de Bouake/Fahris_Oko(Bassin de Kahankro)",
          "Cote d'Ivoire/San Pedro/Tabou/DJOUROUTOU/GBAROU",
          "Cote d'Ivoire/San Pedro/San-Pédro/Gnity/Gbangbokro",
          "Cote d'Ivoire/San Pedro/Tabou/Grabo/Gbapet",
          "Cote d'Ivoire/San Pedro/Tabou/DJOUROUTOU/Gbarou",
          "Cote d'Ivoire/San Pedro/San-Pédro/Gabiadji/Gnity",
          "Cote d'Ivoire/Gbeke/Sakassou/Sakassou/Goliblenou",
          "Cote d'Ivoire/Gbeke/Bouaké/Djébonoua/Gomo( Bassin Assouakro)",
          "Cote d'Ivoire/Gbeke/Bouaké/Djébonoua/Gomo(Bassin  de Assouakro)",
          "Cote d'Ivoire/San Pedro/San-Pédro/Gabiadji/Grobonou  dan",
          "Cote d'Ivoire/San Pedro/San-Pédro/Gabiadji/Grobonou dan",
          "Cote d'Ivoire/San Pedro/Tabou/DJOUROUTOU/Hannié",
          "Cote d'Ivoire/San Pedro/San-Pédro/Dogbo/Heremakono",
          "Cote d'Ivoire/San Pedro/Tabou/Tabou/Hyrré",
          "Cote d'Ivoire/Gbeke/Sakassou/Sakassou/Kanango Kpli",
          "Cote d'Ivoire/San Pedro/Tabou/Olodio/Klodio",
          "Cote d'Ivoire/Gbeke/Bouaké/Commune de Bouaké/Koblékro",
          "Cote d'Ivoire/Gbeke/Bouaké/Commune de Bouaké/Koblékro(Kongonibo)",
          "Cote d'Ivoire/Gbeke/Bouaké/Brobo/Kouadianikro",
          "Cote d'Ivoire/Gbeke/Bouaké/Brobo/Kouadianikro (Bassin de Bounda)",
          "Cote d'Ivoire/Gbeke/Bouaké/Brobo/Kouadianikro (Bounda)",
          "Cote d'Ivoire/Gbeke/Bouaké/Brobo/Kouadianikro(Bassin Bounda)",
          "Cote d'Ivoire/Gbeke/Bouaké/Brobo/Kouakou kouadiokro (Bassin de Yéguébo-Bouakro)",
          "Cote d'Ivoire/Gbeke/Bouaké/Brobo/Kouakou kouadiokro(Bassin  de Yéguébo-Bouakro)",
          "Cote d'Ivoire/Gbeke/Bouaké/Brobo/Koubékro (Bassin  Mamini)",
          "Cote d'Ivoire/Gbeke/Béoumi/Béoumi/Koumanbo",
          "Cote d'Ivoire/Gbeke/Bouaké/Brobo/Kpékékro (Bassin  de  Mamini)",
          "Cote d'Ivoire/Gbeke/Bouaké/Brobo/Kpékékro (Bassin de Mamini)",
          "Cote d'Ivoire/Gbeke/Bouaké/Brobo/Kpékékro (Mamini)",
          "Cote d'Ivoire/Gbeke/Botro/Krofoinsou/Krofoinsou",
          "Cote d'Ivoire/Gbeke/Bouaké/Brobo/Langbabokohoun",
          "Cote d'Ivoire/Gbeke/Béoumi/Ando-Kékrénou/Linguébo",
          "Cote d'Ivoire/Gbeke/Bouaké/Djebonoua/Lokassou",
          "Cote d'Ivoire/Gbeke/Béoumi/Lolobo/Lolobo",
          "Cote d'Ivoire/San Pedro/Tabou/DJOUROUTOU/MAHINO1",
          "Cote d'Ivoire/San Pedro/Tabou/DJOUROUTOU/Mahino 3",
          "Cote d'Ivoire/San Pedro/Tabou/DJOUROUTOU/Mahino1",
          "Cote d'Ivoire/San Pedro/Tabou/DJOUROUTOU/Mahino2",
          "Cote d'Ivoire/San Pedro/Tabou/DJOUROUTOU/Mahino3",
          "Cote d'Ivoire/Gbeke/Bouaké/Brobo/Mamini",
          "Cote d'Ivoire/Gbeke/Bouaké/Brobo/Mamini (Bassin de Mamini)",
          "Cote d'Ivoire/Gbeke/Béoumi/Ando-Kékrénou/Mandanou",
          "Cote d'Ivoire/San Pedro/Tabou/Tabou/Mané",
          "Cote d'Ivoire/Gbeke/Béoumi/Lolobo/N?Zuégouanou",
          "Cote d'Ivoire/Gbeke/Béoumi/Bodokro/N?dakro",
          "Cote d'Ivoire/Gbeke/Botro/Krofoinsou/N?zikro",
          "Cote d'Ivoire/San Pedro/Tabou/Grabo/Nouin",
          "Cote d'Ivoire/San Pedro/Tabou/Olodio/Olodio",
          "Cote d'Ivoire/San Pedro/San-Pédro/Grand bereby/Oueoulo",
          "Cote d'Ivoire/San Pedro/San-Pédro/Grand bereby/Oulibio",
          "Cote d'Ivoire/San Pedro/Tabou/DJOUROUTOU/PARA",
          "Cote d'Ivoire/San Pedro/Tabou/DJOUROUTOU/Para",
          "Cote d'Ivoire/San Pedro/Tabou/DJOUROUTOU/Plateau",
          "Cote d'Ivoire/Gbeke/Béoumi/N?guessankro/Plibo",
          "Cote d'Ivoire/Gbeke/Bouaké/Djébonoua/Plongo (Bassin de Kondoukro)",
          "Cote d'Ivoire/Gbeke/Bouaké/Djébonoua/Plongo(Bassin de Djébonoua)",
          "Cote d'Ivoire/Gbeke/Bouaké/COMMUNE DE Bouake/Raffierkro",
          "Cote d'Ivoire/Gbeke/Bouaké/Brobo/Saminikro",
          "Cote d'Ivoire/Gbeke/Béoumi/Lolobo/Samoïkro",
          "Cote d'Ivoire/San Pedro/Tabou/Olodio/Seh",
          "Cote d'Ivoire/San Pedro/Tabou/Grabo/Siahé",
          "Cote d'Ivoire/Gbeke/Botro/Diabo/Sinzèkro",
          "Cote d'Ivoire/Gbeke/Sakassou/Djibri Assirikro/Sola-Bonikro",
          "Cote d'Ivoire/Gbeke/Sakassou/Ayaou-Sran/Sran-Belakro",
          "Cote d'Ivoire/Gbeke/Bouaké/Brobo/Takassou (Bassin de Mamini)",
          "Cote d'Ivoire/Gbeke/Bouaké/Brobo/Takassou (Bassin de Mamini.)",
          "Cote d'Ivoire/Gbeke/Bouaké/Brobo/Takassou(Bassin de Saminikro)",
          "Cote d'Ivoire/Gbeke/Bouaké/Brobo/Tanou-Broukro (Bassin de  Saminikro)",
          "Cote d'Ivoire/Gbeke/Bouaké/Brobo/Tanou-Broukro (Bassin de Saminikro)",
          "Cote d'Ivoire/Gbeke/Bouaké/Brobo/Tanou-Broukro(Bassin de Saminikro)",
          "Cote d'Ivoire/San Pedro/San-Pédro/Gabiadji/Touih",
          "Cote d'Ivoire/San Pedro/San-Pédro/Grand bereby/Wouhasso",
          "Cote d'Ivoire/Gbeke/Bouaké/Brobo/Yéguébo-Bouakro",
          "Cote d'Ivoire/Gbeke/Bouaké/Brobo/Zougban (Bassin de Saminikro)",
          "Cote d'Ivoire/Gbeke/Bouaké/Brobo/Zougban (Saminikro)",
          "Cote d'Ivoire/Gbeke/Béoumi/Ando-Kékrénou",
          "Cote d'Ivoire/Gbeke/Sakassou/Ayaou-Sran",
          "Cote d'Ivoire/Gbeke/Béoumi/Bodokro",
          "Cote d'Ivoire/Gbeke/Bouaké/Bouaké",
          "Cote d'Ivoire/Gbeke/Bouaké/Brobo",
          "Cote d'Ivoire/Gbeke/Béoumi/Béoumi",
          "Cote d'Ivoire/Gbeke/Bouaké/COMMUNE DE Bouake",
          "Cote d'Ivoire/Gbeke/Bouaké/Commune de Bouake",
          "Cote d'Ivoire/Gbeke/Bouaké/Commune de Bouaké",
          "Cote d'Ivoire/San Pedro/Tabou/DJOUROUTOU",
          "Cote d'Ivoire/Gbeke/Botro/Diabo",
          "Cote d'Ivoire/Gbeke/Sakassou/Dibri",
          "Cote d'Ivoire/Gbeke/Sakassou/Dibri Assirikro",
          "Cote d'Ivoire/Gbeke/Sakassou/Dibri Assrikro",
          "Cote d'Ivoire/Gbeke/Bouaké/Djebonoua",
          "Cote d'Ivoire/Gbeke/Sakassou/Djibri Assirikro",
          "Cote d'Ivoire/Gbeke/Bouaké/Djébonoua",
          "Cote d'Ivoire/San Pedro/San-Pédro/Dogbo",
          "Cote d'Ivoire/San Pedro/San-Pédro/Gabiadji",
          "Cote d'Ivoire/San Pedro/San-Pédro/Gnity",
          "Cote d'Ivoire/San Pedro/Tabou/Grabo",
          "Cote d'Ivoire/San Pedro/San-Pédro/Grand bereby",
          "Cote d'Ivoire/Gbeke/Botro/Krofoinsou",
          "Cote d'Ivoire/Gbeke/Botro/Languibonou",
          "Cote d'Ivoire/Gbeke/Béoumi/Lolobo",
          "Cote d'Ivoire/Gbeke/Béoumi/N?guessankro",
          "Cote d'Ivoire/San Pedro/Tabou/Olodio",
          "Cote d'Ivoire/Gbeke/Sakassou/Sakassou",
          "Cote d'Ivoire/San Pedro/Tabou/Tabou",
          "Cote d'Ivoire/Gbeke/Botro",
          "Cote d'Ivoire/Gbeke/Bouaké",
          "Cote d'Ivoire/Gbeke/Béoumi",
          "Cote d'Ivoire/Gbeke/Sakassou",
          "Cote d'Ivoire/San Pedro/San-Pédro",
          "Cote d'Ivoire/San Pedro/Tabou",
          "Cote d'Ivoire/Gbeke",
          "Cote d'Ivoire/San Pedro",
          "Cote d'Ivoire"
         ],
         "labels": [
          "Abouzè-kouadiokro",
          "Adjamene",
          "Adjougouansou",
          "Afotobo",
          "Ahodji(Raffierkro)",
          "Ahouzankro (Bassin de Mamini)",
          "Akadiafoué",
          "Akanzakro",
          "Akété",
          "Alloko-Sakassou",
          "Alloukro (Bassin de Mamini)",
          "Andobo-Alluibo",
          "Andokro-Kouakou",
          "Angokoun-Kpangbassou",
          "Anoufoue Bounou",
          "Assengou",
          "Assouakro",
          "Belle-Ahoukro (Akanzakro)",
          "Belle-Ahoukro 3(Akanzakro)",
          "Belle-Ahoukro(Akanzakro)",
          "Beoué",
          "Blahou",
          "Bledie",
          "Bobokro",
          "Bobokro (Bassin de Mamini)",
          "Bobokro (Mamini)",
          "Béhéké (Bassin de  Languibonou)",
          "Béhéké (Bassin de Languibonou)",
          "Béhéké (Languibonou)",
          "Béhéké(Bassin de Klèmèkro)",
          "Béhéké(Bassin de Languibonou)",
          "DJOUROUTOU",
          "Debablai",
          "Diéviessou",
          "Djihimbo",
          "Djihouloké",
          "Djikla",
          "Djourou",
          "Fahe",
          "Fahe yobouekro",
          "Fahris_Oko",
          "Fahris_Oko (Bassin de Kahankro)",
          "Fahris_Oko (Kahankro)",
          "Fahris_Oko(Bassin de Kahankro)",
          "GBAROU",
          "Gbangbokro",
          "Gbapet",
          "Gbarou",
          "Gnity",
          "Goliblenou",
          "Gomo( Bassin Assouakro)",
          "Gomo(Bassin  de Assouakro)",
          "Grobonou  dan",
          "Grobonou dan",
          "Hannié",
          "Heremakono",
          "Hyrré",
          "Kanango Kpli",
          "Klodio",
          "Koblékro",
          "Koblékro(Kongonibo)",
          "Kouadianikro",
          "Kouadianikro (Bassin de Bounda)",
          "Kouadianikro (Bounda)",
          "Kouadianikro(Bassin Bounda)",
          "Kouakou kouadiokro (Bassin de Yéguébo-Bouakro)",
          "Kouakou kouadiokro(Bassin  de Yéguébo-Bouakro)",
          "Koubékro (Bassin  Mamini)",
          "Koumanbo",
          "Kpékékro (Bassin  de  Mamini)",
          "Kpékékro (Bassin de Mamini)",
          "Kpékékro (Mamini)",
          "Krofoinsou",
          "Langbabokohoun",
          "Linguébo",
          "Lokassou",
          "Lolobo",
          "MAHINO1",
          "Mahino 3",
          "Mahino1",
          "Mahino2",
          "Mahino3",
          "Mamini",
          "Mamini (Bassin de Mamini)",
          "Mandanou",
          "Mané",
          "N?Zuégouanou",
          "N?dakro",
          "N?zikro",
          "Nouin",
          "Olodio",
          "Oueoulo",
          "Oulibio",
          "PARA",
          "Para",
          "Plateau",
          "Plibo",
          "Plongo (Bassin de Kondoukro)",
          "Plongo(Bassin de Djébonoua)",
          "Raffierkro",
          "Saminikro",
          "Samoïkro",
          "Seh",
          "Siahé",
          "Sinzèkro",
          "Sola-Bonikro",
          "Sran-Belakro",
          "Takassou (Bassin de Mamini)",
          "Takassou (Bassin de Mamini.)",
          "Takassou(Bassin de Saminikro)",
          "Tanou-Broukro (Bassin de  Saminikro)",
          "Tanou-Broukro (Bassin de Saminikro)",
          "Tanou-Broukro(Bassin de Saminikro)",
          "Touih",
          "Wouhasso",
          "Yéguébo-Bouakro",
          "Zougban (Bassin de Saminikro)",
          "Zougban (Saminikro)",
          "Ando-Kékrénou",
          "Ayaou-Sran",
          "Bodokro",
          "Bouaké",
          "Brobo",
          "Béoumi",
          "COMMUNE DE Bouake",
          "Commune de Bouake",
          "Commune de Bouaké",
          "DJOUROUTOU",
          "Diabo",
          "Dibri",
          "Dibri Assirikro",
          "Dibri Assrikro",
          "Djebonoua",
          "Djibri Assirikro",
          "Djébonoua",
          "Dogbo",
          "Gabiadji",
          "Gnity",
          "Grabo",
          "Grand bereby",
          "Krofoinsou",
          "Languibonou",
          "Lolobo",
          "N?guessankro",
          "Olodio",
          "Sakassou",
          "Tabou",
          "Botro",
          "Bouaké",
          "Béoumi",
          "Sakassou",
          "San-Pédro",
          "Tabou",
          "Gbeke",
          "San Pedro",
          "Cote d'Ivoire"
         ],
         "name": "",
         "parents": [
          "Cote d'Ivoire/Gbeke/Béoumi/Lolobo",
          "Cote d'Ivoire/San Pedro/San-Pédro/Grand bereby",
          "Cote d'Ivoire/Gbeke/Sakassou/Djibri Assirikro",
          "Cote d'Ivoire/Gbeke/Béoumi/Béoumi",
          "Cote d'Ivoire/Gbeke/Bouaké/Commune de Bouaké",
          "Cote d'Ivoire/Gbeke/Bouaké/Brobo",
          "Cote d'Ivoire/Gbeke/Béoumi/Béoumi",
          "Cote d'Ivoire/Gbeke/Bouaké/Bouaké",
          "Cote d'Ivoire/Gbeke/Sakassou/Djibri Assirikro",
          "Cote d'Ivoire/Gbeke/Béoumi/Lolobo",
          "Cote d'Ivoire/Gbeke/Bouaké/Brobo",
          "Cote d'Ivoire/Gbeke/Sakassou/Sakassou",
          "Cote d'Ivoire/Gbeke/Botro/Languibonou",
          "Cote d'Ivoire/Gbeke/Sakassou/Dibri Assirikro",
          "Cote d'Ivoire/Gbeke/Sakassou/Sakassou",
          "Cote d'Ivoire/Gbeke/Bouaké/Djebonoua",
          "Cote d'Ivoire/Gbeke/Bouaké/Djébonoua",
          "Cote d'Ivoire/Gbeke/Sakassou/Dibri",
          "Cote d'Ivoire/Gbeke/Sakassou/Dibri Assrikro",
          "Cote d'Ivoire/Gbeke/Sakassou/Dibri Assrikro",
          "Cote d'Ivoire/San Pedro/Tabou/DJOUROUTOU",
          "Cote d'Ivoire/San Pedro/San-Pédro/Gabiadji",
          "Cote d'Ivoire/San Pedro/San-Pédro/Dogbo",
          "Cote d'Ivoire/Gbeke/Bouaké/Brobo",
          "Cote d'Ivoire/Gbeke/Bouaké/Brobo",
          "Cote d'Ivoire/Gbeke/Bouaké/Brobo",
          "Cote d'Ivoire/Gbeke/Botro/Languibonou",
          "Cote d'Ivoire/Gbeke/Botro/Languibonou",
          "Cote d'Ivoire/Gbeke/Botro/Languibonou",
          "Cote d'Ivoire/Gbeke/Botro/Languibonou",
          "Cote d'Ivoire/Gbeke/Botro/Languibonou",
          "Cote d'Ivoire/San Pedro/Tabou/DJOUROUTOU",
          "Cote d'Ivoire/San Pedro/Tabou/Grabo",
          "Cote d'Ivoire/Gbeke/Béoumi/Béoumi",
          "Cote d'Ivoire/San Pedro/San-Pédro/Grand bereby",
          "Cote d'Ivoire/San Pedro/Tabou/Tabou",
          "Cote d'Ivoire/San Pedro/San-Pédro/Grand bereby",
          "Cote d'Ivoire/San Pedro/San-Pédro/Grand bereby",
          "Cote d'Ivoire/San Pedro/San-Pédro/Gabiadji",
          "Cote d'Ivoire/San Pedro/San-Pédro/Gabiadji",
          "Cote d'Ivoire/Gbeke/Bouaké/Commune de Bouaké",
          "Cote d'Ivoire/Gbeke/Bouaké/Commune de Bouake",
          "Cote d'Ivoire/Gbeke/Bouaké/Commune de Bouaké",
          "Cote d'Ivoire/Gbeke/Bouaké/Commune de Bouake",
          "Cote d'Ivoire/San Pedro/Tabou/DJOUROUTOU",
          "Cote d'Ivoire/San Pedro/San-Pédro/Gnity",
          "Cote d'Ivoire/San Pedro/Tabou/Grabo",
          "Cote d'Ivoire/San Pedro/Tabou/DJOUROUTOU",
          "Cote d'Ivoire/San Pedro/San-Pédro/Gabiadji",
          "Cote d'Ivoire/Gbeke/Sakassou/Sakassou",
          "Cote d'Ivoire/Gbeke/Bouaké/Djébonoua",
          "Cote d'Ivoire/Gbeke/Bouaké/Djébonoua",
          "Cote d'Ivoire/San Pedro/San-Pédro/Gabiadji",
          "Cote d'Ivoire/San Pedro/San-Pédro/Gabiadji",
          "Cote d'Ivoire/San Pedro/Tabou/DJOUROUTOU",
          "Cote d'Ivoire/San Pedro/San-Pédro/Dogbo",
          "Cote d'Ivoire/San Pedro/Tabou/Tabou",
          "Cote d'Ivoire/Gbeke/Sakassou/Sakassou",
          "Cote d'Ivoire/San Pedro/Tabou/Olodio",
          "Cote d'Ivoire/Gbeke/Bouaké/Commune de Bouaké",
          "Cote d'Ivoire/Gbeke/Bouaké/Commune de Bouaké",
          "Cote d'Ivoire/Gbeke/Bouaké/Brobo",
          "Cote d'Ivoire/Gbeke/Bouaké/Brobo",
          "Cote d'Ivoire/Gbeke/Bouaké/Brobo",
          "Cote d'Ivoire/Gbeke/Bouaké/Brobo",
          "Cote d'Ivoire/Gbeke/Bouaké/Brobo",
          "Cote d'Ivoire/Gbeke/Bouaké/Brobo",
          "Cote d'Ivoire/Gbeke/Bouaké/Brobo",
          "Cote d'Ivoire/Gbeke/Béoumi/Béoumi",
          "Cote d'Ivoire/Gbeke/Bouaké/Brobo",
          "Cote d'Ivoire/Gbeke/Bouaké/Brobo",
          "Cote d'Ivoire/Gbeke/Bouaké/Brobo",
          "Cote d'Ivoire/Gbeke/Botro/Krofoinsou",
          "Cote d'Ivoire/Gbeke/Bouaké/Brobo",
          "Cote d'Ivoire/Gbeke/Béoumi/Ando-Kékrénou",
          "Cote d'Ivoire/Gbeke/Bouaké/Djebonoua",
          "Cote d'Ivoire/Gbeke/Béoumi/Lolobo",
          "Cote d'Ivoire/San Pedro/Tabou/DJOUROUTOU",
          "Cote d'Ivoire/San Pedro/Tabou/DJOUROUTOU",
          "Cote d'Ivoire/San Pedro/Tabou/DJOUROUTOU",
          "Cote d'Ivoire/San Pedro/Tabou/DJOUROUTOU",
          "Cote d'Ivoire/San Pedro/Tabou/DJOUROUTOU",
          "Cote d'Ivoire/Gbeke/Bouaké/Brobo",
          "Cote d'Ivoire/Gbeke/Bouaké/Brobo",
          "Cote d'Ivoire/Gbeke/Béoumi/Ando-Kékrénou",
          "Cote d'Ivoire/San Pedro/Tabou/Tabou",
          "Cote d'Ivoire/Gbeke/Béoumi/Lolobo",
          "Cote d'Ivoire/Gbeke/Béoumi/Bodokro",
          "Cote d'Ivoire/Gbeke/Botro/Krofoinsou",
          "Cote d'Ivoire/San Pedro/Tabou/Grabo",
          "Cote d'Ivoire/San Pedro/Tabou/Olodio",
          "Cote d'Ivoire/San Pedro/San-Pédro/Grand bereby",
          "Cote d'Ivoire/San Pedro/San-Pédro/Grand bereby",
          "Cote d'Ivoire/San Pedro/Tabou/DJOUROUTOU",
          "Cote d'Ivoire/San Pedro/Tabou/DJOUROUTOU",
          "Cote d'Ivoire/San Pedro/Tabou/DJOUROUTOU",
          "Cote d'Ivoire/Gbeke/Béoumi/N?guessankro",
          "Cote d'Ivoire/Gbeke/Bouaké/Djébonoua",
          "Cote d'Ivoire/Gbeke/Bouaké/Djébonoua",
          "Cote d'Ivoire/Gbeke/Bouaké/COMMUNE DE Bouake",
          "Cote d'Ivoire/Gbeke/Bouaké/Brobo",
          "Cote d'Ivoire/Gbeke/Béoumi/Lolobo",
          "Cote d'Ivoire/San Pedro/Tabou/Olodio",
          "Cote d'Ivoire/San Pedro/Tabou/Grabo",
          "Cote d'Ivoire/Gbeke/Botro/Diabo",
          "Cote d'Ivoire/Gbeke/Sakassou/Djibri Assirikro",
          "Cote d'Ivoire/Gbeke/Sakassou/Ayaou-Sran",
          "Cote d'Ivoire/Gbeke/Bouaké/Brobo",
          "Cote d'Ivoire/Gbeke/Bouaké/Brobo",
          "Cote d'Ivoire/Gbeke/Bouaké/Brobo",
          "Cote d'Ivoire/Gbeke/Bouaké/Brobo",
          "Cote d'Ivoire/Gbeke/Bouaké/Brobo",
          "Cote d'Ivoire/Gbeke/Bouaké/Brobo",
          "Cote d'Ivoire/San Pedro/San-Pédro/Gabiadji",
          "Cote d'Ivoire/San Pedro/San-Pédro/Grand bereby",
          "Cote d'Ivoire/Gbeke/Bouaké/Brobo",
          "Cote d'Ivoire/Gbeke/Bouaké/Brobo",
          "Cote d'Ivoire/Gbeke/Bouaké/Brobo",
          "Cote d'Ivoire/Gbeke/Béoumi",
          "Cote d'Ivoire/Gbeke/Sakassou",
          "Cote d'Ivoire/Gbeke/Béoumi",
          "Cote d'Ivoire/Gbeke/Bouaké",
          "Cote d'Ivoire/Gbeke/Bouaké",
          "Cote d'Ivoire/Gbeke/Béoumi",
          "Cote d'Ivoire/Gbeke/Bouaké",
          "Cote d'Ivoire/Gbeke/Bouaké",
          "Cote d'Ivoire/Gbeke/Bouaké",
          "Cote d'Ivoire/San Pedro/Tabou",
          "Cote d'Ivoire/Gbeke/Botro",
          "Cote d'Ivoire/Gbeke/Sakassou",
          "Cote d'Ivoire/Gbeke/Sakassou",
          "Cote d'Ivoire/Gbeke/Sakassou",
          "Cote d'Ivoire/Gbeke/Bouaké",
          "Cote d'Ivoire/Gbeke/Sakassou",
          "Cote d'Ivoire/Gbeke/Bouaké",
          "Cote d'Ivoire/San Pedro/San-Pédro",
          "Cote d'Ivoire/San Pedro/San-Pédro",
          "Cote d'Ivoire/San Pedro/San-Pédro",
          "Cote d'Ivoire/San Pedro/Tabou",
          "Cote d'Ivoire/San Pedro/San-Pédro",
          "Cote d'Ivoire/Gbeke/Botro",
          "Cote d'Ivoire/Gbeke/Botro",
          "Cote d'Ivoire/Gbeke/Béoumi",
          "Cote d'Ivoire/Gbeke/Béoumi",
          "Cote d'Ivoire/San Pedro/Tabou",
          "Cote d'Ivoire/Gbeke/Sakassou",
          "Cote d'Ivoire/San Pedro/Tabou",
          "Cote d'Ivoire/Gbeke",
          "Cote d'Ivoire/Gbeke",
          "Cote d'Ivoire/Gbeke",
          "Cote d'Ivoire/Gbeke",
          "Cote d'Ivoire/San Pedro",
          "Cote d'Ivoire/San Pedro",
          "Cote d'Ivoire",
          "Cote d'Ivoire",
          ""
         ],
         "type": "treemap",
         "values": [
          1,
          13,
          11,
          6,
          1,
          2,
          7,
          8,
          5,
          2,
          2,
          9,
          16,
          20,
          1,
          1,
          3,
          1,
          1,
          1,
          5,
          5,
          17,
          1,
          1,
          1,
          1,
          2,
          1,
          2,
          2,
          12,
          6,
          11,
          4,
          1,
          3,
          1,
          5,
          1,
          1,
          1,
          1,
          1,
          1,
          1,
          8,
          2,
          9,
          5,
          1,
          1,
          1,
          10,
          18,
          12,
          1,
          2,
          1,
          2,
          1,
          1,
          1,
          1,
          1,
          1,
          1,
          1,
          7,
          1,
          9,
          4,
          5,
          1,
          3,
          3,
          1,
          1,
          3,
          13,
          1,
          4,
          1,
          1,
          5,
          2,
          1,
          8,
          2,
          2,
          5,
          9,
          1,
          7,
          5,
          1,
          6,
          1,
          1,
          3,
          1,
          3,
          1,
          4,
          2,
          8,
          3,
          1,
          1,
          2,
          1,
          2,
          1,
          1,
          4,
          2,
          5,
          1,
          8,
          3,
          8,
          8,
          48,
          31,
          3,
          2,
          6,
          73,
          2,
          1,
          20,
          2,
          4,
          24,
          7,
          29,
          32,
          1,
          20,
          35,
          7,
          24,
          8,
          6,
          7,
          17,
          4,
          33,
          78,
          61,
          67,
          97,
          104,
          239,
          201,
          440
         ]
        }
       ],
       "layout": {
        "legend": {
         "tracegroupgap": 0
        },
        "margin": {
         "t": 60
        },
        "template": {
         "data": {
          "bar": [
           {
            "error_x": {
             "color": "#2a3f5f"
            },
            "error_y": {
             "color": "#2a3f5f"
            },
            "marker": {
             "line": {
              "color": "#E5ECF6",
              "width": 0.5
             },
             "pattern": {
              "fillmode": "overlay",
              "size": 10,
              "solidity": 0.2
             }
            },
            "type": "bar"
           }
          ],
          "barpolar": [
           {
            "marker": {
             "line": {
              "color": "#E5ECF6",
              "width": 0.5
             },
             "pattern": {
              "fillmode": "overlay",
              "size": 10,
              "solidity": 0.2
             }
            },
            "type": "barpolar"
           }
          ],
          "carpet": [
           {
            "aaxis": {
             "endlinecolor": "#2a3f5f",
             "gridcolor": "white",
             "linecolor": "white",
             "minorgridcolor": "white",
             "startlinecolor": "#2a3f5f"
            },
            "baxis": {
             "endlinecolor": "#2a3f5f",
             "gridcolor": "white",
             "linecolor": "white",
             "minorgridcolor": "white",
             "startlinecolor": "#2a3f5f"
            },
            "type": "carpet"
           }
          ],
          "choropleth": [
           {
            "colorbar": {
             "outlinewidth": 0,
             "ticks": ""
            },
            "type": "choropleth"
           }
          ],
          "contour": [
           {
            "colorbar": {
             "outlinewidth": 0,
             "ticks": ""
            },
            "colorscale": [
             [
              0,
              "#0d0887"
             ],
             [
              0.1111111111111111,
              "#46039f"
             ],
             [
              0.2222222222222222,
              "#7201a8"
             ],
             [
              0.3333333333333333,
              "#9c179e"
             ],
             [
              0.4444444444444444,
              "#bd3786"
             ],
             [
              0.5555555555555556,
              "#d8576b"
             ],
             [
              0.6666666666666666,
              "#ed7953"
             ],
             [
              0.7777777777777778,
              "#fb9f3a"
             ],
             [
              0.8888888888888888,
              "#fdca26"
             ],
             [
              1,
              "#f0f921"
             ]
            ],
            "type": "contour"
           }
          ],
          "contourcarpet": [
           {
            "colorbar": {
             "outlinewidth": 0,
             "ticks": ""
            },
            "type": "contourcarpet"
           }
          ],
          "heatmap": [
           {
            "colorbar": {
             "outlinewidth": 0,
             "ticks": ""
            },
            "colorscale": [
             [
              0,
              "#0d0887"
             ],
             [
              0.1111111111111111,
              "#46039f"
             ],
             [
              0.2222222222222222,
              "#7201a8"
             ],
             [
              0.3333333333333333,
              "#9c179e"
             ],
             [
              0.4444444444444444,
              "#bd3786"
             ],
             [
              0.5555555555555556,
              "#d8576b"
             ],
             [
              0.6666666666666666,
              "#ed7953"
             ],
             [
              0.7777777777777778,
              "#fb9f3a"
             ],
             [
              0.8888888888888888,
              "#fdca26"
             ],
             [
              1,
              "#f0f921"
             ]
            ],
            "type": "heatmap"
           }
          ],
          "heatmapgl": [
           {
            "colorbar": {
             "outlinewidth": 0,
             "ticks": ""
            },
            "colorscale": [
             [
              0,
              "#0d0887"
             ],
             [
              0.1111111111111111,
              "#46039f"
             ],
             [
              0.2222222222222222,
              "#7201a8"
             ],
             [
              0.3333333333333333,
              "#9c179e"
             ],
             [
              0.4444444444444444,
              "#bd3786"
             ],
             [
              0.5555555555555556,
              "#d8576b"
             ],
             [
              0.6666666666666666,
              "#ed7953"
             ],
             [
              0.7777777777777778,
              "#fb9f3a"
             ],
             [
              0.8888888888888888,
              "#fdca26"
             ],
             [
              1,
              "#f0f921"
             ]
            ],
            "type": "heatmapgl"
           }
          ],
          "histogram": [
           {
            "marker": {
             "pattern": {
              "fillmode": "overlay",
              "size": 10,
              "solidity": 0.2
             }
            },
            "type": "histogram"
           }
          ],
          "histogram2d": [
           {
            "colorbar": {
             "outlinewidth": 0,
             "ticks": ""
            },
            "colorscale": [
             [
              0,
              "#0d0887"
             ],
             [
              0.1111111111111111,
              "#46039f"
             ],
             [
              0.2222222222222222,
              "#7201a8"
             ],
             [
              0.3333333333333333,
              "#9c179e"
             ],
             [
              0.4444444444444444,
              "#bd3786"
             ],
             [
              0.5555555555555556,
              "#d8576b"
             ],
             [
              0.6666666666666666,
              "#ed7953"
             ],
             [
              0.7777777777777778,
              "#fb9f3a"
             ],
             [
              0.8888888888888888,
              "#fdca26"
             ],
             [
              1,
              "#f0f921"
             ]
            ],
            "type": "histogram2d"
           }
          ],
          "histogram2dcontour": [
           {
            "colorbar": {
             "outlinewidth": 0,
             "ticks": ""
            },
            "colorscale": [
             [
              0,
              "#0d0887"
             ],
             [
              0.1111111111111111,
              "#46039f"
             ],
             [
              0.2222222222222222,
              "#7201a8"
             ],
             [
              0.3333333333333333,
              "#9c179e"
             ],
             [
              0.4444444444444444,
              "#bd3786"
             ],
             [
              0.5555555555555556,
              "#d8576b"
             ],
             [
              0.6666666666666666,
              "#ed7953"
             ],
             [
              0.7777777777777778,
              "#fb9f3a"
             ],
             [
              0.8888888888888888,
              "#fdca26"
             ],
             [
              1,
              "#f0f921"
             ]
            ],
            "type": "histogram2dcontour"
           }
          ],
          "mesh3d": [
           {
            "colorbar": {
             "outlinewidth": 0,
             "ticks": ""
            },
            "type": "mesh3d"
           }
          ],
          "parcoords": [
           {
            "line": {
             "colorbar": {
              "outlinewidth": 0,
              "ticks": ""
             }
            },
            "type": "parcoords"
           }
          ],
          "pie": [
           {
            "automargin": true,
            "type": "pie"
           }
          ],
          "scatter": [
           {
            "fillpattern": {
             "fillmode": "overlay",
             "size": 10,
             "solidity": 0.2
            },
            "type": "scatter"
           }
          ],
          "scatter3d": [
           {
            "line": {
             "colorbar": {
              "outlinewidth": 0,
              "ticks": ""
             }
            },
            "marker": {
             "colorbar": {
              "outlinewidth": 0,
              "ticks": ""
             }
            },
            "type": "scatter3d"
           }
          ],
          "scattercarpet": [
           {
            "marker": {
             "colorbar": {
              "outlinewidth": 0,
              "ticks": ""
             }
            },
            "type": "scattercarpet"
           }
          ],
          "scattergeo": [
           {
            "marker": {
             "colorbar": {
              "outlinewidth": 0,
              "ticks": ""
             }
            },
            "type": "scattergeo"
           }
          ],
          "scattergl": [
           {
            "marker": {
             "colorbar": {
              "outlinewidth": 0,
              "ticks": ""
             }
            },
            "type": "scattergl"
           }
          ],
          "scattermapbox": [
           {
            "marker": {
             "colorbar": {
              "outlinewidth": 0,
              "ticks": ""
             }
            },
            "type": "scattermapbox"
           }
          ],
          "scatterpolar": [
           {
            "marker": {
             "colorbar": {
              "outlinewidth": 0,
              "ticks": ""
             }
            },
            "type": "scatterpolar"
           }
          ],
          "scatterpolargl": [
           {
            "marker": {
             "colorbar": {
              "outlinewidth": 0,
              "ticks": ""
             }
            },
            "type": "scatterpolargl"
           }
          ],
          "scatterternary": [
           {
            "marker": {
             "colorbar": {
              "outlinewidth": 0,
              "ticks": ""
             }
            },
            "type": "scatterternary"
           }
          ],
          "surface": [
           {
            "colorbar": {
             "outlinewidth": 0,
             "ticks": ""
            },
            "colorscale": [
             [
              0,
              "#0d0887"
             ],
             [
              0.1111111111111111,
              "#46039f"
             ],
             [
              0.2222222222222222,
              "#7201a8"
             ],
             [
              0.3333333333333333,
              "#9c179e"
             ],
             [
              0.4444444444444444,
              "#bd3786"
             ],
             [
              0.5555555555555556,
              "#d8576b"
             ],
             [
              0.6666666666666666,
              "#ed7953"
             ],
             [
              0.7777777777777778,
              "#fb9f3a"
             ],
             [
              0.8888888888888888,
              "#fdca26"
             ],
             [
              1,
              "#f0f921"
             ]
            ],
            "type": "surface"
           }
          ],
          "table": [
           {
            "cells": {
             "fill": {
              "color": "#EBF0F8"
             },
             "line": {
              "color": "white"
             }
            },
            "header": {
             "fill": {
              "color": "#C8D4E3"
             },
             "line": {
              "color": "white"
             }
            },
            "type": "table"
           }
          ]
         },
         "layout": {
          "annotationdefaults": {
           "arrowcolor": "#2a3f5f",
           "arrowhead": 0,
           "arrowwidth": 1
          },
          "autotypenumbers": "strict",
          "coloraxis": {
           "colorbar": {
            "outlinewidth": 0,
            "ticks": ""
           }
          },
          "colorscale": {
           "diverging": [
            [
             0,
             "#8e0152"
            ],
            [
             0.1,
             "#c51b7d"
            ],
            [
             0.2,
             "#de77ae"
            ],
            [
             0.3,
             "#f1b6da"
            ],
            [
             0.4,
             "#fde0ef"
            ],
            [
             0.5,
             "#f7f7f7"
            ],
            [
             0.6,
             "#e6f5d0"
            ],
            [
             0.7,
             "#b8e186"
            ],
            [
             0.8,
             "#7fbc41"
            ],
            [
             0.9,
             "#4d9221"
            ],
            [
             1,
             "#276419"
            ]
           ],
           "sequential": [
            [
             0,
             "#0d0887"
            ],
            [
             0.1111111111111111,
             "#46039f"
            ],
            [
             0.2222222222222222,
             "#7201a8"
            ],
            [
             0.3333333333333333,
             "#9c179e"
            ],
            [
             0.4444444444444444,
             "#bd3786"
            ],
            [
             0.5555555555555556,
             "#d8576b"
            ],
            [
             0.6666666666666666,
             "#ed7953"
            ],
            [
             0.7777777777777778,
             "#fb9f3a"
            ],
            [
             0.8888888888888888,
             "#fdca26"
            ],
            [
             1,
             "#f0f921"
            ]
           ],
           "sequentialminus": [
            [
             0,
             "#0d0887"
            ],
            [
             0.1111111111111111,
             "#46039f"
            ],
            [
             0.2222222222222222,
             "#7201a8"
            ],
            [
             0.3333333333333333,
             "#9c179e"
            ],
            [
             0.4444444444444444,
             "#bd3786"
            ],
            [
             0.5555555555555556,
             "#d8576b"
            ],
            [
             0.6666666666666666,
             "#ed7953"
            ],
            [
             0.7777777777777778,
             "#fb9f3a"
            ],
            [
             0.8888888888888888,
             "#fdca26"
            ],
            [
             1,
             "#f0f921"
            ]
           ]
          },
          "colorway": [
           "#636efa",
           "#EF553B",
           "#00cc96",
           "#ab63fa",
           "#FFA15A",
           "#19d3f3",
           "#FF6692",
           "#B6E880",
           "#FF97FF",
           "#FECB52"
          ],
          "font": {
           "color": "#2a3f5f"
          },
          "geo": {
           "bgcolor": "white",
           "lakecolor": "white",
           "landcolor": "#E5ECF6",
           "showlakes": true,
           "showland": true,
           "subunitcolor": "white"
          },
          "hoverlabel": {
           "align": "left"
          },
          "hovermode": "closest",
          "mapbox": {
           "style": "light"
          },
          "paper_bgcolor": "white",
          "plot_bgcolor": "#E5ECF6",
          "polar": {
           "angularaxis": {
            "gridcolor": "white",
            "linecolor": "white",
            "ticks": ""
           },
           "bgcolor": "#E5ECF6",
           "radialaxis": {
            "gridcolor": "white",
            "linecolor": "white",
            "ticks": ""
           }
          },
          "scene": {
           "xaxis": {
            "backgroundcolor": "#E5ECF6",
            "gridcolor": "white",
            "gridwidth": 2,
            "linecolor": "white",
            "showbackground": true,
            "ticks": "",
            "zerolinecolor": "white"
           },
           "yaxis": {
            "backgroundcolor": "#E5ECF6",
            "gridcolor": "white",
            "gridwidth": 2,
            "linecolor": "white",
            "showbackground": true,
            "ticks": "",
            "zerolinecolor": "white"
           },
           "zaxis": {
            "backgroundcolor": "#E5ECF6",
            "gridcolor": "white",
            "gridwidth": 2,
            "linecolor": "white",
            "showbackground": true,
            "ticks": "",
            "zerolinecolor": "white"
           }
          },
          "shapedefaults": {
           "line": {
            "color": "#2a3f5f"
           }
          },
          "ternary": {
           "aaxis": {
            "gridcolor": "white",
            "linecolor": "white",
            "ticks": ""
           },
           "baxis": {
            "gridcolor": "white",
            "linecolor": "white",
            "ticks": ""
           },
           "bgcolor": "#E5ECF6",
           "caxis": {
            "gridcolor": "white",
            "linecolor": "white",
            "ticks": ""
           }
          },
          "title": {
           "x": 0.05
          },
          "xaxis": {
           "automargin": true,
           "gridcolor": "white",
           "linecolor": "white",
           "ticks": "",
           "title": {
            "standoff": 15
           },
           "zerolinecolor": "white",
           "zerolinewidth": 2
          },
          "yaxis": {
           "automargin": true,
           "gridcolor": "white",
           "linecolor": "white",
           "ticks": "",
           "title": {
            "standoff": 15
           },
           "zerolinecolor": "white",
           "zerolinewidth": 2
          }
         }
        },
        "treemapcolorway": [
         "#FF8200",
         "#009A44"
        ]
       }
      }
     },
     "metadata": {},
     "output_type": "display_data"
    }
   ],
   "source": [
    "blockingany = assessment[assessment['Other access blocked by river'] != '']\n",
    "make_treemap(blockingany, './home/charts/blocking_other.html', './home/charts/blocking_other.csv')"
   ]
  },
  {
   "cell_type": "code",
   "execution_count": 16,
   "metadata": {},
   "outputs": [
    {
     "data": {
      "application/vnd.plotly.v1+json": {
       "config": {
        "plotlyServerURL": "https://plot.ly"
       },
       "data": [
        {
         "branchvalues": "total",
         "domain": {
          "x": [
           0,
           1
          ],
          "y": [
           0,
           1
          ]
         },
         "hovertemplate": "labels=%{label}<br>Count=%{value}<br>parent=%{parent}<br>id=%{id}<extra></extra>",
         "ids": [
          "Cote d'Ivoire/Gbeke/Béoumi/Lolobo/Abouzè-kouadiokro",
          "Cote d'Ivoire/San Pedro/San-Pédro/Grand bereby/Adjamene",
          "Cote d'Ivoire/Gbeke/Sakassou/Djibri Assirikro/Adjougouansou",
          "Cote d'Ivoire/Gbeke/Béoumi/Béoumi/Afotobo",
          "Cote d'Ivoire/Gbeke/Bouaké/Commune de Bouaké/Ahodji(Raffierkro)",
          "Cote d'Ivoire/Gbeke/Bouaké/Brobo/Ahouzankro (Bassin  de Mamini)",
          "Cote d'Ivoire/Gbeke/Bouaké/Brobo/Ahouzankro (Bassin de Mamini)",
          "Cote d'Ivoire/Gbeke/Bouaké/Brobo/Ahouzankro Bassin de Mamini)",
          "Cote d'Ivoire/Gbeke/Béoumi/Béoumi/Akadiafoué",
          "Cote d'Ivoire/Gbeke/Bouaké/Bouaké/Akanzakro",
          "Cote d'Ivoire/Gbeke/Sakassou/Sakassou/Akété",
          "Cote d'Ivoire/Gbeke/Béoumi/Lolobo/Alloko-Sakassou",
          "Cote d'Ivoire/Gbeke/Bouaké/Brobo/Alloukro (Bassin de Mamini)",
          "Cote d'Ivoire/Gbeke/Sakassou/Sakassou/Andobo-Alluibo",
          "Cote d'Ivoire/Gbeke/Botro/Languibonou/Andokro-Kouakou",
          "Cote d'Ivoire/Gbeke/Botro/Languibonou/Angokoun-Kpangbassou",
          "Cote d'Ivoire/Gbeke/Sakassou/Sakassou/Anoufoue Bounou",
          "Cote d'Ivoire/Gbeke/Bouaké/Djebonoua/Assengou",
          "Cote d'Ivoire/Gbeke/Bouaké/Djébonoua/Assouakro",
          "Cote d'Ivoire/Gbeke/Sakassou/Dibri/Belle-Ahoukro (Akanzakro)",
          "Cote d'Ivoire/Gbeke/Sakassou/Dibri Assrikro/Belle-Ahoukro 3(Akanzakro)",
          "Cote d'Ivoire/Gbeke/Sakassou/Dibri Assrikro/Belle-Ahoukro(Akanzakro)",
          "Cote d'Ivoire/San Pedro/Tabou/DJOUROUTOU/Beoué",
          "Cote d'Ivoire/San Pedro/San-Pédro/Gabiadji/Blahou",
          "Cote d'Ivoire/San Pedro/San-Pédro/Dogbo/Bledie",
          "Cote d'Ivoire/Gbeke/Bouaké/Brobo/Bobokro",
          "Cote d'Ivoire/Gbeke/Bouaké/Brobo/Bobokro (Bassin de Mamini)",
          "Cote d'Ivoire/Gbeke/Bouaké/Brobo/Bobokro (Mamini)",
          "Cote d'Ivoire/Gbeke/Bouaké/Brobo/Bounda",
          "Cote d'Ivoire/Gbeke/Botro/Languibonou/Béhéké (Bassin de  Languibonou)",
          "Cote d'Ivoire/Gbeke/Botro/Languibonou/Béhéké (Bassin de Klèmèkro)",
          "Cote d'Ivoire/Gbeke/Botro/Languibonou/Béhéké (Bassin de Languibonou)",
          "Cote d'Ivoire/Gbeke/Botro/Languibonou/Béhéké (Languibonou)",
          "Cote d'Ivoire/Gbeke/Botro/Languibonou/Béhéké(Bassin de Klèmèkro)",
          "Cote d'Ivoire/Gbeke/Botro/Languibonou/Béhéké(Bassin de Languibonou)",
          "Cote d'Ivoire/San Pedro/Tabou/DJOUROUTOU/DJOUROUTOU",
          "Cote d'Ivoire/San Pedro/Tabou/Grabo/Debablai",
          "Cote d'Ivoire/Gbeke/Béoumi/Lolobo/Diéribanou",
          "Cote d'Ivoire/Gbeke/Béoumi/Lolobo/Diéribanouan",
          "Cote d'Ivoire/Gbeke/Béoumi/Béoumi/Diéviessou",
          "Cote d'Ivoire/San Pedro/San-Pédro/Djihimbo/Djihimbo",
          "Cote d'Ivoire/San Pedro/Tabou/Tabou/Djihouloké",
          "Cote d'Ivoire/San Pedro/San-Pédro/Grand bereby/Djikla",
          "Cote d'Ivoire/San Pedro/San-Pédro/Grand bereby/Djourou",
          "Cote d'Ivoire/San Pedro/San-Pédro/Gabiadji/Fahe",
          "Cote d'Ivoire/San Pedro/San-Pédro/Gabiadji/Fahe yobouekro",
          "Cote d'Ivoire/Gbeke/Bouaké/Commune de Bouaké/Fahris_Oko",
          "Cote d'Ivoire/Gbeke/Bouaké/Commune de Bouake/Fahris_Oko (Bassin de Kahankro)",
          "Cote d'Ivoire/Gbeke/Bouaké/Commune de Bouaké/Fahris_Oko (Kahankro)",
          "Cote d'Ivoire/Gbeke/Bouaké/Commune de Bouake/Fahris_Oko(Bassin de Kahankro)",
          "Cote d'Ivoire/San Pedro/Tabou/DJOUROUTOU/GBAROU",
          "Cote d'Ivoire/San Pedro/San-Pédro/Gnity/Gbangbokro",
          "Cote d'Ivoire/San Pedro/Tabou/Grabo/Gbapet",
          "Cote d'Ivoire/San Pedro/Tabou/DJOUROUTOU/Gbarou",
          "Cote d'Ivoire/San Pedro/San-Pédro/Gabiadji/Gnity",
          "Cote d'Ivoire/Gbeke/Sakassou/Sakassou/Goliblenou",
          "Cote d'Ivoire/Gbeke/Bouaké/Djébonoua/Gomo( Bassin Assouakro)",
          "Cote d'Ivoire/Gbeke/Bouaké/Djébonoua/Gomo(Bassin  de Assouakro)",
          "Cote d'Ivoire/San Pedro/San-Pédro/Gabiadji/Grobonou  dan",
          "Cote d'Ivoire/San Pedro/San-Pédro/Gabiadji/Grobonou dan",
          "Cote d'Ivoire/San Pedro/Tabou/DJOUROUTOU/Hannié",
          "Cote d'Ivoire/San Pedro/San-Pédro/Dogbo/Heremakono",
          "Cote d'Ivoire/San Pedro/Tabou/Tabou/Hyrré",
          "Cote d'Ivoire/Gbeke/Sakassou/Sakassou/Kanango Kpli",
          "Cote d'Ivoire/San Pedro/Tabou/Olodio/Klodio",
          "Cote d'Ivoire/Gbeke/Botro/Languibonou/Klèmèkro",
          "Cote d'Ivoire/Gbeke/Botro/Languibonou/Klèmèkro (wandékouassikro)",
          "Cote d'Ivoire/Gbeke/Bouaké/Commune de Bouaké/Koblékro",
          "Cote d'Ivoire/Gbeke/Bouaké/Commune de Bouaké/Koblékro(Kongonibo)",
          "Cote d'Ivoire/Gbeke/Bouaké/Brobo/Kouadianikro",
          "Cote d'Ivoire/Gbeke/Bouaké/Brobo/Kouadianikro (Bassin de Bounda)",
          "Cote d'Ivoire/Gbeke/Bouaké/Brobo/Kouadianikro (Bounda)",
          "Cote d'Ivoire/Gbeke/Bouaké/Brobo/Kouadianikro(Bassin Bounda)",
          "Cote d'Ivoire/Gbeke/Bouaké/Brobo/Kouakou kouadiokro (Bassin de Yéguébo-Bouakro)",
          "Cote d'Ivoire/Gbeke/Bouaké/Brobo/Kouakou kouadiokro(Bassin  de Yéguébo-Bouakro)",
          "Cote d'Ivoire/Gbeke/Béoumi/Bodokro/Kouakou-Bakakro",
          "Cote d'Ivoire/Gbeke/Bouaké/Brobo/Koubékro (Bassin  Mamini)",
          "Cote d'Ivoire/Gbeke/Béoumi/Béoumi/Koumanbo",
          "Cote d'Ivoire/Gbeke/Bouaké/Brobo/Kpékékro (Bassin  de  Mamini)",
          "Cote d'Ivoire/Gbeke/Bouaké/Brobo/Kpékékro (Bassin de Mamini)",
          "Cote d'Ivoire/Gbeke/Bouaké/Brobo/Kpékékro (Mamini)",
          "Cote d'Ivoire/Gbeke/Botro/Krofoinsou/Krofoinsou",
          "Cote d'Ivoire/Gbeke/Bouaké/Brobo/Langbabokohoun",
          "Cote d'Ivoire/Gbeke/Béoumi/Ando-Kékrénou/Linguébo",
          "Cote d'Ivoire/Gbeke/Bouaké/Djebonoua/Lokassou",
          "Cote d'Ivoire/Gbeke/Bouaké/Djébonoua/Lokassou (Bassin de Assengou)",
          "Cote d'Ivoire/Gbeke/Béoumi/Lolobo/Lolobo",
          "Cote d'Ivoire/San Pedro/Tabou/DJOUROUTOU/MAHINO1",
          "Cote d'Ivoire/San Pedro/Tabou/DJOUROUTOU/Mahino 3",
          "Cote d'Ivoire/San Pedro/Tabou/DJOUROUTOU/Mahino1",
          "Cote d'Ivoire/San Pedro/Tabou/DJOUROUTOU/Mahino2",
          "Cote d'Ivoire/San Pedro/Tabou/DJOUROUTOU/Mahino3",
          "Cote d'Ivoire/Gbeke/Bouaké/Brobo/Mamini",
          "Cote d'Ivoire/Gbeke/Bouaké/Brobo/Mamini (Bassin de Mamini)",
          "Cote d'Ivoire/Gbeke/Béoumi/Ando-Kékrénou/Mandanou",
          "Cote d'Ivoire/San Pedro/Tabou/Tabou/Mané",
          "Cote d'Ivoire/Gbeke/Béoumi/Lolobo/N?Zuégouanou",
          "Cote d'Ivoire/Gbeke/Béoumi/Lolobo/N?Zègouanou",
          "Cote d'Ivoire/Gbeke/Béoumi/Bodokro/N?dakro",
          "Cote d'Ivoire/Gbeke/Botro/Krofoinsou/N?zikro",
          "Cote d'Ivoire/San Pedro/Tabou/Grabo/Nouin",
          "Cote d'Ivoire/San Pedro/Tabou/Olodio/Olodio",
          "Cote d'Ivoire/San Pedro/San-Pédro/Grand bereby/Oueoulo",
          "Cote d'Ivoire/San Pedro/San-Pédro/Grand bereby/Oulibio",
          "Cote d'Ivoire/San Pedro/Tabou/DJOUROUTOU/PARA",
          "Cote d'Ivoire/San Pedro/Tabou/DJOUROUTOU/Para",
          "Cote d'Ivoire/San Pedro/Tabou/DJOUROUTOU/Plateau",
          "Cote d'Ivoire/Gbeke/Béoumi/N?guessankro/Plibo",
          "Cote d'Ivoire/Gbeke/Bouaké/Djébonoua/Plongo (Bassin de  Kondoukro)",
          "Cote d'Ivoire/Gbeke/Bouaké/Djébonoua/Plongo (Bassin de Kondoukro)",
          "Cote d'Ivoire/Gbeke/Bouaké/Djébonoua/Plongo(Bassin de Djébonoua)",
          "Cote d'Ivoire/Gbeke/Bouaké/COMMUNE DE Bouake/Raffierkro",
          "Cote d'Ivoire/Gbeke/Bouaké/Brobo/Saminikro",
          "Cote d'Ivoire/Gbeke/Béoumi/Lolobo/Samoïkro",
          "Cote d'Ivoire/San Pedro/Tabou/Olodio/Seh",
          "Cote d'Ivoire/San Pedro/Tabou/Grabo/Siahé",
          "Cote d'Ivoire/Gbeke/Botro/Diabo/Sinzèkro",
          "Cote d'Ivoire/Gbeke/Sakassou/Djibri Assirikro/Sola-Bonikro",
          "Cote d'Ivoire/Gbeke/Sakassou/Ayaou-Sran/Sran-Belakro",
          "Cote d'Ivoire/Gbeke/Bouaké/Brobo/Takassou (Bassin de Mamini)",
          "Cote d'Ivoire/Gbeke/Bouaké/Brobo/Takassou (Bassin de Mamini.)",
          "Cote d'Ivoire/Gbeke/Bouaké/Brobo/Takassou(Bassin de Saminikro)",
          "Cote d'Ivoire/Gbeke/Bouaké/Brobo/Tanou-Broukro ( Bassin  de  Saminikro)",
          "Cote d'Ivoire/Gbeke/Bouaké/Brobo/Tanou-Broukro (Bassin de  Saminikro)",
          "Cote d'Ivoire/Gbeke/Bouaké/Brobo/Tanou-Broukro (Bassin de Saminikro)",
          "Cote d'Ivoire/Gbeke/Bouaké/Brobo/Tanou-Broukro(Bassin de Saminikro)",
          "Cote d'Ivoire/San Pedro/San-Pédro/Gabiadji/Touih",
          "Cote d'Ivoire/San Pedro/San-Pédro/Grand bereby/Wouhasso",
          "Cote d'Ivoire/Gbeke/Bouaké/Brobo/Yéguébo-Bouakro",
          "Cote d'Ivoire/Gbeke/Bouaké/Brobo/Zougban (Bassin de Saminikro)",
          "Cote d'Ivoire/Gbeke/Bouaké/Brobo/Zougban (Saminikro)",
          "Cote d'Ivoire/Gbeke/Béoumi/Ando-Kékrénou",
          "Cote d'Ivoire/Gbeke/Sakassou/Ayaou-Sran",
          "Cote d'Ivoire/Gbeke/Béoumi/Bodokro",
          "Cote d'Ivoire/Gbeke/Bouaké/Bouaké",
          "Cote d'Ivoire/Gbeke/Bouaké/Brobo",
          "Cote d'Ivoire/Gbeke/Béoumi/Béoumi",
          "Cote d'Ivoire/Gbeke/Bouaké/COMMUNE DE Bouake",
          "Cote d'Ivoire/Gbeke/Bouaké/Commune de Bouake",
          "Cote d'Ivoire/Gbeke/Bouaké/Commune de Bouaké",
          "Cote d'Ivoire/San Pedro/Tabou/DJOUROUTOU",
          "Cote d'Ivoire/Gbeke/Botro/Diabo",
          "Cote d'Ivoire/Gbeke/Sakassou/Dibri",
          "Cote d'Ivoire/Gbeke/Sakassou/Dibri Assrikro",
          "Cote d'Ivoire/Gbeke/Bouaké/Djebonoua",
          "Cote d'Ivoire/Gbeke/Sakassou/Djibri Assirikro",
          "Cote d'Ivoire/San Pedro/San-Pédro/Djihimbo",
          "Cote d'Ivoire/Gbeke/Bouaké/Djébonoua",
          "Cote d'Ivoire/San Pedro/San-Pédro/Dogbo",
          "Cote d'Ivoire/San Pedro/San-Pédro/Gabiadji",
          "Cote d'Ivoire/San Pedro/San-Pédro/Gnity",
          "Cote d'Ivoire/San Pedro/Tabou/Grabo",
          "Cote d'Ivoire/San Pedro/San-Pédro/Grand bereby",
          "Cote d'Ivoire/Gbeke/Botro/Krofoinsou",
          "Cote d'Ivoire/Gbeke/Botro/Languibonou",
          "Cote d'Ivoire/Gbeke/Béoumi/Lolobo",
          "Cote d'Ivoire/Gbeke/Béoumi/N?guessankro",
          "Cote d'Ivoire/San Pedro/Tabou/Olodio",
          "Cote d'Ivoire/Gbeke/Sakassou/Sakassou",
          "Cote d'Ivoire/San Pedro/Tabou/Tabou",
          "Cote d'Ivoire/Gbeke/Botro",
          "Cote d'Ivoire/Gbeke/Bouaké",
          "Cote d'Ivoire/Gbeke/Béoumi",
          "Cote d'Ivoire/Gbeke/Sakassou",
          "Cote d'Ivoire/San Pedro/San-Pédro",
          "Cote d'Ivoire/San Pedro/Tabou",
          "Cote d'Ivoire/Gbeke",
          "Cote d'Ivoire/San Pedro",
          "Cote d'Ivoire"
         ],
         "labels": [
          "Abouzè-kouadiokro",
          "Adjamene",
          "Adjougouansou",
          "Afotobo",
          "Ahodji(Raffierkro)",
          "Ahouzankro (Bassin  de Mamini)",
          "Ahouzankro (Bassin de Mamini)",
          "Ahouzankro Bassin de Mamini)",
          "Akadiafoué",
          "Akanzakro",
          "Akété",
          "Alloko-Sakassou",
          "Alloukro (Bassin de Mamini)",
          "Andobo-Alluibo",
          "Andokro-Kouakou",
          "Angokoun-Kpangbassou",
          "Anoufoue Bounou",
          "Assengou",
          "Assouakro",
          "Belle-Ahoukro (Akanzakro)",
          "Belle-Ahoukro 3(Akanzakro)",
          "Belle-Ahoukro(Akanzakro)",
          "Beoué",
          "Blahou",
          "Bledie",
          "Bobokro",
          "Bobokro (Bassin de Mamini)",
          "Bobokro (Mamini)",
          "Bounda",
          "Béhéké (Bassin de  Languibonou)",
          "Béhéké (Bassin de Klèmèkro)",
          "Béhéké (Bassin de Languibonou)",
          "Béhéké (Languibonou)",
          "Béhéké(Bassin de Klèmèkro)",
          "Béhéké(Bassin de Languibonou)",
          "DJOUROUTOU",
          "Debablai",
          "Diéribanou",
          "Diéribanouan",
          "Diéviessou",
          "Djihimbo",
          "Djihouloké",
          "Djikla",
          "Djourou",
          "Fahe",
          "Fahe yobouekro",
          "Fahris_Oko",
          "Fahris_Oko (Bassin de Kahankro)",
          "Fahris_Oko (Kahankro)",
          "Fahris_Oko(Bassin de Kahankro)",
          "GBAROU",
          "Gbangbokro",
          "Gbapet",
          "Gbarou",
          "Gnity",
          "Goliblenou",
          "Gomo( Bassin Assouakro)",
          "Gomo(Bassin  de Assouakro)",
          "Grobonou  dan",
          "Grobonou dan",
          "Hannié",
          "Heremakono",
          "Hyrré",
          "Kanango Kpli",
          "Klodio",
          "Klèmèkro",
          "Klèmèkro (wandékouassikro)",
          "Koblékro",
          "Koblékro(Kongonibo)",
          "Kouadianikro",
          "Kouadianikro (Bassin de Bounda)",
          "Kouadianikro (Bounda)",
          "Kouadianikro(Bassin Bounda)",
          "Kouakou kouadiokro (Bassin de Yéguébo-Bouakro)",
          "Kouakou kouadiokro(Bassin  de Yéguébo-Bouakro)",
          "Kouakou-Bakakro",
          "Koubékro (Bassin  Mamini)",
          "Koumanbo",
          "Kpékékro (Bassin  de  Mamini)",
          "Kpékékro (Bassin de Mamini)",
          "Kpékékro (Mamini)",
          "Krofoinsou",
          "Langbabokohoun",
          "Linguébo",
          "Lokassou",
          "Lokassou (Bassin de Assengou)",
          "Lolobo",
          "MAHINO1",
          "Mahino 3",
          "Mahino1",
          "Mahino2",
          "Mahino3",
          "Mamini",
          "Mamini (Bassin de Mamini)",
          "Mandanou",
          "Mané",
          "N?Zuégouanou",
          "N?Zègouanou",
          "N?dakro",
          "N?zikro",
          "Nouin",
          "Olodio",
          "Oueoulo",
          "Oulibio",
          "PARA",
          "Para",
          "Plateau",
          "Plibo",
          "Plongo (Bassin de  Kondoukro)",
          "Plongo (Bassin de Kondoukro)",
          "Plongo(Bassin de Djébonoua)",
          "Raffierkro",
          "Saminikro",
          "Samoïkro",
          "Seh",
          "Siahé",
          "Sinzèkro",
          "Sola-Bonikro",
          "Sran-Belakro",
          "Takassou (Bassin de Mamini)",
          "Takassou (Bassin de Mamini.)",
          "Takassou(Bassin de Saminikro)",
          "Tanou-Broukro ( Bassin  de  Saminikro)",
          "Tanou-Broukro (Bassin de  Saminikro)",
          "Tanou-Broukro (Bassin de Saminikro)",
          "Tanou-Broukro(Bassin de Saminikro)",
          "Touih",
          "Wouhasso",
          "Yéguébo-Bouakro",
          "Zougban (Bassin de Saminikro)",
          "Zougban (Saminikro)",
          "Ando-Kékrénou",
          "Ayaou-Sran",
          "Bodokro",
          "Bouaké",
          "Brobo",
          "Béoumi",
          "COMMUNE DE Bouake",
          "Commune de Bouake",
          "Commune de Bouaké",
          "DJOUROUTOU",
          "Diabo",
          "Dibri",
          "Dibri Assrikro",
          "Djebonoua",
          "Djibri Assirikro",
          "Djihimbo",
          "Djébonoua",
          "Dogbo",
          "Gabiadji",
          "Gnity",
          "Grabo",
          "Grand bereby",
          "Krofoinsou",
          "Languibonou",
          "Lolobo",
          "N?guessankro",
          "Olodio",
          "Sakassou",
          "Tabou",
          "Botro",
          "Bouaké",
          "Béoumi",
          "Sakassou",
          "San-Pédro",
          "Tabou",
          "Gbeke",
          "San Pedro",
          "Cote d'Ivoire"
         ],
         "name": "",
         "parents": [
          "Cote d'Ivoire/Gbeke/Béoumi/Lolobo",
          "Cote d'Ivoire/San Pedro/San-Pédro/Grand bereby",
          "Cote d'Ivoire/Gbeke/Sakassou/Djibri Assirikro",
          "Cote d'Ivoire/Gbeke/Béoumi/Béoumi",
          "Cote d'Ivoire/Gbeke/Bouaké/Commune de Bouaké",
          "Cote d'Ivoire/Gbeke/Bouaké/Brobo",
          "Cote d'Ivoire/Gbeke/Bouaké/Brobo",
          "Cote d'Ivoire/Gbeke/Bouaké/Brobo",
          "Cote d'Ivoire/Gbeke/Béoumi/Béoumi",
          "Cote d'Ivoire/Gbeke/Bouaké/Bouaké",
          "Cote d'Ivoire/Gbeke/Sakassou/Sakassou",
          "Cote d'Ivoire/Gbeke/Béoumi/Lolobo",
          "Cote d'Ivoire/Gbeke/Bouaké/Brobo",
          "Cote d'Ivoire/Gbeke/Sakassou/Sakassou",
          "Cote d'Ivoire/Gbeke/Botro/Languibonou",
          "Cote d'Ivoire/Gbeke/Botro/Languibonou",
          "Cote d'Ivoire/Gbeke/Sakassou/Sakassou",
          "Cote d'Ivoire/Gbeke/Bouaké/Djebonoua",
          "Cote d'Ivoire/Gbeke/Bouaké/Djébonoua",
          "Cote d'Ivoire/Gbeke/Sakassou/Dibri",
          "Cote d'Ivoire/Gbeke/Sakassou/Dibri Assrikro",
          "Cote d'Ivoire/Gbeke/Sakassou/Dibri Assrikro",
          "Cote d'Ivoire/San Pedro/Tabou/DJOUROUTOU",
          "Cote d'Ivoire/San Pedro/San-Pédro/Gabiadji",
          "Cote d'Ivoire/San Pedro/San-Pédro/Dogbo",
          "Cote d'Ivoire/Gbeke/Bouaké/Brobo",
          "Cote d'Ivoire/Gbeke/Bouaké/Brobo",
          "Cote d'Ivoire/Gbeke/Bouaké/Brobo",
          "Cote d'Ivoire/Gbeke/Bouaké/Brobo",
          "Cote d'Ivoire/Gbeke/Botro/Languibonou",
          "Cote d'Ivoire/Gbeke/Botro/Languibonou",
          "Cote d'Ivoire/Gbeke/Botro/Languibonou",
          "Cote d'Ivoire/Gbeke/Botro/Languibonou",
          "Cote d'Ivoire/Gbeke/Botro/Languibonou",
          "Cote d'Ivoire/Gbeke/Botro/Languibonou",
          "Cote d'Ivoire/San Pedro/Tabou/DJOUROUTOU",
          "Cote d'Ivoire/San Pedro/Tabou/Grabo",
          "Cote d'Ivoire/Gbeke/Béoumi/Lolobo",
          "Cote d'Ivoire/Gbeke/Béoumi/Lolobo",
          "Cote d'Ivoire/Gbeke/Béoumi/Béoumi",
          "Cote d'Ivoire/San Pedro/San-Pédro/Djihimbo",
          "Cote d'Ivoire/San Pedro/Tabou/Tabou",
          "Cote d'Ivoire/San Pedro/San-Pédro/Grand bereby",
          "Cote d'Ivoire/San Pedro/San-Pédro/Grand bereby",
          "Cote d'Ivoire/San Pedro/San-Pédro/Gabiadji",
          "Cote d'Ivoire/San Pedro/San-Pédro/Gabiadji",
          "Cote d'Ivoire/Gbeke/Bouaké/Commune de Bouaké",
          "Cote d'Ivoire/Gbeke/Bouaké/Commune de Bouake",
          "Cote d'Ivoire/Gbeke/Bouaké/Commune de Bouaké",
          "Cote d'Ivoire/Gbeke/Bouaké/Commune de Bouake",
          "Cote d'Ivoire/San Pedro/Tabou/DJOUROUTOU",
          "Cote d'Ivoire/San Pedro/San-Pédro/Gnity",
          "Cote d'Ivoire/San Pedro/Tabou/Grabo",
          "Cote d'Ivoire/San Pedro/Tabou/DJOUROUTOU",
          "Cote d'Ivoire/San Pedro/San-Pédro/Gabiadji",
          "Cote d'Ivoire/Gbeke/Sakassou/Sakassou",
          "Cote d'Ivoire/Gbeke/Bouaké/Djébonoua",
          "Cote d'Ivoire/Gbeke/Bouaké/Djébonoua",
          "Cote d'Ivoire/San Pedro/San-Pédro/Gabiadji",
          "Cote d'Ivoire/San Pedro/San-Pédro/Gabiadji",
          "Cote d'Ivoire/San Pedro/Tabou/DJOUROUTOU",
          "Cote d'Ivoire/San Pedro/San-Pédro/Dogbo",
          "Cote d'Ivoire/San Pedro/Tabou/Tabou",
          "Cote d'Ivoire/Gbeke/Sakassou/Sakassou",
          "Cote d'Ivoire/San Pedro/Tabou/Olodio",
          "Cote d'Ivoire/Gbeke/Botro/Languibonou",
          "Cote d'Ivoire/Gbeke/Botro/Languibonou",
          "Cote d'Ivoire/Gbeke/Bouaké/Commune de Bouaké",
          "Cote d'Ivoire/Gbeke/Bouaké/Commune de Bouaké",
          "Cote d'Ivoire/Gbeke/Bouaké/Brobo",
          "Cote d'Ivoire/Gbeke/Bouaké/Brobo",
          "Cote d'Ivoire/Gbeke/Bouaké/Brobo",
          "Cote d'Ivoire/Gbeke/Bouaké/Brobo",
          "Cote d'Ivoire/Gbeke/Bouaké/Brobo",
          "Cote d'Ivoire/Gbeke/Bouaké/Brobo",
          "Cote d'Ivoire/Gbeke/Béoumi/Bodokro",
          "Cote d'Ivoire/Gbeke/Bouaké/Brobo",
          "Cote d'Ivoire/Gbeke/Béoumi/Béoumi",
          "Cote d'Ivoire/Gbeke/Bouaké/Brobo",
          "Cote d'Ivoire/Gbeke/Bouaké/Brobo",
          "Cote d'Ivoire/Gbeke/Bouaké/Brobo",
          "Cote d'Ivoire/Gbeke/Botro/Krofoinsou",
          "Cote d'Ivoire/Gbeke/Bouaké/Brobo",
          "Cote d'Ivoire/Gbeke/Béoumi/Ando-Kékrénou",
          "Cote d'Ivoire/Gbeke/Bouaké/Djebonoua",
          "Cote d'Ivoire/Gbeke/Bouaké/Djébonoua",
          "Cote d'Ivoire/Gbeke/Béoumi/Lolobo",
          "Cote d'Ivoire/San Pedro/Tabou/DJOUROUTOU",
          "Cote d'Ivoire/San Pedro/Tabou/DJOUROUTOU",
          "Cote d'Ivoire/San Pedro/Tabou/DJOUROUTOU",
          "Cote d'Ivoire/San Pedro/Tabou/DJOUROUTOU",
          "Cote d'Ivoire/San Pedro/Tabou/DJOUROUTOU",
          "Cote d'Ivoire/Gbeke/Bouaké/Brobo",
          "Cote d'Ivoire/Gbeke/Bouaké/Brobo",
          "Cote d'Ivoire/Gbeke/Béoumi/Ando-Kékrénou",
          "Cote d'Ivoire/San Pedro/Tabou/Tabou",
          "Cote d'Ivoire/Gbeke/Béoumi/Lolobo",
          "Cote d'Ivoire/Gbeke/Béoumi/Lolobo",
          "Cote d'Ivoire/Gbeke/Béoumi/Bodokro",
          "Cote d'Ivoire/Gbeke/Botro/Krofoinsou",
          "Cote d'Ivoire/San Pedro/Tabou/Grabo",
          "Cote d'Ivoire/San Pedro/Tabou/Olodio",
          "Cote d'Ivoire/San Pedro/San-Pédro/Grand bereby",
          "Cote d'Ivoire/San Pedro/San-Pédro/Grand bereby",
          "Cote d'Ivoire/San Pedro/Tabou/DJOUROUTOU",
          "Cote d'Ivoire/San Pedro/Tabou/DJOUROUTOU",
          "Cote d'Ivoire/San Pedro/Tabou/DJOUROUTOU",
          "Cote d'Ivoire/Gbeke/Béoumi/N?guessankro",
          "Cote d'Ivoire/Gbeke/Bouaké/Djébonoua",
          "Cote d'Ivoire/Gbeke/Bouaké/Djébonoua",
          "Cote d'Ivoire/Gbeke/Bouaké/Djébonoua",
          "Cote d'Ivoire/Gbeke/Bouaké/COMMUNE DE Bouake",
          "Cote d'Ivoire/Gbeke/Bouaké/Brobo",
          "Cote d'Ivoire/Gbeke/Béoumi/Lolobo",
          "Cote d'Ivoire/San Pedro/Tabou/Olodio",
          "Cote d'Ivoire/San Pedro/Tabou/Grabo",
          "Cote d'Ivoire/Gbeke/Botro/Diabo",
          "Cote d'Ivoire/Gbeke/Sakassou/Djibri Assirikro",
          "Cote d'Ivoire/Gbeke/Sakassou/Ayaou-Sran",
          "Cote d'Ivoire/Gbeke/Bouaké/Brobo",
          "Cote d'Ivoire/Gbeke/Bouaké/Brobo",
          "Cote d'Ivoire/Gbeke/Bouaké/Brobo",
          "Cote d'Ivoire/Gbeke/Bouaké/Brobo",
          "Cote d'Ivoire/Gbeke/Bouaké/Brobo",
          "Cote d'Ivoire/Gbeke/Bouaké/Brobo",
          "Cote d'Ivoire/Gbeke/Bouaké/Brobo",
          "Cote d'Ivoire/San Pedro/San-Pédro/Gabiadji",
          "Cote d'Ivoire/San Pedro/San-Pédro/Grand bereby",
          "Cote d'Ivoire/Gbeke/Bouaké/Brobo",
          "Cote d'Ivoire/Gbeke/Bouaké/Brobo",
          "Cote d'Ivoire/Gbeke/Bouaké/Brobo",
          "Cote d'Ivoire/Gbeke/Béoumi",
          "Cote d'Ivoire/Gbeke/Sakassou",
          "Cote d'Ivoire/Gbeke/Béoumi",
          "Cote d'Ivoire/Gbeke/Bouaké",
          "Cote d'Ivoire/Gbeke/Bouaké",
          "Cote d'Ivoire/Gbeke/Béoumi",
          "Cote d'Ivoire/Gbeke/Bouaké",
          "Cote d'Ivoire/Gbeke/Bouaké",
          "Cote d'Ivoire/Gbeke/Bouaké",
          "Cote d'Ivoire/San Pedro/Tabou",
          "Cote d'Ivoire/Gbeke/Botro",
          "Cote d'Ivoire/Gbeke/Sakassou",
          "Cote d'Ivoire/Gbeke/Sakassou",
          "Cote d'Ivoire/Gbeke/Bouaké",
          "Cote d'Ivoire/Gbeke/Sakassou",
          "Cote d'Ivoire/San Pedro/San-Pédro",
          "Cote d'Ivoire/Gbeke/Bouaké",
          "Cote d'Ivoire/San Pedro/San-Pédro",
          "Cote d'Ivoire/San Pedro/San-Pédro",
          "Cote d'Ivoire/San Pedro/San-Pédro",
          "Cote d'Ivoire/San Pedro/Tabou",
          "Cote d'Ivoire/San Pedro/San-Pédro",
          "Cote d'Ivoire/Gbeke/Botro",
          "Cote d'Ivoire/Gbeke/Botro",
          "Cote d'Ivoire/Gbeke/Béoumi",
          "Cote d'Ivoire/Gbeke/Béoumi",
          "Cote d'Ivoire/San Pedro/Tabou",
          "Cote d'Ivoire/Gbeke/Sakassou",
          "Cote d'Ivoire/San Pedro/Tabou",
          "Cote d'Ivoire/Gbeke",
          "Cote d'Ivoire/Gbeke",
          "Cote d'Ivoire/Gbeke",
          "Cote d'Ivoire/Gbeke",
          "Cote d'Ivoire/San Pedro",
          "Cote d'Ivoire/San Pedro",
          "Cote d'Ivoire",
          "Cote d'Ivoire",
          ""
         ],
         "type": "treemap",
         "values": [
          1,
          13,
          18,
          9,
          1,
          1,
          3,
          1,
          7,
          8,
          12,
          5,
          2,
          12,
          29,
          38,
          1,
          1,
          4,
          1,
          1,
          1,
          5,
          5,
          17,
          1,
          1,
          1,
          4,
          1,
          3,
          2,
          1,
          2,
          2,
          12,
          6,
          1,
          3,
          13,
          5,
          1,
          3,
          1,
          5,
          1,
          1,
          1,
          1,
          1,
          1,
          1,
          8,
          2,
          10,
          9,
          1,
          1,
          1,
          11,
          18,
          12,
          1,
          2,
          1,
          2,
          1,
          2,
          1,
          1,
          1,
          1,
          1,
          1,
          1,
          3,
          1,
          13,
          1,
          9,
          4,
          5,
          1,
          3,
          3,
          2,
          1,
          1,
          3,
          13,
          1,
          4,
          1,
          2,
          6,
          2,
          2,
          2,
          13,
          2,
          2,
          5,
          9,
          1,
          7,
          5,
          1,
          6,
          1,
          1,
          1,
          3,
          4,
          5,
          1,
          4,
          2,
          11,
          8,
          1,
          1,
          2,
          1,
          1,
          2,
          1,
          1,
          6,
          3,
          5,
          1,
          9,
          8,
          16,
          8,
          61,
          42,
          3,
          2,
          6,
          73,
          2,
          1,
          2,
          4,
          29,
          5,
          11,
          29,
          34,
          1,
          20,
          33,
          7,
          81,
          20,
          6,
          7,
          36,
          4,
          90,
          95,
          93,
          76,
          102,
          104,
          354,
          206,
          560
         ]
        }
       ],
       "layout": {
        "legend": {
         "tracegroupgap": 0
        },
        "margin": {
         "t": 60
        },
        "template": {
         "data": {
          "bar": [
           {
            "error_x": {
             "color": "#2a3f5f"
            },
            "error_y": {
             "color": "#2a3f5f"
            },
            "marker": {
             "line": {
              "color": "#E5ECF6",
              "width": 0.5
             },
             "pattern": {
              "fillmode": "overlay",
              "size": 10,
              "solidity": 0.2
             }
            },
            "type": "bar"
           }
          ],
          "barpolar": [
           {
            "marker": {
             "line": {
              "color": "#E5ECF6",
              "width": 0.5
             },
             "pattern": {
              "fillmode": "overlay",
              "size": 10,
              "solidity": 0.2
             }
            },
            "type": "barpolar"
           }
          ],
          "carpet": [
           {
            "aaxis": {
             "endlinecolor": "#2a3f5f",
             "gridcolor": "white",
             "linecolor": "white",
             "minorgridcolor": "white",
             "startlinecolor": "#2a3f5f"
            },
            "baxis": {
             "endlinecolor": "#2a3f5f",
             "gridcolor": "white",
             "linecolor": "white",
             "minorgridcolor": "white",
             "startlinecolor": "#2a3f5f"
            },
            "type": "carpet"
           }
          ],
          "choropleth": [
           {
            "colorbar": {
             "outlinewidth": 0,
             "ticks": ""
            },
            "type": "choropleth"
           }
          ],
          "contour": [
           {
            "colorbar": {
             "outlinewidth": 0,
             "ticks": ""
            },
            "colorscale": [
             [
              0,
              "#0d0887"
             ],
             [
              0.1111111111111111,
              "#46039f"
             ],
             [
              0.2222222222222222,
              "#7201a8"
             ],
             [
              0.3333333333333333,
              "#9c179e"
             ],
             [
              0.4444444444444444,
              "#bd3786"
             ],
             [
              0.5555555555555556,
              "#d8576b"
             ],
             [
              0.6666666666666666,
              "#ed7953"
             ],
             [
              0.7777777777777778,
              "#fb9f3a"
             ],
             [
              0.8888888888888888,
              "#fdca26"
             ],
             [
              1,
              "#f0f921"
             ]
            ],
            "type": "contour"
           }
          ],
          "contourcarpet": [
           {
            "colorbar": {
             "outlinewidth": 0,
             "ticks": ""
            },
            "type": "contourcarpet"
           }
          ],
          "heatmap": [
           {
            "colorbar": {
             "outlinewidth": 0,
             "ticks": ""
            },
            "colorscale": [
             [
              0,
              "#0d0887"
             ],
             [
              0.1111111111111111,
              "#46039f"
             ],
             [
              0.2222222222222222,
              "#7201a8"
             ],
             [
              0.3333333333333333,
              "#9c179e"
             ],
             [
              0.4444444444444444,
              "#bd3786"
             ],
             [
              0.5555555555555556,
              "#d8576b"
             ],
             [
              0.6666666666666666,
              "#ed7953"
             ],
             [
              0.7777777777777778,
              "#fb9f3a"
             ],
             [
              0.8888888888888888,
              "#fdca26"
             ],
             [
              1,
              "#f0f921"
             ]
            ],
            "type": "heatmap"
           }
          ],
          "heatmapgl": [
           {
            "colorbar": {
             "outlinewidth": 0,
             "ticks": ""
            },
            "colorscale": [
             [
              0,
              "#0d0887"
             ],
             [
              0.1111111111111111,
              "#46039f"
             ],
             [
              0.2222222222222222,
              "#7201a8"
             ],
             [
              0.3333333333333333,
              "#9c179e"
             ],
             [
              0.4444444444444444,
              "#bd3786"
             ],
             [
              0.5555555555555556,
              "#d8576b"
             ],
             [
              0.6666666666666666,
              "#ed7953"
             ],
             [
              0.7777777777777778,
              "#fb9f3a"
             ],
             [
              0.8888888888888888,
              "#fdca26"
             ],
             [
              1,
              "#f0f921"
             ]
            ],
            "type": "heatmapgl"
           }
          ],
          "histogram": [
           {
            "marker": {
             "pattern": {
              "fillmode": "overlay",
              "size": 10,
              "solidity": 0.2
             }
            },
            "type": "histogram"
           }
          ],
          "histogram2d": [
           {
            "colorbar": {
             "outlinewidth": 0,
             "ticks": ""
            },
            "colorscale": [
             [
              0,
              "#0d0887"
             ],
             [
              0.1111111111111111,
              "#46039f"
             ],
             [
              0.2222222222222222,
              "#7201a8"
             ],
             [
              0.3333333333333333,
              "#9c179e"
             ],
             [
              0.4444444444444444,
              "#bd3786"
             ],
             [
              0.5555555555555556,
              "#d8576b"
             ],
             [
              0.6666666666666666,
              "#ed7953"
             ],
             [
              0.7777777777777778,
              "#fb9f3a"
             ],
             [
              0.8888888888888888,
              "#fdca26"
             ],
             [
              1,
              "#f0f921"
             ]
            ],
            "type": "histogram2d"
           }
          ],
          "histogram2dcontour": [
           {
            "colorbar": {
             "outlinewidth": 0,
             "ticks": ""
            },
            "colorscale": [
             [
              0,
              "#0d0887"
             ],
             [
              0.1111111111111111,
              "#46039f"
             ],
             [
              0.2222222222222222,
              "#7201a8"
             ],
             [
              0.3333333333333333,
              "#9c179e"
             ],
             [
              0.4444444444444444,
              "#bd3786"
             ],
             [
              0.5555555555555556,
              "#d8576b"
             ],
             [
              0.6666666666666666,
              "#ed7953"
             ],
             [
              0.7777777777777778,
              "#fb9f3a"
             ],
             [
              0.8888888888888888,
              "#fdca26"
             ],
             [
              1,
              "#f0f921"
             ]
            ],
            "type": "histogram2dcontour"
           }
          ],
          "mesh3d": [
           {
            "colorbar": {
             "outlinewidth": 0,
             "ticks": ""
            },
            "type": "mesh3d"
           }
          ],
          "parcoords": [
           {
            "line": {
             "colorbar": {
              "outlinewidth": 0,
              "ticks": ""
             }
            },
            "type": "parcoords"
           }
          ],
          "pie": [
           {
            "automargin": true,
            "type": "pie"
           }
          ],
          "scatter": [
           {
            "fillpattern": {
             "fillmode": "overlay",
             "size": 10,
             "solidity": 0.2
            },
            "type": "scatter"
           }
          ],
          "scatter3d": [
           {
            "line": {
             "colorbar": {
              "outlinewidth": 0,
              "ticks": ""
             }
            },
            "marker": {
             "colorbar": {
              "outlinewidth": 0,
              "ticks": ""
             }
            },
            "type": "scatter3d"
           }
          ],
          "scattercarpet": [
           {
            "marker": {
             "colorbar": {
              "outlinewidth": 0,
              "ticks": ""
             }
            },
            "type": "scattercarpet"
           }
          ],
          "scattergeo": [
           {
            "marker": {
             "colorbar": {
              "outlinewidth": 0,
              "ticks": ""
             }
            },
            "type": "scattergeo"
           }
          ],
          "scattergl": [
           {
            "marker": {
             "colorbar": {
              "outlinewidth": 0,
              "ticks": ""
             }
            },
            "type": "scattergl"
           }
          ],
          "scattermapbox": [
           {
            "marker": {
             "colorbar": {
              "outlinewidth": 0,
              "ticks": ""
             }
            },
            "type": "scattermapbox"
           }
          ],
          "scatterpolar": [
           {
            "marker": {
             "colorbar": {
              "outlinewidth": 0,
              "ticks": ""
             }
            },
            "type": "scatterpolar"
           }
          ],
          "scatterpolargl": [
           {
            "marker": {
             "colorbar": {
              "outlinewidth": 0,
              "ticks": ""
             }
            },
            "type": "scatterpolargl"
           }
          ],
          "scatterternary": [
           {
            "marker": {
             "colorbar": {
              "outlinewidth": 0,
              "ticks": ""
             }
            },
            "type": "scatterternary"
           }
          ],
          "surface": [
           {
            "colorbar": {
             "outlinewidth": 0,
             "ticks": ""
            },
            "colorscale": [
             [
              0,
              "#0d0887"
             ],
             [
              0.1111111111111111,
              "#46039f"
             ],
             [
              0.2222222222222222,
              "#7201a8"
             ],
             [
              0.3333333333333333,
              "#9c179e"
             ],
             [
              0.4444444444444444,
              "#bd3786"
             ],
             [
              0.5555555555555556,
              "#d8576b"
             ],
             [
              0.6666666666666666,
              "#ed7953"
             ],
             [
              0.7777777777777778,
              "#fb9f3a"
             ],
             [
              0.8888888888888888,
              "#fdca26"
             ],
             [
              1,
              "#f0f921"
             ]
            ],
            "type": "surface"
           }
          ],
          "table": [
           {
            "cells": {
             "fill": {
              "color": "#EBF0F8"
             },
             "line": {
              "color": "white"
             }
            },
            "header": {
             "fill": {
              "color": "#C8D4E3"
             },
             "line": {
              "color": "white"
             }
            },
            "type": "table"
           }
          ]
         },
         "layout": {
          "annotationdefaults": {
           "arrowcolor": "#2a3f5f",
           "arrowhead": 0,
           "arrowwidth": 1
          },
          "autotypenumbers": "strict",
          "coloraxis": {
           "colorbar": {
            "outlinewidth": 0,
            "ticks": ""
           }
          },
          "colorscale": {
           "diverging": [
            [
             0,
             "#8e0152"
            ],
            [
             0.1,
             "#c51b7d"
            ],
            [
             0.2,
             "#de77ae"
            ],
            [
             0.3,
             "#f1b6da"
            ],
            [
             0.4,
             "#fde0ef"
            ],
            [
             0.5,
             "#f7f7f7"
            ],
            [
             0.6,
             "#e6f5d0"
            ],
            [
             0.7,
             "#b8e186"
            ],
            [
             0.8,
             "#7fbc41"
            ],
            [
             0.9,
             "#4d9221"
            ],
            [
             1,
             "#276419"
            ]
           ],
           "sequential": [
            [
             0,
             "#0d0887"
            ],
            [
             0.1111111111111111,
             "#46039f"
            ],
            [
             0.2222222222222222,
             "#7201a8"
            ],
            [
             0.3333333333333333,
             "#9c179e"
            ],
            [
             0.4444444444444444,
             "#bd3786"
            ],
            [
             0.5555555555555556,
             "#d8576b"
            ],
            [
             0.6666666666666666,
             "#ed7953"
            ],
            [
             0.7777777777777778,
             "#fb9f3a"
            ],
            [
             0.8888888888888888,
             "#fdca26"
            ],
            [
             1,
             "#f0f921"
            ]
           ],
           "sequentialminus": [
            [
             0,
             "#0d0887"
            ],
            [
             0.1111111111111111,
             "#46039f"
            ],
            [
             0.2222222222222222,
             "#7201a8"
            ],
            [
             0.3333333333333333,
             "#9c179e"
            ],
            [
             0.4444444444444444,
             "#bd3786"
            ],
            [
             0.5555555555555556,
             "#d8576b"
            ],
            [
             0.6666666666666666,
             "#ed7953"
            ],
            [
             0.7777777777777778,
             "#fb9f3a"
            ],
            [
             0.8888888888888888,
             "#fdca26"
            ],
            [
             1,
             "#f0f921"
            ]
           ]
          },
          "colorway": [
           "#636efa",
           "#EF553B",
           "#00cc96",
           "#ab63fa",
           "#FFA15A",
           "#19d3f3",
           "#FF6692",
           "#B6E880",
           "#FF97FF",
           "#FECB52"
          ],
          "font": {
           "color": "#2a3f5f"
          },
          "geo": {
           "bgcolor": "white",
           "lakecolor": "white",
           "landcolor": "#E5ECF6",
           "showlakes": true,
           "showland": true,
           "subunitcolor": "white"
          },
          "hoverlabel": {
           "align": "left"
          },
          "hovermode": "closest",
          "mapbox": {
           "style": "light"
          },
          "paper_bgcolor": "white",
          "plot_bgcolor": "#E5ECF6",
          "polar": {
           "angularaxis": {
            "gridcolor": "white",
            "linecolor": "white",
            "ticks": ""
           },
           "bgcolor": "#E5ECF6",
           "radialaxis": {
            "gridcolor": "white",
            "linecolor": "white",
            "ticks": ""
           }
          },
          "scene": {
           "xaxis": {
            "backgroundcolor": "#E5ECF6",
            "gridcolor": "white",
            "gridwidth": 2,
            "linecolor": "white",
            "showbackground": true,
            "ticks": "",
            "zerolinecolor": "white"
           },
           "yaxis": {
            "backgroundcolor": "#E5ECF6",
            "gridcolor": "white",
            "gridwidth": 2,
            "linecolor": "white",
            "showbackground": true,
            "ticks": "",
            "zerolinecolor": "white"
           },
           "zaxis": {
            "backgroundcolor": "#E5ECF6",
            "gridcolor": "white",
            "gridwidth": 2,
            "linecolor": "white",
            "showbackground": true,
            "ticks": "",
            "zerolinecolor": "white"
           }
          },
          "shapedefaults": {
           "line": {
            "color": "#2a3f5f"
           }
          },
          "ternary": {
           "aaxis": {
            "gridcolor": "white",
            "linecolor": "white",
            "ticks": ""
           },
           "baxis": {
            "gridcolor": "white",
            "linecolor": "white",
            "ticks": ""
           },
           "bgcolor": "#E5ECF6",
           "caxis": {
            "gridcolor": "white",
            "linecolor": "white",
            "ticks": ""
           }
          },
          "title": {
           "x": 0.05
          },
          "xaxis": {
           "automargin": true,
           "gridcolor": "white",
           "linecolor": "white",
           "ticks": "",
           "title": {
            "standoff": 15
           },
           "zerolinecolor": "white",
           "zerolinewidth": 2
          },
          "yaxis": {
           "automargin": true,
           "gridcolor": "white",
           "linecolor": "white",
           "ticks": "",
           "title": {
            "standoff": 15
           },
           "zerolinecolor": "white",
           "zerolinewidth": 2
          }
         }
        },
        "treemapcolorway": [
         "#FF8200",
         "#009A44"
        ]
       }
      }
     },
     "metadata": {},
     "output_type": "display_data"
    }
   ],
   "source": [
    "blockingany = assessment[(assessment['Health access blocked by river'] != '') | (assessment['Education access blocked by river'] != '') | (assessment['Market access blocked by river'] != '') | (assessment['Other access blocked by river'] != '')]\n",
    "make_treemap(blockingany, './home/charts/blocking_any.html', './home/charts/blocking_any.csv')"
   ]
  },
  {
   "cell_type": "code",
   "execution_count": 17,
   "metadata": {},
   "outputs": [
    {
     "data": {
      "application/vnd.plotly.v1+json": {
       "config": {
        "plotlyServerURL": "https://plot.ly"
       },
       "data": [
        {
         "alignmentgroup": "True",
         "hovertemplate": "Level 2 Government=Botro<br>Level 3 Government=%{x}<br>Count=%{y}<extra></extra>",
         "legendgroup": "Botro",
         "marker": {
          "color": "#636efa",
          "pattern": {
           "shape": ""
          }
         },
         "name": "Botro",
         "offsetgroup": "Botro",
         "orientation": "v",
         "showlegend": true,
         "textposition": "auto",
         "type": "bar",
         "x": [
          "Languibonou",
          "Languibonou",
          "Krofoinsou",
          "Languibonou",
          "Languibonou",
          "Languibonou",
          "Languibonou",
          "Krofoinsou",
          "Diabo",
          "Languibonou",
          "Languibonou",
          "Languibonou",
          "Languibonou"
         ],
         "xaxis": "x",
         "y": [
          38,
          29,
          5,
          3,
          2,
          2,
          2,
          2,
          2,
          2,
          1,
          1,
          1
         ],
         "yaxis": "y"
        },
        {
         "alignmentgroup": "True",
         "hovertemplate": "Level 2 Government=Sakassou<br>Level 3 Government=%{x}<br>Count=%{y}<extra></extra>",
         "legendgroup": "Sakassou",
         "marker": {
          "color": "#EF553B",
          "pattern": {
           "shape": ""
          }
         },
         "name": "Sakassou",
         "offsetgroup": "Sakassou",
         "orientation": "v",
         "showlegend": true,
         "textposition": "auto",
         "type": "bar",
         "x": [
          "Djibri Assirikro",
          "Sakassou",
          "Sakassou",
          "Djibri Assirikro",
          "Ayaou-Sran",
          "Sakassou",
          "Sakassou",
          "Sakassou",
          "Dibri",
          "Dibri Assrikro",
          "Dibri Assrikro"
         ],
         "xaxis": "x",
         "y": [
          18,
          12,
          12,
          11,
          9,
          9,
          2,
          1,
          1,
          1,
          1
         ],
         "yaxis": "y"
        },
        {
         "alignmentgroup": "True",
         "hovertemplate": "Level 2 Government=Tabou<br>Level 3 Government=%{x}<br>Count=%{y}<extra></extra>",
         "legendgroup": "Tabou",
         "marker": {
          "color": "#00cc96",
          "pattern": {
           "shape": ""
          }
         },
         "name": "Tabou",
         "offsetgroup": "Tabou",
         "orientation": "v",
         "showlegend": true,
         "textposition": "auto",
         "type": "bar",
         "x": [
          "DJOUROUTOU",
          "DJOUROUTOU",
          "DJOUROUTOU",
          "Grabo",
          "DJOUROUTOU",
          "Grabo",
          "Olodio",
          "DJOUROUTOU",
          "DJOUROUTOU",
          "DJOUROUTOU",
          "Grabo",
          "DJOUROUTOU",
          "Tabou",
          "DJOUROUTOU",
          "Grabo",
          "Tabou",
          "Olodio",
          "Olodio",
          "DJOUROUTOU",
          "DJOUROUTOU",
          "DJOUROUTOU",
          "DJOUROUTOU",
          "Tabou"
         ],
         "xaxis": "x",
         "y": [
          18,
          13,
          12,
          8,
          7,
          6,
          5,
          5,
          5,
          4,
          4,
          3,
          2,
          2,
          2,
          1,
          1,
          1,
          1,
          1,
          1,
          1,
          1
         ],
         "yaxis": "y"
        },
        {
         "alignmentgroup": "True",
         "hovertemplate": "Level 2 Government=San-Pédro<br>Level 3 Government=%{x}<br>Count=%{y}<extra></extra>",
         "legendgroup": "San-Pédro",
         "marker": {
          "color": "#ab63fa",
          "pattern": {
           "shape": ""
          }
         },
         "name": "San-Pédro",
         "offsetgroup": "San-Pédro",
         "orientation": "v",
         "showlegend": true,
         "textposition": "auto",
         "type": "bar",
         "x": [
          "Dogbo",
          "Grand bereby",
          "Dogbo",
          "Gabiadji",
          "Gabiadji",
          "Grand bereby",
          "Gabiadji",
          "Grand bereby",
          "Djihimbo",
          "Gabiadji",
          "Grand bereby",
          "Gabiadji test",
          "Grand bereby",
          "Grand bereby",
          "Gabiadji",
          "Gabiadji",
          "Gabiadji",
          "Gabiadji",
          "Grand Bereby",
          "GRAND BEREBY",
          "GRAND BEREBY",
          "Gnity",
          "Grand bereby"
         ],
         "xaxis": "x",
         "y": [
          17,
          13,
          12,
          11,
          10,
          9,
          7,
          6,
          5,
          5,
          3,
          1,
          1,
          1,
          1,
          1,
          1,
          1,
          1,
          1,
          1,
          1,
          1
         ],
         "yaxis": "y"
        },
        {
         "alignmentgroup": "True",
         "hovertemplate": "Level 2 Government=Béoumi<br>Level 3 Government=%{x}<br>Count=%{y}<extra></extra>",
         "legendgroup": "Béoumi",
         "marker": {
          "color": "#FFA15A",
          "pattern": {
           "shape": ""
          }
         },
         "name": "Béoumi",
         "offsetgroup": "Béoumi",
         "orientation": "v",
         "showlegend": true,
         "textposition": "auto",
         "type": "bar",
         "x": [
          "Bodokro",
          "Béoumi",
          "Béoumi",
          "Béoumi",
          "Béoumi",
          "N?guessankro",
          "Ando-Kékrénou",
          "Lolobo",
          "Lolobo",
          "Ando-Kékrénou",
          "Lolobo",
          "Bodokro",
          "Lolobo",
          "Lolobo",
          "Lolobo",
          "Lolobo",
          "Lolobo"
         ],
         "xaxis": "x",
         "y": [
          13,
          13,
          13,
          9,
          7,
          6,
          6,
          5,
          5,
          3,
          3,
          3,
          2,
          2,
          1,
          1,
          1
         ],
         "yaxis": "y"
        },
        {
         "alignmentgroup": "True",
         "hovertemplate": "Level 2 Government=Bouaké<br>Level 3 Government=%{x}<br>Count=%{y}<extra></extra>",
         "legendgroup": "Bouaké",
         "marker": {
          "color": "#19d3f3",
          "pattern": {
           "shape": ""
          }
         },
         "name": "Bouaké",
         "offsetgroup": "Bouaké",
         "orientation": "v",
         "showlegend": true,
         "textposition": "auto",
         "type": "bar",
         "x": [
          "Brobo",
          "Bouaké",
          "Brobo",
          "Brobo",
          "Djébonoua",
          "Brobo",
          "Brobo",
          "Djebonoua",
          "COMMUNE DE Bouake",
          "Brobo",
          "Brobo",
          "Brobo",
          "Commune de Bouaké",
          "Djébonoua",
          "Brobo",
          "Brobo",
          "Brobo",
          "Commune de Bouaké",
          "Commune de Bouake",
          "Commune de Bouaké",
          "Brobo",
          "Commune de Bouaké",
          "Djébonoua",
          "Djébonoua",
          "Brobo",
          "Brobo",
          "Brobo",
          "Brobo",
          "Brobo",
          "Brobo",
          "Djébonoua",
          "Brobo",
          "Brobo",
          "Djébonoua",
          "Brobo",
          "Djébonoua",
          "Brobo",
          "Commune de Bouaké",
          "Djebonoua",
          "Commune de Bouake",
          "Brobo",
          "Brobo",
          "Brobo",
          "Brobo",
          "Brobo",
          "Brobo",
          "Brobo",
          "Brobo",
          "Brobo",
          "Brobo"
         ],
         "xaxis": "x",
         "y": [
          9,
          8,
          5,
          4,
          4,
          4,
          4,
          3,
          3,
          3,
          3,
          2,
          2,
          2,
          2,
          2,
          2,
          1,
          1,
          1,
          1,
          1,
          1,
          1,
          1,
          1,
          1,
          1,
          1,
          1,
          1,
          1,
          1,
          1,
          1,
          1,
          1,
          1,
          1,
          1,
          1,
          1,
          1,
          1,
          1,
          1,
          1,
          1,
          1,
          1
         ],
         "yaxis": "y"
        }
       ],
       "layout": {
        "barmode": "relative",
        "legend": {
         "title": {
          "text": "Region Legend"
         },
         "tracegroupgap": 0
        },
        "margin": {
         "t": 60
        },
        "template": {
         "data": {
          "bar": [
           {
            "error_x": {
             "color": "#2a3f5f"
            },
            "error_y": {
             "color": "#2a3f5f"
            },
            "marker": {
             "line": {
              "color": "#E5ECF6",
              "width": 0.5
             },
             "pattern": {
              "fillmode": "overlay",
              "size": 10,
              "solidity": 0.2
             }
            },
            "type": "bar"
           }
          ],
          "barpolar": [
           {
            "marker": {
             "line": {
              "color": "#E5ECF6",
              "width": 0.5
             },
             "pattern": {
              "fillmode": "overlay",
              "size": 10,
              "solidity": 0.2
             }
            },
            "type": "barpolar"
           }
          ],
          "carpet": [
           {
            "aaxis": {
             "endlinecolor": "#2a3f5f",
             "gridcolor": "white",
             "linecolor": "white",
             "minorgridcolor": "white",
             "startlinecolor": "#2a3f5f"
            },
            "baxis": {
             "endlinecolor": "#2a3f5f",
             "gridcolor": "white",
             "linecolor": "white",
             "minorgridcolor": "white",
             "startlinecolor": "#2a3f5f"
            },
            "type": "carpet"
           }
          ],
          "choropleth": [
           {
            "colorbar": {
             "outlinewidth": 0,
             "ticks": ""
            },
            "type": "choropleth"
           }
          ],
          "contour": [
           {
            "colorbar": {
             "outlinewidth": 0,
             "ticks": ""
            },
            "colorscale": [
             [
              0,
              "#0d0887"
             ],
             [
              0.1111111111111111,
              "#46039f"
             ],
             [
              0.2222222222222222,
              "#7201a8"
             ],
             [
              0.3333333333333333,
              "#9c179e"
             ],
             [
              0.4444444444444444,
              "#bd3786"
             ],
             [
              0.5555555555555556,
              "#d8576b"
             ],
             [
              0.6666666666666666,
              "#ed7953"
             ],
             [
              0.7777777777777778,
              "#fb9f3a"
             ],
             [
              0.8888888888888888,
              "#fdca26"
             ],
             [
              1,
              "#f0f921"
             ]
            ],
            "type": "contour"
           }
          ],
          "contourcarpet": [
           {
            "colorbar": {
             "outlinewidth": 0,
             "ticks": ""
            },
            "type": "contourcarpet"
           }
          ],
          "heatmap": [
           {
            "colorbar": {
             "outlinewidth": 0,
             "ticks": ""
            },
            "colorscale": [
             [
              0,
              "#0d0887"
             ],
             [
              0.1111111111111111,
              "#46039f"
             ],
             [
              0.2222222222222222,
              "#7201a8"
             ],
             [
              0.3333333333333333,
              "#9c179e"
             ],
             [
              0.4444444444444444,
              "#bd3786"
             ],
             [
              0.5555555555555556,
              "#d8576b"
             ],
             [
              0.6666666666666666,
              "#ed7953"
             ],
             [
              0.7777777777777778,
              "#fb9f3a"
             ],
             [
              0.8888888888888888,
              "#fdca26"
             ],
             [
              1,
              "#f0f921"
             ]
            ],
            "type": "heatmap"
           }
          ],
          "heatmapgl": [
           {
            "colorbar": {
             "outlinewidth": 0,
             "ticks": ""
            },
            "colorscale": [
             [
              0,
              "#0d0887"
             ],
             [
              0.1111111111111111,
              "#46039f"
             ],
             [
              0.2222222222222222,
              "#7201a8"
             ],
             [
              0.3333333333333333,
              "#9c179e"
             ],
             [
              0.4444444444444444,
              "#bd3786"
             ],
             [
              0.5555555555555556,
              "#d8576b"
             ],
             [
              0.6666666666666666,
              "#ed7953"
             ],
             [
              0.7777777777777778,
              "#fb9f3a"
             ],
             [
              0.8888888888888888,
              "#fdca26"
             ],
             [
              1,
              "#f0f921"
             ]
            ],
            "type": "heatmapgl"
           }
          ],
          "histogram": [
           {
            "marker": {
             "pattern": {
              "fillmode": "overlay",
              "size": 10,
              "solidity": 0.2
             }
            },
            "type": "histogram"
           }
          ],
          "histogram2d": [
           {
            "colorbar": {
             "outlinewidth": 0,
             "ticks": ""
            },
            "colorscale": [
             [
              0,
              "#0d0887"
             ],
             [
              0.1111111111111111,
              "#46039f"
             ],
             [
              0.2222222222222222,
              "#7201a8"
             ],
             [
              0.3333333333333333,
              "#9c179e"
             ],
             [
              0.4444444444444444,
              "#bd3786"
             ],
             [
              0.5555555555555556,
              "#d8576b"
             ],
             [
              0.6666666666666666,
              "#ed7953"
             ],
             [
              0.7777777777777778,
              "#fb9f3a"
             ],
             [
              0.8888888888888888,
              "#fdca26"
             ],
             [
              1,
              "#f0f921"
             ]
            ],
            "type": "histogram2d"
           }
          ],
          "histogram2dcontour": [
           {
            "colorbar": {
             "outlinewidth": 0,
             "ticks": ""
            },
            "colorscale": [
             [
              0,
              "#0d0887"
             ],
             [
              0.1111111111111111,
              "#46039f"
             ],
             [
              0.2222222222222222,
              "#7201a8"
             ],
             [
              0.3333333333333333,
              "#9c179e"
             ],
             [
              0.4444444444444444,
              "#bd3786"
             ],
             [
              0.5555555555555556,
              "#d8576b"
             ],
             [
              0.6666666666666666,
              "#ed7953"
             ],
             [
              0.7777777777777778,
              "#fb9f3a"
             ],
             [
              0.8888888888888888,
              "#fdca26"
             ],
             [
              1,
              "#f0f921"
             ]
            ],
            "type": "histogram2dcontour"
           }
          ],
          "mesh3d": [
           {
            "colorbar": {
             "outlinewidth": 0,
             "ticks": ""
            },
            "type": "mesh3d"
           }
          ],
          "parcoords": [
           {
            "line": {
             "colorbar": {
              "outlinewidth": 0,
              "ticks": ""
             }
            },
            "type": "parcoords"
           }
          ],
          "pie": [
           {
            "automargin": true,
            "type": "pie"
           }
          ],
          "scatter": [
           {
            "fillpattern": {
             "fillmode": "overlay",
             "size": 10,
             "solidity": 0.2
            },
            "type": "scatter"
           }
          ],
          "scatter3d": [
           {
            "line": {
             "colorbar": {
              "outlinewidth": 0,
              "ticks": ""
             }
            },
            "marker": {
             "colorbar": {
              "outlinewidth": 0,
              "ticks": ""
             }
            },
            "type": "scatter3d"
           }
          ],
          "scattercarpet": [
           {
            "marker": {
             "colorbar": {
              "outlinewidth": 0,
              "ticks": ""
             }
            },
            "type": "scattercarpet"
           }
          ],
          "scattergeo": [
           {
            "marker": {
             "colorbar": {
              "outlinewidth": 0,
              "ticks": ""
             }
            },
            "type": "scattergeo"
           }
          ],
          "scattergl": [
           {
            "marker": {
             "colorbar": {
              "outlinewidth": 0,
              "ticks": ""
             }
            },
            "type": "scattergl"
           }
          ],
          "scattermapbox": [
           {
            "marker": {
             "colorbar": {
              "outlinewidth": 0,
              "ticks": ""
             }
            },
            "type": "scattermapbox"
           }
          ],
          "scatterpolar": [
           {
            "marker": {
             "colorbar": {
              "outlinewidth": 0,
              "ticks": ""
             }
            },
            "type": "scatterpolar"
           }
          ],
          "scatterpolargl": [
           {
            "marker": {
             "colorbar": {
              "outlinewidth": 0,
              "ticks": ""
             }
            },
            "type": "scatterpolargl"
           }
          ],
          "scatterternary": [
           {
            "marker": {
             "colorbar": {
              "outlinewidth": 0,
              "ticks": ""
             }
            },
            "type": "scatterternary"
           }
          ],
          "surface": [
           {
            "colorbar": {
             "outlinewidth": 0,
             "ticks": ""
            },
            "colorscale": [
             [
              0,
              "#0d0887"
             ],
             [
              0.1111111111111111,
              "#46039f"
             ],
             [
              0.2222222222222222,
              "#7201a8"
             ],
             [
              0.3333333333333333,
              "#9c179e"
             ],
             [
              0.4444444444444444,
              "#bd3786"
             ],
             [
              0.5555555555555556,
              "#d8576b"
             ],
             [
              0.6666666666666666,
              "#ed7953"
             ],
             [
              0.7777777777777778,
              "#fb9f3a"
             ],
             [
              0.8888888888888888,
              "#fdca26"
             ],
             [
              1,
              "#f0f921"
             ]
            ],
            "type": "surface"
           }
          ],
          "table": [
           {
            "cells": {
             "fill": {
              "color": "#EBF0F8"
             },
             "line": {
              "color": "white"
             }
            },
            "header": {
             "fill": {
              "color": "#C8D4E3"
             },
             "line": {
              "color": "white"
             }
            },
            "type": "table"
           }
          ]
         },
         "layout": {
          "annotationdefaults": {
           "arrowcolor": "#2a3f5f",
           "arrowhead": 0,
           "arrowwidth": 1
          },
          "autotypenumbers": "strict",
          "coloraxis": {
           "colorbar": {
            "outlinewidth": 0,
            "ticks": ""
           }
          },
          "colorscale": {
           "diverging": [
            [
             0,
             "#8e0152"
            ],
            [
             0.1,
             "#c51b7d"
            ],
            [
             0.2,
             "#de77ae"
            ],
            [
             0.3,
             "#f1b6da"
            ],
            [
             0.4,
             "#fde0ef"
            ],
            [
             0.5,
             "#f7f7f7"
            ],
            [
             0.6,
             "#e6f5d0"
            ],
            [
             0.7,
             "#b8e186"
            ],
            [
             0.8,
             "#7fbc41"
            ],
            [
             0.9,
             "#4d9221"
            ],
            [
             1,
             "#276419"
            ]
           ],
           "sequential": [
            [
             0,
             "#0d0887"
            ],
            [
             0.1111111111111111,
             "#46039f"
            ],
            [
             0.2222222222222222,
             "#7201a8"
            ],
            [
             0.3333333333333333,
             "#9c179e"
            ],
            [
             0.4444444444444444,
             "#bd3786"
            ],
            [
             0.5555555555555556,
             "#d8576b"
            ],
            [
             0.6666666666666666,
             "#ed7953"
            ],
            [
             0.7777777777777778,
             "#fb9f3a"
            ],
            [
             0.8888888888888888,
             "#fdca26"
            ],
            [
             1,
             "#f0f921"
            ]
           ],
           "sequentialminus": [
            [
             0,
             "#0d0887"
            ],
            [
             0.1111111111111111,
             "#46039f"
            ],
            [
             0.2222222222222222,
             "#7201a8"
            ],
            [
             0.3333333333333333,
             "#9c179e"
            ],
            [
             0.4444444444444444,
             "#bd3786"
            ],
            [
             0.5555555555555556,
             "#d8576b"
            ],
            [
             0.6666666666666666,
             "#ed7953"
            ],
            [
             0.7777777777777778,
             "#fb9f3a"
            ],
            [
             0.8888888888888888,
             "#fdca26"
            ],
            [
             1,
             "#f0f921"
            ]
           ]
          },
          "colorway": [
           "#636efa",
           "#EF553B",
           "#00cc96",
           "#ab63fa",
           "#FFA15A",
           "#19d3f3",
           "#FF6692",
           "#B6E880",
           "#FF97FF",
           "#FECB52"
          ],
          "font": {
           "color": "#2a3f5f"
          },
          "geo": {
           "bgcolor": "white",
           "lakecolor": "white",
           "landcolor": "#E5ECF6",
           "showlakes": true,
           "showland": true,
           "subunitcolor": "white"
          },
          "hoverlabel": {
           "align": "left"
          },
          "hovermode": "closest",
          "mapbox": {
           "style": "light"
          },
          "paper_bgcolor": "white",
          "plot_bgcolor": "#E5ECF6",
          "polar": {
           "angularaxis": {
            "gridcolor": "white",
            "linecolor": "white",
            "ticks": ""
           },
           "bgcolor": "#E5ECF6",
           "radialaxis": {
            "gridcolor": "white",
            "linecolor": "white",
            "ticks": ""
           }
          },
          "scene": {
           "xaxis": {
            "backgroundcolor": "#E5ECF6",
            "gridcolor": "white",
            "gridwidth": 2,
            "linecolor": "white",
            "showbackground": true,
            "ticks": "",
            "zerolinecolor": "white"
           },
           "yaxis": {
            "backgroundcolor": "#E5ECF6",
            "gridcolor": "white",
            "gridwidth": 2,
            "linecolor": "white",
            "showbackground": true,
            "ticks": "",
            "zerolinecolor": "white"
           },
           "zaxis": {
            "backgroundcolor": "#E5ECF6",
            "gridcolor": "white",
            "gridwidth": 2,
            "linecolor": "white",
            "showbackground": true,
            "ticks": "",
            "zerolinecolor": "white"
           }
          },
          "shapedefaults": {
           "line": {
            "color": "#2a3f5f"
           }
          },
          "ternary": {
           "aaxis": {
            "gridcolor": "white",
            "linecolor": "white",
            "ticks": ""
           },
           "baxis": {
            "gridcolor": "white",
            "linecolor": "white",
            "ticks": ""
           },
           "bgcolor": "#E5ECF6",
           "caxis": {
            "gridcolor": "white",
            "linecolor": "white",
            "ticks": ""
           }
          },
          "title": {
           "x": 0.05
          },
          "xaxis": {
           "automargin": true,
           "gridcolor": "white",
           "linecolor": "white",
           "ticks": "",
           "title": {
            "standoff": 15
           },
           "zerolinecolor": "white",
           "zerolinewidth": 2
          },
          "yaxis": {
           "automargin": true,
           "gridcolor": "white",
           "linecolor": "white",
           "ticks": "",
           "title": {
            "standoff": 15
           },
           "zerolinecolor": "white",
           "zerolinewidth": 2
          }
         }
        },
        "title": {
         "text": "Sites Assessed by Region"
        },
        "xaxis": {
         "anchor": "y",
         "domain": [
          0,
          1
         ],
         "title": {
          "text": "Sites Assessed"
         }
        },
        "yaxis": {
         "anchor": "x",
         "domain": [
          0,
          1
         ],
         "title": {
          "text": "Count"
         }
        }
       }
      }
     },
     "metadata": {},
     "output_type": "display_data"
    }
   ],
   "source": [
    "# create a bar chart with villages dataframe where each bar is a government level 3 and the height is the count and color is level 2 government\n",
    "fig = px.bar(villages, x='Level 3 Government', y='Count', color='Level 2 Government')\n",
    "# change x title to region of assessment\n",
    "fig.update_xaxes(title_text='Region of Assessment')\n",
    "fig.update_xaxes(title_text='Sites Assessed')\n",
    "fig.update_layout(legend_title_text='Region Legend')\n",
    "# update title to be Sites Assessed by Region\n",
    "fig.update_layout(title_text='Sites Assessed by Region')\n",
    "fig.show()\n",
    "# write to html\n",
    "fig.write_html(\"./home/charts/sites_villages_bar.html\")\n",
    "# write to png\n",
    "fig.write_image(\"./home/charts/sites_villages_bar.png\")"
   ]
  },
  {
   "cell_type": "code",
   "execution_count": 18,
   "metadata": {},
   "outputs": [
    {
     "data": {
      "application/vnd.plotly.v1+json": {
       "config": {
        "plotlyServerURL": "https://plot.ly"
       },
       "data": [
        {
         "alignmentgroup": "True",
         "hovertemplate": "Level 2 Government=Botro<br>Level 3 Government=%{x}<br>Count=%{y}<extra></extra>",
         "legendgroup": "Botro",
         "marker": {
          "color": "#636efa",
          "pattern": {
           "shape": ""
          }
         },
         "name": "Botro",
         "offsetgroup": "Botro",
         "orientation": "v",
         "showlegend": true,
         "textposition": "auto",
         "type": "bar",
         "x": [
          "Languibonou",
          "Languibonou",
          "Krofoinsou",
          "Languibonou",
          "Languibonou",
          "Languibonou",
          "Languibonou",
          "Krofoinsou",
          "Languibonou",
          "Diabo",
          "Languibonou",
          "Languibonou",
          "Languibonou"
         ],
         "xaxis": "x",
         "y": [
          38,
          29,
          5,
          3,
          2,
          2,
          2,
          2,
          2,
          2,
          1,
          1,
          1
         ],
         "yaxis": "y"
        },
        {
         "alignmentgroup": "True",
         "hovertemplate": "Level 2 Government=Tabou<br>Level 3 Government=%{x}<br>Count=%{y}<extra></extra>",
         "legendgroup": "Tabou",
         "marker": {
          "color": "#EF553B",
          "pattern": {
           "shape": ""
          }
         },
         "name": "Tabou",
         "offsetgroup": "Tabou",
         "orientation": "v",
         "showlegend": true,
         "textposition": "auto",
         "type": "bar",
         "x": [
          "DJOUROUTOU",
          "DJOUROUTOU",
          "DJOUROUTOU",
          "Grabo",
          "DJOUROUTOU",
          "Grabo",
          "Olodio",
          "DJOUROUTOU",
          "DJOUROUTOU",
          "Grabo",
          "DJOUROUTOU",
          "DJOUROUTOU",
          "DJOUROUTOU",
          "Grabo",
          "Tabou",
          "Tabou",
          "DJOUROUTOU",
          "Olodio",
          "Olodio",
          "Tabou",
          "DJOUROUTOU",
          "DJOUROUTOU",
          "DJOUROUTOU"
         ],
         "xaxis": "x",
         "y": [
          18,
          13,
          12,
          8,
          7,
          6,
          5,
          5,
          5,
          4,
          4,
          3,
          2,
          2,
          2,
          1,
          1,
          1,
          1,
          1,
          1,
          1,
          1
         ],
         "yaxis": "y"
        },
        {
         "alignmentgroup": "True",
         "hovertemplate": "Level 2 Government=Sakassou<br>Level 3 Government=%{x}<br>Count=%{y}<extra></extra>",
         "legendgroup": "Sakassou",
         "marker": {
          "color": "#00cc96",
          "pattern": {
           "shape": ""
          }
         },
         "name": "Sakassou",
         "offsetgroup": "Sakassou",
         "orientation": "v",
         "showlegend": true,
         "textposition": "auto",
         "type": "bar",
         "x": [
          "Djibri Assirikro",
          "Sakassou",
          "Sakassou",
          "Djibri Assirikro",
          "Sakassou",
          "Ayaou-Sran",
          "Sakassou",
          "Dibri",
          "Sakassou",
          "Dibri Assrikro",
          "Dibri Assrikro"
         ],
         "xaxis": "x",
         "y": [
          18,
          12,
          12,
          11,
          9,
          8,
          2,
          1,
          1,
          1,
          1
         ],
         "yaxis": "y"
        },
        {
         "alignmentgroup": "True",
         "hovertemplate": "Level 2 Government=San-Pédro<br>Level 3 Government=%{x}<br>Count=%{y}<extra></extra>",
         "legendgroup": "San-Pédro",
         "marker": {
          "color": "#ab63fa",
          "pattern": {
           "shape": ""
          }
         },
         "name": "San-Pédro",
         "offsetgroup": "San-Pédro",
         "orientation": "v",
         "showlegend": true,
         "textposition": "auto",
         "type": "bar",
         "x": [
          "Dogbo",
          "Grand bereby",
          "Dogbo",
          "Gabiadji",
          "Gabiadji",
          "Grand bereby",
          "Grand bereby",
          "Djihimbo",
          "Gabiadji",
          "Gabiadji",
          "Grand bereby",
          "Gnity",
          "Gabiadji",
          "Gabiadji",
          "Gabiadji",
          "Grand bereby",
          "Grand bereby"
         ],
         "xaxis": "x",
         "y": [
          17,
          13,
          12,
          11,
          10,
          9,
          6,
          5,
          5,
          5,
          3,
          1,
          1,
          1,
          1,
          1,
          1
         ],
         "yaxis": "y"
        },
        {
         "alignmentgroup": "True",
         "hovertemplate": "Level 2 Government=Béoumi<br>Level 3 Government=%{x}<br>Count=%{y}<extra></extra>",
         "legendgroup": "Béoumi",
         "marker": {
          "color": "#FFA15A",
          "pattern": {
           "shape": ""
          }
         },
         "name": "Béoumi",
         "offsetgroup": "Béoumi",
         "orientation": "v",
         "showlegend": true,
         "textposition": "auto",
         "type": "bar",
         "x": [
          "Bodokro",
          "Béoumi",
          "Béoumi",
          "Béoumi",
          "Béoumi",
          "N?guessankro",
          "Ando-Kékrénou",
          "Lolobo",
          "Lolobo",
          "Ando-Kékrénou",
          "Lolobo",
          "Bodokro",
          "Lolobo",
          "Lolobo",
          "Lolobo",
          "Lolobo",
          "Lolobo"
         ],
         "xaxis": "x",
         "y": [
          13,
          13,
          13,
          9,
          7,
          6,
          6,
          5,
          5,
          3,
          3,
          3,
          2,
          2,
          1,
          1,
          1
         ],
         "yaxis": "y"
        },
        {
         "alignmentgroup": "True",
         "hovertemplate": "Level 2 Government=Bouaké<br>Level 3 Government=%{x}<br>Count=%{y}<extra></extra>",
         "legendgroup": "Bouaké",
         "marker": {
          "color": "#19d3f3",
          "pattern": {
           "shape": ""
          }
         },
         "name": "Bouaké",
         "offsetgroup": "Bouaké",
         "orientation": "v",
         "showlegend": true,
         "textposition": "auto",
         "type": "bar",
         "x": [
          "Brobo",
          "Bouaké",
          "Brobo",
          "Djébonoua",
          "Brobo",
          "Brobo",
          "Brobo",
          "Brobo",
          "Djebonoua",
          "COMMUNE DE Bouake",
          "Brobo",
          "Brobo",
          "Commune de Bouaké",
          "Djébonoua",
          "Brobo",
          "Brobo",
          "Brobo",
          "Brobo",
          "Brobo",
          "Commune de Bouake",
          "Commune de Bouaké",
          "Brobo",
          "Commune de Bouaké",
          "Djébonoua",
          "Brobo",
          "Brobo",
          "Djébonoua",
          "Brobo",
          "Brobo",
          "Brobo",
          "Brobo",
          "Brobo",
          "Djébonoua",
          "Djébonoua",
          "Djébonoua",
          "Brobo",
          "Brobo",
          "Commune de Bouaké",
          "Brobo",
          "Brobo",
          "Brobo",
          "Brobo",
          "Brobo",
          "Brobo",
          "Brobo",
          "Commune de Bouake",
          "Djebonoua",
          "Commune de Bouaké",
          "Brobo",
          "Brobo"
         ],
         "xaxis": "x",
         "y": [
          9,
          8,
          5,
          4,
          4,
          4,
          4,
          3,
          3,
          3,
          3,
          2,
          2,
          2,
          2,
          2,
          2,
          1,
          1,
          1,
          1,
          1,
          1,
          1,
          1,
          1,
          1,
          1,
          1,
          1,
          1,
          1,
          1,
          1,
          1,
          1,
          1,
          1,
          1,
          1,
          1,
          1,
          1,
          1,
          1,
          1,
          1,
          1,
          1,
          1
         ],
         "yaxis": "y"
        }
       ],
       "layout": {
        "barmode": "relative",
        "legend": {
         "title": {
          "text": "Region Legend"
         },
         "tracegroupgap": 0
        },
        "margin": {
         "t": 60
        },
        "template": {
         "data": {
          "bar": [
           {
            "error_x": {
             "color": "#2a3f5f"
            },
            "error_y": {
             "color": "#2a3f5f"
            },
            "marker": {
             "line": {
              "color": "#E5ECF6",
              "width": 0.5
             },
             "pattern": {
              "fillmode": "overlay",
              "size": 10,
              "solidity": 0.2
             }
            },
            "type": "bar"
           }
          ],
          "barpolar": [
           {
            "marker": {
             "line": {
              "color": "#E5ECF6",
              "width": 0.5
             },
             "pattern": {
              "fillmode": "overlay",
              "size": 10,
              "solidity": 0.2
             }
            },
            "type": "barpolar"
           }
          ],
          "carpet": [
           {
            "aaxis": {
             "endlinecolor": "#2a3f5f",
             "gridcolor": "white",
             "linecolor": "white",
             "minorgridcolor": "white",
             "startlinecolor": "#2a3f5f"
            },
            "baxis": {
             "endlinecolor": "#2a3f5f",
             "gridcolor": "white",
             "linecolor": "white",
             "minorgridcolor": "white",
             "startlinecolor": "#2a3f5f"
            },
            "type": "carpet"
           }
          ],
          "choropleth": [
           {
            "colorbar": {
             "outlinewidth": 0,
             "ticks": ""
            },
            "type": "choropleth"
           }
          ],
          "contour": [
           {
            "colorbar": {
             "outlinewidth": 0,
             "ticks": ""
            },
            "colorscale": [
             [
              0,
              "#0d0887"
             ],
             [
              0.1111111111111111,
              "#46039f"
             ],
             [
              0.2222222222222222,
              "#7201a8"
             ],
             [
              0.3333333333333333,
              "#9c179e"
             ],
             [
              0.4444444444444444,
              "#bd3786"
             ],
             [
              0.5555555555555556,
              "#d8576b"
             ],
             [
              0.6666666666666666,
              "#ed7953"
             ],
             [
              0.7777777777777778,
              "#fb9f3a"
             ],
             [
              0.8888888888888888,
              "#fdca26"
             ],
             [
              1,
              "#f0f921"
             ]
            ],
            "type": "contour"
           }
          ],
          "contourcarpet": [
           {
            "colorbar": {
             "outlinewidth": 0,
             "ticks": ""
            },
            "type": "contourcarpet"
           }
          ],
          "heatmap": [
           {
            "colorbar": {
             "outlinewidth": 0,
             "ticks": ""
            },
            "colorscale": [
             [
              0,
              "#0d0887"
             ],
             [
              0.1111111111111111,
              "#46039f"
             ],
             [
              0.2222222222222222,
              "#7201a8"
             ],
             [
              0.3333333333333333,
              "#9c179e"
             ],
             [
              0.4444444444444444,
              "#bd3786"
             ],
             [
              0.5555555555555556,
              "#d8576b"
             ],
             [
              0.6666666666666666,
              "#ed7953"
             ],
             [
              0.7777777777777778,
              "#fb9f3a"
             ],
             [
              0.8888888888888888,
              "#fdca26"
             ],
             [
              1,
              "#f0f921"
             ]
            ],
            "type": "heatmap"
           }
          ],
          "heatmapgl": [
           {
            "colorbar": {
             "outlinewidth": 0,
             "ticks": ""
            },
            "colorscale": [
             [
              0,
              "#0d0887"
             ],
             [
              0.1111111111111111,
              "#46039f"
             ],
             [
              0.2222222222222222,
              "#7201a8"
             ],
             [
              0.3333333333333333,
              "#9c179e"
             ],
             [
              0.4444444444444444,
              "#bd3786"
             ],
             [
              0.5555555555555556,
              "#d8576b"
             ],
             [
              0.6666666666666666,
              "#ed7953"
             ],
             [
              0.7777777777777778,
              "#fb9f3a"
             ],
             [
              0.8888888888888888,
              "#fdca26"
             ],
             [
              1,
              "#f0f921"
             ]
            ],
            "type": "heatmapgl"
           }
          ],
          "histogram": [
           {
            "marker": {
             "pattern": {
              "fillmode": "overlay",
              "size": 10,
              "solidity": 0.2
             }
            },
            "type": "histogram"
           }
          ],
          "histogram2d": [
           {
            "colorbar": {
             "outlinewidth": 0,
             "ticks": ""
            },
            "colorscale": [
             [
              0,
              "#0d0887"
             ],
             [
              0.1111111111111111,
              "#46039f"
             ],
             [
              0.2222222222222222,
              "#7201a8"
             ],
             [
              0.3333333333333333,
              "#9c179e"
             ],
             [
              0.4444444444444444,
              "#bd3786"
             ],
             [
              0.5555555555555556,
              "#d8576b"
             ],
             [
              0.6666666666666666,
              "#ed7953"
             ],
             [
              0.7777777777777778,
              "#fb9f3a"
             ],
             [
              0.8888888888888888,
              "#fdca26"
             ],
             [
              1,
              "#f0f921"
             ]
            ],
            "type": "histogram2d"
           }
          ],
          "histogram2dcontour": [
           {
            "colorbar": {
             "outlinewidth": 0,
             "ticks": ""
            },
            "colorscale": [
             [
              0,
              "#0d0887"
             ],
             [
              0.1111111111111111,
              "#46039f"
             ],
             [
              0.2222222222222222,
              "#7201a8"
             ],
             [
              0.3333333333333333,
              "#9c179e"
             ],
             [
              0.4444444444444444,
              "#bd3786"
             ],
             [
              0.5555555555555556,
              "#d8576b"
             ],
             [
              0.6666666666666666,
              "#ed7953"
             ],
             [
              0.7777777777777778,
              "#fb9f3a"
             ],
             [
              0.8888888888888888,
              "#fdca26"
             ],
             [
              1,
              "#f0f921"
             ]
            ],
            "type": "histogram2dcontour"
           }
          ],
          "mesh3d": [
           {
            "colorbar": {
             "outlinewidth": 0,
             "ticks": ""
            },
            "type": "mesh3d"
           }
          ],
          "parcoords": [
           {
            "line": {
             "colorbar": {
              "outlinewidth": 0,
              "ticks": ""
             }
            },
            "type": "parcoords"
           }
          ],
          "pie": [
           {
            "automargin": true,
            "type": "pie"
           }
          ],
          "scatter": [
           {
            "fillpattern": {
             "fillmode": "overlay",
             "size": 10,
             "solidity": 0.2
            },
            "type": "scatter"
           }
          ],
          "scatter3d": [
           {
            "line": {
             "colorbar": {
              "outlinewidth": 0,
              "ticks": ""
             }
            },
            "marker": {
             "colorbar": {
              "outlinewidth": 0,
              "ticks": ""
             }
            },
            "type": "scatter3d"
           }
          ],
          "scattercarpet": [
           {
            "marker": {
             "colorbar": {
              "outlinewidth": 0,
              "ticks": ""
             }
            },
            "type": "scattercarpet"
           }
          ],
          "scattergeo": [
           {
            "marker": {
             "colorbar": {
              "outlinewidth": 0,
              "ticks": ""
             }
            },
            "type": "scattergeo"
           }
          ],
          "scattergl": [
           {
            "marker": {
             "colorbar": {
              "outlinewidth": 0,
              "ticks": ""
             }
            },
            "type": "scattergl"
           }
          ],
          "scattermapbox": [
           {
            "marker": {
             "colorbar": {
              "outlinewidth": 0,
              "ticks": ""
             }
            },
            "type": "scattermapbox"
           }
          ],
          "scatterpolar": [
           {
            "marker": {
             "colorbar": {
              "outlinewidth": 0,
              "ticks": ""
             }
            },
            "type": "scatterpolar"
           }
          ],
          "scatterpolargl": [
           {
            "marker": {
             "colorbar": {
              "outlinewidth": 0,
              "ticks": ""
             }
            },
            "type": "scatterpolargl"
           }
          ],
          "scatterternary": [
           {
            "marker": {
             "colorbar": {
              "outlinewidth": 0,
              "ticks": ""
             }
            },
            "type": "scatterternary"
           }
          ],
          "surface": [
           {
            "colorbar": {
             "outlinewidth": 0,
             "ticks": ""
            },
            "colorscale": [
             [
              0,
              "#0d0887"
             ],
             [
              0.1111111111111111,
              "#46039f"
             ],
             [
              0.2222222222222222,
              "#7201a8"
             ],
             [
              0.3333333333333333,
              "#9c179e"
             ],
             [
              0.4444444444444444,
              "#bd3786"
             ],
             [
              0.5555555555555556,
              "#d8576b"
             ],
             [
              0.6666666666666666,
              "#ed7953"
             ],
             [
              0.7777777777777778,
              "#fb9f3a"
             ],
             [
              0.8888888888888888,
              "#fdca26"
             ],
             [
              1,
              "#f0f921"
             ]
            ],
            "type": "surface"
           }
          ],
          "table": [
           {
            "cells": {
             "fill": {
              "color": "#EBF0F8"
             },
             "line": {
              "color": "white"
             }
            },
            "header": {
             "fill": {
              "color": "#C8D4E3"
             },
             "line": {
              "color": "white"
             }
            },
            "type": "table"
           }
          ]
         },
         "layout": {
          "annotationdefaults": {
           "arrowcolor": "#2a3f5f",
           "arrowhead": 0,
           "arrowwidth": 1
          },
          "autotypenumbers": "strict",
          "coloraxis": {
           "colorbar": {
            "outlinewidth": 0,
            "ticks": ""
           }
          },
          "colorscale": {
           "diverging": [
            [
             0,
             "#8e0152"
            ],
            [
             0.1,
             "#c51b7d"
            ],
            [
             0.2,
             "#de77ae"
            ],
            [
             0.3,
             "#f1b6da"
            ],
            [
             0.4,
             "#fde0ef"
            ],
            [
             0.5,
             "#f7f7f7"
            ],
            [
             0.6,
             "#e6f5d0"
            ],
            [
             0.7,
             "#b8e186"
            ],
            [
             0.8,
             "#7fbc41"
            ],
            [
             0.9,
             "#4d9221"
            ],
            [
             1,
             "#276419"
            ]
           ],
           "sequential": [
            [
             0,
             "#0d0887"
            ],
            [
             0.1111111111111111,
             "#46039f"
            ],
            [
             0.2222222222222222,
             "#7201a8"
            ],
            [
             0.3333333333333333,
             "#9c179e"
            ],
            [
             0.4444444444444444,
             "#bd3786"
            ],
            [
             0.5555555555555556,
             "#d8576b"
            ],
            [
             0.6666666666666666,
             "#ed7953"
            ],
            [
             0.7777777777777778,
             "#fb9f3a"
            ],
            [
             0.8888888888888888,
             "#fdca26"
            ],
            [
             1,
             "#f0f921"
            ]
           ],
           "sequentialminus": [
            [
             0,
             "#0d0887"
            ],
            [
             0.1111111111111111,
             "#46039f"
            ],
            [
             0.2222222222222222,
             "#7201a8"
            ],
            [
             0.3333333333333333,
             "#9c179e"
            ],
            [
             0.4444444444444444,
             "#bd3786"
            ],
            [
             0.5555555555555556,
             "#d8576b"
            ],
            [
             0.6666666666666666,
             "#ed7953"
            ],
            [
             0.7777777777777778,
             "#fb9f3a"
            ],
            [
             0.8888888888888888,
             "#fdca26"
            ],
            [
             1,
             "#f0f921"
            ]
           ]
          },
          "colorway": [
           "#636efa",
           "#EF553B",
           "#00cc96",
           "#ab63fa",
           "#FFA15A",
           "#19d3f3",
           "#FF6692",
           "#B6E880",
           "#FF97FF",
           "#FECB52"
          ],
          "font": {
           "color": "#2a3f5f"
          },
          "geo": {
           "bgcolor": "white",
           "lakecolor": "white",
           "landcolor": "#E5ECF6",
           "showlakes": true,
           "showland": true,
           "subunitcolor": "white"
          },
          "hoverlabel": {
           "align": "left"
          },
          "hovermode": "closest",
          "mapbox": {
           "style": "light"
          },
          "paper_bgcolor": "white",
          "plot_bgcolor": "#E5ECF6",
          "polar": {
           "angularaxis": {
            "gridcolor": "white",
            "linecolor": "white",
            "ticks": ""
           },
           "bgcolor": "#E5ECF6",
           "radialaxis": {
            "gridcolor": "white",
            "linecolor": "white",
            "ticks": ""
           }
          },
          "scene": {
           "xaxis": {
            "backgroundcolor": "#E5ECF6",
            "gridcolor": "white",
            "gridwidth": 2,
            "linecolor": "white",
            "showbackground": true,
            "ticks": "",
            "zerolinecolor": "white"
           },
           "yaxis": {
            "backgroundcolor": "#E5ECF6",
            "gridcolor": "white",
            "gridwidth": 2,
            "linecolor": "white",
            "showbackground": true,
            "ticks": "",
            "zerolinecolor": "white"
           },
           "zaxis": {
            "backgroundcolor": "#E5ECF6",
            "gridcolor": "white",
            "gridwidth": 2,
            "linecolor": "white",
            "showbackground": true,
            "ticks": "",
            "zerolinecolor": "white"
           }
          },
          "shapedefaults": {
           "line": {
            "color": "#2a3f5f"
           }
          },
          "ternary": {
           "aaxis": {
            "gridcolor": "white",
            "linecolor": "white",
            "ticks": ""
           },
           "baxis": {
            "gridcolor": "white",
            "linecolor": "white",
            "ticks": ""
           },
           "bgcolor": "#E5ECF6",
           "caxis": {
            "gridcolor": "white",
            "linecolor": "white",
            "ticks": ""
           }
          },
          "title": {
           "x": 0.05
          },
          "xaxis": {
           "automargin": true,
           "gridcolor": "white",
           "linecolor": "white",
           "ticks": "",
           "title": {
            "standoff": 15
           },
           "zerolinecolor": "white",
           "zerolinewidth": 2
          },
          "yaxis": {
           "automargin": true,
           "gridcolor": "white",
           "linecolor": "white",
           "ticks": "",
           "title": {
            "standoff": 15
           },
           "zerolinecolor": "white",
           "zerolinewidth": 2
          }
         }
        },
        "title": {
         "text": "Sites Blocking Healthcare by Region"
        },
        "xaxis": {
         "anchor": "y",
         "domain": [
          0,
          1
         ],
         "title": {
          "text": "Sites Blocking Healthcare"
         }
        },
        "yaxis": {
         "anchor": "x",
         "domain": [
          0,
          1
         ],
         "title": {
          "text": "Count"
         }
        }
       }
      }
     },
     "metadata": {},
     "output_type": "display_data"
    }
   ],
   "source": [
    "# create a bar chart with villages dataframe where each bar is a government level 3 and the height is the count and color is level 2 government\n",
    "tempdf = pd.DataFrame(blockingany['Level 4 Government'].value_counts())\n",
    "tempdf = tempdf.reset_index()\n",
    "tempdf.columns = ['Level 4 Government', 'Count']\n",
    "# for each value in villages level 4 government, find the corresponding value in the assessment level 4 government column and add the corresponding value in the \"level 3 government\" column as a new column in the villages dataframe\n",
    "for i in range(len(tempdf)):\n",
    "    tempdf.loc[i, 'Level 3 Government'] = blockingany.loc[blockingany['Level 4 Government'] == tempdf.loc[i, 'Level 4 Government'], 'Level 3 Government'].iloc[0]\n",
    "    tempdf.loc[i, 'Level 2 Government'] = blockingany.loc[blockingany['Level 4 Government'] == tempdf.loc[i, 'Level 4 Government'], 'Level 2 Government'].iloc[0]\n",
    "    tempdf.loc[i, 'Level 1 Government'] = blockingany.loc[blockingany['Level 4 Government'] == tempdf.loc[i, 'Level 4 Government'], 'Level 1 Government'].iloc[0]\n",
    "fig = px.bar(tempdf, x='Level 3 Government', y='Count', color='Level 2 Government')\n",
    "# change x title to region of assessment\n",
    "fig.update_xaxes(title_text='Sites Blocking Healthcare')\n",
    "fig.update_layout(legend_title_text='Region Legend')\n",
    "# update title to be Sites Assessed by Region\n",
    "fig.update_layout(title_text='Sites Blocking Healthcare by Region')\n",
    "fig.show()\n",
    "# write to html\n",
    "fig.write_html(\"./home/charts/blocking_health_bar.html\")\n",
    "# write to png\n",
    "fig.write_image(\"./home/charts/blocking_health_bar.png\")"
   ]
  },
  {
   "cell_type": "code",
   "execution_count": 19,
   "metadata": {},
   "outputs": [
    {
     "data": {
      "application/vnd.plotly.v1+json": {
       "config": {
        "plotlyServerURL": "https://plot.ly"
       },
       "data": [
        {
         "alignmentgroup": "True",
         "hovertemplate": "Level 2 Government=Botro<br>Level 3 Government=%{x}<br>Count=%{y}<extra></extra>",
         "legendgroup": "Botro",
         "marker": {
          "color": "#636efa",
          "pattern": {
           "shape": ""
          }
         },
         "name": "Botro",
         "offsetgroup": "Botro",
         "orientation": "v",
         "showlegend": true,
         "textposition": "auto",
         "type": "bar",
         "x": [
          "Languibonou",
          "Languibonou",
          "Krofoinsou",
          "Languibonou",
          "Languibonou",
          "Languibonou",
          "Languibonou",
          "Krofoinsou",
          "Languibonou",
          "Diabo",
          "Languibonou",
          "Languibonou",
          "Languibonou"
         ],
         "xaxis": "x",
         "y": [
          38,
          29,
          5,
          3,
          2,
          2,
          2,
          2,
          2,
          2,
          1,
          1,
          1
         ],
         "yaxis": "y"
        },
        {
         "alignmentgroup": "True",
         "hovertemplate": "Level 2 Government=Tabou<br>Level 3 Government=%{x}<br>Count=%{y}<extra></extra>",
         "legendgroup": "Tabou",
         "marker": {
          "color": "#EF553B",
          "pattern": {
           "shape": ""
          }
         },
         "name": "Tabou",
         "offsetgroup": "Tabou",
         "orientation": "v",
         "showlegend": true,
         "textposition": "auto",
         "type": "bar",
         "x": [
          "DJOUROUTOU",
          "DJOUROUTOU",
          "DJOUROUTOU",
          "Grabo",
          "DJOUROUTOU",
          "Grabo",
          "Olodio",
          "DJOUROUTOU",
          "DJOUROUTOU",
          "Grabo",
          "DJOUROUTOU",
          "DJOUROUTOU",
          "DJOUROUTOU",
          "Grabo",
          "Tabou",
          "Tabou",
          "DJOUROUTOU",
          "Olodio",
          "Olodio",
          "Tabou",
          "DJOUROUTOU",
          "DJOUROUTOU",
          "DJOUROUTOU"
         ],
         "xaxis": "x",
         "y": [
          18,
          13,
          12,
          8,
          7,
          6,
          5,
          5,
          5,
          4,
          4,
          3,
          2,
          2,
          2,
          1,
          1,
          1,
          1,
          1,
          1,
          1,
          1
         ],
         "yaxis": "y"
        },
        {
         "alignmentgroup": "True",
         "hovertemplate": "Level 2 Government=Sakassou<br>Level 3 Government=%{x}<br>Count=%{y}<extra></extra>",
         "legendgroup": "Sakassou",
         "marker": {
          "color": "#00cc96",
          "pattern": {
           "shape": ""
          }
         },
         "name": "Sakassou",
         "offsetgroup": "Sakassou",
         "orientation": "v",
         "showlegend": true,
         "textposition": "auto",
         "type": "bar",
         "x": [
          "Djibri Assirikro",
          "Sakassou",
          "Sakassou",
          "Djibri Assirikro",
          "Sakassou",
          "Ayaou-Sran",
          "Sakassou",
          "Dibri",
          "Sakassou",
          "Dibri Assrikro",
          "Dibri Assrikro"
         ],
         "xaxis": "x",
         "y": [
          18,
          12,
          12,
          11,
          9,
          8,
          2,
          1,
          1,
          1,
          1
         ],
         "yaxis": "y"
        },
        {
         "alignmentgroup": "True",
         "hovertemplate": "Level 2 Government=San-Pédro<br>Level 3 Government=%{x}<br>Count=%{y}<extra></extra>",
         "legendgroup": "San-Pédro",
         "marker": {
          "color": "#ab63fa",
          "pattern": {
           "shape": ""
          }
         },
         "name": "San-Pédro",
         "offsetgroup": "San-Pédro",
         "orientation": "v",
         "showlegend": true,
         "textposition": "auto",
         "type": "bar",
         "x": [
          "Dogbo",
          "Grand bereby",
          "Dogbo",
          "Gabiadji",
          "Gabiadji",
          "Grand bereby",
          "Grand bereby",
          "Djihimbo",
          "Gabiadji",
          "Gabiadji",
          "Grand bereby",
          "Gnity",
          "Gabiadji",
          "Gabiadji",
          "Gabiadji",
          "Grand bereby",
          "Grand bereby"
         ],
         "xaxis": "x",
         "y": [
          17,
          13,
          12,
          11,
          10,
          9,
          6,
          5,
          5,
          5,
          3,
          1,
          1,
          1,
          1,
          1,
          1
         ],
         "yaxis": "y"
        },
        {
         "alignmentgroup": "True",
         "hovertemplate": "Level 2 Government=Béoumi<br>Level 3 Government=%{x}<br>Count=%{y}<extra></extra>",
         "legendgroup": "Béoumi",
         "marker": {
          "color": "#FFA15A",
          "pattern": {
           "shape": ""
          }
         },
         "name": "Béoumi",
         "offsetgroup": "Béoumi",
         "orientation": "v",
         "showlegend": true,
         "textposition": "auto",
         "type": "bar",
         "x": [
          "Bodokro",
          "Béoumi",
          "Béoumi",
          "Béoumi",
          "Béoumi",
          "N?guessankro",
          "Ando-Kékrénou",
          "Lolobo",
          "Lolobo",
          "Ando-Kékrénou",
          "Lolobo",
          "Bodokro",
          "Lolobo",
          "Lolobo",
          "Lolobo",
          "Lolobo",
          "Lolobo"
         ],
         "xaxis": "x",
         "y": [
          13,
          13,
          13,
          9,
          7,
          6,
          6,
          5,
          5,
          3,
          3,
          3,
          2,
          2,
          1,
          1,
          1
         ],
         "yaxis": "y"
        },
        {
         "alignmentgroup": "True",
         "hovertemplate": "Level 2 Government=Bouaké<br>Level 3 Government=%{x}<br>Count=%{y}<extra></extra>",
         "legendgroup": "Bouaké",
         "marker": {
          "color": "#19d3f3",
          "pattern": {
           "shape": ""
          }
         },
         "name": "Bouaké",
         "offsetgroup": "Bouaké",
         "orientation": "v",
         "showlegend": true,
         "textposition": "auto",
         "type": "bar",
         "x": [
          "Brobo",
          "Bouaké",
          "Brobo",
          "Djébonoua",
          "Brobo",
          "Brobo",
          "Brobo",
          "Brobo",
          "Djebonoua",
          "COMMUNE DE Bouake",
          "Brobo",
          "Brobo",
          "Commune de Bouaké",
          "Djébonoua",
          "Brobo",
          "Brobo",
          "Brobo",
          "Brobo",
          "Brobo",
          "Commune de Bouake",
          "Commune de Bouaké",
          "Brobo",
          "Commune de Bouaké",
          "Djébonoua",
          "Brobo",
          "Brobo",
          "Djébonoua",
          "Brobo",
          "Brobo",
          "Brobo",
          "Brobo",
          "Brobo",
          "Djébonoua",
          "Djébonoua",
          "Djébonoua",
          "Brobo",
          "Brobo",
          "Commune de Bouaké",
          "Brobo",
          "Brobo",
          "Brobo",
          "Brobo",
          "Brobo",
          "Brobo",
          "Brobo",
          "Commune de Bouake",
          "Djebonoua",
          "Commune de Bouaké",
          "Brobo",
          "Brobo"
         ],
         "xaxis": "x",
         "y": [
          9,
          8,
          5,
          4,
          4,
          4,
          4,
          3,
          3,
          3,
          3,
          2,
          2,
          2,
          2,
          2,
          2,
          1,
          1,
          1,
          1,
          1,
          1,
          1,
          1,
          1,
          1,
          1,
          1,
          1,
          1,
          1,
          1,
          1,
          1,
          1,
          1,
          1,
          1,
          1,
          1,
          1,
          1,
          1,
          1,
          1,
          1,
          1,
          1,
          1
         ],
         "yaxis": "y"
        }
       ],
       "layout": {
        "barmode": "relative",
        "legend": {
         "title": {
          "text": "Region Legend"
         },
         "tracegroupgap": 0
        },
        "margin": {
         "t": 60
        },
        "template": {
         "data": {
          "bar": [
           {
            "error_x": {
             "color": "#2a3f5f"
            },
            "error_y": {
             "color": "#2a3f5f"
            },
            "marker": {
             "line": {
              "color": "#E5ECF6",
              "width": 0.5
             },
             "pattern": {
              "fillmode": "overlay",
              "size": 10,
              "solidity": 0.2
             }
            },
            "type": "bar"
           }
          ],
          "barpolar": [
           {
            "marker": {
             "line": {
              "color": "#E5ECF6",
              "width": 0.5
             },
             "pattern": {
              "fillmode": "overlay",
              "size": 10,
              "solidity": 0.2
             }
            },
            "type": "barpolar"
           }
          ],
          "carpet": [
           {
            "aaxis": {
             "endlinecolor": "#2a3f5f",
             "gridcolor": "white",
             "linecolor": "white",
             "minorgridcolor": "white",
             "startlinecolor": "#2a3f5f"
            },
            "baxis": {
             "endlinecolor": "#2a3f5f",
             "gridcolor": "white",
             "linecolor": "white",
             "minorgridcolor": "white",
             "startlinecolor": "#2a3f5f"
            },
            "type": "carpet"
           }
          ],
          "choropleth": [
           {
            "colorbar": {
             "outlinewidth": 0,
             "ticks": ""
            },
            "type": "choropleth"
           }
          ],
          "contour": [
           {
            "colorbar": {
             "outlinewidth": 0,
             "ticks": ""
            },
            "colorscale": [
             [
              0,
              "#0d0887"
             ],
             [
              0.1111111111111111,
              "#46039f"
             ],
             [
              0.2222222222222222,
              "#7201a8"
             ],
             [
              0.3333333333333333,
              "#9c179e"
             ],
             [
              0.4444444444444444,
              "#bd3786"
             ],
             [
              0.5555555555555556,
              "#d8576b"
             ],
             [
              0.6666666666666666,
              "#ed7953"
             ],
             [
              0.7777777777777778,
              "#fb9f3a"
             ],
             [
              0.8888888888888888,
              "#fdca26"
             ],
             [
              1,
              "#f0f921"
             ]
            ],
            "type": "contour"
           }
          ],
          "contourcarpet": [
           {
            "colorbar": {
             "outlinewidth": 0,
             "ticks": ""
            },
            "type": "contourcarpet"
           }
          ],
          "heatmap": [
           {
            "colorbar": {
             "outlinewidth": 0,
             "ticks": ""
            },
            "colorscale": [
             [
              0,
              "#0d0887"
             ],
             [
              0.1111111111111111,
              "#46039f"
             ],
             [
              0.2222222222222222,
              "#7201a8"
             ],
             [
              0.3333333333333333,
              "#9c179e"
             ],
             [
              0.4444444444444444,
              "#bd3786"
             ],
             [
              0.5555555555555556,
              "#d8576b"
             ],
             [
              0.6666666666666666,
              "#ed7953"
             ],
             [
              0.7777777777777778,
              "#fb9f3a"
             ],
             [
              0.8888888888888888,
              "#fdca26"
             ],
             [
              1,
              "#f0f921"
             ]
            ],
            "type": "heatmap"
           }
          ],
          "heatmapgl": [
           {
            "colorbar": {
             "outlinewidth": 0,
             "ticks": ""
            },
            "colorscale": [
             [
              0,
              "#0d0887"
             ],
             [
              0.1111111111111111,
              "#46039f"
             ],
             [
              0.2222222222222222,
              "#7201a8"
             ],
             [
              0.3333333333333333,
              "#9c179e"
             ],
             [
              0.4444444444444444,
              "#bd3786"
             ],
             [
              0.5555555555555556,
              "#d8576b"
             ],
             [
              0.6666666666666666,
              "#ed7953"
             ],
             [
              0.7777777777777778,
              "#fb9f3a"
             ],
             [
              0.8888888888888888,
              "#fdca26"
             ],
             [
              1,
              "#f0f921"
             ]
            ],
            "type": "heatmapgl"
           }
          ],
          "histogram": [
           {
            "marker": {
             "pattern": {
              "fillmode": "overlay",
              "size": 10,
              "solidity": 0.2
             }
            },
            "type": "histogram"
           }
          ],
          "histogram2d": [
           {
            "colorbar": {
             "outlinewidth": 0,
             "ticks": ""
            },
            "colorscale": [
             [
              0,
              "#0d0887"
             ],
             [
              0.1111111111111111,
              "#46039f"
             ],
             [
              0.2222222222222222,
              "#7201a8"
             ],
             [
              0.3333333333333333,
              "#9c179e"
             ],
             [
              0.4444444444444444,
              "#bd3786"
             ],
             [
              0.5555555555555556,
              "#d8576b"
             ],
             [
              0.6666666666666666,
              "#ed7953"
             ],
             [
              0.7777777777777778,
              "#fb9f3a"
             ],
             [
              0.8888888888888888,
              "#fdca26"
             ],
             [
              1,
              "#f0f921"
             ]
            ],
            "type": "histogram2d"
           }
          ],
          "histogram2dcontour": [
           {
            "colorbar": {
             "outlinewidth": 0,
             "ticks": ""
            },
            "colorscale": [
             [
              0,
              "#0d0887"
             ],
             [
              0.1111111111111111,
              "#46039f"
             ],
             [
              0.2222222222222222,
              "#7201a8"
             ],
             [
              0.3333333333333333,
              "#9c179e"
             ],
             [
              0.4444444444444444,
              "#bd3786"
             ],
             [
              0.5555555555555556,
              "#d8576b"
             ],
             [
              0.6666666666666666,
              "#ed7953"
             ],
             [
              0.7777777777777778,
              "#fb9f3a"
             ],
             [
              0.8888888888888888,
              "#fdca26"
             ],
             [
              1,
              "#f0f921"
             ]
            ],
            "type": "histogram2dcontour"
           }
          ],
          "mesh3d": [
           {
            "colorbar": {
             "outlinewidth": 0,
             "ticks": ""
            },
            "type": "mesh3d"
           }
          ],
          "parcoords": [
           {
            "line": {
             "colorbar": {
              "outlinewidth": 0,
              "ticks": ""
             }
            },
            "type": "parcoords"
           }
          ],
          "pie": [
           {
            "automargin": true,
            "type": "pie"
           }
          ],
          "scatter": [
           {
            "fillpattern": {
             "fillmode": "overlay",
             "size": 10,
             "solidity": 0.2
            },
            "type": "scatter"
           }
          ],
          "scatter3d": [
           {
            "line": {
             "colorbar": {
              "outlinewidth": 0,
              "ticks": ""
             }
            },
            "marker": {
             "colorbar": {
              "outlinewidth": 0,
              "ticks": ""
             }
            },
            "type": "scatter3d"
           }
          ],
          "scattercarpet": [
           {
            "marker": {
             "colorbar": {
              "outlinewidth": 0,
              "ticks": ""
             }
            },
            "type": "scattercarpet"
           }
          ],
          "scattergeo": [
           {
            "marker": {
             "colorbar": {
              "outlinewidth": 0,
              "ticks": ""
             }
            },
            "type": "scattergeo"
           }
          ],
          "scattergl": [
           {
            "marker": {
             "colorbar": {
              "outlinewidth": 0,
              "ticks": ""
             }
            },
            "type": "scattergl"
           }
          ],
          "scattermapbox": [
           {
            "marker": {
             "colorbar": {
              "outlinewidth": 0,
              "ticks": ""
             }
            },
            "type": "scattermapbox"
           }
          ],
          "scatterpolar": [
           {
            "marker": {
             "colorbar": {
              "outlinewidth": 0,
              "ticks": ""
             }
            },
            "type": "scatterpolar"
           }
          ],
          "scatterpolargl": [
           {
            "marker": {
             "colorbar": {
              "outlinewidth": 0,
              "ticks": ""
             }
            },
            "type": "scatterpolargl"
           }
          ],
          "scatterternary": [
           {
            "marker": {
             "colorbar": {
              "outlinewidth": 0,
              "ticks": ""
             }
            },
            "type": "scatterternary"
           }
          ],
          "surface": [
           {
            "colorbar": {
             "outlinewidth": 0,
             "ticks": ""
            },
            "colorscale": [
             [
              0,
              "#0d0887"
             ],
             [
              0.1111111111111111,
              "#46039f"
             ],
             [
              0.2222222222222222,
              "#7201a8"
             ],
             [
              0.3333333333333333,
              "#9c179e"
             ],
             [
              0.4444444444444444,
              "#bd3786"
             ],
             [
              0.5555555555555556,
              "#d8576b"
             ],
             [
              0.6666666666666666,
              "#ed7953"
             ],
             [
              0.7777777777777778,
              "#fb9f3a"
             ],
             [
              0.8888888888888888,
              "#fdca26"
             ],
             [
              1,
              "#f0f921"
             ]
            ],
            "type": "surface"
           }
          ],
          "table": [
           {
            "cells": {
             "fill": {
              "color": "#EBF0F8"
             },
             "line": {
              "color": "white"
             }
            },
            "header": {
             "fill": {
              "color": "#C8D4E3"
             },
             "line": {
              "color": "white"
             }
            },
            "type": "table"
           }
          ]
         },
         "layout": {
          "annotationdefaults": {
           "arrowcolor": "#2a3f5f",
           "arrowhead": 0,
           "arrowwidth": 1
          },
          "autotypenumbers": "strict",
          "coloraxis": {
           "colorbar": {
            "outlinewidth": 0,
            "ticks": ""
           }
          },
          "colorscale": {
           "diverging": [
            [
             0,
             "#8e0152"
            ],
            [
             0.1,
             "#c51b7d"
            ],
            [
             0.2,
             "#de77ae"
            ],
            [
             0.3,
             "#f1b6da"
            ],
            [
             0.4,
             "#fde0ef"
            ],
            [
             0.5,
             "#f7f7f7"
            ],
            [
             0.6,
             "#e6f5d0"
            ],
            [
             0.7,
             "#b8e186"
            ],
            [
             0.8,
             "#7fbc41"
            ],
            [
             0.9,
             "#4d9221"
            ],
            [
             1,
             "#276419"
            ]
           ],
           "sequential": [
            [
             0,
             "#0d0887"
            ],
            [
             0.1111111111111111,
             "#46039f"
            ],
            [
             0.2222222222222222,
             "#7201a8"
            ],
            [
             0.3333333333333333,
             "#9c179e"
            ],
            [
             0.4444444444444444,
             "#bd3786"
            ],
            [
             0.5555555555555556,
             "#d8576b"
            ],
            [
             0.6666666666666666,
             "#ed7953"
            ],
            [
             0.7777777777777778,
             "#fb9f3a"
            ],
            [
             0.8888888888888888,
             "#fdca26"
            ],
            [
             1,
             "#f0f921"
            ]
           ],
           "sequentialminus": [
            [
             0,
             "#0d0887"
            ],
            [
             0.1111111111111111,
             "#46039f"
            ],
            [
             0.2222222222222222,
             "#7201a8"
            ],
            [
             0.3333333333333333,
             "#9c179e"
            ],
            [
             0.4444444444444444,
             "#bd3786"
            ],
            [
             0.5555555555555556,
             "#d8576b"
            ],
            [
             0.6666666666666666,
             "#ed7953"
            ],
            [
             0.7777777777777778,
             "#fb9f3a"
            ],
            [
             0.8888888888888888,
             "#fdca26"
            ],
            [
             1,
             "#f0f921"
            ]
           ]
          },
          "colorway": [
           "#636efa",
           "#EF553B",
           "#00cc96",
           "#ab63fa",
           "#FFA15A",
           "#19d3f3",
           "#FF6692",
           "#B6E880",
           "#FF97FF",
           "#FECB52"
          ],
          "font": {
           "color": "#2a3f5f"
          },
          "geo": {
           "bgcolor": "white",
           "lakecolor": "white",
           "landcolor": "#E5ECF6",
           "showlakes": true,
           "showland": true,
           "subunitcolor": "white"
          },
          "hoverlabel": {
           "align": "left"
          },
          "hovermode": "closest",
          "mapbox": {
           "style": "light"
          },
          "paper_bgcolor": "white",
          "plot_bgcolor": "#E5ECF6",
          "polar": {
           "angularaxis": {
            "gridcolor": "white",
            "linecolor": "white",
            "ticks": ""
           },
           "bgcolor": "#E5ECF6",
           "radialaxis": {
            "gridcolor": "white",
            "linecolor": "white",
            "ticks": ""
           }
          },
          "scene": {
           "xaxis": {
            "backgroundcolor": "#E5ECF6",
            "gridcolor": "white",
            "gridwidth": 2,
            "linecolor": "white",
            "showbackground": true,
            "ticks": "",
            "zerolinecolor": "white"
           },
           "yaxis": {
            "backgroundcolor": "#E5ECF6",
            "gridcolor": "white",
            "gridwidth": 2,
            "linecolor": "white",
            "showbackground": true,
            "ticks": "",
            "zerolinecolor": "white"
           },
           "zaxis": {
            "backgroundcolor": "#E5ECF6",
            "gridcolor": "white",
            "gridwidth": 2,
            "linecolor": "white",
            "showbackground": true,
            "ticks": "",
            "zerolinecolor": "white"
           }
          },
          "shapedefaults": {
           "line": {
            "color": "#2a3f5f"
           }
          },
          "ternary": {
           "aaxis": {
            "gridcolor": "white",
            "linecolor": "white",
            "ticks": ""
           },
           "baxis": {
            "gridcolor": "white",
            "linecolor": "white",
            "ticks": ""
           },
           "bgcolor": "#E5ECF6",
           "caxis": {
            "gridcolor": "white",
            "linecolor": "white",
            "ticks": ""
           }
          },
          "title": {
           "x": 0.05
          },
          "xaxis": {
           "automargin": true,
           "gridcolor": "white",
           "linecolor": "white",
           "ticks": "",
           "title": {
            "standoff": 15
           },
           "zerolinecolor": "white",
           "zerolinewidth": 2
          },
          "yaxis": {
           "automargin": true,
           "gridcolor": "white",
           "linecolor": "white",
           "ticks": "",
           "title": {
            "standoff": 15
           },
           "zerolinecolor": "white",
           "zerolinewidth": 2
          }
         }
        },
        "title": {
         "text": "Sites Blocking Education by Region"
        },
        "xaxis": {
         "anchor": "y",
         "domain": [
          0,
          1
         ],
         "title": {
          "text": "Sites Assessed"
         }
        },
        "yaxis": {
         "anchor": "x",
         "domain": [
          0,
          1
         ],
         "title": {
          "text": "Count"
         }
        }
       }
      }
     },
     "metadata": {},
     "output_type": "display_data"
    }
   ],
   "source": [
    "# create a bar chart with villages dataframe where each bar is a government level 3 and the height is the count and color is level 2 government\n",
    "tempdf = pd.DataFrame(blockingany['Level 4 Government'].value_counts())\n",
    "tempdf = tempdf.reset_index()\n",
    "tempdf.columns = ['Level 4 Government', 'Count']\n",
    "# for each value in villages level 4 government, find the corresponding value in the assessment level 4 government column and add the corresponding value in the \"level 3 government\" column as a new column in the villages dataframe\n",
    "for i in range(len(tempdf)):\n",
    "    tempdf.loc[i, 'Level 3 Government'] = blockingany.loc[blockingany['Level 4 Government'] == tempdf.loc[i, 'Level 4 Government'], 'Level 3 Government'].iloc[0]\n",
    "    tempdf.loc[i, 'Level 2 Government'] = blockingany.loc[blockingany['Level 4 Government'] == tempdf.loc[i, 'Level 4 Government'], 'Level 2 Government'].iloc[0]\n",
    "    tempdf.loc[i, 'Level 1 Government'] = blockingany.loc[blockingany['Level 4 Government'] == tempdf.loc[i, 'Level 4 Government'], 'Level 1 Government'].iloc[0]\n",
    "# create a bar chart with villages dataframe where each bar is a government level 3 and the height is the count and color is level 2 government\n",
    "fig = px.bar(tempdf, x='Level 3 Government', y='Count', color='Level 2 Government')\n",
    "# change x title to region of assessment\n",
    "fig.update_xaxes(title_text='Sites Assessed')\n",
    "fig.update_layout(legend_title_text='Region Legend')\n",
    "# update title to be Sites Assessed by Region\n",
    "fig.update_layout(title_text='Sites Blocking Education by Region')\n",
    "fig.show()\n",
    "# write to html\n",
    "fig.write_html(\"./home/charts/blocking_education_bar.html\")\n",
    "# write to png\n",
    "fig.write_image(\"./home/charts/blocking_education_bar.png\")"
   ]
  },
  {
   "cell_type": "code",
   "execution_count": 20,
   "metadata": {},
   "outputs": [
    {
     "data": {
      "application/vnd.plotly.v1+json": {
       "config": {
        "plotlyServerURL": "https://plot.ly"
       },
       "data": [
        {
         "alignmentgroup": "True",
         "hovertemplate": "Level 2 Government=Botro<br>Level 3 Government=%{x}<br>Count=%{y}<extra></extra>",
         "legendgroup": "Botro",
         "marker": {
          "color": "#636efa",
          "pattern": {
           "shape": ""
          }
         },
         "name": "Botro",
         "offsetgroup": "Botro",
         "orientation": "v",
         "showlegend": true,
         "textposition": "auto",
         "type": "bar",
         "x": [
          "Languibonou",
          "Languibonou",
          "Krofoinsou",
          "Languibonou",
          "Languibonou",
          "Languibonou",
          "Languibonou",
          "Krofoinsou",
          "Languibonou",
          "Diabo",
          "Languibonou",
          "Languibonou",
          "Languibonou"
         ],
         "xaxis": "x",
         "y": [
          38,
          29,
          5,
          3,
          2,
          2,
          2,
          2,
          2,
          2,
          1,
          1,
          1
         ],
         "yaxis": "y"
        },
        {
         "alignmentgroup": "True",
         "hovertemplate": "Level 2 Government=Tabou<br>Level 3 Government=%{x}<br>Count=%{y}<extra></extra>",
         "legendgroup": "Tabou",
         "marker": {
          "color": "#EF553B",
          "pattern": {
           "shape": ""
          }
         },
         "name": "Tabou",
         "offsetgroup": "Tabou",
         "orientation": "v",
         "showlegend": true,
         "textposition": "auto",
         "type": "bar",
         "x": [
          "DJOUROUTOU",
          "DJOUROUTOU",
          "DJOUROUTOU",
          "Grabo",
          "DJOUROUTOU",
          "Grabo",
          "Olodio",
          "DJOUROUTOU",
          "DJOUROUTOU",
          "Grabo",
          "DJOUROUTOU",
          "DJOUROUTOU",
          "DJOUROUTOU",
          "Grabo",
          "Tabou",
          "Tabou",
          "DJOUROUTOU",
          "Olodio",
          "Olodio",
          "Tabou",
          "DJOUROUTOU",
          "DJOUROUTOU",
          "DJOUROUTOU"
         ],
         "xaxis": "x",
         "y": [
          18,
          13,
          12,
          8,
          7,
          6,
          5,
          5,
          5,
          4,
          4,
          3,
          2,
          2,
          2,
          1,
          1,
          1,
          1,
          1,
          1,
          1,
          1
         ],
         "yaxis": "y"
        },
        {
         "alignmentgroup": "True",
         "hovertemplate": "Level 2 Government=Sakassou<br>Level 3 Government=%{x}<br>Count=%{y}<extra></extra>",
         "legendgroup": "Sakassou",
         "marker": {
          "color": "#00cc96",
          "pattern": {
           "shape": ""
          }
         },
         "name": "Sakassou",
         "offsetgroup": "Sakassou",
         "orientation": "v",
         "showlegend": true,
         "textposition": "auto",
         "type": "bar",
         "x": [
          "Djibri Assirikro",
          "Sakassou",
          "Sakassou",
          "Djibri Assirikro",
          "Sakassou",
          "Ayaou-Sran",
          "Sakassou",
          "Dibri",
          "Sakassou",
          "Dibri Assrikro",
          "Dibri Assrikro"
         ],
         "xaxis": "x",
         "y": [
          18,
          12,
          12,
          11,
          9,
          8,
          2,
          1,
          1,
          1,
          1
         ],
         "yaxis": "y"
        },
        {
         "alignmentgroup": "True",
         "hovertemplate": "Level 2 Government=San-Pédro<br>Level 3 Government=%{x}<br>Count=%{y}<extra></extra>",
         "legendgroup": "San-Pédro",
         "marker": {
          "color": "#ab63fa",
          "pattern": {
           "shape": ""
          }
         },
         "name": "San-Pédro",
         "offsetgroup": "San-Pédro",
         "orientation": "v",
         "showlegend": true,
         "textposition": "auto",
         "type": "bar",
         "x": [
          "Dogbo",
          "Grand bereby",
          "Dogbo",
          "Gabiadji",
          "Gabiadji",
          "Grand bereby",
          "Grand bereby",
          "Djihimbo",
          "Gabiadji",
          "Gabiadji",
          "Grand bereby",
          "Gnity",
          "Gabiadji",
          "Gabiadji",
          "Gabiadji",
          "Grand bereby",
          "Grand bereby"
         ],
         "xaxis": "x",
         "y": [
          17,
          13,
          12,
          11,
          10,
          9,
          6,
          5,
          5,
          5,
          3,
          1,
          1,
          1,
          1,
          1,
          1
         ],
         "yaxis": "y"
        },
        {
         "alignmentgroup": "True",
         "hovertemplate": "Level 2 Government=Béoumi<br>Level 3 Government=%{x}<br>Count=%{y}<extra></extra>",
         "legendgroup": "Béoumi",
         "marker": {
          "color": "#FFA15A",
          "pattern": {
           "shape": ""
          }
         },
         "name": "Béoumi",
         "offsetgroup": "Béoumi",
         "orientation": "v",
         "showlegend": true,
         "textposition": "auto",
         "type": "bar",
         "x": [
          "Bodokro",
          "Béoumi",
          "Béoumi",
          "Béoumi",
          "Béoumi",
          "N?guessankro",
          "Ando-Kékrénou",
          "Lolobo",
          "Lolobo",
          "Ando-Kékrénou",
          "Lolobo",
          "Bodokro",
          "Lolobo",
          "Lolobo",
          "Lolobo",
          "Lolobo",
          "Lolobo"
         ],
         "xaxis": "x",
         "y": [
          13,
          13,
          13,
          9,
          7,
          6,
          6,
          5,
          5,
          3,
          3,
          3,
          2,
          2,
          1,
          1,
          1
         ],
         "yaxis": "y"
        },
        {
         "alignmentgroup": "True",
         "hovertemplate": "Level 2 Government=Bouaké<br>Level 3 Government=%{x}<br>Count=%{y}<extra></extra>",
         "legendgroup": "Bouaké",
         "marker": {
          "color": "#19d3f3",
          "pattern": {
           "shape": ""
          }
         },
         "name": "Bouaké",
         "offsetgroup": "Bouaké",
         "orientation": "v",
         "showlegend": true,
         "textposition": "auto",
         "type": "bar",
         "x": [
          "Brobo",
          "Bouaké",
          "Brobo",
          "Djébonoua",
          "Brobo",
          "Brobo",
          "Brobo",
          "Brobo",
          "Djebonoua",
          "COMMUNE DE Bouake",
          "Brobo",
          "Brobo",
          "Commune de Bouaké",
          "Djébonoua",
          "Brobo",
          "Brobo",
          "Brobo",
          "Brobo",
          "Brobo",
          "Commune de Bouake",
          "Commune de Bouaké",
          "Brobo",
          "Commune de Bouaké",
          "Djébonoua",
          "Brobo",
          "Brobo",
          "Djébonoua",
          "Brobo",
          "Brobo",
          "Brobo",
          "Brobo",
          "Brobo",
          "Djébonoua",
          "Djébonoua",
          "Djébonoua",
          "Brobo",
          "Brobo",
          "Commune de Bouaké",
          "Brobo",
          "Brobo",
          "Brobo",
          "Brobo",
          "Brobo",
          "Brobo",
          "Brobo",
          "Commune de Bouake",
          "Djebonoua",
          "Commune de Bouaké",
          "Brobo",
          "Brobo"
         ],
         "xaxis": "x",
         "y": [
          9,
          8,
          5,
          4,
          4,
          4,
          4,
          3,
          3,
          3,
          3,
          2,
          2,
          2,
          2,
          2,
          2,
          1,
          1,
          1,
          1,
          1,
          1,
          1,
          1,
          1,
          1,
          1,
          1,
          1,
          1,
          1,
          1,
          1,
          1,
          1,
          1,
          1,
          1,
          1,
          1,
          1,
          1,
          1,
          1,
          1,
          1,
          1,
          1,
          1
         ],
         "yaxis": "y"
        }
       ],
       "layout": {
        "barmode": "relative",
        "legend": {
         "title": {
          "text": "Region Legend"
         },
         "tracegroupgap": 0
        },
        "margin": {
         "t": 60
        },
        "template": {
         "data": {
          "bar": [
           {
            "error_x": {
             "color": "#2a3f5f"
            },
            "error_y": {
             "color": "#2a3f5f"
            },
            "marker": {
             "line": {
              "color": "#E5ECF6",
              "width": 0.5
             },
             "pattern": {
              "fillmode": "overlay",
              "size": 10,
              "solidity": 0.2
             }
            },
            "type": "bar"
           }
          ],
          "barpolar": [
           {
            "marker": {
             "line": {
              "color": "#E5ECF6",
              "width": 0.5
             },
             "pattern": {
              "fillmode": "overlay",
              "size": 10,
              "solidity": 0.2
             }
            },
            "type": "barpolar"
           }
          ],
          "carpet": [
           {
            "aaxis": {
             "endlinecolor": "#2a3f5f",
             "gridcolor": "white",
             "linecolor": "white",
             "minorgridcolor": "white",
             "startlinecolor": "#2a3f5f"
            },
            "baxis": {
             "endlinecolor": "#2a3f5f",
             "gridcolor": "white",
             "linecolor": "white",
             "minorgridcolor": "white",
             "startlinecolor": "#2a3f5f"
            },
            "type": "carpet"
           }
          ],
          "choropleth": [
           {
            "colorbar": {
             "outlinewidth": 0,
             "ticks": ""
            },
            "type": "choropleth"
           }
          ],
          "contour": [
           {
            "colorbar": {
             "outlinewidth": 0,
             "ticks": ""
            },
            "colorscale": [
             [
              0,
              "#0d0887"
             ],
             [
              0.1111111111111111,
              "#46039f"
             ],
             [
              0.2222222222222222,
              "#7201a8"
             ],
             [
              0.3333333333333333,
              "#9c179e"
             ],
             [
              0.4444444444444444,
              "#bd3786"
             ],
             [
              0.5555555555555556,
              "#d8576b"
             ],
             [
              0.6666666666666666,
              "#ed7953"
             ],
             [
              0.7777777777777778,
              "#fb9f3a"
             ],
             [
              0.8888888888888888,
              "#fdca26"
             ],
             [
              1,
              "#f0f921"
             ]
            ],
            "type": "contour"
           }
          ],
          "contourcarpet": [
           {
            "colorbar": {
             "outlinewidth": 0,
             "ticks": ""
            },
            "type": "contourcarpet"
           }
          ],
          "heatmap": [
           {
            "colorbar": {
             "outlinewidth": 0,
             "ticks": ""
            },
            "colorscale": [
             [
              0,
              "#0d0887"
             ],
             [
              0.1111111111111111,
              "#46039f"
             ],
             [
              0.2222222222222222,
              "#7201a8"
             ],
             [
              0.3333333333333333,
              "#9c179e"
             ],
             [
              0.4444444444444444,
              "#bd3786"
             ],
             [
              0.5555555555555556,
              "#d8576b"
             ],
             [
              0.6666666666666666,
              "#ed7953"
             ],
             [
              0.7777777777777778,
              "#fb9f3a"
             ],
             [
              0.8888888888888888,
              "#fdca26"
             ],
             [
              1,
              "#f0f921"
             ]
            ],
            "type": "heatmap"
           }
          ],
          "heatmapgl": [
           {
            "colorbar": {
             "outlinewidth": 0,
             "ticks": ""
            },
            "colorscale": [
             [
              0,
              "#0d0887"
             ],
             [
              0.1111111111111111,
              "#46039f"
             ],
             [
              0.2222222222222222,
              "#7201a8"
             ],
             [
              0.3333333333333333,
              "#9c179e"
             ],
             [
              0.4444444444444444,
              "#bd3786"
             ],
             [
              0.5555555555555556,
              "#d8576b"
             ],
             [
              0.6666666666666666,
              "#ed7953"
             ],
             [
              0.7777777777777778,
              "#fb9f3a"
             ],
             [
              0.8888888888888888,
              "#fdca26"
             ],
             [
              1,
              "#f0f921"
             ]
            ],
            "type": "heatmapgl"
           }
          ],
          "histogram": [
           {
            "marker": {
             "pattern": {
              "fillmode": "overlay",
              "size": 10,
              "solidity": 0.2
             }
            },
            "type": "histogram"
           }
          ],
          "histogram2d": [
           {
            "colorbar": {
             "outlinewidth": 0,
             "ticks": ""
            },
            "colorscale": [
             [
              0,
              "#0d0887"
             ],
             [
              0.1111111111111111,
              "#46039f"
             ],
             [
              0.2222222222222222,
              "#7201a8"
             ],
             [
              0.3333333333333333,
              "#9c179e"
             ],
             [
              0.4444444444444444,
              "#bd3786"
             ],
             [
              0.5555555555555556,
              "#d8576b"
             ],
             [
              0.6666666666666666,
              "#ed7953"
             ],
             [
              0.7777777777777778,
              "#fb9f3a"
             ],
             [
              0.8888888888888888,
              "#fdca26"
             ],
             [
              1,
              "#f0f921"
             ]
            ],
            "type": "histogram2d"
           }
          ],
          "histogram2dcontour": [
           {
            "colorbar": {
             "outlinewidth": 0,
             "ticks": ""
            },
            "colorscale": [
             [
              0,
              "#0d0887"
             ],
             [
              0.1111111111111111,
              "#46039f"
             ],
             [
              0.2222222222222222,
              "#7201a8"
             ],
             [
              0.3333333333333333,
              "#9c179e"
             ],
             [
              0.4444444444444444,
              "#bd3786"
             ],
             [
              0.5555555555555556,
              "#d8576b"
             ],
             [
              0.6666666666666666,
              "#ed7953"
             ],
             [
              0.7777777777777778,
              "#fb9f3a"
             ],
             [
              0.8888888888888888,
              "#fdca26"
             ],
             [
              1,
              "#f0f921"
             ]
            ],
            "type": "histogram2dcontour"
           }
          ],
          "mesh3d": [
           {
            "colorbar": {
             "outlinewidth": 0,
             "ticks": ""
            },
            "type": "mesh3d"
           }
          ],
          "parcoords": [
           {
            "line": {
             "colorbar": {
              "outlinewidth": 0,
              "ticks": ""
             }
            },
            "type": "parcoords"
           }
          ],
          "pie": [
           {
            "automargin": true,
            "type": "pie"
           }
          ],
          "scatter": [
           {
            "fillpattern": {
             "fillmode": "overlay",
             "size": 10,
             "solidity": 0.2
            },
            "type": "scatter"
           }
          ],
          "scatter3d": [
           {
            "line": {
             "colorbar": {
              "outlinewidth": 0,
              "ticks": ""
             }
            },
            "marker": {
             "colorbar": {
              "outlinewidth": 0,
              "ticks": ""
             }
            },
            "type": "scatter3d"
           }
          ],
          "scattercarpet": [
           {
            "marker": {
             "colorbar": {
              "outlinewidth": 0,
              "ticks": ""
             }
            },
            "type": "scattercarpet"
           }
          ],
          "scattergeo": [
           {
            "marker": {
             "colorbar": {
              "outlinewidth": 0,
              "ticks": ""
             }
            },
            "type": "scattergeo"
           }
          ],
          "scattergl": [
           {
            "marker": {
             "colorbar": {
              "outlinewidth": 0,
              "ticks": ""
             }
            },
            "type": "scattergl"
           }
          ],
          "scattermapbox": [
           {
            "marker": {
             "colorbar": {
              "outlinewidth": 0,
              "ticks": ""
             }
            },
            "type": "scattermapbox"
           }
          ],
          "scatterpolar": [
           {
            "marker": {
             "colorbar": {
              "outlinewidth": 0,
              "ticks": ""
             }
            },
            "type": "scatterpolar"
           }
          ],
          "scatterpolargl": [
           {
            "marker": {
             "colorbar": {
              "outlinewidth": 0,
              "ticks": ""
             }
            },
            "type": "scatterpolargl"
           }
          ],
          "scatterternary": [
           {
            "marker": {
             "colorbar": {
              "outlinewidth": 0,
              "ticks": ""
             }
            },
            "type": "scatterternary"
           }
          ],
          "surface": [
           {
            "colorbar": {
             "outlinewidth": 0,
             "ticks": ""
            },
            "colorscale": [
             [
              0,
              "#0d0887"
             ],
             [
              0.1111111111111111,
              "#46039f"
             ],
             [
              0.2222222222222222,
              "#7201a8"
             ],
             [
              0.3333333333333333,
              "#9c179e"
             ],
             [
              0.4444444444444444,
              "#bd3786"
             ],
             [
              0.5555555555555556,
              "#d8576b"
             ],
             [
              0.6666666666666666,
              "#ed7953"
             ],
             [
              0.7777777777777778,
              "#fb9f3a"
             ],
             [
              0.8888888888888888,
              "#fdca26"
             ],
             [
              1,
              "#f0f921"
             ]
            ],
            "type": "surface"
           }
          ],
          "table": [
           {
            "cells": {
             "fill": {
              "color": "#EBF0F8"
             },
             "line": {
              "color": "white"
             }
            },
            "header": {
             "fill": {
              "color": "#C8D4E3"
             },
             "line": {
              "color": "white"
             }
            },
            "type": "table"
           }
          ]
         },
         "layout": {
          "annotationdefaults": {
           "arrowcolor": "#2a3f5f",
           "arrowhead": 0,
           "arrowwidth": 1
          },
          "autotypenumbers": "strict",
          "coloraxis": {
           "colorbar": {
            "outlinewidth": 0,
            "ticks": ""
           }
          },
          "colorscale": {
           "diverging": [
            [
             0,
             "#8e0152"
            ],
            [
             0.1,
             "#c51b7d"
            ],
            [
             0.2,
             "#de77ae"
            ],
            [
             0.3,
             "#f1b6da"
            ],
            [
             0.4,
             "#fde0ef"
            ],
            [
             0.5,
             "#f7f7f7"
            ],
            [
             0.6,
             "#e6f5d0"
            ],
            [
             0.7,
             "#b8e186"
            ],
            [
             0.8,
             "#7fbc41"
            ],
            [
             0.9,
             "#4d9221"
            ],
            [
             1,
             "#276419"
            ]
           ],
           "sequential": [
            [
             0,
             "#0d0887"
            ],
            [
             0.1111111111111111,
             "#46039f"
            ],
            [
             0.2222222222222222,
             "#7201a8"
            ],
            [
             0.3333333333333333,
             "#9c179e"
            ],
            [
             0.4444444444444444,
             "#bd3786"
            ],
            [
             0.5555555555555556,
             "#d8576b"
            ],
            [
             0.6666666666666666,
             "#ed7953"
            ],
            [
             0.7777777777777778,
             "#fb9f3a"
            ],
            [
             0.8888888888888888,
             "#fdca26"
            ],
            [
             1,
             "#f0f921"
            ]
           ],
           "sequentialminus": [
            [
             0,
             "#0d0887"
            ],
            [
             0.1111111111111111,
             "#46039f"
            ],
            [
             0.2222222222222222,
             "#7201a8"
            ],
            [
             0.3333333333333333,
             "#9c179e"
            ],
            [
             0.4444444444444444,
             "#bd3786"
            ],
            [
             0.5555555555555556,
             "#d8576b"
            ],
            [
             0.6666666666666666,
             "#ed7953"
            ],
            [
             0.7777777777777778,
             "#fb9f3a"
            ],
            [
             0.8888888888888888,
             "#fdca26"
            ],
            [
             1,
             "#f0f921"
            ]
           ]
          },
          "colorway": [
           "#636efa",
           "#EF553B",
           "#00cc96",
           "#ab63fa",
           "#FFA15A",
           "#19d3f3",
           "#FF6692",
           "#B6E880",
           "#FF97FF",
           "#FECB52"
          ],
          "font": {
           "color": "#2a3f5f"
          },
          "geo": {
           "bgcolor": "white",
           "lakecolor": "white",
           "landcolor": "#E5ECF6",
           "showlakes": true,
           "showland": true,
           "subunitcolor": "white"
          },
          "hoverlabel": {
           "align": "left"
          },
          "hovermode": "closest",
          "mapbox": {
           "style": "light"
          },
          "paper_bgcolor": "white",
          "plot_bgcolor": "#E5ECF6",
          "polar": {
           "angularaxis": {
            "gridcolor": "white",
            "linecolor": "white",
            "ticks": ""
           },
           "bgcolor": "#E5ECF6",
           "radialaxis": {
            "gridcolor": "white",
            "linecolor": "white",
            "ticks": ""
           }
          },
          "scene": {
           "xaxis": {
            "backgroundcolor": "#E5ECF6",
            "gridcolor": "white",
            "gridwidth": 2,
            "linecolor": "white",
            "showbackground": true,
            "ticks": "",
            "zerolinecolor": "white"
           },
           "yaxis": {
            "backgroundcolor": "#E5ECF6",
            "gridcolor": "white",
            "gridwidth": 2,
            "linecolor": "white",
            "showbackground": true,
            "ticks": "",
            "zerolinecolor": "white"
           },
           "zaxis": {
            "backgroundcolor": "#E5ECF6",
            "gridcolor": "white",
            "gridwidth": 2,
            "linecolor": "white",
            "showbackground": true,
            "ticks": "",
            "zerolinecolor": "white"
           }
          },
          "shapedefaults": {
           "line": {
            "color": "#2a3f5f"
           }
          },
          "ternary": {
           "aaxis": {
            "gridcolor": "white",
            "linecolor": "white",
            "ticks": ""
           },
           "baxis": {
            "gridcolor": "white",
            "linecolor": "white",
            "ticks": ""
           },
           "bgcolor": "#E5ECF6",
           "caxis": {
            "gridcolor": "white",
            "linecolor": "white",
            "ticks": ""
           }
          },
          "title": {
           "x": 0.05
          },
          "xaxis": {
           "automargin": true,
           "gridcolor": "white",
           "linecolor": "white",
           "ticks": "",
           "title": {
            "standoff": 15
           },
           "zerolinecolor": "white",
           "zerolinewidth": 2
          },
          "yaxis": {
           "automargin": true,
           "gridcolor": "white",
           "linecolor": "white",
           "ticks": "",
           "title": {
            "standoff": 15
           },
           "zerolinecolor": "white",
           "zerolinewidth": 2
          }
         }
        },
        "title": {
         "text": "Sites Blocking Markets by Region"
        },
        "xaxis": {
         "anchor": "y",
         "domain": [
          0,
          1
         ],
         "title": {
          "text": "Sites Assessed"
         }
        },
        "yaxis": {
         "anchor": "x",
         "domain": [
          0,
          1
         ],
         "title": {
          "text": "Count"
         }
        }
       }
      }
     },
     "metadata": {},
     "output_type": "display_data"
    }
   ],
   "source": [
    "# create a bar chart with villages dataframe where each bar is a government level 3 and the height is the count and color is level 2 government\n",
    "tempdf = pd.DataFrame(blockingany['Level 4 Government'].value_counts())\n",
    "tempdf = tempdf.reset_index()\n",
    "tempdf.columns = ['Level 4 Government', 'Count']\n",
    "# for each value in villages level 4 government, find the corresponding value in the assessment level 4 government column and add the corresponding value in the \"level 3 government\" column as a new column in the villages dataframe\n",
    "for i in range(len(tempdf)):\n",
    "    tempdf.loc[i, 'Level 3 Government'] = blockingany.loc[blockingany['Level 4 Government'] == tempdf.loc[i, 'Level 4 Government'], 'Level 3 Government'].iloc[0]\n",
    "    tempdf.loc[i, 'Level 2 Government'] = blockingany.loc[blockingany['Level 4 Government'] == tempdf.loc[i, 'Level 4 Government'], 'Level 2 Government'].iloc[0]\n",
    "    tempdf.loc[i, 'Level 1 Government'] = blockingany.loc[blockingany['Level 4 Government'] == tempdf.loc[i, 'Level 4 Government'], 'Level 1 Government'].iloc[0]\n",
    "fig = px.bar(tempdf, x='Level 3 Government', y='Count', color='Level 2 Government')\n",
    "# change x title to region of assessment\n",
    "fig.update_xaxes(title_text='Sites Assessed')\n",
    "fig.update_layout(legend_title_text='Region Legend')\n",
    "# update title to be Sites Assessed by Region\n",
    "fig.update_layout(title_text='Sites Blocking Markets by Region')\n",
    "fig.show()\n",
    "# write to html\n",
    "fig.write_html(\"./home/charts/blocking_market_bar.html\")\n",
    "# write to png\n",
    "fig.write_image(\"./home/charts/blocking_market_bar.png\")"
   ]
  },
  {
   "cell_type": "code",
   "execution_count": 23,
   "metadata": {},
   "outputs": [
    {
     "data": {
      "application/vnd.plotly.v1+json": {
       "config": {
        "plotlyServerURL": "https://plot.ly"
       },
       "data": [
        {
         "alignmentgroup": "True",
         "hovertemplate": "Level 2 Government=Botro<br>Level 3 Government=%{x}<br>Count=%{y}<extra></extra>",
         "legendgroup": "Botro",
         "marker": {
          "color": "#636efa",
          "pattern": {
           "shape": ""
          }
         },
         "name": "Botro",
         "offsetgroup": "Botro",
         "orientation": "v",
         "showlegend": true,
         "textposition": "auto",
         "type": "bar",
         "x": [
          "Languibonou",
          "Languibonou",
          "Krofoinsou",
          "Languibonou",
          "Languibonou",
          "Languibonou",
          "Languibonou",
          "Krofoinsou",
          "Languibonou",
          "Diabo",
          "Languibonou",
          "Languibonou",
          "Languibonou"
         ],
         "xaxis": "x",
         "y": [
          38,
          29,
          5,
          3,
          2,
          2,
          2,
          2,
          2,
          2,
          1,
          1,
          1
         ],
         "yaxis": "y"
        },
        {
         "alignmentgroup": "True",
         "hovertemplate": "Level 2 Government=Tabou<br>Level 3 Government=%{x}<br>Count=%{y}<extra></extra>",
         "legendgroup": "Tabou",
         "marker": {
          "color": "#EF553B",
          "pattern": {
           "shape": ""
          }
         },
         "name": "Tabou",
         "offsetgroup": "Tabou",
         "orientation": "v",
         "showlegend": true,
         "textposition": "auto",
         "type": "bar",
         "x": [
          "DJOUROUTOU",
          "DJOUROUTOU",
          "DJOUROUTOU",
          "Grabo",
          "DJOUROUTOU",
          "Grabo",
          "Olodio",
          "DJOUROUTOU",
          "DJOUROUTOU",
          "Grabo",
          "DJOUROUTOU",
          "DJOUROUTOU",
          "DJOUROUTOU",
          "Grabo",
          "Tabou",
          "Tabou",
          "DJOUROUTOU",
          "Olodio",
          "Olodio",
          "Tabou",
          "DJOUROUTOU",
          "DJOUROUTOU",
          "DJOUROUTOU"
         ],
         "xaxis": "x",
         "y": [
          18,
          13,
          12,
          8,
          7,
          6,
          5,
          5,
          5,
          4,
          4,
          3,
          2,
          2,
          2,
          1,
          1,
          1,
          1,
          1,
          1,
          1,
          1
         ],
         "yaxis": "y"
        },
        {
         "alignmentgroup": "True",
         "hovertemplate": "Level 2 Government=Sakassou<br>Level 3 Government=%{x}<br>Count=%{y}<extra></extra>",
         "legendgroup": "Sakassou",
         "marker": {
          "color": "#00cc96",
          "pattern": {
           "shape": ""
          }
         },
         "name": "Sakassou",
         "offsetgroup": "Sakassou",
         "orientation": "v",
         "showlegend": true,
         "textposition": "auto",
         "type": "bar",
         "x": [
          "Djibri Assirikro",
          "Sakassou",
          "Sakassou",
          "Djibri Assirikro",
          "Sakassou",
          "Ayaou-Sran",
          "Sakassou",
          "Dibri",
          "Sakassou",
          "Dibri Assrikro",
          "Dibri Assrikro"
         ],
         "xaxis": "x",
         "y": [
          18,
          12,
          12,
          11,
          9,
          8,
          2,
          1,
          1,
          1,
          1
         ],
         "yaxis": "y"
        },
        {
         "alignmentgroup": "True",
         "hovertemplate": "Level 2 Government=San-Pédro<br>Level 3 Government=%{x}<br>Count=%{y}<extra></extra>",
         "legendgroup": "San-Pédro",
         "marker": {
          "color": "#ab63fa",
          "pattern": {
           "shape": ""
          }
         },
         "name": "San-Pédro",
         "offsetgroup": "San-Pédro",
         "orientation": "v",
         "showlegend": true,
         "textposition": "auto",
         "type": "bar",
         "x": [
          "Dogbo",
          "Grand bereby",
          "Dogbo",
          "Gabiadji",
          "Gabiadji",
          "Grand bereby",
          "Grand bereby",
          "Djihimbo",
          "Gabiadji",
          "Gabiadji",
          "Grand bereby",
          "Gnity",
          "Gabiadji",
          "Gabiadji",
          "Gabiadji",
          "Grand bereby",
          "Grand bereby"
         ],
         "xaxis": "x",
         "y": [
          17,
          13,
          12,
          11,
          10,
          9,
          6,
          5,
          5,
          5,
          3,
          1,
          1,
          1,
          1,
          1,
          1
         ],
         "yaxis": "y"
        },
        {
         "alignmentgroup": "True",
         "hovertemplate": "Level 2 Government=Béoumi<br>Level 3 Government=%{x}<br>Count=%{y}<extra></extra>",
         "legendgroup": "Béoumi",
         "marker": {
          "color": "#FFA15A",
          "pattern": {
           "shape": ""
          }
         },
         "name": "Béoumi",
         "offsetgroup": "Béoumi",
         "orientation": "v",
         "showlegend": true,
         "textposition": "auto",
         "type": "bar",
         "x": [
          "Bodokro",
          "Béoumi",
          "Béoumi",
          "Béoumi",
          "Béoumi",
          "N?guessankro",
          "Ando-Kékrénou",
          "Lolobo",
          "Lolobo",
          "Ando-Kékrénou",
          "Lolobo",
          "Bodokro",
          "Lolobo",
          "Lolobo",
          "Lolobo",
          "Lolobo",
          "Lolobo"
         ],
         "xaxis": "x",
         "y": [
          13,
          13,
          13,
          9,
          7,
          6,
          6,
          5,
          5,
          3,
          3,
          3,
          2,
          2,
          1,
          1,
          1
         ],
         "yaxis": "y"
        },
        {
         "alignmentgroup": "True",
         "hovertemplate": "Level 2 Government=Bouaké<br>Level 3 Government=%{x}<br>Count=%{y}<extra></extra>",
         "legendgroup": "Bouaké",
         "marker": {
          "color": "#19d3f3",
          "pattern": {
           "shape": ""
          }
         },
         "name": "Bouaké",
         "offsetgroup": "Bouaké",
         "orientation": "v",
         "showlegend": true,
         "textposition": "auto",
         "type": "bar",
         "x": [
          "Brobo",
          "Bouaké",
          "Brobo",
          "Djébonoua",
          "Brobo",
          "Brobo",
          "Brobo",
          "Brobo",
          "Djebonoua",
          "COMMUNE DE Bouake",
          "Brobo",
          "Brobo",
          "Commune de Bouaké",
          "Djébonoua",
          "Brobo",
          "Brobo",
          "Brobo",
          "Brobo",
          "Brobo",
          "Commune de Bouake",
          "Commune de Bouaké",
          "Brobo",
          "Commune de Bouaké",
          "Djébonoua",
          "Brobo",
          "Brobo",
          "Djébonoua",
          "Brobo",
          "Brobo",
          "Brobo",
          "Brobo",
          "Brobo",
          "Djébonoua",
          "Djébonoua",
          "Djébonoua",
          "Brobo",
          "Brobo",
          "Commune de Bouaké",
          "Brobo",
          "Brobo",
          "Brobo",
          "Brobo",
          "Brobo",
          "Brobo",
          "Brobo",
          "Commune de Bouake",
          "Djebonoua",
          "Commune de Bouaké",
          "Brobo",
          "Brobo"
         ],
         "xaxis": "x",
         "y": [
          9,
          8,
          5,
          4,
          4,
          4,
          4,
          3,
          3,
          3,
          3,
          2,
          2,
          2,
          2,
          2,
          2,
          1,
          1,
          1,
          1,
          1,
          1,
          1,
          1,
          1,
          1,
          1,
          1,
          1,
          1,
          1,
          1,
          1,
          1,
          1,
          1,
          1,
          1,
          1,
          1,
          1,
          1,
          1,
          1,
          1,
          1,
          1,
          1,
          1
         ],
         "yaxis": "y"
        }
       ],
       "layout": {
        "barmode": "relative",
        "legend": {
         "title": {
          "text": "Region Legend"
         },
         "tracegroupgap": 0
        },
        "margin": {
         "t": 60
        },
        "template": {
         "data": {
          "bar": [
           {
            "error_x": {
             "color": "#2a3f5f"
            },
            "error_y": {
             "color": "#2a3f5f"
            },
            "marker": {
             "line": {
              "color": "#E5ECF6",
              "width": 0.5
             },
             "pattern": {
              "fillmode": "overlay",
              "size": 10,
              "solidity": 0.2
             }
            },
            "type": "bar"
           }
          ],
          "barpolar": [
           {
            "marker": {
             "line": {
              "color": "#E5ECF6",
              "width": 0.5
             },
             "pattern": {
              "fillmode": "overlay",
              "size": 10,
              "solidity": 0.2
             }
            },
            "type": "barpolar"
           }
          ],
          "carpet": [
           {
            "aaxis": {
             "endlinecolor": "#2a3f5f",
             "gridcolor": "white",
             "linecolor": "white",
             "minorgridcolor": "white",
             "startlinecolor": "#2a3f5f"
            },
            "baxis": {
             "endlinecolor": "#2a3f5f",
             "gridcolor": "white",
             "linecolor": "white",
             "minorgridcolor": "white",
             "startlinecolor": "#2a3f5f"
            },
            "type": "carpet"
           }
          ],
          "choropleth": [
           {
            "colorbar": {
             "outlinewidth": 0,
             "ticks": ""
            },
            "type": "choropleth"
           }
          ],
          "contour": [
           {
            "colorbar": {
             "outlinewidth": 0,
             "ticks": ""
            },
            "colorscale": [
             [
              0,
              "#0d0887"
             ],
             [
              0.1111111111111111,
              "#46039f"
             ],
             [
              0.2222222222222222,
              "#7201a8"
             ],
             [
              0.3333333333333333,
              "#9c179e"
             ],
             [
              0.4444444444444444,
              "#bd3786"
             ],
             [
              0.5555555555555556,
              "#d8576b"
             ],
             [
              0.6666666666666666,
              "#ed7953"
             ],
             [
              0.7777777777777778,
              "#fb9f3a"
             ],
             [
              0.8888888888888888,
              "#fdca26"
             ],
             [
              1,
              "#f0f921"
             ]
            ],
            "type": "contour"
           }
          ],
          "contourcarpet": [
           {
            "colorbar": {
             "outlinewidth": 0,
             "ticks": ""
            },
            "type": "contourcarpet"
           }
          ],
          "heatmap": [
           {
            "colorbar": {
             "outlinewidth": 0,
             "ticks": ""
            },
            "colorscale": [
             [
              0,
              "#0d0887"
             ],
             [
              0.1111111111111111,
              "#46039f"
             ],
             [
              0.2222222222222222,
              "#7201a8"
             ],
             [
              0.3333333333333333,
              "#9c179e"
             ],
             [
              0.4444444444444444,
              "#bd3786"
             ],
             [
              0.5555555555555556,
              "#d8576b"
             ],
             [
              0.6666666666666666,
              "#ed7953"
             ],
             [
              0.7777777777777778,
              "#fb9f3a"
             ],
             [
              0.8888888888888888,
              "#fdca26"
             ],
             [
              1,
              "#f0f921"
             ]
            ],
            "type": "heatmap"
           }
          ],
          "heatmapgl": [
           {
            "colorbar": {
             "outlinewidth": 0,
             "ticks": ""
            },
            "colorscale": [
             [
              0,
              "#0d0887"
             ],
             [
              0.1111111111111111,
              "#46039f"
             ],
             [
              0.2222222222222222,
              "#7201a8"
             ],
             [
              0.3333333333333333,
              "#9c179e"
             ],
             [
              0.4444444444444444,
              "#bd3786"
             ],
             [
              0.5555555555555556,
              "#d8576b"
             ],
             [
              0.6666666666666666,
              "#ed7953"
             ],
             [
              0.7777777777777778,
              "#fb9f3a"
             ],
             [
              0.8888888888888888,
              "#fdca26"
             ],
             [
              1,
              "#f0f921"
             ]
            ],
            "type": "heatmapgl"
           }
          ],
          "histogram": [
           {
            "marker": {
             "pattern": {
              "fillmode": "overlay",
              "size": 10,
              "solidity": 0.2
             }
            },
            "type": "histogram"
           }
          ],
          "histogram2d": [
           {
            "colorbar": {
             "outlinewidth": 0,
             "ticks": ""
            },
            "colorscale": [
             [
              0,
              "#0d0887"
             ],
             [
              0.1111111111111111,
              "#46039f"
             ],
             [
              0.2222222222222222,
              "#7201a8"
             ],
             [
              0.3333333333333333,
              "#9c179e"
             ],
             [
              0.4444444444444444,
              "#bd3786"
             ],
             [
              0.5555555555555556,
              "#d8576b"
             ],
             [
              0.6666666666666666,
              "#ed7953"
             ],
             [
              0.7777777777777778,
              "#fb9f3a"
             ],
             [
              0.8888888888888888,
              "#fdca26"
             ],
             [
              1,
              "#f0f921"
             ]
            ],
            "type": "histogram2d"
           }
          ],
          "histogram2dcontour": [
           {
            "colorbar": {
             "outlinewidth": 0,
             "ticks": ""
            },
            "colorscale": [
             [
              0,
              "#0d0887"
             ],
             [
              0.1111111111111111,
              "#46039f"
             ],
             [
              0.2222222222222222,
              "#7201a8"
             ],
             [
              0.3333333333333333,
              "#9c179e"
             ],
             [
              0.4444444444444444,
              "#bd3786"
             ],
             [
              0.5555555555555556,
              "#d8576b"
             ],
             [
              0.6666666666666666,
              "#ed7953"
             ],
             [
              0.7777777777777778,
              "#fb9f3a"
             ],
             [
              0.8888888888888888,
              "#fdca26"
             ],
             [
              1,
              "#f0f921"
             ]
            ],
            "type": "histogram2dcontour"
           }
          ],
          "mesh3d": [
           {
            "colorbar": {
             "outlinewidth": 0,
             "ticks": ""
            },
            "type": "mesh3d"
           }
          ],
          "parcoords": [
           {
            "line": {
             "colorbar": {
              "outlinewidth": 0,
              "ticks": ""
             }
            },
            "type": "parcoords"
           }
          ],
          "pie": [
           {
            "automargin": true,
            "type": "pie"
           }
          ],
          "scatter": [
           {
            "fillpattern": {
             "fillmode": "overlay",
             "size": 10,
             "solidity": 0.2
            },
            "type": "scatter"
           }
          ],
          "scatter3d": [
           {
            "line": {
             "colorbar": {
              "outlinewidth": 0,
              "ticks": ""
             }
            },
            "marker": {
             "colorbar": {
              "outlinewidth": 0,
              "ticks": ""
             }
            },
            "type": "scatter3d"
           }
          ],
          "scattercarpet": [
           {
            "marker": {
             "colorbar": {
              "outlinewidth": 0,
              "ticks": ""
             }
            },
            "type": "scattercarpet"
           }
          ],
          "scattergeo": [
           {
            "marker": {
             "colorbar": {
              "outlinewidth": 0,
              "ticks": ""
             }
            },
            "type": "scattergeo"
           }
          ],
          "scattergl": [
           {
            "marker": {
             "colorbar": {
              "outlinewidth": 0,
              "ticks": ""
             }
            },
            "type": "scattergl"
           }
          ],
          "scattermapbox": [
           {
            "marker": {
             "colorbar": {
              "outlinewidth": 0,
              "ticks": ""
             }
            },
            "type": "scattermapbox"
           }
          ],
          "scatterpolar": [
           {
            "marker": {
             "colorbar": {
              "outlinewidth": 0,
              "ticks": ""
             }
            },
            "type": "scatterpolar"
           }
          ],
          "scatterpolargl": [
           {
            "marker": {
             "colorbar": {
              "outlinewidth": 0,
              "ticks": ""
             }
            },
            "type": "scatterpolargl"
           }
          ],
          "scatterternary": [
           {
            "marker": {
             "colorbar": {
              "outlinewidth": 0,
              "ticks": ""
             }
            },
            "type": "scatterternary"
           }
          ],
          "surface": [
           {
            "colorbar": {
             "outlinewidth": 0,
             "ticks": ""
            },
            "colorscale": [
             [
              0,
              "#0d0887"
             ],
             [
              0.1111111111111111,
              "#46039f"
             ],
             [
              0.2222222222222222,
              "#7201a8"
             ],
             [
              0.3333333333333333,
              "#9c179e"
             ],
             [
              0.4444444444444444,
              "#bd3786"
             ],
             [
              0.5555555555555556,
              "#d8576b"
             ],
             [
              0.6666666666666666,
              "#ed7953"
             ],
             [
              0.7777777777777778,
              "#fb9f3a"
             ],
             [
              0.8888888888888888,
              "#fdca26"
             ],
             [
              1,
              "#f0f921"
             ]
            ],
            "type": "surface"
           }
          ],
          "table": [
           {
            "cells": {
             "fill": {
              "color": "#EBF0F8"
             },
             "line": {
              "color": "white"
             }
            },
            "header": {
             "fill": {
              "color": "#C8D4E3"
             },
             "line": {
              "color": "white"
             }
            },
            "type": "table"
           }
          ]
         },
         "layout": {
          "annotationdefaults": {
           "arrowcolor": "#2a3f5f",
           "arrowhead": 0,
           "arrowwidth": 1
          },
          "autotypenumbers": "strict",
          "coloraxis": {
           "colorbar": {
            "outlinewidth": 0,
            "ticks": ""
           }
          },
          "colorscale": {
           "diverging": [
            [
             0,
             "#8e0152"
            ],
            [
             0.1,
             "#c51b7d"
            ],
            [
             0.2,
             "#de77ae"
            ],
            [
             0.3,
             "#f1b6da"
            ],
            [
             0.4,
             "#fde0ef"
            ],
            [
             0.5,
             "#f7f7f7"
            ],
            [
             0.6,
             "#e6f5d0"
            ],
            [
             0.7,
             "#b8e186"
            ],
            [
             0.8,
             "#7fbc41"
            ],
            [
             0.9,
             "#4d9221"
            ],
            [
             1,
             "#276419"
            ]
           ],
           "sequential": [
            [
             0,
             "#0d0887"
            ],
            [
             0.1111111111111111,
             "#46039f"
            ],
            [
             0.2222222222222222,
             "#7201a8"
            ],
            [
             0.3333333333333333,
             "#9c179e"
            ],
            [
             0.4444444444444444,
             "#bd3786"
            ],
            [
             0.5555555555555556,
             "#d8576b"
            ],
            [
             0.6666666666666666,
             "#ed7953"
            ],
            [
             0.7777777777777778,
             "#fb9f3a"
            ],
            [
             0.8888888888888888,
             "#fdca26"
            ],
            [
             1,
             "#f0f921"
            ]
           ],
           "sequentialminus": [
            [
             0,
             "#0d0887"
            ],
            [
             0.1111111111111111,
             "#46039f"
            ],
            [
             0.2222222222222222,
             "#7201a8"
            ],
            [
             0.3333333333333333,
             "#9c179e"
            ],
            [
             0.4444444444444444,
             "#bd3786"
            ],
            [
             0.5555555555555556,
             "#d8576b"
            ],
            [
             0.6666666666666666,
             "#ed7953"
            ],
            [
             0.7777777777777778,
             "#fb9f3a"
            ],
            [
             0.8888888888888888,
             "#fdca26"
            ],
            [
             1,
             "#f0f921"
            ]
           ]
          },
          "colorway": [
           "#636efa",
           "#EF553B",
           "#00cc96",
           "#ab63fa",
           "#FFA15A",
           "#19d3f3",
           "#FF6692",
           "#B6E880",
           "#FF97FF",
           "#FECB52"
          ],
          "font": {
           "color": "#2a3f5f"
          },
          "geo": {
           "bgcolor": "white",
           "lakecolor": "white",
           "landcolor": "#E5ECF6",
           "showlakes": true,
           "showland": true,
           "subunitcolor": "white"
          },
          "hoverlabel": {
           "align": "left"
          },
          "hovermode": "closest",
          "mapbox": {
           "style": "light"
          },
          "paper_bgcolor": "white",
          "plot_bgcolor": "#E5ECF6",
          "polar": {
           "angularaxis": {
            "gridcolor": "white",
            "linecolor": "white",
            "ticks": ""
           },
           "bgcolor": "#E5ECF6",
           "radialaxis": {
            "gridcolor": "white",
            "linecolor": "white",
            "ticks": ""
           }
          },
          "scene": {
           "xaxis": {
            "backgroundcolor": "#E5ECF6",
            "gridcolor": "white",
            "gridwidth": 2,
            "linecolor": "white",
            "showbackground": true,
            "ticks": "",
            "zerolinecolor": "white"
           },
           "yaxis": {
            "backgroundcolor": "#E5ECF6",
            "gridcolor": "white",
            "gridwidth": 2,
            "linecolor": "white",
            "showbackground": true,
            "ticks": "",
            "zerolinecolor": "white"
           },
           "zaxis": {
            "backgroundcolor": "#E5ECF6",
            "gridcolor": "white",
            "gridwidth": 2,
            "linecolor": "white",
            "showbackground": true,
            "ticks": "",
            "zerolinecolor": "white"
           }
          },
          "shapedefaults": {
           "line": {
            "color": "#2a3f5f"
           }
          },
          "ternary": {
           "aaxis": {
            "gridcolor": "white",
            "linecolor": "white",
            "ticks": ""
           },
           "baxis": {
            "gridcolor": "white",
            "linecolor": "white",
            "ticks": ""
           },
           "bgcolor": "#E5ECF6",
           "caxis": {
            "gridcolor": "white",
            "linecolor": "white",
            "ticks": ""
           }
          },
          "title": {
           "x": 0.05
          },
          "xaxis": {
           "automargin": true,
           "gridcolor": "white",
           "linecolor": "white",
           "ticks": "",
           "title": {
            "standoff": 15
           },
           "zerolinecolor": "white",
           "zerolinewidth": 2
          },
          "yaxis": {
           "automargin": true,
           "gridcolor": "white",
           "linecolor": "white",
           "ticks": "",
           "title": {
            "standoff": 15
           },
           "zerolinecolor": "white",
           "zerolinewidth": 2
          }
         }
        },
        "title": {
         "text": "Sites Blocking Other Infrastructure by Region"
        },
        "xaxis": {
         "anchor": "y",
         "domain": [
          0,
          1
         ],
         "title": {
          "text": "Sites Assessed"
         }
        },
        "yaxis": {
         "anchor": "x",
         "domain": [
          0,
          1
         ],
         "title": {
          "text": "Count"
         }
        }
       }
      }
     },
     "metadata": {},
     "output_type": "display_data"
    }
   ],
   "source": [
    "# create a bar chart with villages dataframe where each bar is a government level 3 and the height is the count and color is level 2 government\n",
    "tempdf = pd.DataFrame(blockingany['Level 4 Government'].value_counts())\n",
    "tempdf = tempdf.reset_index()\n",
    "tempdf.columns = ['Level 4 Government', 'Count']\n",
    "# for each value in villages level 4 government, find the corresponding value in the assessment level 4 government column and add the corresponding value in the \"level 3 government\" column as a new column in the villages dataframe\n",
    "for i in range(len(tempdf)):\n",
    "    tempdf.loc[i, 'Level 3 Government'] = blockingany.loc[blockingany['Level 4 Government'] == tempdf.loc[i, 'Level 4 Government'], 'Level 3 Government'].iloc[0]\n",
    "    tempdf.loc[i, 'Level 2 Government'] = blockingany.loc[blockingany['Level 4 Government'] == tempdf.loc[i, 'Level 4 Government'], 'Level 2 Government'].iloc[0]\n",
    "    tempdf.loc[i, 'Level 1 Government'] = blockingany.loc[blockingany['Level 4 Government'] == tempdf.loc[i, 'Level 4 Government'], 'Level 1 Government'].iloc[0]\n",
    "fig = px.bar(tempdf, x='Level 3 Government', y='Count', color='Level 2 Government')\n",
    "# change x title to region of assessment\n",
    "fig.update_xaxes(title_text='Sites Assessed')\n",
    "fig.update_layout(legend_title_text='Region Legend')\n",
    "# update title to be Sites Assessed by Region\n",
    "fig.update_layout(title_text='Sites Blocking Other Infrastructure by Region')\n",
    "fig.show()\n",
    "# write to html\n",
    "fig.write_html(\"./home/charts/blocking_other_bar.html\")\n",
    "# write to png\n",
    "fig.write_image(\"./home/charts/blocking_other_bar.png\")"
   ]
  },
  {
   "cell_type": "code",
   "execution_count": 22,
   "metadata": {},
   "outputs": [
    {
     "data": {
      "application/vnd.plotly.v1+json": {
       "config": {
        "plotlyServerURL": "https://plot.ly"
       },
       "data": [
        {
         "alignmentgroup": "True",
         "hovertemplate": "Level 2 Government=Botro<br>Level 3 Government=%{x}<br>Count=%{y}<extra></extra>",
         "legendgroup": "Botro",
         "marker": {
          "color": "#636efa",
          "pattern": {
           "shape": ""
          }
         },
         "name": "Botro",
         "offsetgroup": "Botro",
         "orientation": "v",
         "showlegend": true,
         "textposition": "auto",
         "type": "bar",
         "x": [
          "Languibonou",
          "Languibonou",
          "Krofoinsou",
          "Languibonou",
          "Languibonou",
          "Languibonou",
          "Languibonou",
          "Krofoinsou",
          "Languibonou",
          "Diabo",
          "Languibonou",
          "Languibonou",
          "Languibonou"
         ],
         "xaxis": "x",
         "y": [
          38,
          29,
          5,
          3,
          2,
          2,
          2,
          2,
          2,
          2,
          1,
          1,
          1
         ],
         "yaxis": "y"
        },
        {
         "alignmentgroup": "True",
         "hovertemplate": "Level 2 Government=Tabou<br>Level 3 Government=%{x}<br>Count=%{y}<extra></extra>",
         "legendgroup": "Tabou",
         "marker": {
          "color": "#EF553B",
          "pattern": {
           "shape": ""
          }
         },
         "name": "Tabou",
         "offsetgroup": "Tabou",
         "orientation": "v",
         "showlegend": true,
         "textposition": "auto",
         "type": "bar",
         "x": [
          "DJOUROUTOU",
          "DJOUROUTOU",
          "DJOUROUTOU",
          "Grabo",
          "DJOUROUTOU",
          "Grabo",
          "Olodio",
          "DJOUROUTOU",
          "DJOUROUTOU",
          "Grabo",
          "DJOUROUTOU",
          "DJOUROUTOU",
          "DJOUROUTOU",
          "Grabo",
          "Tabou",
          "Tabou",
          "DJOUROUTOU",
          "Olodio",
          "Olodio",
          "Tabou",
          "DJOUROUTOU",
          "DJOUROUTOU",
          "DJOUROUTOU"
         ],
         "xaxis": "x",
         "y": [
          18,
          13,
          12,
          8,
          7,
          6,
          5,
          5,
          5,
          4,
          4,
          3,
          2,
          2,
          2,
          1,
          1,
          1,
          1,
          1,
          1,
          1,
          1
         ],
         "yaxis": "y"
        },
        {
         "alignmentgroup": "True",
         "hovertemplate": "Level 2 Government=Sakassou<br>Level 3 Government=%{x}<br>Count=%{y}<extra></extra>",
         "legendgroup": "Sakassou",
         "marker": {
          "color": "#00cc96",
          "pattern": {
           "shape": ""
          }
         },
         "name": "Sakassou",
         "offsetgroup": "Sakassou",
         "orientation": "v",
         "showlegend": true,
         "textposition": "auto",
         "type": "bar",
         "x": [
          "Djibri Assirikro",
          "Sakassou",
          "Sakassou",
          "Djibri Assirikro",
          "Sakassou",
          "Ayaou-Sran",
          "Sakassou",
          "Dibri",
          "Sakassou",
          "Dibri Assrikro",
          "Dibri Assrikro"
         ],
         "xaxis": "x",
         "y": [
          18,
          12,
          12,
          11,
          9,
          8,
          2,
          1,
          1,
          1,
          1
         ],
         "yaxis": "y"
        },
        {
         "alignmentgroup": "True",
         "hovertemplate": "Level 2 Government=San-Pédro<br>Level 3 Government=%{x}<br>Count=%{y}<extra></extra>",
         "legendgroup": "San-Pédro",
         "marker": {
          "color": "#ab63fa",
          "pattern": {
           "shape": ""
          }
         },
         "name": "San-Pédro",
         "offsetgroup": "San-Pédro",
         "orientation": "v",
         "showlegend": true,
         "textposition": "auto",
         "type": "bar",
         "x": [
          "Dogbo",
          "Grand bereby",
          "Dogbo",
          "Gabiadji",
          "Gabiadji",
          "Grand bereby",
          "Grand bereby",
          "Djihimbo",
          "Gabiadji",
          "Gabiadji",
          "Grand bereby",
          "Gnity",
          "Gabiadji",
          "Gabiadji",
          "Gabiadji",
          "Grand bereby",
          "Grand bereby"
         ],
         "xaxis": "x",
         "y": [
          17,
          13,
          12,
          11,
          10,
          9,
          6,
          5,
          5,
          5,
          3,
          1,
          1,
          1,
          1,
          1,
          1
         ],
         "yaxis": "y"
        },
        {
         "alignmentgroup": "True",
         "hovertemplate": "Level 2 Government=Béoumi<br>Level 3 Government=%{x}<br>Count=%{y}<extra></extra>",
         "legendgroup": "Béoumi",
         "marker": {
          "color": "#FFA15A",
          "pattern": {
           "shape": ""
          }
         },
         "name": "Béoumi",
         "offsetgroup": "Béoumi",
         "orientation": "v",
         "showlegend": true,
         "textposition": "auto",
         "type": "bar",
         "x": [
          "Bodokro",
          "Béoumi",
          "Béoumi",
          "Béoumi",
          "Béoumi",
          "N?guessankro",
          "Ando-Kékrénou",
          "Lolobo",
          "Lolobo",
          "Ando-Kékrénou",
          "Lolobo",
          "Bodokro",
          "Lolobo",
          "Lolobo",
          "Lolobo",
          "Lolobo",
          "Lolobo"
         ],
         "xaxis": "x",
         "y": [
          13,
          13,
          13,
          9,
          7,
          6,
          6,
          5,
          5,
          3,
          3,
          3,
          2,
          2,
          1,
          1,
          1
         ],
         "yaxis": "y"
        },
        {
         "alignmentgroup": "True",
         "hovertemplate": "Level 2 Government=Bouaké<br>Level 3 Government=%{x}<br>Count=%{y}<extra></extra>",
         "legendgroup": "Bouaké",
         "marker": {
          "color": "#19d3f3",
          "pattern": {
           "shape": ""
          }
         },
         "name": "Bouaké",
         "offsetgroup": "Bouaké",
         "orientation": "v",
         "showlegend": true,
         "textposition": "auto",
         "type": "bar",
         "x": [
          "Brobo",
          "Bouaké",
          "Brobo",
          "Djébonoua",
          "Brobo",
          "Brobo",
          "Brobo",
          "Brobo",
          "Djebonoua",
          "COMMUNE DE Bouake",
          "Brobo",
          "Brobo",
          "Commune de Bouaké",
          "Djébonoua",
          "Brobo",
          "Brobo",
          "Brobo",
          "Brobo",
          "Brobo",
          "Commune de Bouake",
          "Commune de Bouaké",
          "Brobo",
          "Commune de Bouaké",
          "Djébonoua",
          "Brobo",
          "Brobo",
          "Djébonoua",
          "Brobo",
          "Brobo",
          "Brobo",
          "Brobo",
          "Brobo",
          "Djébonoua",
          "Djébonoua",
          "Djébonoua",
          "Brobo",
          "Brobo",
          "Commune de Bouaké",
          "Brobo",
          "Brobo",
          "Brobo",
          "Brobo",
          "Brobo",
          "Brobo",
          "Brobo",
          "Commune de Bouake",
          "Djebonoua",
          "Commune de Bouaké",
          "Brobo",
          "Brobo"
         ],
         "xaxis": "x",
         "y": [
          9,
          8,
          5,
          4,
          4,
          4,
          4,
          3,
          3,
          3,
          3,
          2,
          2,
          2,
          2,
          2,
          2,
          1,
          1,
          1,
          1,
          1,
          1,
          1,
          1,
          1,
          1,
          1,
          1,
          1,
          1,
          1,
          1,
          1,
          1,
          1,
          1,
          1,
          1,
          1,
          1,
          1,
          1,
          1,
          1,
          1,
          1,
          1,
          1,
          1
         ],
         "yaxis": "y"
        }
       ],
       "layout": {
        "barmode": "relative",
        "legend": {
         "title": {
          "text": "Region Legend"
         },
         "tracegroupgap": 0
        },
        "margin": {
         "t": 60
        },
        "template": {
         "data": {
          "bar": [
           {
            "error_x": {
             "color": "#2a3f5f"
            },
            "error_y": {
             "color": "#2a3f5f"
            },
            "marker": {
             "line": {
              "color": "#E5ECF6",
              "width": 0.5
             },
             "pattern": {
              "fillmode": "overlay",
              "size": 10,
              "solidity": 0.2
             }
            },
            "type": "bar"
           }
          ],
          "barpolar": [
           {
            "marker": {
             "line": {
              "color": "#E5ECF6",
              "width": 0.5
             },
             "pattern": {
              "fillmode": "overlay",
              "size": 10,
              "solidity": 0.2
             }
            },
            "type": "barpolar"
           }
          ],
          "carpet": [
           {
            "aaxis": {
             "endlinecolor": "#2a3f5f",
             "gridcolor": "white",
             "linecolor": "white",
             "minorgridcolor": "white",
             "startlinecolor": "#2a3f5f"
            },
            "baxis": {
             "endlinecolor": "#2a3f5f",
             "gridcolor": "white",
             "linecolor": "white",
             "minorgridcolor": "white",
             "startlinecolor": "#2a3f5f"
            },
            "type": "carpet"
           }
          ],
          "choropleth": [
           {
            "colorbar": {
             "outlinewidth": 0,
             "ticks": ""
            },
            "type": "choropleth"
           }
          ],
          "contour": [
           {
            "colorbar": {
             "outlinewidth": 0,
             "ticks": ""
            },
            "colorscale": [
             [
              0,
              "#0d0887"
             ],
             [
              0.1111111111111111,
              "#46039f"
             ],
             [
              0.2222222222222222,
              "#7201a8"
             ],
             [
              0.3333333333333333,
              "#9c179e"
             ],
             [
              0.4444444444444444,
              "#bd3786"
             ],
             [
              0.5555555555555556,
              "#d8576b"
             ],
             [
              0.6666666666666666,
              "#ed7953"
             ],
             [
              0.7777777777777778,
              "#fb9f3a"
             ],
             [
              0.8888888888888888,
              "#fdca26"
             ],
             [
              1,
              "#f0f921"
             ]
            ],
            "type": "contour"
           }
          ],
          "contourcarpet": [
           {
            "colorbar": {
             "outlinewidth": 0,
             "ticks": ""
            },
            "type": "contourcarpet"
           }
          ],
          "heatmap": [
           {
            "colorbar": {
             "outlinewidth": 0,
             "ticks": ""
            },
            "colorscale": [
             [
              0,
              "#0d0887"
             ],
             [
              0.1111111111111111,
              "#46039f"
             ],
             [
              0.2222222222222222,
              "#7201a8"
             ],
             [
              0.3333333333333333,
              "#9c179e"
             ],
             [
              0.4444444444444444,
              "#bd3786"
             ],
             [
              0.5555555555555556,
              "#d8576b"
             ],
             [
              0.6666666666666666,
              "#ed7953"
             ],
             [
              0.7777777777777778,
              "#fb9f3a"
             ],
             [
              0.8888888888888888,
              "#fdca26"
             ],
             [
              1,
              "#f0f921"
             ]
            ],
            "type": "heatmap"
           }
          ],
          "heatmapgl": [
           {
            "colorbar": {
             "outlinewidth": 0,
             "ticks": ""
            },
            "colorscale": [
             [
              0,
              "#0d0887"
             ],
             [
              0.1111111111111111,
              "#46039f"
             ],
             [
              0.2222222222222222,
              "#7201a8"
             ],
             [
              0.3333333333333333,
              "#9c179e"
             ],
             [
              0.4444444444444444,
              "#bd3786"
             ],
             [
              0.5555555555555556,
              "#d8576b"
             ],
             [
              0.6666666666666666,
              "#ed7953"
             ],
             [
              0.7777777777777778,
              "#fb9f3a"
             ],
             [
              0.8888888888888888,
              "#fdca26"
             ],
             [
              1,
              "#f0f921"
             ]
            ],
            "type": "heatmapgl"
           }
          ],
          "histogram": [
           {
            "marker": {
             "pattern": {
              "fillmode": "overlay",
              "size": 10,
              "solidity": 0.2
             }
            },
            "type": "histogram"
           }
          ],
          "histogram2d": [
           {
            "colorbar": {
             "outlinewidth": 0,
             "ticks": ""
            },
            "colorscale": [
             [
              0,
              "#0d0887"
             ],
             [
              0.1111111111111111,
              "#46039f"
             ],
             [
              0.2222222222222222,
              "#7201a8"
             ],
             [
              0.3333333333333333,
              "#9c179e"
             ],
             [
              0.4444444444444444,
              "#bd3786"
             ],
             [
              0.5555555555555556,
              "#d8576b"
             ],
             [
              0.6666666666666666,
              "#ed7953"
             ],
             [
              0.7777777777777778,
              "#fb9f3a"
             ],
             [
              0.8888888888888888,
              "#fdca26"
             ],
             [
              1,
              "#f0f921"
             ]
            ],
            "type": "histogram2d"
           }
          ],
          "histogram2dcontour": [
           {
            "colorbar": {
             "outlinewidth": 0,
             "ticks": ""
            },
            "colorscale": [
             [
              0,
              "#0d0887"
             ],
             [
              0.1111111111111111,
              "#46039f"
             ],
             [
              0.2222222222222222,
              "#7201a8"
             ],
             [
              0.3333333333333333,
              "#9c179e"
             ],
             [
              0.4444444444444444,
              "#bd3786"
             ],
             [
              0.5555555555555556,
              "#d8576b"
             ],
             [
              0.6666666666666666,
              "#ed7953"
             ],
             [
              0.7777777777777778,
              "#fb9f3a"
             ],
             [
              0.8888888888888888,
              "#fdca26"
             ],
             [
              1,
              "#f0f921"
             ]
            ],
            "type": "histogram2dcontour"
           }
          ],
          "mesh3d": [
           {
            "colorbar": {
             "outlinewidth": 0,
             "ticks": ""
            },
            "type": "mesh3d"
           }
          ],
          "parcoords": [
           {
            "line": {
             "colorbar": {
              "outlinewidth": 0,
              "ticks": ""
             }
            },
            "type": "parcoords"
           }
          ],
          "pie": [
           {
            "automargin": true,
            "type": "pie"
           }
          ],
          "scatter": [
           {
            "fillpattern": {
             "fillmode": "overlay",
             "size": 10,
             "solidity": 0.2
            },
            "type": "scatter"
           }
          ],
          "scatter3d": [
           {
            "line": {
             "colorbar": {
              "outlinewidth": 0,
              "ticks": ""
             }
            },
            "marker": {
             "colorbar": {
              "outlinewidth": 0,
              "ticks": ""
             }
            },
            "type": "scatter3d"
           }
          ],
          "scattercarpet": [
           {
            "marker": {
             "colorbar": {
              "outlinewidth": 0,
              "ticks": ""
             }
            },
            "type": "scattercarpet"
           }
          ],
          "scattergeo": [
           {
            "marker": {
             "colorbar": {
              "outlinewidth": 0,
              "ticks": ""
             }
            },
            "type": "scattergeo"
           }
          ],
          "scattergl": [
           {
            "marker": {
             "colorbar": {
              "outlinewidth": 0,
              "ticks": ""
             }
            },
            "type": "scattergl"
           }
          ],
          "scattermapbox": [
           {
            "marker": {
             "colorbar": {
              "outlinewidth": 0,
              "ticks": ""
             }
            },
            "type": "scattermapbox"
           }
          ],
          "scatterpolar": [
           {
            "marker": {
             "colorbar": {
              "outlinewidth": 0,
              "ticks": ""
             }
            },
            "type": "scatterpolar"
           }
          ],
          "scatterpolargl": [
           {
            "marker": {
             "colorbar": {
              "outlinewidth": 0,
              "ticks": ""
             }
            },
            "type": "scatterpolargl"
           }
          ],
          "scatterternary": [
           {
            "marker": {
             "colorbar": {
              "outlinewidth": 0,
              "ticks": ""
             }
            },
            "type": "scatterternary"
           }
          ],
          "surface": [
           {
            "colorbar": {
             "outlinewidth": 0,
             "ticks": ""
            },
            "colorscale": [
             [
              0,
              "#0d0887"
             ],
             [
              0.1111111111111111,
              "#46039f"
             ],
             [
              0.2222222222222222,
              "#7201a8"
             ],
             [
              0.3333333333333333,
              "#9c179e"
             ],
             [
              0.4444444444444444,
              "#bd3786"
             ],
             [
              0.5555555555555556,
              "#d8576b"
             ],
             [
              0.6666666666666666,
              "#ed7953"
             ],
             [
              0.7777777777777778,
              "#fb9f3a"
             ],
             [
              0.8888888888888888,
              "#fdca26"
             ],
             [
              1,
              "#f0f921"
             ]
            ],
            "type": "surface"
           }
          ],
          "table": [
           {
            "cells": {
             "fill": {
              "color": "#EBF0F8"
             },
             "line": {
              "color": "white"
             }
            },
            "header": {
             "fill": {
              "color": "#C8D4E3"
             },
             "line": {
              "color": "white"
             }
            },
            "type": "table"
           }
          ]
         },
         "layout": {
          "annotationdefaults": {
           "arrowcolor": "#2a3f5f",
           "arrowhead": 0,
           "arrowwidth": 1
          },
          "autotypenumbers": "strict",
          "coloraxis": {
           "colorbar": {
            "outlinewidth": 0,
            "ticks": ""
           }
          },
          "colorscale": {
           "diverging": [
            [
             0,
             "#8e0152"
            ],
            [
             0.1,
             "#c51b7d"
            ],
            [
             0.2,
             "#de77ae"
            ],
            [
             0.3,
             "#f1b6da"
            ],
            [
             0.4,
             "#fde0ef"
            ],
            [
             0.5,
             "#f7f7f7"
            ],
            [
             0.6,
             "#e6f5d0"
            ],
            [
             0.7,
             "#b8e186"
            ],
            [
             0.8,
             "#7fbc41"
            ],
            [
             0.9,
             "#4d9221"
            ],
            [
             1,
             "#276419"
            ]
           ],
           "sequential": [
            [
             0,
             "#0d0887"
            ],
            [
             0.1111111111111111,
             "#46039f"
            ],
            [
             0.2222222222222222,
             "#7201a8"
            ],
            [
             0.3333333333333333,
             "#9c179e"
            ],
            [
             0.4444444444444444,
             "#bd3786"
            ],
            [
             0.5555555555555556,
             "#d8576b"
            ],
            [
             0.6666666666666666,
             "#ed7953"
            ],
            [
             0.7777777777777778,
             "#fb9f3a"
            ],
            [
             0.8888888888888888,
             "#fdca26"
            ],
            [
             1,
             "#f0f921"
            ]
           ],
           "sequentialminus": [
            [
             0,
             "#0d0887"
            ],
            [
             0.1111111111111111,
             "#46039f"
            ],
            [
             0.2222222222222222,
             "#7201a8"
            ],
            [
             0.3333333333333333,
             "#9c179e"
            ],
            [
             0.4444444444444444,
             "#bd3786"
            ],
            [
             0.5555555555555556,
             "#d8576b"
            ],
            [
             0.6666666666666666,
             "#ed7953"
            ],
            [
             0.7777777777777778,
             "#fb9f3a"
            ],
            [
             0.8888888888888888,
             "#fdca26"
            ],
            [
             1,
             "#f0f921"
            ]
           ]
          },
          "colorway": [
           "#636efa",
           "#EF553B",
           "#00cc96",
           "#ab63fa",
           "#FFA15A",
           "#19d3f3",
           "#FF6692",
           "#B6E880",
           "#FF97FF",
           "#FECB52"
          ],
          "font": {
           "color": "#2a3f5f"
          },
          "geo": {
           "bgcolor": "white",
           "lakecolor": "white",
           "landcolor": "#E5ECF6",
           "showlakes": true,
           "showland": true,
           "subunitcolor": "white"
          },
          "hoverlabel": {
           "align": "left"
          },
          "hovermode": "closest",
          "mapbox": {
           "style": "light"
          },
          "paper_bgcolor": "white",
          "plot_bgcolor": "#E5ECF6",
          "polar": {
           "angularaxis": {
            "gridcolor": "white",
            "linecolor": "white",
            "ticks": ""
           },
           "bgcolor": "#E5ECF6",
           "radialaxis": {
            "gridcolor": "white",
            "linecolor": "white",
            "ticks": ""
           }
          },
          "scene": {
           "xaxis": {
            "backgroundcolor": "#E5ECF6",
            "gridcolor": "white",
            "gridwidth": 2,
            "linecolor": "white",
            "showbackground": true,
            "ticks": "",
            "zerolinecolor": "white"
           },
           "yaxis": {
            "backgroundcolor": "#E5ECF6",
            "gridcolor": "white",
            "gridwidth": 2,
            "linecolor": "white",
            "showbackground": true,
            "ticks": "",
            "zerolinecolor": "white"
           },
           "zaxis": {
            "backgroundcolor": "#E5ECF6",
            "gridcolor": "white",
            "gridwidth": 2,
            "linecolor": "white",
            "showbackground": true,
            "ticks": "",
            "zerolinecolor": "white"
           }
          },
          "shapedefaults": {
           "line": {
            "color": "#2a3f5f"
           }
          },
          "ternary": {
           "aaxis": {
            "gridcolor": "white",
            "linecolor": "white",
            "ticks": ""
           },
           "baxis": {
            "gridcolor": "white",
            "linecolor": "white",
            "ticks": ""
           },
           "bgcolor": "#E5ECF6",
           "caxis": {
            "gridcolor": "white",
            "linecolor": "white",
            "ticks": ""
           }
          },
          "title": {
           "x": 0.05
          },
          "xaxis": {
           "automargin": true,
           "gridcolor": "white",
           "linecolor": "white",
           "ticks": "",
           "title": {
            "standoff": 15
           },
           "zerolinecolor": "white",
           "zerolinewidth": 2
          },
          "yaxis": {
           "automargin": true,
           "gridcolor": "white",
           "linecolor": "white",
           "ticks": "",
           "title": {
            "standoff": 15
           },
           "zerolinecolor": "white",
           "zerolinewidth": 2
          }
         }
        },
        "title": {
         "text": "Sites Blocking Any Infrastructure by Region"
        },
        "xaxis": {
         "anchor": "y",
         "domain": [
          0,
          1
         ],
         "title": {
          "text": "Sites Assessed"
         }
        },
        "yaxis": {
         "anchor": "x",
         "domain": [
          0,
          1
         ],
         "title": {
          "text": "Count"
         }
        }
       }
      }
     },
     "metadata": {},
     "output_type": "display_data"
    }
   ],
   "source": [
    "# create a bar chart with villages dataframe where each bar is a government level 3 and the height is the count and color is level 2 government\n",
    "tempdf = pd.DataFrame(blockingany['Level 4 Government'].value_counts())\n",
    "tempdf = tempdf.reset_index()\n",
    "tempdf.columns = ['Level 4 Government', 'Count']\n",
    "# for each value in villages level 4 government, find the corresponding value in the assessment level 4 government column and add the corresponding value in the \"level 3 government\" column as a new column in the villages dataframe\n",
    "for i in range(len(tempdf)):\n",
    "    tempdf.loc[i, 'Level 3 Government'] = blockingany.loc[blockingany['Level 4 Government'] == tempdf.loc[i, 'Level 4 Government'], 'Level 3 Government'].iloc[0]\n",
    "    tempdf.loc[i, 'Level 2 Government'] = blockingany.loc[blockingany['Level 4 Government'] == tempdf.loc[i, 'Level 4 Government'], 'Level 2 Government'].iloc[0]\n",
    "    tempdf.loc[i, 'Level 1 Government'] = blockingany.loc[blockingany['Level 4 Government'] == tempdf.loc[i, 'Level 4 Government'], 'Level 1 Government'].iloc[0]\n",
    "fig = px.bar(tempdf, x='Level 3 Government', y='Count', color='Level 2 Government')\n",
    "# change x title to region of assessment\n",
    "fig.update_xaxes(title_text='Sites Assessed')\n",
    "fig.update_layout(legend_title_text='Region Legend')\n",
    "# update title to be Sites Assessed by Region\n",
    "fig.update_layout(title_text='Sites Blocking Any Infrastructure by Region')\n",
    "fig.show()\n",
    "# write to html\n",
    "fig.write_html(\"./home/charts/blocking_any_bar.html\")\n",
    "# write to png\n",
    "fig.write_image(\"./home/charts/blocking_any_bar.png\")"
   ]
  }
 ],
 "metadata": {
  "kernelspec": {
   "display_name": "geo",
   "language": "python",
   "name": "python3"
  },
  "language_info": {
   "codemirror_mode": {
    "name": "ipython",
    "version": 3
   },
   "file_extension": ".py",
   "mimetype": "text/x-python",
   "name": "python",
   "nbconvert_exporter": "python",
   "pygments_lexer": "ipython3",
   "version": "3.10.6"
  },
  "orig_nbformat": 4,
  "vscode": {
   "interpreter": {
    "hash": "ce408d48c041f753076dbaea90f671b6d136b2c04f48a62e0a991cf8ef98bfb1"
   }
  }
 },
 "nbformat": 4,
 "nbformat_minor": 2
}
