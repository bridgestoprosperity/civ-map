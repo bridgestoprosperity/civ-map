{
 "cells": [
  {
   "cell_type": "code",
   "execution_count": 1,
   "metadata": {},
   "outputs": [],
   "source": [
    "import pandas as pd\n",
    "import geopandas as gpd\n",
    "import matplotlib.pyplot as plt\n",
    "import numpy as np\n",
    "from shapely.geometry import Point\n",
    "import unicodedata"
   ]
  },
  {
   "attachments": {},
   "cell_type": "markdown",
   "metadata": {},
   "source": [
    "Steps:\n",
    "1. Download data from sales force. Make sure to choose details only  and .xls format. \n",
    "2. Delete the \"Current crossing method\" column that contains the embeding codes <img...\n",
    "3. Open in excel and save as a .csv file\n",
    "4. Change the name of the input file to the name and path of the report\n",
    "5. Change the name and path of the output file"
   ]
  },
  {
   "attachments": {},
   "cell_type": "markdown",
   "metadata": {},
   "source": [
    "## Data Clean up\n",
    "This is code that cleans up data from salesforce and creates geojson for map"
   ]
  },
  {
   "cell_type": "code",
   "execution_count": 19,
   "metadata": {},
   "outputs": [],
   "source": [
    "# Change Variables below\n",
    "input_file = './home/data/report1679360399851.csv'\n",
    "output_file = 'home/data/civ-assessments-v7.geojson'"
   ]
  },
  {
   "cell_type": "code",
   "execution_count": 45,
   "metadata": {},
   "outputs": [
    {
     "name": "stdout",
     "output_type": "stream",
     "text": [
      "Dataframe is 676, rows in length\n",
      "Dataframe is 624 rows in length\n"
     ]
    }
   ],
   "source": [
    "gdf = gpd.read_file(input_file, encoding='utf-8-sig')\n",
    "gdf['latitude'] = gdf['Bridge Opportunity: GPS (Latitude)']\n",
    "gdf['longitude'] = gdf['Bridge Opportunity: GPS (Longitude)']\n",
    "gdf['latitude'] = gdf['latitude'].astype(float)\n",
    "gdf['longitude'] = gdf['longitude'].astype(float)\n",
    "# set geometry to latitude and longitude columns\n",
    "gdf['geometry'] = gdf.apply(lambda x: Point((float(x.longitude), float(x.latitude))), axis=1)\n",
    "gdf.columns = gdf.columns.str.strip()\n",
    "gdf = gdf.drop(columns=['Current crossing method', \"Site Validation Photo URL\", 'High water line URL', 'Current crossing method URL', 'Current crossing method', \"Site Validation Photo\", \"Rejection Image 1\", \"Rejection Image 2\", \"Current crossing method URL\", \"High water line URL\", \"Downstream URL\", \"Downstream\", \"Upstream URL\", \"Upstream\", \"Left top of bank (toward) URL\", \"Left top of bank (toward)\", \"Left top of bank (away) URL\", \"Left top of bank (away)\", \"Right top of bank (toward) URL\", \"Right top of bank (toward)\", \"Right top of bank (away) URL\", \"Right top of bank (away)\", \"Form: Created By\"])\n",
    "# remove all rows that have \"Duplicate\" in the \"Bridge Opportunity: Sub-Stage\" column\n",
    "print (\"Dataframe is \" + str(len(gdf)) + \", rows in length\")\n",
    "gdf = gdf[gdf['Bridge Opportunity: Sub-Stage'] != 'Duplicate']\n",
    "print (\"Dataframe is \" + str(len(gdf)) + \" rows in length\")\n",
    "gdf.columns = gdf.columns.str.replace('Bridge Opportunity:', '')\n",
    "gdf.columns = gdf.columns.str.strip()\n",
    "\n",
    "\n",
    "\n",
    "gdf.to_file(output_file, driver='GeoJSON', encoding='utf-8-sig')\n",
    "gdf.to_csv('home/data/civ-assessments-v7.csv', encoding='utf-8-sig')"
   ]
  },
  {
   "cell_type": "code",
   "execution_count": 35,
   "metadata": {},
   "outputs": [
    {
     "data": {
      "text/plain": [
       "Opportunity Name                                            CÃ´te d'Ivoire - KambirÃ© - 1043454\n",
       "Opportunity Unique Identifier                                                           1043454\n",
       "Bridge Name                                                                            KambirÃ©\n",
       "Country                                                                          CÃ´te d'Ivoire\n",
       "Level 3 Government                                                                   DJOUROUTOU\n",
       "Level 4 Government                                                                      Mahino1\n",
       "Stage                                                                                Identified\n",
       "Sub-Stage                                                                                      \n",
       "Individuals Directly Served                                                                    \n",
       "River Name                                                                                 Neka\n",
       "Site Validation                                                                  Not applicable\n",
       "Proposed Bridge Location (GPS) (Latitude)                                               5.11544\n",
       "Proposed Bridge Location (GPS) (Longitude)                                            -7.349068\n",
       "Reason site not valid                                                                          \n",
       "Site Validation Comments                      Site inondable entourÃ© de champs de cacaoyers...\n",
       "Flag for Rejection                                                                           No\n",
       "Rejection Reason                                                                               \n",
       "River crossing deaths in last 3 years                                                         0\n",
       "Incident descriptions                                                                         5\n",
       "Days per year river is flooded                                                              120\n",
       "Flood duration during rainy season                                                            3\n",
       "Notes on social information                   Visite de famille. Membre de la communautÃ© de...\n",
       "Width of River During Flooding (m)                                                            8\n",
       "Nearest all-weather crossing point                                                        0,500\n",
       "High water line                               <img src=\"https://bridges.my.salesforce.com/sf...\n",
       "360Â° with site description video on Box                                                    Non\n",
       "Health access blocked by river                Clinique ou centre de santÃ© - Clinic or Healt...\n",
       "Education access blocked by river                                     Ãcole Primaire - Primary\n",
       "Market access blocked by river                MarchÃ© journalier - Market (daily);MarchÃ© he...\n",
       "Other access blocked by river                 Lieu de culte (Eglise, MosquÃ©e, Temple, etc) ...\n",
       "GPS (Longitude)                                                                       -7.349068\n",
       "GPS (Latitude)                                                                          5.11544\n",
       "Waterway or Obstacle Classification           mudflat (low point with stagnant water, season...\n",
       "Transportation Route Classification              non-graded road or car/vehicle accessible path\n",
       "Environment Classification                                                                Rural\n",
       "Form: Created Date                                                                     11/23/22\n",
       "Level 1 Government                                                                    San Pedro\n",
       "Level 2 Government                                                                        Tabou\n",
       "geometry                                                              POINT (-7.349068 5.11544)\n",
       "latitude                                                                                5.11544\n",
       "longitude                                                                             -7.349068\n",
       "Name: 233, dtype: object"
      ]
     },
     "execution_count": 35,
     "metadata": {},
     "output_type": "execute_result"
    }
   ],
   "source": [
    "# return row 87 of df\n",
    "gdf.iloc[218]"
   ]
  },
  {
   "attachments": {},
   "cell_type": "markdown",
   "metadata": {},
   "source": [
    "## This code is used to create unique clustering"
   ]
  },
  {
   "cell_type": "code",
   "execution_count": 26,
   "metadata": {},
   "outputs": [],
   "source": [
    "# convert \"River crossing deaths in last 3 years\" to int\n",
    "filter_gdf = gdf\n",
    "filter_gdf['River crossing deaths in last 3 years'] = filter_gdf['River crossing deaths in last 3 years'].astype(int)\n",
    "# create a dataframe with rows where \"River crossing deaths in last 3 years\" is greater than 0\n",
    "mgdf = filter_gdf[filter_gdf['River crossing deaths in last 3 years'] > 0]\n",
    "# create a dataframe with rows where \"Flag for Rejection\" No\n",
    "ngdf = filter_gdf[filter_gdf['Flag for Rejection'] == 'No']\n",
    "# create a dataframe from mgdf where \"Flag for Rejection\" is No\n",
    "mngdf = mgdf[mgdf['Flag for Rejection'] == 'No']\n",
    "# write mgdf, ngdf, and mn gdf to geojson files\n",
    "mgdf.to_file(output_file[:-8]+'-mgdf.geojson', driver='GeoJSON')\n",
    "ngdf.to_file(output_file[:-8]+'-ngdf.geojson', driver='GeoJSON')\n",
    "mngdf.to_file(output_file[:-8]+'-mngdf.geojson', driver='GeoJSON')"
   ]
  },
  {
   "attachments": {},
   "cell_type": "markdown",
   "metadata": {},
   "source": [
    "## Exports all data to shape files"
   ]
  },
  {
   "cell_type": "code",
   "execution_count": null,
   "metadata": {},
   "outputs": [],
   "source": [
    "import os\n",
    "for files in os.listdir('./home/data/datawork'):\n",
    "    # type is the last 8 characters of files\n",
    "    filetype = files[-8:]\n",
    "    filename = files[:-8]\n",
    "    print (files)\n",
    "    # read file as geodataframe\n",
    "    if filetype == '.geojson':\n",
    "        tempgdf = gpd.read_file('./home/data/datawork/' + files, encoding='iso-8859-1')        \n",
    "        # write to csv\n",
    "        tempgdf.to_csv('./home/data/outputs/' + filename + '.csv')\n",
    "        # write to shp file\n",
    "        tempgdf.to_file('./home/data/outputs/' + filename + '.shp', driver='ESRI Shapefile')"
   ]
  }
 ],
 "metadata": {
  "kernelspec": {
   "display_name": "geo",
   "language": "python",
   "name": "python3"
  },
  "language_info": {
   "codemirror_mode": {
    "name": "ipython",
    "version": 3
   },
   "file_extension": ".py",
   "mimetype": "text/x-python",
   "name": "python",
   "nbconvert_exporter": "python",
   "pygments_lexer": "ipython3",
   "version": "3.10.6"
  },
  "orig_nbformat": 4,
  "vscode": {
   "interpreter": {
    "hash": "ce408d48c041f753076dbaea90f671b6d136b2c04f48a62e0a991cf8ef98bfb1"
   }
  }
 },
 "nbformat": 4,
 "nbformat_minor": 2
}
